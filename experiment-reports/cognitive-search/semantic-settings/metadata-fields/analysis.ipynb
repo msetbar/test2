{
 "cells": [
  {
   "cell_type": "markdown",
   "metadata": {},
   "source": [
    "## Experiment analysis \n",
    "\n",
    "Premise: we have enabled the ability to customize the fields included in the Azure Cognitive Search index definition - this lets us extract the available document metadata and use that information to specify custom fields per document, with the hopes of making retrieval more accurate. "
   ]
  },
  {
   "cell_type": "code",
   "execution_count": 33,
   "metadata": {},
   "outputs": [],
   "source": [
    "import pandas as pd \n",
    "import numpy as np\n",
    "import requests\n",
    "import os\n",
    "from dotenv import load_dotenv\n",
    "import json\n",
    "from tqdm import tqdm"
   ]
  },
  {
   "cell_type": "markdown",
   "metadata": {},
   "source": [
    "### Varying the settings of custom metadata fields included in the domain config\n",
    "\n",
    "TBD"
   ]
  },
  {
   "cell_type": "markdown",
   "metadata": {},
   "source": [
    "### Custom metadata field + query concatenation experiments\n",
    "\n",
    "Premise: We now have an updated index definition that includes the document category metadata as keyword fields in the semantic search configuration. What will happen if we pass correct document category information along with the query? Will the semantic search be able to effectively use that information to better match the query to the available document metadata?\n",
    "\n",
    "#### Analyzing `in_top_init` chunks across experiment runs"
   ]
  },
  {
   "cell_type": "code",
   "execution_count": 34,
   "metadata": {},
   "outputs": [],
   "source": [
    "qc_config1_baseline_results_path = './data/queryconcat-config1-baseline-results.csv'  # ea5884b0-fac5-4548-a863-c3c0be2cf3f8 - experiment with same retrieval config, but no change to query structure\n",
    "qc_config1_exp3_results_path = './data/queryconcat-config1-exp3-results.csv'\n",
    "qc_config1_exp4_results_path = './data/queryconcat-config1-exp4-results.csv'\n",
    "qc_config1_exp8_results_path = './data/queryconcat-config1-exp8-results.csv'\n",
    "groundtruth_qs_70_no_intop_path = './data/review_70qs_no_in_top.xlsx'\n",
    "\n",
    "qc_config1_baseline_results_df = pd.read_csv(qc_config1_baseline_results_path)\n",
    "qc_config1_exp3_results_df = pd.read_csv(qc_config1_exp3_results_path)\n",
    "qc_config1_exp4_results_df = pd.read_csv(qc_config1_exp4_results_path)\n",
    "qc_config1_exp8_results_df = pd.read_csv(qc_config1_exp8_results_path)\n",
    "groundtruth_qs_70_no_intop_df = pd.read_excel(groundtruth_qs_70_no_intop_path)"
   ]
  },
  {
   "cell_type": "code",
   "execution_count": 35,
   "metadata": {},
   "outputs": [
    {
     "name": "stdout",
     "output_type": "stream",
     "text": [
      "Prior baseline: 75 questions with in_top_init = 0\n"
     ]
    }
   ],
   "source": [
    "ids_no_intop_prior_baseline = groundtruth_qs_70_no_intop_df['id']\n",
    "print(\"Prior baseline: \" + str(len(ids_no_intop_prior_baseline)) + \" questions with in_top_init = 0\")"
   ]
  },
  {
   "cell_type": "code",
   "execution_count": 29,
   "metadata": {},
   "outputs": [
    {
     "name": "stdout",
     "output_type": "stream",
     "text": [
      "Query concatenation baseline: 69 questions with in_top_init = 0\n"
     ]
    }
   ],
   "source": [
    "ids_no_intop_qc_baseline = qc_config1_baseline_results_df.loc[qc_config1_baseline_results_df['in_top_init'] == 0]['id'].to_list()\n",
    "print(\"Query concatenation baseline: \" + str(len(ids_no_intop_qc_baseline)) + \" questions with in_top_init = 0\")"
   ]
  },
  {
   "cell_type": "code",
   "execution_count": 30,
   "metadata": {},
   "outputs": [
    {
     "name": "stdout",
     "output_type": "stream",
     "text": [
      "Query concatenation exp3 (Cat1 + Cat2 + Cat3 + Query): 36 questions with in_top_init = 0\n"
     ]
    }
   ],
   "source": [
    "ids_no_intop_qc_exp3 = qc_config1_exp3_results_df.loc[qc_config1_exp3_results_df['in_top_init'] == 0]['id'].to_list()\n",
    "print(\"Query concatenation exp3 (Cat1 + Cat2 + Cat3 + Query): \" + str(len(ids_no_intop_qc_exp3)) + \" questions with in_top_init = 0\")"
   ]
  },
  {
   "cell_type": "code",
   "execution_count": 31,
   "metadata": {},
   "outputs": [
    {
     "name": "stdout",
     "output_type": "stream",
     "text": [
      "Query concatenation exp4 (Query + Cat1 + Cat2 + Cat3): 36 questions with in_top_init = 0\n"
     ]
    }
   ],
   "source": [
    "ids_no_intop_qc_exp4 = qc_config1_exp4_results_df.loc[qc_config1_exp4_results_df['in_top_init'] == 0]['id'].to_list()\n",
    "print(\"Query concatenation exp4 (Query + Cat1 + Cat2 + Cat3): \" + str(len(ids_no_intop_qc_exp4)) + \" questions with in_top_init = 0\")"
   ]
  },
  {
   "cell_type": "code",
   "execution_count": 25,
   "metadata": {},
   "outputs": [
    {
     "name": "stdout",
     "output_type": "stream",
     "text": [
      "Query concatenation exp4 (Query + Cat3): 42 questions with in_top_init = 0\n"
     ]
    }
   ],
   "source": [
    "ids_no_intop_qc_exp8 = qc_config1_exp8_results_df.loc[qc_config1_exp8_results_df['in_top_init'] == 0]['id'].to_list()\n",
    "print(\"Query concatenation exp4 (Query + Cat3): \" + str(len(ids_no_intop_qc_exp8)) + \" questions with in_top_init = 0\")"
   ]
  },
  {
   "cell_type": "code",
   "execution_count": 36,
   "metadata": {},
   "outputs": [],
   "source": [
    "def analyze_list_differences(list1: list, list2: list, list1_name: str, list2_name):\n",
    "    set1 = set(list1)\n",
    "    set2 = set(list2)\n",
    "\n",
    "    common_items = set1.intersection(set2)\n",
    "    print(f'# of items in common between {list1_name} and {list2_name}: {len(common_items)}')\n",
    "\n",
    "    unique_items_in_list1 = set1 - set2\n",
    "    print(f'Items in {list1_name} but NOT in {list2_name}: {unique_items_in_list1}')\n",
    "\n",
    "    unique_items_in_list2 = set2 - set1\n",
    "    print(f'Items in {list2_name} but NOT in {list1_name}: {unique_items_in_list2}')\n",
    "    print('')\n",
    "\n",
    "    return unique_items_in_list1, unique_items_in_list2\n",
    "\n",
    "def get_df_rows_given_ids(id_list: list[str], df: pd.DataFrame, id_col: str = 'id'):\n",
    "    return df.loc[df[id_col].isin(id_list)][['id', 'source', 'bcss_question', 'answer', 'article_number', 'filename', 'BW_TXNMY_GRP_1', 'BW_TXNMY_GRP_2', 'BW_TXNMY_GRP_3', 'init_chunks', 'in_top_init']]\n",
    "\n",
    "def get_df_rows_given_ids_prev_base(id_list: list[str], df: pd.DataFrame, id_col: str = 'id'):\n",
    "    return df.loc[df[id_col].isin(id_list)][['id', 'source', 'bcss_question', 'answer', 'article_number', 'filename', 'BW_TXNMY_GRP_1', 'BW_TXNMY_GRP_2', 'BW_TXNMY_GRP_3']]"
   ]
  },
  {
   "cell_type": "code",
   "execution_count": 32,
   "metadata": {},
   "outputs": [
    {
     "name": "stdout",
     "output_type": "stream",
     "text": [
      "# of items in common between prior_baseline_no_in_top and qc_baseline_no_in_top: 67\n",
      "Items in prior_baseline_no_in_top but NOT in qc_baseline_no_in_top: {50026, 10059, 30000, 20116, 50004, 10008, 30013, 50014}\n",
      "Items in qc_baseline_no_in_top but NOT in prior_baseline_no_in_top: {10026, 20125}\n",
      "\n",
      "# of items in common between qc_baseline_no_in_top and qc_exp3_no_in_top: 29\n",
      "Items in qc_baseline_no_in_top but NOT in qc_exp3_no_in_top: {20231, 10119, 50058, 50060, 10125, 50065, 50066, 10132, 10133, 20119, 20125, 50079, 50083, 10150, 50088, 10026, 20010, 20012, 10030, 10032, 20016, 20150, 20023, 20153, 20027, 20029, 10181, 10054, 10182, 30150, 10060, 20172, 20178, 10067, 20053, 20054, 50011, 20196, 50020, 10100}\n",
      "Items in qc_exp3_no_in_top but NOT in qc_baseline_no_in_top: {50049, 50018, 50052, 10220, 30000, 20189, 10206}\n",
      "\n",
      "# of items in common between qc_baseline_no_in_top and qc_exp4_no_in_top: 30\n",
      "Items in qc_baseline_no_in_top but NOT in qc_exp4_no_in_top: {20231, 10119, 50058, 10125, 50065, 50066, 10132, 10133, 20119, 20125, 50079, 10150, 50088, 10026, 20010, 20012, 10030, 10032, 20016, 20150, 20023, 20153, 20027, 20029, 10181, 10054, 30150, 10060, 20172, 20174, 20178, 10067, 20053, 20054, 50011, 20196, 50020, 10100, 20215}\n",
      "Items in qc_exp4_no_in_top but NOT in qc_baseline_no_in_top: {50049, 50018, 50052, 30000, 10099, 10206}\n",
      "\n",
      "# of items in common between qc_exp3_no_in_top and qc_exp4_no_in_top: 32\n",
      "Items in qc_exp3_no_in_top but NOT in qc_exp4_no_in_top: {10220, 20189, 20174, 20215}\n",
      "Items in qc_exp4_no_in_top but NOT in qc_exp3_no_in_top: {10099, 50083, 50060, 10182}\n",
      "\n",
      "# of items in common between qc_baseline_no_in_top and qc_exp8_no_in_top: 37\n",
      "Items in qc_baseline_no_in_top but NOT in qc_exp8_no_in_top: {20231, 50058, 50060, 10125, 50065, 50066, 20119, 20125, 50083, 50088, 10026, 20010, 20012, 10030, 10032, 20016, 20023, 20153, 20027, 20029, 10181, 10054, 20087, 10060, 20178, 20053, 50011, 40031, 50020, 10100, 50036, 20215}\n",
      "Items in qc_exp8_no_in_top but NOT in qc_baseline_no_in_top: {50018, 10118, 10099, 10206, 50014}\n",
      "\n"
     ]
    }
   ],
   "source": [
    "_prior_baseline = 'prior_baseline_no_in_top'\n",
    "_qc_config1_baseline = 'qc_baseline_no_in_top'\n",
    "_qc_config1_exp3 = 'qc_exp3_no_in_top'\n",
    "_qc_config1_exp4 = 'qc_exp4_no_in_top'\n",
    "_qc_config1_exp8 = 'qc_exp8_no_in_top'\n",
    "\n",
    "uniq_prev_base_not_in_curr_base, uniq_curr_base_not_in_prev_base = analyze_list_differences(ids_no_intop_prior_baseline, ids_no_intop_qc_baseline, _prior_baseline, _qc_config1_baseline)\n",
    "uniq_curr_base_not_in_3, uniq_3_not_in_curr_base = analyze_list_differences(ids_no_intop_qc_baseline, ids_no_intop_qc_exp3, _qc_config1_baseline, _qc_config1_exp3)\n",
    "uniq_curr_base_not_in_4, uniq_4_not_in_curr_base = analyze_list_differences(ids_no_intop_qc_baseline, ids_no_intop_qc_exp4, _qc_config1_baseline, _qc_config1_exp4)\n",
    "uniq_3_not_in_4, uniq_4_not_in_3 = analyze_list_differences(ids_no_intop_qc_exp3, ids_no_intop_qc_exp4, _qc_config1_exp3, _qc_config1_exp4)\n",
    "uniq_curr_base_not_in_8, uniq_8_not_in_curr_base = analyze_list_differences(ids_no_intop_qc_baseline, ids_no_intop_qc_exp8, _qc_config1_baseline, _qc_config1_exp8)\n"
   ]
  },
  {
   "cell_type": "markdown",
   "metadata": {},
   "source": [
    "##### 2 questions not retrieved from groundtruth source in config 1 baseline that were in the 75 question baseline"
   ]
  },
  {
   "cell_type": "code",
   "execution_count": 70,
   "metadata": {},
   "outputs": [
    {
     "name": "stdout",
     "output_type": "stream",
     "text": [
      "Not retrieved from groundtruth source in Config 1 baseline:\n"
     ]
    },
    {
     "data": {
      "text/html": [
       "<div>\n",
       "<style scoped>\n",
       "    .dataframe tbody tr th:only-of-type {\n",
       "        vertical-align: middle;\n",
       "    }\n",
       "\n",
       "    .dataframe tbody tr th {\n",
       "        vertical-align: top;\n",
       "    }\n",
       "\n",
       "    .dataframe thead th {\n",
       "        text-align: right;\n",
       "    }\n",
       "</style>\n",
       "<table border=\"1\" class=\"dataframe\">\n",
       "  <thead>\n",
       "    <tr style=\"text-align: right;\">\n",
       "      <th></th>\n",
       "      <th>id</th>\n",
       "      <th>source</th>\n",
       "      <th>bcss_question</th>\n",
       "      <th>answer</th>\n",
       "      <th>article_number</th>\n",
       "      <th>filename</th>\n",
       "      <th>BW_TXNMY_GRP_1</th>\n",
       "      <th>BW_TXNMY_GRP_2</th>\n",
       "      <th>BW_TXNMY_GRP_3</th>\n",
       "      <th>init_chunks</th>\n",
       "      <th>in_top_init</th>\n",
       "    </tr>\n",
       "  </thead>\n",
       "  <tbody>\n",
       "    <tr>\n",
       "      <th>16</th>\n",
       "      <td>10026</td>\n",
       "      <td>FAN Search Tool (FaST) - BCSS.html</td>\n",
       "      <td>What can I use FaST for?</td>\n",
       "      <td>Use FaST to view FAN profile details including...</td>\n",
       "      <td>7553.0</td>\n",
       "      <td>2154.json</td>\n",
       "      <td>Systems</td>\n",
       "      <td>Informational Tools</td>\n",
       "      <td>Contract Information</td>\n",
       "      <td>[('Accessing FaST | Searching for FANs | Searc...</td>\n",
       "      <td>2</td>\n",
       "    </tr>\n",
       "    <tr>\n",
       "      <th>257</th>\n",
       "      <td>20125</td>\n",
       "      <td>Fraud &amp; Social Engineering Call Handling Proce...</td>\n",
       "      <td>How to cancel an unauthorized online order</td>\n",
       "      <td>Cancel an order from Common Repository\\n\\n\\nUs...</td>\n",
       "      <td>21385.0</td>\n",
       "      <td>1661.json</td>\n",
       "      <td>Bill &amp; Account</td>\n",
       "      <td>Account Handling</td>\n",
       "      <td>Fraud</td>\n",
       "      <td>[('Advise caller that they are not authorized ...</td>\n",
       "      <td>7</td>\n",
       "    </tr>\n",
       "  </tbody>\n",
       "</table>\n",
       "</div>"
      ],
      "text/plain": [
       "        id                                             source  \\\n",
       "16   10026                 FAN Search Tool (FaST) - BCSS.html   \n",
       "257  20125  Fraud & Social Engineering Call Handling Proce...   \n",
       "\n",
       "                                  bcss_question  \\\n",
       "16                     What can I use FaST for?   \n",
       "257  How to cancel an unauthorized online order   \n",
       "\n",
       "                                                answer  article_number  \\\n",
       "16   Use FaST to view FAN profile details including...          7553.0   \n",
       "257  Cancel an order from Common Repository\\n\\n\\nUs...         21385.0   \n",
       "\n",
       "      filename  BW_TXNMY_GRP_1       BW_TXNMY_GRP_2        BW_TXNMY_GRP_3  \\\n",
       "16   2154.json         Systems  Informational Tools  Contract Information   \n",
       "257  1661.json  Bill & Account     Account Handling                 Fraud   \n",
       "\n",
       "                                           init_chunks  in_top_init  \n",
       "16   [('Accessing FaST | Searching for FANs | Searc...            2  \n",
       "257  [('Advise caller that they are not authorized ...            7  "
      ]
     },
     "metadata": {},
     "output_type": "display_data"
    },
    {
     "name": "stdout",
     "output_type": "stream",
     "text": [
      "Note that these questions were not included in the prev. baseline of the 75 questions that had an in_top_init of 0:\n"
     ]
    },
    {
     "data": {
      "text/html": [
       "<div>\n",
       "<style scoped>\n",
       "    .dataframe tbody tr th:only-of-type {\n",
       "        vertical-align: middle;\n",
       "    }\n",
       "\n",
       "    .dataframe tbody tr th {\n",
       "        vertical-align: top;\n",
       "    }\n",
       "\n",
       "    .dataframe thead th {\n",
       "        text-align: right;\n",
       "    }\n",
       "</style>\n",
       "<table border=\"1\" class=\"dataframe\">\n",
       "  <thead>\n",
       "    <tr style=\"text-align: right;\">\n",
       "      <th></th>\n",
       "      <th>id</th>\n",
       "      <th>source</th>\n",
       "      <th>bcss_question</th>\n",
       "      <th>answer</th>\n",
       "      <th>article_number</th>\n",
       "      <th>filename</th>\n",
       "      <th>BW_TXNMY_GRP_1</th>\n",
       "      <th>BW_TXNMY_GRP_2</th>\n",
       "      <th>BW_TXNMY_GRP_3</th>\n",
       "    </tr>\n",
       "  </thead>\n",
       "  <tbody>\n",
       "  </tbody>\n",
       "</table>\n",
       "</div>"
      ],
      "text/plain": [
       "Empty DataFrame\n",
       "Columns: [id, source, bcss_question, answer, article_number, filename, BW_TXNMY_GRP_1, BW_TXNMY_GRP_2, BW_TXNMY_GRP_3]\n",
       "Index: []"
      ]
     },
     "metadata": {},
     "output_type": "display_data"
    }
   ],
   "source": [
    "print('Not retrieved from groundtruth source in Config 1 baseline:')\n",
    "subset_df_incorrect_curr_base_vs_prev_base = get_df_rows_given_ids(uniq_curr_base_not_in_prev_base, qc_config1_exp4_results_df)\n",
    "display(subset_df_incorrect_curr_base_vs_prev_base)\n",
    "\n",
    "print('Note that these questions were not included in the prev. baseline of the 75 questions that had an in_top_init of 0:')\n",
    "subset_df_prev_base_vs_incorrect_curr_base = get_df_rows_given_ids_prev_base(uniq_curr_base_not_in_prev_base, groundtruth_qs_70_no_intop_df)\n",
    "display(subset_df_prev_base_vs_incorrect_curr_base)"
   ]
  },
  {
   "cell_type": "code",
   "execution_count": 72,
   "metadata": {},
   "outputs": [],
   "source": [
    "def print_subset_df_init_chunks_by_index(subset_df: pd.DataFrame, index: int):\n",
    "    df_list = eval(subset_df['init_chunks'].to_list()[index])\n",
    "    for (chunk, source) in df_list:\n",
    "        chunk = str.replace(chunk, \"\\t\", \"\")\n",
    "        chunk = str.replace(chunk, \"\\n\", \"\")\n",
    "        print(f'{source}: {chunk}\\n')\n",
    "\n",
    "# print(subset_df_0['init_chunks'].to_list()[0]))"
   ]
  },
  {
   "cell_type": "markdown",
   "metadata": {},
   "source": [
    "##### 7 questions not retrieved from groundtruth source in exp3 (Cat1+Cat2+Cat3+Query) that were in the config 1 baseline"
   ]
  },
  {
   "cell_type": "code",
   "execution_count": 62,
   "metadata": {},
   "outputs": [
    {
     "name": "stdout",
     "output_type": "stream",
     "text": [
      "Not retrieved from groundtruth source in Exp3:\n"
     ]
    },
    {
     "data": {
      "text/html": [
       "<div>\n",
       "<style scoped>\n",
       "    .dataframe tbody tr th:only-of-type {\n",
       "        vertical-align: middle;\n",
       "    }\n",
       "\n",
       "    .dataframe tbody tr th {\n",
       "        vertical-align: top;\n",
       "    }\n",
       "\n",
       "    .dataframe thead th {\n",
       "        text-align: right;\n",
       "    }\n",
       "</style>\n",
       "<table border=\"1\" class=\"dataframe\">\n",
       "  <thead>\n",
       "    <tr style=\"text-align: right;\">\n",
       "      <th></th>\n",
       "      <th>id</th>\n",
       "      <th>source</th>\n",
       "      <th>bcss_question</th>\n",
       "      <th>answer</th>\n",
       "      <th>article_number</th>\n",
       "      <th>filename</th>\n",
       "      <th>BW_TXNMY_GRP_1</th>\n",
       "      <th>BW_TXNMY_GRP_2</th>\n",
       "      <th>BW_TXNMY_GRP_3</th>\n",
       "      <th>init_chunks</th>\n",
       "      <th>in_top_init</th>\n",
       "    </tr>\n",
       "  </thead>\n",
       "  <tbody>\n",
       "    <tr>\n",
       "      <th>147</th>\n",
       "      <td>10206</td>\n",
       "      <td>Billing Workflow Scenarios - Account Maintenan...</td>\n",
       "      <td>How to change a customer's bill cycle?</td>\n",
       "      <td>Only telecom managers, day-to-day, and decisio...</td>\n",
       "      <td>22356.0</td>\n",
       "      <td>34.json</td>\n",
       "      <td>Operations</td>\n",
       "      <td>Center Operations</td>\n",
       "      <td>Call Handling</td>\n",
       "      <td>[('Change Bill Cycle\\n\\nTo change the Bill Cyc...</td>\n",
       "      <td>0</td>\n",
       "    </tr>\n",
       "    <tr>\n",
       "      <th>155</th>\n",
       "      <td>10220</td>\n",
       "      <td>Place of Primary Use (PPU).html</td>\n",
       "      <td>How do I explain the PPU address requirements ...</td>\n",
       "      <td>To comply with the Mobile Telecommunications S...</td>\n",
       "      <td>6570.0</td>\n",
       "      <td>3531.json</td>\n",
       "      <td>Bill &amp; Account</td>\n",
       "      <td>Billing &amp; Payments</td>\n",
       "      <td>Charges &amp; Credits</td>\n",
       "      <td>[('New Account\\n\\n\\t\\t\\t\\t\\t\\tBilling for the ...</td>\n",
       "      <td>0</td>\n",
       "    </tr>\n",
       "    <tr>\n",
       "      <th>299</th>\n",
       "      <td>20189</td>\n",
       "      <td>Handle Request to Port in Number Recently Port...</td>\n",
       "      <td>What if a customer wants to port back in to AT...</td>\n",
       "      <td>Resume 60 Days or More after Cancellation\\nAdv...</td>\n",
       "      <td>24266.0</td>\n",
       "      <td>3403.json</td>\n",
       "      <td>Bill &amp; Account</td>\n",
       "      <td>Orders &amp; Changes</td>\n",
       "      <td>Porting</td>\n",
       "      <td>[(\"What happens if the customer cannot port an...</td>\n",
       "      <td>0</td>\n",
       "    </tr>\n",
       "    <tr>\n",
       "      <th>334</th>\n",
       "      <td>30000</td>\n",
       "      <td>Unlimited Your Way for Business - BCSS.html</td>\n",
       "      <td>Do any business wireless plans include a featu...</td>\n",
       "      <td>AT&amp;T Business Fast Track is available with our...</td>\n",
       "      <td>21757.0</td>\n",
       "      <td>2006.json</td>\n",
       "      <td>Services</td>\n",
       "      <td>Wireless Plans</td>\n",
       "      <td>Business</td>\n",
       "      <td>[('PLANS\\n\\nPRICING\\n\\nDEVICE PAIRINGS\\n\\nAT&amp;T...</td>\n",
       "      <td>0</td>\n",
       "    </tr>\n",
       "    <tr>\n",
       "      <th>388</th>\n",
       "      <td>50018</td>\n",
       "      <td>eChat Transfer Process</td>\n",
       "      <td>how to handle echat customers</td>\n",
       "      <td>Perform a transfer if you receive an incorrect...</td>\n",
       "      <td>12781.0</td>\n",
       "      <td>2569.json</td>\n",
       "      <td>Operations</td>\n",
       "      <td>Center Operations</td>\n",
       "      <td>Call Handling</td>\n",
       "      <td>[(\"Verified Customer (Customer Successfully Co...</td>\n",
       "      <td>0</td>\n",
       "    </tr>\n",
       "    <tr>\n",
       "      <th>418</th>\n",
       "      <td>50049</td>\n",
       "      <td>Telegence Payment-Related Codes - BCSS</td>\n",
       "      <td>What if the code is not listed?</td>\n",
       "      <td>If you are unable to determine the reason for ...</td>\n",
       "      <td>23743.0</td>\n",
       "      <td>1173.json</td>\n",
       "      <td>Bill &amp; Account</td>\n",
       "      <td>Account Handling</td>\n",
       "      <td>Credits &amp; Adjustments</td>\n",
       "      <td>[('Monthly Data Charge\\n\\nBCS uses this pre-in...</td>\n",
       "      <td>0</td>\n",
       "    </tr>\n",
       "    <tr>\n",
       "      <th>421</th>\n",
       "      <td>50052</td>\n",
       "      <td>LNP (Number Transfer) Port-Out - BCSS</td>\n",
       "      <td>what are the requirements for porting number t...</td>\n",
       "      <td>Port-Out Validation Requirements\\n\\nWhen AT&amp;T ...</td>\n",
       "      <td>13853.0</td>\n",
       "      <td>313.json</td>\n",
       "      <td>Bill &amp; Account</td>\n",
       "      <td>Orders &amp; Changes</td>\n",
       "      <td>Porting</td>\n",
       "      <td>[(\"Includes port-in number changes; anytime a ...</td>\n",
       "      <td>0</td>\n",
       "    </tr>\n",
       "  </tbody>\n",
       "</table>\n",
       "</div>"
      ],
      "text/plain": [
       "        id                                             source  \\\n",
       "147  10206  Billing Workflow Scenarios - Account Maintenan...   \n",
       "155  10220                    Place of Primary Use (PPU).html   \n",
       "299  20189  Handle Request to Port in Number Recently Port...   \n",
       "334  30000        Unlimited Your Way for Business - BCSS.html   \n",
       "388  50018                             eChat Transfer Process   \n",
       "418  50049             Telegence Payment-Related Codes - BCSS   \n",
       "421  50052              LNP (Number Transfer) Port-Out - BCSS   \n",
       "\n",
       "                                         bcss_question  \\\n",
       "147             How to change a customer's bill cycle?   \n",
       "155  How do I explain the PPU address requirements ...   \n",
       "299  What if a customer wants to port back in to AT...   \n",
       "334  Do any business wireless plans include a featu...   \n",
       "388                      how to handle echat customers   \n",
       "418                    What if the code is not listed?   \n",
       "421  what are the requirements for porting number t...   \n",
       "\n",
       "                                                answer  article_number  \\\n",
       "147  Only telecom managers, day-to-day, and decisio...         22356.0   \n",
       "155  To comply with the Mobile Telecommunications S...          6570.0   \n",
       "299  Resume 60 Days or More after Cancellation\\nAdv...         24266.0   \n",
       "334  AT&T Business Fast Track is available with our...         21757.0   \n",
       "388  Perform a transfer if you receive an incorrect...         12781.0   \n",
       "418  If you are unable to determine the reason for ...         23743.0   \n",
       "421  Port-Out Validation Requirements\\n\\nWhen AT&T ...         13853.0   \n",
       "\n",
       "      filename  BW_TXNMY_GRP_1      BW_TXNMY_GRP_2         BW_TXNMY_GRP_3  \\\n",
       "147    34.json      Operations   Center Operations          Call Handling   \n",
       "155  3531.json  Bill & Account  Billing & Payments      Charges & Credits   \n",
       "299  3403.json  Bill & Account    Orders & Changes                Porting   \n",
       "334  2006.json        Services      Wireless Plans               Business   \n",
       "388  2569.json      Operations   Center Operations          Call Handling   \n",
       "418  1173.json  Bill & Account    Account Handling  Credits & Adjustments   \n",
       "421   313.json  Bill & Account    Orders & Changes                Porting   \n",
       "\n",
       "                                           init_chunks  in_top_init  \n",
       "147  [('Change Bill Cycle\\n\\nTo change the Bill Cyc...            0  \n",
       "155  [('New Account\\n\\n\\t\\t\\t\\t\\t\\tBilling for the ...            0  \n",
       "299  [(\"What happens if the customer cannot port an...            0  \n",
       "334  [('PLANS\\n\\nPRICING\\n\\nDEVICE PAIRINGS\\n\\nAT&T...            0  \n",
       "388  [(\"Verified Customer (Customer Successfully Co...            0  \n",
       "418  [('Monthly Data Charge\\n\\nBCS uses this pre-in...            0  \n",
       "421  [(\"Includes port-in number changes; anytime a ...            0  "
      ]
     },
     "metadata": {},
     "output_type": "display_data"
    },
    {
     "name": "stdout",
     "output_type": "stream",
     "text": [
      "Those IDs in Config 1 baseline:\n"
     ]
    },
    {
     "data": {
      "text/html": [
       "<div>\n",
       "<style scoped>\n",
       "    .dataframe tbody tr th:only-of-type {\n",
       "        vertical-align: middle;\n",
       "    }\n",
       "\n",
       "    .dataframe tbody tr th {\n",
       "        vertical-align: top;\n",
       "    }\n",
       "\n",
       "    .dataframe thead th {\n",
       "        text-align: right;\n",
       "    }\n",
       "</style>\n",
       "<table border=\"1\" class=\"dataframe\">\n",
       "  <thead>\n",
       "    <tr style=\"text-align: right;\">\n",
       "      <th></th>\n",
       "      <th>id</th>\n",
       "      <th>source</th>\n",
       "      <th>bcss_question</th>\n",
       "      <th>answer</th>\n",
       "      <th>article_number</th>\n",
       "      <th>filename</th>\n",
       "      <th>BW_TXNMY_GRP_1</th>\n",
       "      <th>BW_TXNMY_GRP_2</th>\n",
       "      <th>BW_TXNMY_GRP_3</th>\n",
       "      <th>init_chunks</th>\n",
       "      <th>in_top_init</th>\n",
       "    </tr>\n",
       "  </thead>\n",
       "  <tbody>\n",
       "    <tr>\n",
       "      <th>147</th>\n",
       "      <td>10206</td>\n",
       "      <td>Billing Workflow Scenarios - Account Maintenan...</td>\n",
       "      <td>How to change a customer's bill cycle?</td>\n",
       "      <td>Only telecom managers, day-to-day, and decisio...</td>\n",
       "      <td>22356.0</td>\n",
       "      <td>34.json</td>\n",
       "      <td>Operations</td>\n",
       "      <td>Center Operations</td>\n",
       "      <td>Call Handling</td>\n",
       "      <td>[(\"Requirements &amp; Restrictions\\nBill Availabil...</td>\n",
       "      <td>2</td>\n",
       "    </tr>\n",
       "    <tr>\n",
       "      <th>155</th>\n",
       "      <td>10220</td>\n",
       "      <td>Place of Primary Use (PPU).html</td>\n",
       "      <td>How do I explain the PPU address requirements ...</td>\n",
       "      <td>To comply with the Mobile Telecommunications S...</td>\n",
       "      <td>6570.0</td>\n",
       "      <td>3531.json</td>\n",
       "      <td>Bill &amp; Account</td>\n",
       "      <td>Billing &amp; Payments</td>\n",
       "      <td>Charges &amp; Credits</td>\n",
       "      <td>[(\"The federal law requires that state and loc...</td>\n",
       "      <td>2</td>\n",
       "    </tr>\n",
       "    <tr>\n",
       "      <th>299</th>\n",
       "      <td>20189</td>\n",
       "      <td>Handle Request to Port in Number Recently Port...</td>\n",
       "      <td>What if a customer wants to port back in to AT...</td>\n",
       "      <td>Resume 60 Days or More after Cancellation\\nAdv...</td>\n",
       "      <td>24266.0</td>\n",
       "      <td>3403.json</td>\n",
       "      <td>Bill &amp; Account</td>\n",
       "      <td>Orders &amp; Changes</td>\n",
       "      <td>Porting</td>\n",
       "      <td>[(\"The Port Activation Center (PAC) - Winback ...</td>\n",
       "      <td>1</td>\n",
       "    </tr>\n",
       "    <tr>\n",
       "      <th>334</th>\n",
       "      <td>30000</td>\n",
       "      <td>Unlimited Your Way for Business - BCSS.html</td>\n",
       "      <td>Do any business wireless plans include a featu...</td>\n",
       "      <td>AT&amp;T Business Fast Track is available with our...</td>\n",
       "      <td>21757.0</td>\n",
       "      <td>2006.json</td>\n",
       "      <td>Services</td>\n",
       "      <td>Wireless Plans</td>\n",
       "      <td>Business</td>\n",
       "      <td>[(\"Phone line discount:\\n-$35/mo. account cred...</td>\n",
       "      <td>1</td>\n",
       "    </tr>\n",
       "    <tr>\n",
       "      <th>388</th>\n",
       "      <td>50018</td>\n",
       "      <td>eChat Transfer Process</td>\n",
       "      <td>how to handle echat customers</td>\n",
       "      <td>Perform a transfer if you receive an incorrect...</td>\n",
       "      <td>12781.0</td>\n",
       "      <td>2569.json</td>\n",
       "      <td>Operations</td>\n",
       "      <td>Center Operations</td>\n",
       "      <td>Call Handling</td>\n",
       "      <td>[(\"Express in a clear, simple, and professiona...</td>\n",
       "      <td>1</td>\n",
       "    </tr>\n",
       "    <tr>\n",
       "      <th>418</th>\n",
       "      <td>50049</td>\n",
       "      <td>Telegence Payment-Related Codes - BCSS</td>\n",
       "      <td>What if the code is not listed?</td>\n",
       "      <td>If you are unable to determine the reason for ...</td>\n",
       "      <td>23743.0</td>\n",
       "      <td>1173.json</td>\n",
       "      <td>Bill &amp; Account</td>\n",
       "      <td>Account Handling</td>\n",
       "      <td>Credits &amp; Adjustments</td>\n",
       "      <td>[('Customers sometimes encounter payment error...</td>\n",
       "      <td>1</td>\n",
       "    </tr>\n",
       "    <tr>\n",
       "      <th>421</th>\n",
       "      <td>50052</td>\n",
       "      <td>LNP (Number Transfer) Port-Out - BCSS</td>\n",
       "      <td>what are the requirements for porting number t...</td>\n",
       "      <td>Port-Out Validation Requirements\\n\\nWhen AT&amp;T ...</td>\n",
       "      <td>13853.0</td>\n",
       "      <td>313.json</td>\n",
       "      <td>Bill &amp; Account</td>\n",
       "      <td>Orders &amp; Changes</td>\n",
       "      <td>Porting</td>\n",
       "      <td>[(\"Jump to: Guidelines | Port-Out Procedure |\\...</td>\n",
       "      <td>1</td>\n",
       "    </tr>\n",
       "  </tbody>\n",
       "</table>\n",
       "</div>"
      ],
      "text/plain": [
       "        id                                             source  \\\n",
       "147  10206  Billing Workflow Scenarios - Account Maintenan...   \n",
       "155  10220                    Place of Primary Use (PPU).html   \n",
       "299  20189  Handle Request to Port in Number Recently Port...   \n",
       "334  30000        Unlimited Your Way for Business - BCSS.html   \n",
       "388  50018                             eChat Transfer Process   \n",
       "418  50049             Telegence Payment-Related Codes - BCSS   \n",
       "421  50052              LNP (Number Transfer) Port-Out - BCSS   \n",
       "\n",
       "                                         bcss_question  \\\n",
       "147             How to change a customer's bill cycle?   \n",
       "155  How do I explain the PPU address requirements ...   \n",
       "299  What if a customer wants to port back in to AT...   \n",
       "334  Do any business wireless plans include a featu...   \n",
       "388                      how to handle echat customers   \n",
       "418                    What if the code is not listed?   \n",
       "421  what are the requirements for porting number t...   \n",
       "\n",
       "                                                answer  article_number  \\\n",
       "147  Only telecom managers, day-to-day, and decisio...         22356.0   \n",
       "155  To comply with the Mobile Telecommunications S...          6570.0   \n",
       "299  Resume 60 Days or More after Cancellation\\nAdv...         24266.0   \n",
       "334  AT&T Business Fast Track is available with our...         21757.0   \n",
       "388  Perform a transfer if you receive an incorrect...         12781.0   \n",
       "418  If you are unable to determine the reason for ...         23743.0   \n",
       "421  Port-Out Validation Requirements\\n\\nWhen AT&T ...         13853.0   \n",
       "\n",
       "      filename  BW_TXNMY_GRP_1      BW_TXNMY_GRP_2         BW_TXNMY_GRP_3  \\\n",
       "147    34.json      Operations   Center Operations          Call Handling   \n",
       "155  3531.json  Bill & Account  Billing & Payments      Charges & Credits   \n",
       "299  3403.json  Bill & Account    Orders & Changes                Porting   \n",
       "334  2006.json        Services      Wireless Plans               Business   \n",
       "388  2569.json      Operations   Center Operations          Call Handling   \n",
       "418  1173.json  Bill & Account    Account Handling  Credits & Adjustments   \n",
       "421   313.json  Bill & Account    Orders & Changes                Porting   \n",
       "\n",
       "                                           init_chunks  in_top_init  \n",
       "147  [(\"Requirements & Restrictions\\nBill Availabil...            2  \n",
       "155  [(\"The federal law requires that state and loc...            2  \n",
       "299  [(\"The Port Activation Center (PAC) - Winback ...            1  \n",
       "334  [(\"Phone line discount:\\n-$35/mo. account cred...            1  \n",
       "388  [(\"Express in a clear, simple, and professiona...            1  \n",
       "418  [('Customers sometimes encounter payment error...            1  \n",
       "421  [(\"Jump to: Guidelines | Port-Out Procedure |\\...            1  "
      ]
     },
     "metadata": {},
     "output_type": "display_data"
    }
   ],
   "source": [
    "print('Not retrieved from groundtruth source in Exp3:')\n",
    "subset_df_incorrect_3_vs_curr_base = get_df_rows_given_ids(uniq_3_not_in_curr_base, qc_config1_exp3_results_df)\n",
    "display(subset_df_incorrect_3_vs_curr_base)\n",
    "\n",
    "print('Those IDs in Config 1 baseline:')\n",
    "subset_df_curr_base_vs_incorrect_3 = get_df_rows_given_ids(uniq_3_not_in_curr_base, qc_config1_baseline_results_df)\n",
    "display(subset_df_curr_base_vs_incorrect_3)"
   ]
  },
  {
   "cell_type": "markdown",
   "metadata": {},
   "source": [
    "##### 6 questions not retrieved from groundtruth source in config1 baseline exp 4 (Query+Cat1+Cat2+Cat3) that were in the config 1 baseline"
   ]
  },
  {
   "cell_type": "code",
   "execution_count": 63,
   "metadata": {},
   "outputs": [
    {
     "name": "stdout",
     "output_type": "stream",
     "text": [
      "Not retrieved from groundtruth source in Exp4:\n"
     ]
    },
    {
     "data": {
      "text/html": [
       "<div>\n",
       "<style scoped>\n",
       "    .dataframe tbody tr th:only-of-type {\n",
       "        vertical-align: middle;\n",
       "    }\n",
       "\n",
       "    .dataframe tbody tr th {\n",
       "        vertical-align: top;\n",
       "    }\n",
       "\n",
       "    .dataframe thead th {\n",
       "        text-align: right;\n",
       "    }\n",
       "</style>\n",
       "<table border=\"1\" class=\"dataframe\">\n",
       "  <thead>\n",
       "    <tr style=\"text-align: right;\">\n",
       "      <th></th>\n",
       "      <th>id</th>\n",
       "      <th>source</th>\n",
       "      <th>bcss_question</th>\n",
       "      <th>answer</th>\n",
       "      <th>article_number</th>\n",
       "      <th>filename</th>\n",
       "      <th>BW_TXNMY_GRP_1</th>\n",
       "      <th>BW_TXNMY_GRP_2</th>\n",
       "      <th>BW_TXNMY_GRP_3</th>\n",
       "      <th>init_chunks</th>\n",
       "      <th>in_top_init</th>\n",
       "    </tr>\n",
       "  </thead>\n",
       "  <tbody>\n",
       "    <tr>\n",
       "      <th>78</th>\n",
       "      <td>10099</td>\n",
       "      <td>Device Stolen In Transit (Cannot Find a Delive...</td>\n",
       "      <td>how do i report a stolen package for my cell p...</td>\n",
       "      <td>File a Stolen Device &gt; Device Unblocking Reque...</td>\n",
       "      <td>24653.0</td>\n",
       "      <td>54.json</td>\n",
       "      <td>Equipment</td>\n",
       "      <td>Changes</td>\n",
       "      <td>Lost or Stolen Equipment</td>\n",
       "      <td>[('Email Passwords\\xa0\\n\\t\\t\\t\\t\\t\\t\\t\\t\\t\\n\\t...</td>\n",
       "      <td>0</td>\n",
       "    </tr>\n",
       "    <tr>\n",
       "      <th>147</th>\n",
       "      <td>10206</td>\n",
       "      <td>Billing Workflow Scenarios - Account Maintenan...</td>\n",
       "      <td>How to change a customer's bill cycle?</td>\n",
       "      <td>Only telecom managers, day-to-day, and decisio...</td>\n",
       "      <td>22356.0</td>\n",
       "      <td>34.json</td>\n",
       "      <td>Operations</td>\n",
       "      <td>Center Operations</td>\n",
       "      <td>Call Handling</td>\n",
       "      <td>[('Click Validation.\\n\\nVerify USPS Validation...</td>\n",
       "      <td>0</td>\n",
       "    </tr>\n",
       "    <tr>\n",
       "      <th>334</th>\n",
       "      <td>30000</td>\n",
       "      <td>Unlimited Your Way for Business - BCSS.html</td>\n",
       "      <td>Do any business wireless plans include a featu...</td>\n",
       "      <td>AT&amp;T Business Fast Track is available with our...</td>\n",
       "      <td>21757.0</td>\n",
       "      <td>2006.json</td>\n",
       "      <td>Services</td>\n",
       "      <td>Wireless Plans</td>\n",
       "      <td>Business</td>\n",
       "      <td>[(\"Phone line discount:\\n-$35/mo. account cred...</td>\n",
       "      <td>0</td>\n",
       "    </tr>\n",
       "    <tr>\n",
       "      <th>388</th>\n",
       "      <td>50018</td>\n",
       "      <td>eChat Transfer Process</td>\n",
       "      <td>how to handle echat customers</td>\n",
       "      <td>Perform a transfer if you receive an incorrect...</td>\n",
       "      <td>12781.0</td>\n",
       "      <td>2569.json</td>\n",
       "      <td>Operations</td>\n",
       "      <td>Center Operations</td>\n",
       "      <td>Call Handling</td>\n",
       "      <td>[(\"Scripts are required on all openings and cl...</td>\n",
       "      <td>0</td>\n",
       "    </tr>\n",
       "    <tr>\n",
       "      <th>418</th>\n",
       "      <td>50049</td>\n",
       "      <td>Telegence Payment-Related Codes - BCSS</td>\n",
       "      <td>What if the code is not listed?</td>\n",
       "      <td>If you are unable to determine the reason for ...</td>\n",
       "      <td>23743.0</td>\n",
       "      <td>1173.json</td>\n",
       "      <td>Bill &amp; Account</td>\n",
       "      <td>Account Handling</td>\n",
       "      <td>Credits &amp; Adjustments</td>\n",
       "      <td>[('Non-Supported Requests |\\n\\nApproval &amp; Subm...</td>\n",
       "      <td>0</td>\n",
       "    </tr>\n",
       "    <tr>\n",
       "      <th>421</th>\n",
       "      <td>50052</td>\n",
       "      <td>LNP (Number Transfer) Port-Out - BCSS</td>\n",
       "      <td>what are the requirements for porting number t...</td>\n",
       "      <td>Port-Out Validation Requirements\\n\\nWhen AT&amp;T ...</td>\n",
       "      <td>13853.0</td>\n",
       "      <td>313.json</td>\n",
       "      <td>Bill &amp; Account</td>\n",
       "      <td>Orders &amp; Changes</td>\n",
       "      <td>Porting</td>\n",
       "      <td>[(\"Includes port-in number changes; anytime a ...</td>\n",
       "      <td>0</td>\n",
       "    </tr>\n",
       "  </tbody>\n",
       "</table>\n",
       "</div>"
      ],
      "text/plain": [
       "        id                                             source  \\\n",
       "78   10099  Device Stolen In Transit (Cannot Find a Delive...   \n",
       "147  10206  Billing Workflow Scenarios - Account Maintenan...   \n",
       "334  30000        Unlimited Your Way for Business - BCSS.html   \n",
       "388  50018                             eChat Transfer Process   \n",
       "418  50049             Telegence Payment-Related Codes - BCSS   \n",
       "421  50052              LNP (Number Transfer) Port-Out - BCSS   \n",
       "\n",
       "                                         bcss_question  \\\n",
       "78   how do i report a stolen package for my cell p...   \n",
       "147             How to change a customer's bill cycle?   \n",
       "334  Do any business wireless plans include a featu...   \n",
       "388                      how to handle echat customers   \n",
       "418                    What if the code is not listed?   \n",
       "421  what are the requirements for porting number t...   \n",
       "\n",
       "                                                answer  article_number  \\\n",
       "78   File a Stolen Device > Device Unblocking Reque...         24653.0   \n",
       "147  Only telecom managers, day-to-day, and decisio...         22356.0   \n",
       "334  AT&T Business Fast Track is available with our...         21757.0   \n",
       "388  Perform a transfer if you receive an incorrect...         12781.0   \n",
       "418  If you are unable to determine the reason for ...         23743.0   \n",
       "421  Port-Out Validation Requirements\\n\\nWhen AT&T ...         13853.0   \n",
       "\n",
       "      filename  BW_TXNMY_GRP_1     BW_TXNMY_GRP_2            BW_TXNMY_GRP_3  \\\n",
       "78     54.json       Equipment            Changes  Lost or Stolen Equipment   \n",
       "147    34.json      Operations  Center Operations             Call Handling   \n",
       "334  2006.json        Services     Wireless Plans                  Business   \n",
       "388  2569.json      Operations  Center Operations             Call Handling   \n",
       "418  1173.json  Bill & Account   Account Handling     Credits & Adjustments   \n",
       "421   313.json  Bill & Account   Orders & Changes                   Porting   \n",
       "\n",
       "                                           init_chunks  in_top_init  \n",
       "78   [('Email Passwords\\xa0\\n\\t\\t\\t\\t\\t\\t\\t\\t\\t\\n\\t...            0  \n",
       "147  [('Click Validation.\\n\\nVerify USPS Validation...            0  \n",
       "334  [(\"Phone line discount:\\n-$35/mo. account cred...            0  \n",
       "388  [(\"Scripts are required on all openings and cl...            0  \n",
       "418  [('Non-Supported Requests |\\n\\nApproval & Subm...            0  \n",
       "421  [(\"Includes port-in number changes; anytime a ...            0  "
      ]
     },
     "metadata": {},
     "output_type": "display_data"
    },
    {
     "name": "stdout",
     "output_type": "stream",
     "text": [
      "Those IDs in Config 1 baseline:\n"
     ]
    },
    {
     "data": {
      "text/html": [
       "<div>\n",
       "<style scoped>\n",
       "    .dataframe tbody tr th:only-of-type {\n",
       "        vertical-align: middle;\n",
       "    }\n",
       "\n",
       "    .dataframe tbody tr th {\n",
       "        vertical-align: top;\n",
       "    }\n",
       "\n",
       "    .dataframe thead th {\n",
       "        text-align: right;\n",
       "    }\n",
       "</style>\n",
       "<table border=\"1\" class=\"dataframe\">\n",
       "  <thead>\n",
       "    <tr style=\"text-align: right;\">\n",
       "      <th></th>\n",
       "      <th>id</th>\n",
       "      <th>source</th>\n",
       "      <th>bcss_question</th>\n",
       "      <th>answer</th>\n",
       "      <th>article_number</th>\n",
       "      <th>filename</th>\n",
       "      <th>BW_TXNMY_GRP_1</th>\n",
       "      <th>BW_TXNMY_GRP_2</th>\n",
       "      <th>BW_TXNMY_GRP_3</th>\n",
       "      <th>init_chunks</th>\n",
       "      <th>in_top_init</th>\n",
       "    </tr>\n",
       "  </thead>\n",
       "  <tbody>\n",
       "    <tr>\n",
       "      <th>78</th>\n",
       "      <td>10099</td>\n",
       "      <td>Device Stolen In Transit (Cannot Find a Delive...</td>\n",
       "      <td>how do i report a stolen package for my cell p...</td>\n",
       "      <td>File a Stolen Device &gt; Device Unblocking Reque...</td>\n",
       "      <td>24653.0</td>\n",
       "      <td>54.json</td>\n",
       "      <td>Equipment</td>\n",
       "      <td>Changes</td>\n",
       "      <td>Lost or Stolen Equipment</td>\n",
       "      <td>[(\"Stolen Package\\n\\nIf a customer calls/visit...</td>\n",
       "      <td>1</td>\n",
       "    </tr>\n",
       "    <tr>\n",
       "      <th>147</th>\n",
       "      <td>10206</td>\n",
       "      <td>Billing Workflow Scenarios - Account Maintenan...</td>\n",
       "      <td>How to change a customer's bill cycle?</td>\n",
       "      <td>Only telecom managers, day-to-day, and decisio...</td>\n",
       "      <td>22356.0</td>\n",
       "      <td>34.json</td>\n",
       "      <td>Operations</td>\n",
       "      <td>Center Operations</td>\n",
       "      <td>Call Handling</td>\n",
       "      <td>[(\"Requirements &amp; Restrictions\\nBill Availabil...</td>\n",
       "      <td>2</td>\n",
       "    </tr>\n",
       "    <tr>\n",
       "      <th>334</th>\n",
       "      <td>30000</td>\n",
       "      <td>Unlimited Your Way for Business - BCSS.html</td>\n",
       "      <td>Do any business wireless plans include a featu...</td>\n",
       "      <td>AT&amp;T Business Fast Track is available with our...</td>\n",
       "      <td>21757.0</td>\n",
       "      <td>2006.json</td>\n",
       "      <td>Services</td>\n",
       "      <td>Wireless Plans</td>\n",
       "      <td>Business</td>\n",
       "      <td>[(\"Phone line discount:\\n-$35/mo. account cred...</td>\n",
       "      <td>1</td>\n",
       "    </tr>\n",
       "    <tr>\n",
       "      <th>388</th>\n",
       "      <td>50018</td>\n",
       "      <td>eChat Transfer Process</td>\n",
       "      <td>how to handle echat customers</td>\n",
       "      <td>Perform a transfer if you receive an incorrect...</td>\n",
       "      <td>12781.0</td>\n",
       "      <td>2569.json</td>\n",
       "      <td>Operations</td>\n",
       "      <td>Center Operations</td>\n",
       "      <td>Call Handling</td>\n",
       "      <td>[(\"Express in a clear, simple, and professiona...</td>\n",
       "      <td>1</td>\n",
       "    </tr>\n",
       "    <tr>\n",
       "      <th>418</th>\n",
       "      <td>50049</td>\n",
       "      <td>Telegence Payment-Related Codes - BCSS</td>\n",
       "      <td>What if the code is not listed?</td>\n",
       "      <td>If you are unable to determine the reason for ...</td>\n",
       "      <td>23743.0</td>\n",
       "      <td>1173.json</td>\n",
       "      <td>Bill &amp; Account</td>\n",
       "      <td>Account Handling</td>\n",
       "      <td>Credits &amp; Adjustments</td>\n",
       "      <td>[('Customers sometimes encounter payment error...</td>\n",
       "      <td>1</td>\n",
       "    </tr>\n",
       "    <tr>\n",
       "      <th>421</th>\n",
       "      <td>50052</td>\n",
       "      <td>LNP (Number Transfer) Port-Out - BCSS</td>\n",
       "      <td>what are the requirements for porting number t...</td>\n",
       "      <td>Port-Out Validation Requirements\\n\\nWhen AT&amp;T ...</td>\n",
       "      <td>13853.0</td>\n",
       "      <td>313.json</td>\n",
       "      <td>Bill &amp; Account</td>\n",
       "      <td>Orders &amp; Changes</td>\n",
       "      <td>Porting</td>\n",
       "      <td>[(\"Jump to: Guidelines | Port-Out Procedure |\\...</td>\n",
       "      <td>1</td>\n",
       "    </tr>\n",
       "  </tbody>\n",
       "</table>\n",
       "</div>"
      ],
      "text/plain": [
       "        id                                             source  \\\n",
       "78   10099  Device Stolen In Transit (Cannot Find a Delive...   \n",
       "147  10206  Billing Workflow Scenarios - Account Maintenan...   \n",
       "334  30000        Unlimited Your Way for Business - BCSS.html   \n",
       "388  50018                             eChat Transfer Process   \n",
       "418  50049             Telegence Payment-Related Codes - BCSS   \n",
       "421  50052              LNP (Number Transfer) Port-Out - BCSS   \n",
       "\n",
       "                                         bcss_question  \\\n",
       "78   how do i report a stolen package for my cell p...   \n",
       "147             How to change a customer's bill cycle?   \n",
       "334  Do any business wireless plans include a featu...   \n",
       "388                      how to handle echat customers   \n",
       "418                    What if the code is not listed?   \n",
       "421  what are the requirements for porting number t...   \n",
       "\n",
       "                                                answer  article_number  \\\n",
       "78   File a Stolen Device > Device Unblocking Reque...         24653.0   \n",
       "147  Only telecom managers, day-to-day, and decisio...         22356.0   \n",
       "334  AT&T Business Fast Track is available with our...         21757.0   \n",
       "388  Perform a transfer if you receive an incorrect...         12781.0   \n",
       "418  If you are unable to determine the reason for ...         23743.0   \n",
       "421  Port-Out Validation Requirements\\n\\nWhen AT&T ...         13853.0   \n",
       "\n",
       "      filename  BW_TXNMY_GRP_1     BW_TXNMY_GRP_2            BW_TXNMY_GRP_3  \\\n",
       "78     54.json       Equipment            Changes  Lost or Stolen Equipment   \n",
       "147    34.json      Operations  Center Operations             Call Handling   \n",
       "334  2006.json        Services     Wireless Plans                  Business   \n",
       "388  2569.json      Operations  Center Operations             Call Handling   \n",
       "418  1173.json  Bill & Account   Account Handling     Credits & Adjustments   \n",
       "421   313.json  Bill & Account   Orders & Changes                   Porting   \n",
       "\n",
       "                                           init_chunks  in_top_init  \n",
       "78   [(\"Stolen Package\\n\\nIf a customer calls/visit...            1  \n",
       "147  [(\"Requirements & Restrictions\\nBill Availabil...            2  \n",
       "334  [(\"Phone line discount:\\n-$35/mo. account cred...            1  \n",
       "388  [(\"Express in a clear, simple, and professiona...            1  \n",
       "418  [('Customers sometimes encounter payment error...            1  \n",
       "421  [(\"Jump to: Guidelines | Port-Out Procedure |\\...            1  "
      ]
     },
     "metadata": {},
     "output_type": "display_data"
    }
   ],
   "source": [
    "print('Not retrieved from groundtruth source in Exp4:')\n",
    "subset_df_incorrect_4_vs_curr_base = get_df_rows_given_ids(uniq_4_not_in_curr_base, qc_config1_exp4_results_df)\n",
    "display(subset_df_incorrect_4_vs_curr_base)\n",
    "\n",
    "print('Those IDs in Config 1 baseline:')\n",
    "subset_df_curr_base_vs_incorrect_4 = get_df_rows_given_ids(uniq_4_not_in_curr_base, qc_config1_baseline_results_df)\n",
    "display(subset_df_curr_base_vs_incorrect_4)"
   ]
  },
  {
   "cell_type": "markdown",
   "metadata": {},
   "source": [
    "\n",
    "##### 4 questions not retrieved from groundtruth source in exp3 (Cat1+Cat2+Cat3+Query) that were in exp4 (Query+Cat1+Cat2+Cat3)"
   ]
  },
  {
   "cell_type": "code",
   "execution_count": 59,
   "metadata": {},
   "outputs": [
    {
     "name": "stdout",
     "output_type": "stream",
     "text": [
      "Not retrieved from groundtruth source in Exp3:\n"
     ]
    },
    {
     "data": {
      "text/html": [
       "<div>\n",
       "<style scoped>\n",
       "    .dataframe tbody tr th:only-of-type {\n",
       "        vertical-align: middle;\n",
       "    }\n",
       "\n",
       "    .dataframe tbody tr th {\n",
       "        vertical-align: top;\n",
       "    }\n",
       "\n",
       "    .dataframe thead th {\n",
       "        text-align: right;\n",
       "    }\n",
       "</style>\n",
       "<table border=\"1\" class=\"dataframe\">\n",
       "  <thead>\n",
       "    <tr style=\"text-align: right;\">\n",
       "      <th></th>\n",
       "      <th>id</th>\n",
       "      <th>source</th>\n",
       "      <th>bcss_question</th>\n",
       "      <th>answer</th>\n",
       "      <th>article_number</th>\n",
       "      <th>filename</th>\n",
       "      <th>BW_TXNMY_GRP_1</th>\n",
       "      <th>BW_TXNMY_GRP_2</th>\n",
       "      <th>BW_TXNMY_GRP_3</th>\n",
       "      <th>init_chunks</th>\n",
       "      <th>in_top_init</th>\n",
       "    </tr>\n",
       "  </thead>\n",
       "  <tbody>\n",
       "    <tr>\n",
       "      <th>155</th>\n",
       "      <td>10220</td>\n",
       "      <td>Place of Primary Use (PPU).html</td>\n",
       "      <td>How do I explain the PPU address requirements ...</td>\n",
       "      <td>To comply with the Mobile Telecommunications S...</td>\n",
       "      <td>6570.0</td>\n",
       "      <td>3531.json</td>\n",
       "      <td>Bill &amp; Account</td>\n",
       "      <td>Billing &amp; Payments</td>\n",
       "      <td>Charges &amp; Credits</td>\n",
       "      <td>[('New Account\\n\\n\\t\\t\\t\\t\\t\\tBilling for the ...</td>\n",
       "      <td>0</td>\n",
       "    </tr>\n",
       "    <tr>\n",
       "      <th>286</th>\n",
       "      <td>20174</td>\n",
       "      <td>AT&amp;T Internet for Business Call Handling - BCS...</td>\n",
       "      <td>What if a customer has equipment questions reg...</td>\n",
       "      <td>Existing customers &gt; U-verse Business Tech Sup...</td>\n",
       "      <td>3817.0</td>\n",
       "      <td>3266.json</td>\n",
       "      <td>Operations</td>\n",
       "      <td>Center Operations</td>\n",
       "      <td>Call Handling</td>\n",
       "      <td>[('What types of data speeds can customers exp...</td>\n",
       "      <td>0</td>\n",
       "    </tr>\n",
       "    <tr>\n",
       "      <th>299</th>\n",
       "      <td>20189</td>\n",
       "      <td>Handle Request to Port in Number Recently Port...</td>\n",
       "      <td>What if a customer wants to port back in to AT...</td>\n",
       "      <td>Resume 60 Days or More after Cancellation\\nAdv...</td>\n",
       "      <td>24266.0</td>\n",
       "      <td>3403.json</td>\n",
       "      <td>Bill &amp; Account</td>\n",
       "      <td>Orders &amp; Changes</td>\n",
       "      <td>Porting</td>\n",
       "      <td>[(\"What happens if the customer cannot port an...</td>\n",
       "      <td>0</td>\n",
       "    </tr>\n",
       "    <tr>\n",
       "      <th>318</th>\n",
       "      <td>20215</td>\n",
       "      <td>My Promise - BCSS.html</td>\n",
       "      <td>Can I offer an adjustment due to previous poor...</td>\n",
       "      <td>Credit Adjustment Exception Notes: Only offer ...</td>\n",
       "      <td>11997.0</td>\n",
       "      <td>705.json</td>\n",
       "      <td>Operations</td>\n",
       "      <td>Sales Operations</td>\n",
       "      <td>Career</td>\n",
       "      <td>[(\"Adjustments may be input through the 10th o...</td>\n",
       "      <td>0</td>\n",
       "    </tr>\n",
       "  </tbody>\n",
       "</table>\n",
       "</div>"
      ],
      "text/plain": [
       "        id                                             source  \\\n",
       "155  10220                    Place of Primary Use (PPU).html   \n",
       "286  20174  AT&T Internet for Business Call Handling - BCS...   \n",
       "299  20189  Handle Request to Port in Number Recently Port...   \n",
       "318  20215                             My Promise - BCSS.html   \n",
       "\n",
       "                                         bcss_question  \\\n",
       "155  How do I explain the PPU address requirements ...   \n",
       "286  What if a customer has equipment questions reg...   \n",
       "299  What if a customer wants to port back in to AT...   \n",
       "318  Can I offer an adjustment due to previous poor...   \n",
       "\n",
       "                                                answer  article_number  \\\n",
       "155  To comply with the Mobile Telecommunications S...          6570.0   \n",
       "286  Existing customers > U-verse Business Tech Sup...          3817.0   \n",
       "299  Resume 60 Days or More after Cancellation\\nAdv...         24266.0   \n",
       "318  Credit Adjustment Exception Notes: Only offer ...         11997.0   \n",
       "\n",
       "      filename  BW_TXNMY_GRP_1      BW_TXNMY_GRP_2     BW_TXNMY_GRP_3  \\\n",
       "155  3531.json  Bill & Account  Billing & Payments  Charges & Credits   \n",
       "286  3266.json      Operations   Center Operations      Call Handling   \n",
       "299  3403.json  Bill & Account    Orders & Changes            Porting   \n",
       "318   705.json      Operations    Sales Operations             Career   \n",
       "\n",
       "                                           init_chunks  in_top_init  \n",
       "155  [('New Account\\n\\n\\t\\t\\t\\t\\t\\tBilling for the ...            0  \n",
       "286  [('What types of data speeds can customers exp...            0  \n",
       "299  [(\"What happens if the customer cannot port an...            0  \n",
       "318  [(\"Adjustments may be input through the 10th o...            0  "
      ]
     },
     "metadata": {},
     "output_type": "display_data"
    },
    {
     "name": "stdout",
     "output_type": "stream",
     "text": [
      "Those IDs in Exp4:\n"
     ]
    },
    {
     "data": {
      "text/html": [
       "<div>\n",
       "<style scoped>\n",
       "    .dataframe tbody tr th:only-of-type {\n",
       "        vertical-align: middle;\n",
       "    }\n",
       "\n",
       "    .dataframe tbody tr th {\n",
       "        vertical-align: top;\n",
       "    }\n",
       "\n",
       "    .dataframe thead th {\n",
       "        text-align: right;\n",
       "    }\n",
       "</style>\n",
       "<table border=\"1\" class=\"dataframe\">\n",
       "  <thead>\n",
       "    <tr style=\"text-align: right;\">\n",
       "      <th></th>\n",
       "      <th>id</th>\n",
       "      <th>source</th>\n",
       "      <th>bcss_question</th>\n",
       "      <th>answer</th>\n",
       "      <th>article_number</th>\n",
       "      <th>filename</th>\n",
       "      <th>BW_TXNMY_GRP_1</th>\n",
       "      <th>BW_TXNMY_GRP_2</th>\n",
       "      <th>BW_TXNMY_GRP_3</th>\n",
       "      <th>init_chunks</th>\n",
       "      <th>in_top_init</th>\n",
       "    </tr>\n",
       "  </thead>\n",
       "  <tbody>\n",
       "    <tr>\n",
       "      <th>155</th>\n",
       "      <td>10220</td>\n",
       "      <td>Place of Primary Use (PPU).html</td>\n",
       "      <td>How do I explain the PPU address requirements ...</td>\n",
       "      <td>To comply with the Mobile Telecommunications S...</td>\n",
       "      <td>6570.0</td>\n",
       "      <td>3531.json</td>\n",
       "      <td>Bill &amp; Account</td>\n",
       "      <td>Billing &amp; Payments</td>\n",
       "      <td>Charges &amp; Credits</td>\n",
       "      <td>[(\"The federal law requires that state and loc...</td>\n",
       "      <td>2</td>\n",
       "    </tr>\n",
       "    <tr>\n",
       "      <th>286</th>\n",
       "      <td>20174</td>\n",
       "      <td>AT&amp;T Internet for Business Call Handling - BCS...</td>\n",
       "      <td>What if a customer has equipment questions reg...</td>\n",
       "      <td>Existing customers &gt; U-verse Business Tech Sup...</td>\n",
       "      <td>3817.0</td>\n",
       "      <td>3266.json</td>\n",
       "      <td>Operations</td>\n",
       "      <td>Center Operations</td>\n",
       "      <td>Call Handling</td>\n",
       "      <td>[('What types of data speeds can customers exp...</td>\n",
       "      <td>1</td>\n",
       "    </tr>\n",
       "    <tr>\n",
       "      <th>299</th>\n",
       "      <td>20189</td>\n",
       "      <td>Handle Request to Port in Number Recently Port...</td>\n",
       "      <td>What if a customer wants to port back in to AT...</td>\n",
       "      <td>Resume 60 Days or More after Cancellation\\nAdv...</td>\n",
       "      <td>24266.0</td>\n",
       "      <td>3403.json</td>\n",
       "      <td>Bill &amp; Account</td>\n",
       "      <td>Orders &amp; Changes</td>\n",
       "      <td>Porting</td>\n",
       "      <td>[('Customer call-in process\\n\\nLNP activations...</td>\n",
       "      <td>1</td>\n",
       "    </tr>\n",
       "    <tr>\n",
       "      <th>318</th>\n",
       "      <td>20215</td>\n",
       "      <td>My Promise - BCSS.html</td>\n",
       "      <td>Can I offer an adjustment due to previous poor...</td>\n",
       "      <td>Credit Adjustment Exception Notes: Only offer ...</td>\n",
       "      <td>11997.0</td>\n",
       "      <td>705.json</td>\n",
       "      <td>Operations</td>\n",
       "      <td>Sales Operations</td>\n",
       "      <td>Career</td>\n",
       "      <td>[('Functions\\n\\nEmpowerment\\n\\nYou are empower...</td>\n",
       "      <td>1</td>\n",
       "    </tr>\n",
       "  </tbody>\n",
       "</table>\n",
       "</div>"
      ],
      "text/plain": [
       "        id                                             source  \\\n",
       "155  10220                    Place of Primary Use (PPU).html   \n",
       "286  20174  AT&T Internet for Business Call Handling - BCS...   \n",
       "299  20189  Handle Request to Port in Number Recently Port...   \n",
       "318  20215                             My Promise - BCSS.html   \n",
       "\n",
       "                                         bcss_question  \\\n",
       "155  How do I explain the PPU address requirements ...   \n",
       "286  What if a customer has equipment questions reg...   \n",
       "299  What if a customer wants to port back in to AT...   \n",
       "318  Can I offer an adjustment due to previous poor...   \n",
       "\n",
       "                                                answer  article_number  \\\n",
       "155  To comply with the Mobile Telecommunications S...          6570.0   \n",
       "286  Existing customers > U-verse Business Tech Sup...          3817.0   \n",
       "299  Resume 60 Days or More after Cancellation\\nAdv...         24266.0   \n",
       "318  Credit Adjustment Exception Notes: Only offer ...         11997.0   \n",
       "\n",
       "      filename  BW_TXNMY_GRP_1      BW_TXNMY_GRP_2     BW_TXNMY_GRP_3  \\\n",
       "155  3531.json  Bill & Account  Billing & Payments  Charges & Credits   \n",
       "286  3266.json      Operations   Center Operations      Call Handling   \n",
       "299  3403.json  Bill & Account    Orders & Changes            Porting   \n",
       "318   705.json      Operations    Sales Operations             Career   \n",
       "\n",
       "                                           init_chunks  in_top_init  \n",
       "155  [(\"The federal law requires that state and loc...            2  \n",
       "286  [('What types of data speeds can customers exp...            1  \n",
       "299  [('Customer call-in process\\n\\nLNP activations...            1  \n",
       "318  [('Functions\\n\\nEmpowerment\\n\\nYou are empower...            1  "
      ]
     },
     "metadata": {},
     "output_type": "display_data"
    }
   ],
   "source": [
    "print('Not retrieved from groundtruth source in Exp3:')\n",
    "subset_df_incorrect_3_vs_4 = get_df_rows_given_ids(uniq_3_not_in_4, qc_config1_exp3_results_df)\n",
    "display(subset_df_incorrect_3_vs_4)\n",
    "\n",
    "print('Those IDs in Exp4:')\n",
    "subset_df_4_vs_incorrect_3 = get_df_rows_given_ids(uniq_3_not_in_4, qc_config1_exp4_results_df)\n",
    "display(subset_df_4_vs_incorrect_3)"
   ]
  },
  {
   "cell_type": "markdown",
   "metadata": {},
   "source": [
    "##### 4 questions not retrieved from groundtruth source in exp4 (Query+Cat1+Cat2+Cat3) that were in exp3 (Cat1+Cat2+Cat3+Query)"
   ]
  },
  {
   "cell_type": "code",
   "execution_count": 58,
   "metadata": {},
   "outputs": [
    {
     "name": "stdout",
     "output_type": "stream",
     "text": [
      "Not retrieved from groundtruth source in Exp4:\n"
     ]
    },
    {
     "data": {
      "text/html": [
       "<div>\n",
       "<style scoped>\n",
       "    .dataframe tbody tr th:only-of-type {\n",
       "        vertical-align: middle;\n",
       "    }\n",
       "\n",
       "    .dataframe tbody tr th {\n",
       "        vertical-align: top;\n",
       "    }\n",
       "\n",
       "    .dataframe thead th {\n",
       "        text-align: right;\n",
       "    }\n",
       "</style>\n",
       "<table border=\"1\" class=\"dataframe\">\n",
       "  <thead>\n",
       "    <tr style=\"text-align: right;\">\n",
       "      <th></th>\n",
       "      <th>id</th>\n",
       "      <th>source</th>\n",
       "      <th>bcss_question</th>\n",
       "      <th>answer</th>\n",
       "      <th>article_number</th>\n",
       "      <th>filename</th>\n",
       "      <th>BW_TXNMY_GRP_1</th>\n",
       "      <th>BW_TXNMY_GRP_2</th>\n",
       "      <th>BW_TXNMY_GRP_3</th>\n",
       "      <th>init_chunks</th>\n",
       "      <th>in_top_init</th>\n",
       "    </tr>\n",
       "  </thead>\n",
       "  <tbody>\n",
       "    <tr>\n",
       "      <th>78</th>\n",
       "      <td>10099</td>\n",
       "      <td>Device Stolen In Transit (Cannot Find a Delive...</td>\n",
       "      <td>how do i report a stolen package for my cell p...</td>\n",
       "      <td>File a Stolen Device &gt; Device Unblocking Reque...</td>\n",
       "      <td>24653.0</td>\n",
       "      <td>54.json</td>\n",
       "      <td>Equipment</td>\n",
       "      <td>Changes</td>\n",
       "      <td>Lost or Stolen Equipment</td>\n",
       "      <td>[('Email Passwords\\xa0\\n\\t\\t\\t\\t\\t\\t\\t\\t\\t\\n\\t...</td>\n",
       "      <td>0</td>\n",
       "    </tr>\n",
       "    <tr>\n",
       "      <th>133</th>\n",
       "      <td>10182</td>\n",
       "      <td>Correspondence - BCSS.html</td>\n",
       "      <td>What if a customer wants to file a complaint w...</td>\n",
       "      <td>If the customer requests to file a complaint w...</td>\n",
       "      <td>12038.0</td>\n",
       "      <td>1893.json</td>\n",
       "      <td>Operations</td>\n",
       "      <td>Center Operations</td>\n",
       "      <td>Customer Communications</td>\n",
       "      <td>[(\"Area Manager &gt; Director &gt; Regional Vice Pre...</td>\n",
       "      <td>0</td>\n",
       "    </tr>\n",
       "    <tr>\n",
       "      <th>429</th>\n",
       "      <td>50060</td>\n",
       "      <td>Clarify Credits and Adjustments Policy and Sub...</td>\n",
       "      <td>how to process a refund for equipment?</td>\n",
       "      <td>Equipment / Accessory Charge - Return\\nCredit ...</td>\n",
       "      <td>22815.0</td>\n",
       "      <td>97.json</td>\n",
       "      <td>Bill &amp; Account</td>\n",
       "      <td>Account Handling</td>\n",
       "      <td>Credits &amp; Adjustments</td>\n",
       "      <td>[('If the customer is unable to complete the r...</td>\n",
       "      <td>0</td>\n",
       "    </tr>\n",
       "    <tr>\n",
       "      <th>450</th>\n",
       "      <td>50083</td>\n",
       "      <td>Clarify Credits and Adjustments Policy and Sub...</td>\n",
       "      <td>how to process a refund on a closed account?</td>\n",
       "      <td>Using the customer's closed account, submit a ...</td>\n",
       "      <td>22815.0</td>\n",
       "      <td>97.json</td>\n",
       "      <td>Bill &amp; Account</td>\n",
       "      <td>Account Handling</td>\n",
       "      <td>Credits &amp; Adjustments</td>\n",
       "      <td>[(\"The TM issues the appropriate adjustments t...</td>\n",
       "      <td>0</td>\n",
       "    </tr>\n",
       "  </tbody>\n",
       "</table>\n",
       "</div>"
      ],
      "text/plain": [
       "        id                                             source  \\\n",
       "78   10099  Device Stolen In Transit (Cannot Find a Delive...   \n",
       "133  10182                         Correspondence - BCSS.html   \n",
       "429  50060  Clarify Credits and Adjustments Policy and Sub...   \n",
       "450  50083  Clarify Credits and Adjustments Policy and Sub...   \n",
       "\n",
       "                                         bcss_question  \\\n",
       "78   how do i report a stolen package for my cell p...   \n",
       "133  What if a customer wants to file a complaint w...   \n",
       "429             how to process a refund for equipment?   \n",
       "450       how to process a refund on a closed account?   \n",
       "\n",
       "                                                answer  article_number  \\\n",
       "78   File a Stolen Device > Device Unblocking Reque...         24653.0   \n",
       "133  If the customer requests to file a complaint w...         12038.0   \n",
       "429  Equipment / Accessory Charge - Return\\nCredit ...         22815.0   \n",
       "450  Using the customer's closed account, submit a ...         22815.0   \n",
       "\n",
       "      filename  BW_TXNMY_GRP_1     BW_TXNMY_GRP_2            BW_TXNMY_GRP_3  \\\n",
       "78     54.json       Equipment            Changes  Lost or Stolen Equipment   \n",
       "133  1893.json      Operations  Center Operations   Customer Communications   \n",
       "429    97.json  Bill & Account   Account Handling     Credits & Adjustments   \n",
       "450    97.json  Bill & Account   Account Handling     Credits & Adjustments   \n",
       "\n",
       "                                           init_chunks  in_top_init  \n",
       "78   [('Email Passwords\\xa0\\n\\t\\t\\t\\t\\t\\t\\t\\t\\t\\n\\t...            0  \n",
       "133  [(\"Area Manager > Director > Regional Vice Pre...            0  \n",
       "429  [('If the customer is unable to complete the r...            0  \n",
       "450  [(\"The TM issues the appropriate adjustments t...            0  "
      ]
     },
     "metadata": {},
     "output_type": "display_data"
    },
    {
     "name": "stdout",
     "output_type": "stream",
     "text": [
      "Those IDs in Exp3:\n"
     ]
    },
    {
     "data": {
      "text/html": [
       "<div>\n",
       "<style scoped>\n",
       "    .dataframe tbody tr th:only-of-type {\n",
       "        vertical-align: middle;\n",
       "    }\n",
       "\n",
       "    .dataframe tbody tr th {\n",
       "        vertical-align: top;\n",
       "    }\n",
       "\n",
       "    .dataframe thead th {\n",
       "        text-align: right;\n",
       "    }\n",
       "</style>\n",
       "<table border=\"1\" class=\"dataframe\">\n",
       "  <thead>\n",
       "    <tr style=\"text-align: right;\">\n",
       "      <th></th>\n",
       "      <th>id</th>\n",
       "      <th>source</th>\n",
       "      <th>bcss_question</th>\n",
       "      <th>answer</th>\n",
       "      <th>article_number</th>\n",
       "      <th>filename</th>\n",
       "      <th>BW_TXNMY_GRP_1</th>\n",
       "      <th>BW_TXNMY_GRP_2</th>\n",
       "      <th>BW_TXNMY_GRP_3</th>\n",
       "      <th>init_chunks</th>\n",
       "      <th>in_top_init</th>\n",
       "    </tr>\n",
       "  </thead>\n",
       "  <tbody>\n",
       "    <tr>\n",
       "      <th>78</th>\n",
       "      <td>10099</td>\n",
       "      <td>Device Stolen In Transit (Cannot Find a Delive...</td>\n",
       "      <td>how do i report a stolen package for my cell p...</td>\n",
       "      <td>File a Stolen Device &gt; Device Unblocking Reque...</td>\n",
       "      <td>24653.0</td>\n",
       "      <td>54.json</td>\n",
       "      <td>Equipment</td>\n",
       "      <td>Changes</td>\n",
       "      <td>Lost or Stolen Equipment</td>\n",
       "      <td>[('If\\xa0\\xa0\\n\\t\\t\\t\\t\\t\\t\\t\\t\\t\\n\\t\\t\\t\\t\\t\\...</td>\n",
       "      <td>2</td>\n",
       "    </tr>\n",
       "    <tr>\n",
       "      <th>133</th>\n",
       "      <td>10182</td>\n",
       "      <td>Correspondence - BCSS.html</td>\n",
       "      <td>What if a customer wants to file a complaint w...</td>\n",
       "      <td>If the customer requests to file a complaint w...</td>\n",
       "      <td>12038.0</td>\n",
       "      <td>1893.json</td>\n",
       "      <td>Operations</td>\n",
       "      <td>Center Operations</td>\n",
       "      <td>Customer Communications</td>\n",
       "      <td>[(\"Area Manager &gt; Director &gt; Regional Vice Pre...</td>\n",
       "      <td>1</td>\n",
       "    </tr>\n",
       "    <tr>\n",
       "      <th>429</th>\n",
       "      <td>50060</td>\n",
       "      <td>Clarify Credits and Adjustments Policy and Sub...</td>\n",
       "      <td>how to process a refund for equipment?</td>\n",
       "      <td>Equipment / Accessory Charge - Return\\nCredit ...</td>\n",
       "      <td>22815.0</td>\n",
       "      <td>97.json</td>\n",
       "      <td>Bill &amp; Account</td>\n",
       "      <td>Account Handling</td>\n",
       "      <td>Credits &amp; Adjustments</td>\n",
       "      <td>[('To request a prepaid MasterCard:\\n\\nUse Cla...</td>\n",
       "      <td>1</td>\n",
       "    </tr>\n",
       "    <tr>\n",
       "      <th>450</th>\n",
       "      <td>50083</td>\n",
       "      <td>Clarify Credits and Adjustments Policy and Sub...</td>\n",
       "      <td>how to process a refund on a closed account?</td>\n",
       "      <td>Using the customer's closed account, submit a ...</td>\n",
       "      <td>22815.0</td>\n",
       "      <td>97.json</td>\n",
       "      <td>Bill &amp; Account</td>\n",
       "      <td>Account Handling</td>\n",
       "      <td>Credits &amp; Adjustments</td>\n",
       "      <td>[(\"First time refund request - Cancel and refu...</td>\n",
       "      <td>1</td>\n",
       "    </tr>\n",
       "  </tbody>\n",
       "</table>\n",
       "</div>"
      ],
      "text/plain": [
       "        id                                             source  \\\n",
       "78   10099  Device Stolen In Transit (Cannot Find a Delive...   \n",
       "133  10182                         Correspondence - BCSS.html   \n",
       "429  50060  Clarify Credits and Adjustments Policy and Sub...   \n",
       "450  50083  Clarify Credits and Adjustments Policy and Sub...   \n",
       "\n",
       "                                         bcss_question  \\\n",
       "78   how do i report a stolen package for my cell p...   \n",
       "133  What if a customer wants to file a complaint w...   \n",
       "429             how to process a refund for equipment?   \n",
       "450       how to process a refund on a closed account?   \n",
       "\n",
       "                                                answer  article_number  \\\n",
       "78   File a Stolen Device > Device Unblocking Reque...         24653.0   \n",
       "133  If the customer requests to file a complaint w...         12038.0   \n",
       "429  Equipment / Accessory Charge - Return\\nCredit ...         22815.0   \n",
       "450  Using the customer's closed account, submit a ...         22815.0   \n",
       "\n",
       "      filename  BW_TXNMY_GRP_1     BW_TXNMY_GRP_2            BW_TXNMY_GRP_3  \\\n",
       "78     54.json       Equipment            Changes  Lost or Stolen Equipment   \n",
       "133  1893.json      Operations  Center Operations   Customer Communications   \n",
       "429    97.json  Bill & Account   Account Handling     Credits & Adjustments   \n",
       "450    97.json  Bill & Account   Account Handling     Credits & Adjustments   \n",
       "\n",
       "                                           init_chunks  in_top_init  \n",
       "78   [('If\\xa0\\xa0\\n\\t\\t\\t\\t\\t\\t\\t\\t\\t\\n\\t\\t\\t\\t\\t\\...            2  \n",
       "133  [(\"Area Manager > Director > Regional Vice Pre...            1  \n",
       "429  [('To request a prepaid MasterCard:\\n\\nUse Cla...            1  \n",
       "450  [(\"First time refund request - Cancel and refu...            1  "
      ]
     },
     "metadata": {},
     "output_type": "display_data"
    }
   ],
   "source": [
    "print('Not retrieved from groundtruth source in Exp4:')\n",
    "subset_df_incorrect_4_vs_3 = get_df_rows_given_ids(uniq_4_not_in_3, qc_config1_exp4_results_df)\n",
    "display(subset_df_incorrect_4_vs_3)\n",
    "\n",
    "print('Those IDs in Exp3:')\n",
    "subset_df_3_vs_incorrect_4 = get_df_rows_given_ids(uniq_4_not_in_3, qc_config1_exp3_results_df)\n",
    "display(subset_df_3_vs_incorrect_4)"
   ]
  },
  {
   "cell_type": "code",
   "execution_count": 75,
   "metadata": {},
   "outputs": [
    {
     "name": "stdout",
     "output_type": "stream",
     "text": [
      "Init chunks for question 0 in exp 4 (does not reference correct source)\n",
      "000009924: Area Manager > Director > Regional Vice President (RVP) > Office of the President (OOP)Additional Escalation ScenariosPrior to offering any of the following information, always attempt to use probing and problem solving skills to assist the customer and follow the Chain of Command above. Provide the information below if they are adamant.If the CustomerThenRequests to file a complaint against AT&T with the Federal Communications Commission (FCC)Direct the customer to go to the site for additional information.Wants to write a letter to your manager, director, or president of the company concerning a negative experience or unresolved situationProvide the following written correspondence address to BCS customers:PO Box 1809Paramus, NJ 07653Wants to write a letter to your manager, director, or president of the company concerning a positive experience.Offer to transfer the customer to your team manager's voicemail.Provide the address for executive complaints if the customer insists on sending a letter.Ask the customer to address the letter to your team manager's attention.Thank the customer for taking the time to write the letter.Wants to write an e-mail to your manager, director, or president of the company concerning a negative experience or unresolved situationProvide your team manager's e-mail address if the customer insists on sending a letter.Wants to write an e-mail to your manager, director, or president concerning a positive experience.\n",
      "\n",
      "000006612: If the issue is one you cannot resolve on your own, follow normal escalation procedures.Offer to escalate their concern to a manager, so they can resolve the issue.Suggested verbiageApologize and express empathy for the previous experience.Assure them we take pride in our customer service.Ask if they would like to give their feedback directly to a manager and, if yes:May I place you on hold for a moment while I contact my manager?The manager taking the call should forward the appropriate feedback to the manager of the employee identified in the customer's complaint.Caller requests to cancel service (postpaid)Transfer cancellation requests to the Customer Loyalty Team (CLT) using the Directory Tool, unless the caller requests a manager. In those cases, engage a manager/lead to handle the escalation.PSC: Enterprise customers should be transferred to BMSC.Managers/Leads: If you are handling an escalated issue, and the customer requests to cancel, do not transfer to CLG. Retain ownership of the call and resolve the issue.Executive complaint escalationExecutive complaints occur when a caller mentions routing an issue to an outside state or federal agency, such as the president of the company or the person in charge.Handle these calls with extra care to ensure AT&T's fourth \"R,\" our Reputation, is upheld.Examples of executive complaints include, but are not limited to:The Attorney GeneralThe Federal Communications Commission (FCC)\n",
      "\n",
      "000009501: The Android Market, Windows Marketplace, iTunes, and BlackBerry App World offer more than 100 applications to block unwanted phone calls.Non-Application OptionsCustomers can set up Call Forwarding rules within their device. Assist the customer with set-up by accessing Device Support > Calling Features > Call Forwarding.Use a secondary incoming call number, such as a number provided by Google Voice. This method redirects incoming calls to an unassigned number, home phone, or voicemail.Manage call blocking onlineAdd or Remove Numbers from Your Blocked ListAdditional InformationCustomers can block telemarketing calls by registering their number with the FCC's Do Not Call list at donotcall.gov. Registrations need only be made once and don't expire.Telemarketers are required to update their Do Not Call lists, but it may take up to a month before companies complete the update. After this month passes, complaints can be filed with the FCC at esupport.fcc.gov/complaints.htm.For issues with harassing calls, threatening calls, or most other unwanted contact, see Do Not Call / Do Not Solicit (DNS) / Unwanted Contact for customer options.\n",
      "\n",
      "000035504: Jump to: Federal Regulatory Contact | State Regulatory InformationFederal Regulatory ContactThe Federal Communications Commission (FCC) has jurisdiction over Interstate telephone service. To ask a question or find out how to file a complaint, customers can contact the FCC as follows:1-888-CALL-FCC (888.225.5322)TTY: 1-888-TELL-FCC (888.835.5322)Federal Communications Commission445 12th St SWWashington, DC 20554State Regulatory InformationA customer can file a complaint only in the state where their telephone service is located. Prepare the customer to provide the following information to the appropriate Public Service Commission (PSC):Name, address, phone number impacted, contact numberNames of carriers involvedDate alleged incident occurredNames, phone numbers, dates of all contacts, bill copies, paid/unpaid chargesUtility Commission Contact InformationSelect the appropriate state below to provide the complete contact information to your customer:AlabamaAddressOther Contact InformationAdditional DetailsAL Public Service CommissionPO Box 304260100 N Union StRSA Union Suite 836Montgomery, AL 36104www.psc.stat.al.us/800.392.8050DNC concerns only: https://www.donotcall.gov/\n",
      "\n",
      "000006612: Handle these calls with extra care to ensure AT&T's fourth \"R,\" our Reputation, is upheld.Examples of executive complaints include, but are not limited to:The Attorney GeneralThe Federal Communications Commission (FCC)The Better Business BureauThe Public Utilities CommissionAn executive officer of AT&TThe employee notifies their manager/team lead immediately. Notify any member of management available in the center if your direct manager/team lead is not available. Failing to escalate internally in these scenarios often results in a legal or regulatory complaint.Provide the manager/lead with details regarding attempts made to resolve the issue.Continue through the escalation chain of command.Refer to a manager/lead if the caller is insistent on contacting an agency or an executive. Do not provide the telephone numbers to external agencies.When to use manager in 60 processThe customer requests a manager and declines your offer of assistance.You have an issue or situation you cannot resolve without manager assistance, such as a manager override.If an AT&T Signature Program customer has more than 20 active CTNs and refuses to place an order online or go to a Retail store, seek assistance from a manager to place an order.The customer threatens legal action against AT&T, and a manager is not readily available.\n",
      "\n",
      "000006612: If an AT&T Signature Program customer has more than 20 active CTNs and refuses to place an order online or go to a Retail store, seek assistance from a manager to place an order.The customer threatens legal action against AT&T, and a manager is not readily available.Executive Complaints* - The customer mentions contacting a regulatory agency or an executive officer of the company such as:The Attorney GeneralThe FCCThe Better Business BureauThe Public Utilities CommissionAn executive officer of AT&T, such as the President or Chief Executive OfficerExecutive complaints occur when a caller mentions routing an issue to an outside state or federal agency, such as the president of the company or the person in charge. Handle these calls with extra care to uphold our reputation. The details of the escalation need to be immediately relayed to a team manager. Failing to escalate internally in these scenarios often results in a legal or regulatory complaint.Chain of command - consumer postpaidWhen handling consumer postpaid escalations:ExpertMake every attempt to resolve the issue. If unable to resolve, involve a manager/lead.Manager/leadIf still unable to resolve the caller's issue, continue to follow the chain of command to the left.Area ManagerDirectorAVPOOPOOP is the final authority in the chain of command. They use their resources to come to a final resolution for the customer.Chain of command - AT&T prepaidWhen handling AT&T PREPAID escalations:\n",
      "\n",
      "000006612: Escalation tipsWhen callers request to speak with a manager:Attempt to identify and resolve the issue:Empathize with the caller.Listen attentively to the complaint and do not interrupt.Review the account notes.Ask probing questions to ensure understanding of the issue.Take the appropriate steps to correct the issue.If the caller insists on speaking with a manager:Escalate the call to your direct manager/team lead or Centralized Support Desk.Provide your direct manager/team lead or Centralized Support Desk with information regarding the escalation and the issue.If your direct manager/team lead is not available, locate a back-up manager/team lead with the same level of authority.If there are no managers available to handle the escalation, continue through the Chain of Command to locate someone available to speak with the caller.If no one is available to speak with the customer, ask the customer for the best callback time.The following information and a PRT ticket is used to send to a supervisor.Customers nameCTNBest call back timeCall back reasonThe supervisor will call the customer at the preferred time, or before 9 pm local time and dispositions the call in the account notes.Do not provide customers with contact information from WebPhone.For complaints about other departments, take ownership of the complaint and come to an agreeable resolution.Handling internal complaintsExperts or authorized retailers\n",
      "\n",
      "000006612: Team Manager/FSR/EquivalentIf they are unable to resolve the issue, involve an area manager.Area ManagerIf they are unable to resolve the issue, involve a director.DirectorIf unable to resolve, involve the Executive Response Team (ERT).ERTThe final authority is in the chain of command.Strategic partnerContactEscalation processMake every attempt to resolve the customer's issue. If you are unable to resolve the issue:ExpertInvolve a team manager.Team ManagerConvergys sites: Utilize Resolution Desk first.Involve an area manager.Area ManagerInvolve BCS Call Center Site Director.Call Center Site DirectorInvolve BCS Vendor Operations.Vendor Operations ManagerInvolve BCS Director. The BCS Director may engage other functions/ERT.ERTThe final authority is in the chain of command. ERT only accepts escalations from directors and above.Company official use (COU) escalationsRefer all other requests to the COU Web site to avoid violating AT&T's Code of Business Conduct.Employee Mobility Offer (EMO) escalationsBMSC experts can only assist Employee Mobility Offer (E.M.O.) callers with the following:Technical service-impacting issues that prevent a customer from making/receiving calls when an account is in good standing (including SIM issues/swaps).Suspending a lost/stolen phone.Accepting payment in full on the account.\n",
      "\n",
      "000006612: For complaints about other departments, take ownership of the complaint and come to an agreeable resolution.Handling internal complaintsExperts or authorized retailersIf you have an expert/authorized retailer who wishes to escalate on behalf of the customer, verify the account following normal procedures:Consumer accounts: Verify the account according to Account Access - OPUS (link not accessible to CS - Prepaid and Credit & Activations).AT&T Prepaid accounts: Refer to AT&T Prepaid Account Access Policy (link not accessible to C&A, BCS, RST, and RS - Internal).Business accounts: Verify the account according to Account Verification Process - BCSSExpert complaintIf your caller wants to complain about a previous expert:Apologize for any misunderstanding or issue the customer may have experienced.Assure the customer you will take ownership of the issue; come to a mutually agreeable resolution to the issue.If the issue is one you cannot resolve on your own, follow normal escalation procedures.Offer to escalate their concern to a manager, so they can resolve the issue.Suggested verbiageApologize and express empathy for the previous experience.Assure them we take pride in our customer service.\n",
      "\n",
      "000006612: ESCALATION TIPSHANDLING INTERNAL COMPLAINTSEXECUTIVE COMPLAINTWHEN TO USE THE MANAGER IN 60 PROCESSCHAIN OF COMMAND - POSTPAIDCHAIN OF COMMAND - AT&T PREPAIDCHAIN OF COMMAND - BCSCOU ESCALATIONSE.M.O. ESCALATIONSWRITTEN CORRESPONDENCELIVE ESCALATIONSImportant informationAll escalations are to be handled live.Do not refer customers to the Notice of Dispute policy.Do not provide any physical mailing address for Office of the President (OOP).Make sure to use the appropriate escalation path and policy for the customer's issue.Managers/Leads: If you are handling an escalated issue, and the customer requests to cancel, do not transfer to CLG. Retain ownership of the call and resolve the issue.Never deny a customer the opportunity to speak with a manager; however, make every reasonable effort to resolve the issue to the customer's satisfaction before you escalate.Escalation tipsWhen callers request to speak with a manager:Attempt to identify and resolve the issue:Empathize with the caller.Listen attentively to the complaint and do not interrupt.Review the account notes.Ask probing questions to ensure understanding of the issue.Take the appropriate steps to correct the issue.\n",
      "\n",
      "000003347: Escalate anything outside these guidelines to your TM or FSR.Callback Time ExceptionsOccasionally, a customer's issue may be of such a priority that they want to be contacted outside of the mandated callback hours defined by the FCC to confirm issue resolution; for Data or Technical cases only, offer the customer a contact if that is the case.Suggested Verbiage:FCC guidelines indicate that customer callbacks can only take place between 8:00 a.m. - 9:00 p.m. within the customer's time zone. With your permission, I can leave a note on this case to indicate that you would like to be called back after hours to confirm your issue is resolved. What time frame is convenient for us to contact you back once your issue is resolved?The customer's preference must be clearly indicated in the notes of the case using the following noting guidelines:**ENTERPRISE CUSTOMER**- Customer has requested to be contacted after regular callback hours for confirmation of issue resolution. Customer has requested to be contacted between the hours of [x:xx - xx:xx]Customer ExpectationsComplete cases by the expected resolution date calculated in Clarify. Provide the customer with the Clarify Expected Resolution Date.Heads Up: This does not apply to Data/Technical Cases filed by MTS. See Case Filing Procedures.\n",
      "\n",
      "000007128: Difficult situationsIt is never easy to talk with an upset customer. Everyone experiences sensitive situations and the techniques for working through them effectively. You are the expert.Situations to avoidNot acknowledging the customer's concernTaking comments/complaints personallySounding unconcerned, pacifying, or glossing over the reason they are upsetDenying responsibilityBefore your customer hears your explanation, they need to hear you acknowledge that they're upset.Remember, it is nothing personal towards you; stay professional.Communicating with empathy is key.Do not play the blame game.You are the voice of AT&T—Own it!Defusing an angry customerTo defuse is to reduce the danger or tension in a difficult situation. De-escalating the situation encompasses listening, taking ownership, and showing empathy—all while maintaining professionalism.1. Acknowledge.Use active listening skills to make sure you hear the true issue and acknowledge the reason your customer is upset.Paraphrase it back: Listen to your customer.Validation: Get an agreement statement that puts you both on the same page. Have I got that right?Empathy: Express understanding. Let the customer know you understand their issue or concern.2. Empathize.During a difficult situation, it is important to feel your customer's pain or frustration (to an extent).\n",
      "\n",
      "000010284: It is the customer's responsibility to submit for funding by the designated date.Until USAC or the State approves the request for funding, the customer is responsible for paying their invoice in full each month.Once approved for funding, the customer is responsible for paying the non-discounted portion of the bill.If the customer disputes the late payment fees, contact RECO to find out the status of funding. Waive the late payment fee, if due to issues outside the customer's control.AppealsCustomers may indicate they have filed an appeal regarding a funding decision with the USAC or FCC.Since the customer's dispute is with the USAC or FCC, not AT&T, they are responsible for paying all invoices during the appeal process. If the appeal process results in funding, the customer will be eligible for a refund of any over payment on their account.Important FCC DocumentsUSF applicants/recipients are required to pay the non-discount portion of the cost of the goods and services to their service provider(s). The following FCC Orders speak to the applicants ability to pay and requirement to pay their portion in a timely manner.The FCC in the First Report and Order FCC97-157 (released May 8, 1997, page 261) states that requiring applicants to pay their share would ensure efficiency and accountability in the program.\n",
      "\n",
      "000022388: Rules for Media InquiriesWhen a manager is unavailable to handle the inquiry, assist the customer using manager guidelines.Customer has a reporter on the lineUse the Clarify Commitment process to have the customer's issue researched. Assure them everything possible will be done to resolve their issue.Refer the reporter to the AT&T Media Inquiries page.Customer threatens to go to the mediaAttempt to resolve the issue.If they indicate they are still planning to contact the media, contact your manager for assistance in resolving the issue and follow normal escalation paths.Inquiries about a network outageWhen discussing network outages, remember the customer could be a member of the media. Respond: AT&T is aware that some customers might be experiencing service interruptions and is working to resolve this as quickly as possible.Note: Follow the appropriate network troubleshooting processes for your channel.Reporter asks for informationRespond quickly and positively to their request by referring to the appropriate AT&T Media Inquiries page. Never transfer customers to Media contacts.Provide them the website URL: http://about.att.com/sites/media_contacts.Never answer questions.Never say No Comment.If pressed, respond again that you are not the appropriate person to speak with.Do not offer comments off the record. Anything you tell a reporter can find its way into a story.Handling Customer Inquiries on Breaking News\n",
      "\n",
      "000035514: At times, AT&T receives court orders to shut down accounts and blacklist mobile devices associated with contraband use within prison systems.Once a customer's CTN is identified by the Federal Communications Commission (FCC) as being in violation of the contraband usage, the FCC then contacts AT&T to act.The AT&T Global Legal Demand Center Team (GLDC) will place the customer's CTN on a blacklist & deactivate the CTN, per regulations outlined via the FCC.The GLDC Team then communicates & works in partnership with the Global Fraud Management Office (GFMO) to place notes on the customer's account.If a customer should call inquiring about their device being shut down, follow the process outlined below.ProcessAgents should read the notes on the customer's account thoroughly. The notes are located within the Case Notes, as well as in the Special Instructions Section (i.e., located on the Financial Summary Tab). Based on the notes, refer the end user to the correct authority, based on information within the account notes. Attention: The notes will be different for each customer, and information will be highlighted in red based on the date of the offense, GLDC File Code number & GFMO Incident number.Example Case Notes\n",
      "\n",
      "000030207: Unregistered Carrier BlockingAT&T customers will not receive calls from carrier networks that have not registered with the FCC.For calls that are blocked, AT&T customer phones will not ring, and their call log will not show the call.AT&T customers will be able to make calls to carriers whose incoming calls are blocked.  Text Messaging is not impacted.What This Means to YouCustomers may call in / visit a store and say 'I'm not receiving calls from…'.  Resolution:  Advise customers the following:We're sorry you did not receive the call from {insert caller name]The reason may be that {inset caller name} carrier has not registered with the FCC as required by recent regulation.Regulations/Mandates are to prevent spamming and require carriers to register with the FCC for calls to be connected.If you know {insert caller name} carrier, have them contact their carrier to check if they are registered or not with the FCC.  To Learn more about the FCC Mandate, you can visit Combating Spoofed Robocalls with Caller ID Authentication | Federal Communications Commission (fcc.gov)\n",
      "\n",
      "000001256: Receive automatic fraud blocking, which detects and blocks potential fraud calls before they reach you.See a list of blocked calls in the app.Use the AT&T ActiveArmor Mobile Security app (att.com) for steps on how to download and activate the app.Customer resourcesAT&T Privacy Center (att.com/fraud) Post call notification (PCN) URL:  privacy.htmlFraud & Security Resources - AT&T Support (att.com)PCN URL:  support/how-to/fraud-and-security/Get Info About the Latest Frauds and Scams - AT&T Wireless Customer Support (att.com)PCN URL:  support/article/wireless/KM1159567AT&T Cyber Aware | Fraud Prevention & Cybersecurity Program (att.com)PCN URL:  pages/cyberawarePhone Form - Descriptions of Complaint Issues – FCC ComplaintUse the AT&T ActiveArmor Mobile Security app (att.com)PCN URL:  support/article/wireless/KM1147710The customer must consent.See Sending post call notifications via TORCH.If the customer consents, go to Send Text > All under Category > att.com under Message > paste the PCN URL into the URL field.Fraud reporting procedures\n",
      "\n",
      "000033627: Feedback is a means to make the experience better for our customers and us!  You cannot correct what you do not know is wrong! Feedback in the tool is not anonymous; there is no reprisal for providing your feedback.Handling Non-AT&T CustomerHandling Non-AT&T Customer InquiriesDo not express an opinion, criticize or disparage the competitor to a customerFollow masking/unmasking sales and process proceduresDiscuss and handle adjustments only for any billing errors or service problems that are on the AT&T bill and occurred while this customer was an AT&T customerAdvise the customer to contact his/her provider“[Preferred Name], I regret that I am unable to assist you with that information. You will need to contact your current provider to resolve your issue.”Call Quality StandardsAdhere to 2023 Our Promise Call Quality StandardsOur Promise Call Quality Standards\n",
      "\n",
      "000012648: Ask how you can help and display an I can help you with that attitude.During calls, agents must summarize/recap reason for customer call. For example, Mr. Jones, I'm happy to review your bill with you today and answer the questions you have about your late fee.Call ConductBe professional while using a Positive, Warm friendly tone throughout the call. Avoid interrupting or overtalking customer.Always call customer by their name.Use proper hold courtesy.Give your undivided attention.Uncover Needs\n",
      "\n",
      "000037343: FAQFCC rules allow AT&T to take pre-orders prior to FCC certification if we notify the customer that device certification is pending, that we cannot send the device until it is certified, and other information. Will I be notified if the device is not certified?Yes. You will receive a cancellation notice, your order will be canceled automatically, and your credit card will not be charged. You can then choose another device with a new order.Why hasn’t the FCC certified the device yet?This is a result of the timing of the process only, and not a reflection on the performance of the device. How long will you hold my order waiting for device certification before it’s cancelled?There are various reasons for orders to be cancelled, including being reserved for extended times. If your order is canceled, we will contact you and advise on how to respond.\n",
      "\n"
     ]
    }
   ],
   "source": [
    "# print(subset_df_incorrect_4_vs_3['init_chunks'].to_list()[0])\n",
    "print('Init chunks for question 0 in exp 4 (does not reference correct source)')\n",
    "print_subset_df_init_chunks_by_index(subset_df_incorrect_4_vs_3, 1)"
   ]
  },
  {
   "cell_type": "code",
   "execution_count": 77,
   "metadata": {},
   "outputs": [
    {
     "name": "stdout",
     "output_type": "stream",
     "text": [
      "Init chunks for question 1 in exp 3 (references correct source)\n",
      "000009924: Area Manager > Director > Regional Vice President (RVP) > Office of the President (OOP)Additional Escalation ScenariosPrior to offering any of the following information, always attempt to use probing and problem solving skills to assist the customer and follow the Chain of Command above. Provide the information below if they are adamant.If the CustomerThenRequests to file a complaint against AT&T with the Federal Communications Commission (FCC)Direct the customer to go to the site for additional information.Wants to write a letter to your manager, director, or president of the company concerning a negative experience or unresolved situationProvide the following written correspondence address to BCS customers:PO Box 1809Paramus, NJ 07653Wants to write a letter to your manager, director, or president of the company concerning a positive experience.Offer to transfer the customer to your team manager's voicemail.Provide the address for executive complaints if the customer insists on sending a letter.Ask the customer to address the letter to your team manager's attention.Thank the customer for taking the time to write the letter.Wants to write an e-mail to your manager, director, or president of the company concerning a negative experience or unresolved situationProvide your team manager's e-mail address if the customer insists on sending a letter.Wants to write an e-mail to your manager, director, or president concerning a positive experience.\n",
      "\n",
      "000005579: AT&T order recapEffective September 2019, improvements were made to the CSS (in OPUS for Consumer and Signature Customers), which improved the customer experience for billing expectations with easy to read/use information by placing the AT&T Order Recap section at the front of the document. The Order Recap section is a quick, simple summary of the transaction. The AT&T Order Recap was built based on your and your customers’ feedback on what was needed to explain or understand the changes to their billing. Check out the new samples and job aid for more information.Feature the AT&T Order Recap during your billing expectation-setting discussions about how the transaction they completed impacts their billing:Cover each segment to help the customer understand what was completed that day, what’s being installed (if relevant), the bottom line to their bill, how their first (new customers only) or next (existing customers) bill will look and why, how their ongoing (all customers) bill will look and why, and any important information they need to know.And the following pages of the CSS are there for any additional details they need.Use what you uncovered in the “Understand” and “Confirm” step of the Promise and the AT&T Order Recap/CSS to effortlessly execute the “Educate” step.Reference the CSS Job Aid for details.Customer Service Summary by channel\n",
      "\n",
      "000022388: Rules for Media InquiriesWhen a manager is unavailable to handle the inquiry, assist the customer using manager guidelines.Customer has a reporter on the lineUse the Clarify Commitment process to have the customer's issue researched. Assure them everything possible will be done to resolve their issue.Refer the reporter to the AT&T Media Inquiries page.Customer threatens to go to the mediaAttempt to resolve the issue.If they indicate they are still planning to contact the media, contact your manager for assistance in resolving the issue and follow normal escalation paths.Inquiries about a network outageWhen discussing network outages, remember the customer could be a member of the media. Respond: AT&T is aware that some customers might be experiencing service interruptions and is working to resolve this as quickly as possible.Note: Follow the appropriate network troubleshooting processes for your channel.Reporter asks for informationRespond quickly and positively to their request by referring to the appropriate AT&T Media Inquiries page. Never transfer customers to Media contacts.Provide them the website URL: http://about.att.com/sites/media_contacts.Never answer questions.Never say No Comment.If pressed, respond again that you are not the appropriate person to speak with.Do not offer comments off the record. Anything you tell a reporter can find its way into a story.Handling Customer Inquiries on Breaking News\n",
      "\n",
      "000005078: Phone or email.The inter-carrier incoming number and email address to the ROC are pieces of information distributed to the GSM industry via documents, such as the IR.21 or AA.14. Roaming providers use the contact information to reach the ROC for all roaming issues and problems.OrganizationThere are three sub-teams within the ROC.TeamResponsibilitiesVoice teamThe team handles all roaming subscriber complaints for voice troubles, such as being unable to make calls or having voicemail issues. They work on issues experienced within the domestic U.S. or an international location.This includes AT&T subscribers roaming outbound on another network and a roaming partner subscriber utilizing the AT&T network.Data teamThe team handles all roaming subscriber complaints for data troubles, such as being unable to browse the internet and having email issues. This includes AT&T subscribers roaming outbound on another network and a roaming partner subscriber utilizing the AT&T network.Proactive teamThe team monitors AT&T's connections to all roaming providers to identify network issues that impact roaming subscribers.\n",
      "\n",
      "000012038: Heads up: Do not provide the correspondence address for customer escalations, including requests to contact the Office of the President. Follow the appropriate escalation path found in the Procedures section.Correspondence is any written form of communication to AT&T, including customers writing their change of address request on the back of a remittance slip.Vendor center reps are not authorized to provide the correspondence address. Offer to transfer the customer to your manager's voice mail.Our National Correspondence Team has the same level of authority as representatives:Not intended to take the place of managementCorrespondence address:Consumer/SIGAT&TPO Box 5074Carol Stream, IL 60197-5074Fax: 314.242.0792CRUAttn: Business Correspondence221 Venture WayLafayette, LA 70507 Fax: 314.242.1000Link to Job Aid FCC Complaint or Requests to Speak With Manager/Area Manager/DirectorIf the customer requests to file a complaint with the Federal Communications Commission (FCC), or while asking to speak with a manager/area manager/director, agrees to allow you to assist:Actively listen to understand the customer's concern.Provide the customer with a resolution.If the customer does not allow you to assist:Ask to place on hold.Contact the Resolution Desk:Centers without Resolution Desks: Contact a manager.Forwarding AddressesTypes of CorrespondenceAddress1099sAT&T1025 Lenox Park Blvd NEAtlanta, GA 30319-5309\n",
      "\n",
      "000007128: Difficult situationsIt is never easy to talk with an upset customer. Everyone experiences sensitive situations and the techniques for working through them effectively. You are the expert.Situations to avoidNot acknowledging the customer's concernTaking comments/complaints personallySounding unconcerned, pacifying, or glossing over the reason they are upsetDenying responsibilityBefore your customer hears your explanation, they need to hear you acknowledge that they're upset.Remember, it is nothing personal towards you; stay professional.Communicating with empathy is key.Do not play the blame game.You are the voice of AT&T—Own it!Defusing an angry customerTo defuse is to reduce the danger or tension in a difficult situation. De-escalating the situation encompasses listening, taking ownership, and showing empathy—all while maintaining professionalism.1. Acknowledge.Use active listening skills to make sure you hear the true issue and acknowledge the reason your customer is upset.Paraphrase it back: Listen to your customer.Validation: Get an agreement statement that puts you both on the same page. Have I got that right?Empathy: Express understanding. Let the customer know you understand their issue or concern.2. Empathize.During a difficult situation, it is important to feel your customer's pain or frustration (to an extent).\n",
      "\n",
      "000007623: Can the customer log onto their myAT&T account and see their CSS?Yes, for Consumer/Signature Program customers only, myAT&T displays the most current CSS, as well as the original contractual CSS for all lines on the account.For all wireless:    Sign into myAT&T    Click on Settings    Select Customer service summary For all other services:    Go to Profile and then Sign-in info.    Look in the My linked accounts section and select See recent order details (customer service summary).Currently, business customers are not able to access myatt.com to view their CSS.  If the customer would like a copy of their CSS, they must visit a retail store to have one printed out.What if my customer does not have access to email or a computer and wants a copy of the CSS?AT&T does not send re-printed CSS's via U.S. mail. Direct the customer to an AT&T Retail store and a representative can print the most recent CSS.Representative FAQWhy do the taxes and fees on the CSS bill estimation seem high?Due to system limitations, the CSS is only able to calculate taxes at the highest local rate. For example, in California local taxes range from 0-11%. The CSS uses the 11% tax rate for all residents of California, therefore the CSS taxes may be higher for residents with lower local tax rates. Make the customer aware that the CSS taxes and fees are only estimates and AT&T uses the highest local tax rate for calculations; see bill for actual charges.\n",
      "\n",
      "000001256: Receive automatic fraud blocking, which detects and blocks potential fraud calls before they reach you.See a list of blocked calls in the app.Use the AT&T ActiveArmor Mobile Security app (att.com) for steps on how to download and activate the app.Customer resourcesAT&T Privacy Center (att.com/fraud) Post call notification (PCN) URL:  privacy.htmlFraud & Security Resources - AT&T Support (att.com)PCN URL:  support/how-to/fraud-and-security/Get Info About the Latest Frauds and Scams - AT&T Wireless Customer Support (att.com)PCN URL:  support/article/wireless/KM1159567AT&T Cyber Aware | Fraud Prevention & Cybersecurity Program (att.com)PCN URL:  pages/cyberawarePhone Form - Descriptions of Complaint Issues – FCC ComplaintUse the AT&T ActiveArmor Mobile Security app (att.com)PCN URL:  support/article/wireless/KM1147710The customer must consent.See Sending post call notifications via TORCH.If the customer consents, go to Send Text > All under Category > att.com under Message > paste the PCN URL into the URL field.Fraud reporting procedures\n",
      "\n",
      "000002800: discussed, and whether the device is present (only if issue is device-related).Suggested Verbiage: Hi, this is [Representative Name] from [Department Name]. I have a customer, [Preferred Customer Name], from [Company Name], who is our [Select Customer Service or Dedicated Customer Service] customer. We are calling for [customer issue].Introduce the customer to the receiving representative.Suggested Verbiage: [Preferred Customer Name], thank you for holding. [Receiving Representative Name] is really great at resolving this kind of issue. I have explained everything we've discussed and I'll remain on the line with you while they work to resolve your issue.\n",
      "\n",
      "000006612: ESCALATION TIPSHANDLING INTERNAL COMPLAINTSEXECUTIVE COMPLAINTWHEN TO USE THE MANAGER IN 60 PROCESSCHAIN OF COMMAND - POSTPAIDCHAIN OF COMMAND - AT&T PREPAIDCHAIN OF COMMAND - BCSCOU ESCALATIONSE.M.O. ESCALATIONSWRITTEN CORRESPONDENCELIVE ESCALATIONSImportant informationAll escalations are to be handled live.Do not refer customers to the Notice of Dispute policy.Do not provide any physical mailing address for Office of the President (OOP).Make sure to use the appropriate escalation path and policy for the customer's issue.Managers/Leads: If you are handling an escalated issue, and the customer requests to cancel, do not transfer to CLG. Retain ownership of the call and resolve the issue.Never deny a customer the opportunity to speak with a manager; however, make every reasonable effort to resolve the issue to the customer's satisfaction before you escalate.Escalation tipsWhen callers request to speak with a manager:Attempt to identify and resolve the issue:Empathize with the caller.Listen attentively to the complaint and do not interrupt.Review the account notes.Ask probing questions to ensure understanding of the issue.Take the appropriate steps to correct the issue.\n",
      "\n",
      "000033627: Feedback is a means to make the experience better for our customers and us!  You cannot correct what you do not know is wrong! Feedback in the tool is not anonymous; there is no reprisal for providing your feedback.Handling Non-AT&T CustomerHandling Non-AT&T Customer InquiriesDo not express an opinion, criticize or disparage the competitor to a customerFollow masking/unmasking sales and process proceduresDiscuss and handle adjustments only for any billing errors or service problems that are on the AT&T bill and occurred while this customer was an AT&T customerAdvise the customer to contact his/her provider“[Preferred Name], I regret that I am unable to assist you with that information. You will need to contact your current provider to resolve your issue.”Call Quality StandardsAdhere to 2023 Our Promise Call Quality StandardsOur Promise Call Quality Standards\n",
      "\n",
      "000023116: FirstNet Offline support team gets emails weekly from the Security Operations Center (SOC) personnel when network logs alert for a device.SOC team engages FirstNet offline to assist in customer identification and communication due to pending software updates for non-voice devices.The FirstNet Offline team should take the following steps below to complete the action to send the communication to the administrator for action on the device.Identify the CTN causing the error and identify the BAN included.Identify the Administrator (in ICAM or in FAST) for the FAN on the BAN.Forward the email to the Admin on file and BLIND COPY (BCC) the SOC team memberClose the KANA case back to the SOC team.Do not suspend the line unless instructed to do so by the SOC or Fraud team.⇠ RETURN TO FIRSTNET SUPPORT - VOICE AND OFFLINE PROCEDURES\n",
      "\n",
      "000006612: Escalation tipsWhen callers request to speak with a manager:Attempt to identify and resolve the issue:Empathize with the caller.Listen attentively to the complaint and do not interrupt.Review the account notes.Ask probing questions to ensure understanding of the issue.Take the appropriate steps to correct the issue.If the caller insists on speaking with a manager:Escalate the call to your direct manager/team lead or Centralized Support Desk.Provide your direct manager/team lead or Centralized Support Desk with information regarding the escalation and the issue.If your direct manager/team lead is not available, locate a back-up manager/team lead with the same level of authority.If there are no managers available to handle the escalation, continue through the Chain of Command to locate someone available to speak with the caller.If no one is available to speak with the customer, ask the customer for the best callback time.The following information and a PRT ticket is used to send to a supervisor.Customers nameCTNBest call back timeCall back reasonThe supervisor will call the customer at the preferred time, or before 9 pm local time and dispositions the call in the account notes.Do not provide customers with contact information from WebPhone.For complaints about other departments, take ownership of the complaint and come to an agreeable resolution.Handling internal complaintsExperts or authorized retailers\n",
      "\n",
      "000007623: Does a CSS generate for AT&T initiated changes?Yes. If AT&T initiated a change to a customer's rate plan, then a CSS for this transaction is generated and sent on the day the change was made. The CSS will indicate that the changes made to the customer's rate plan were initiated by AT&T.Is the CSS created in braille for our vision-impaired customers? Yes. To request a CSS in braille or large print to be created and mailed to the customer, contact the National Center for Customers with Disabilities (NCCD) at 866.241.6568.\n",
      "\n",
      "000005078: OverviewThe roaming operations center (ROC) handles roaming-related issues for United States (US) and international global system for mobile communications (GSM) technologies.The ROC primarily addresses network-related issues that require tools, training, and/or skill sets not available to call center technical support teams.Additional informationHours of operation5 am to 8 pm ET, Monday - Friday7 am to 6 pm ET, SaturdayOn-call support for after hours and emergenciesContact informationThe ROC has no direct phone number and receives customer roaming trouble tickets via AT&T one ticketing sytem (AOTS) Mobility from customer-facing teams across AT&T.Work processROC receives work from three separate sources.Trouble tickets (Clarify cases or AOTS Mobility).Tickets are received from technical support groups for roaming issues that cannot be resolved using the center's available tools or skills.Web.Roaming providers do not have access to AT&T internal ticketing systems.However, roaming carriers can submit a trouble ticket via an external Web site that connects to AOTS Mobility, so ROC receives the trouble report.Phone or email.The inter-carrier incoming number and email address to the ROC are pieces of information distributed to the GSM industry via documents, such as the IR.21 or AA.14. Roaming providers use the contact information to reach the ROC for all roaming issues and problems.OrganizationThere are three sub-teams within the ROC.Team\n",
      "\n",
      "000030207: Unregistered Carrier BlockingAT&T customers will not receive calls from carrier networks that have not registered with the FCC.For calls that are blocked, AT&T customer phones will not ring, and their call log will not show the call.AT&T customers will be able to make calls to carriers whose incoming calls are blocked.  Text Messaging is not impacted.What This Means to YouCustomers may call in / visit a store and say 'I'm not receiving calls from…'.  Resolution:  Advise customers the following:We're sorry you did not receive the call from {insert caller name]The reason may be that {inset caller name} carrier has not registered with the FCC as required by recent regulation.Regulations/Mandates are to prevent spamming and require carriers to register with the FCC for calls to be connected.If you know {insert caller name} carrier, have them contact their carrier to check if they are registered or not with the FCC.  To Learn more about the FCC Mandate, you can visit Combating Spoofed Robocalls with Caller ID Authentication | Federal Communications Commission (fcc.gov)\n",
      "\n",
      "000006612: For complaints about other departments, take ownership of the complaint and come to an agreeable resolution.Handling internal complaintsExperts or authorized retailersIf you have an expert/authorized retailer who wishes to escalate on behalf of the customer, verify the account following normal procedures:Consumer accounts: Verify the account according to Account Access - OPUS (link not accessible to CS - Prepaid and Credit & Activations).AT&T Prepaid accounts: Refer to AT&T Prepaid Account Access Policy (link not accessible to C&A, BCS, RST, and RS - Internal).Business accounts: Verify the account according to Account Verification Process - BCSSExpert complaintIf your caller wants to complain about a previous expert:Apologize for any misunderstanding or issue the customer may have experienced.Assure the customer you will take ownership of the issue; come to a mutually agreeable resolution to the issue.If the issue is one you cannot resolve on your own, follow normal escalation procedures.Offer to escalate their concern to a manager, so they can resolve the issue.Suggested verbiageApologize and express empathy for the previous experience.Assure them we take pride in our customer service.\n",
      "\n",
      "000011502: If they have not confirmed their connection, and AT&T is not their provider, refer them back to their satellite provider for support.If AT&T is the satellite provider, warm transfer the caller to AT&T Vanguard (see below).AT&T Vanguard OperationsProvides technical FRMZ support M-F 7 a.m. - 6 p.m. PST, including the following:Customer location updatesResolution for serviceTechnical troubleshootingEquipment issueRepresentatives should warm transfer customers to AT&T Vanguard Operations for all technical support outside of adding/removing Whitelist SOC.Business Hours M-F 7 a.m. - 6 p.m. PSTPhone Number: 707.336.2497After Hours Support Urgent IssuesLeave a voicemail and the AT&T Vanguard technician and they will call the customer within 1 hour.Non-Urgent IssuesLeave a voicemail the AT&T Vanguard technician will call the customer back the next business day.Email: FRMZ-Support@att.comResponse time is 2 hour Monday-Friday 9AM-8PM ESTAfter hours response time is within 24 hours.Prior to warm transferring the call, collect the following information:Customer's Business NameCustomer's Contact NameContact NumberContact Email AddressFRMZ System IDLocation address of the FRMZ systemDescription of customer's issueOffering & Pricing FAQWho can purchase FRMZ?FRMZ offer is only available for qualified (Primary & Extended Primary) FirstNet customers (CRU/Agency Paid) and cannot be ordered until you have an active FirstNet FAN/BAN.\n",
      "\n",
      "000006612: If an AT&T Signature Program customer has more than 20 active CTNs and refuses to place an order online or go to a Retail store, seek assistance from a manager to place an order.The customer threatens legal action against AT&T, and a manager is not readily available.Executive Complaints* - The customer mentions contacting a regulatory agency or an executive officer of the company such as:The Attorney GeneralThe FCCThe Better Business BureauThe Public Utilities CommissionAn executive officer of AT&T, such as the President or Chief Executive OfficerExecutive complaints occur when a caller mentions routing an issue to an outside state or federal agency, such as the president of the company or the person in charge. Handle these calls with extra care to uphold our reputation. The details of the escalation need to be immediately relayed to a team manager. Failing to escalate internally in these scenarios often results in a legal or regulatory complaint.Chain of command - consumer postpaidWhen handling consumer postpaid escalations:ExpertMake every attempt to resolve the issue. If unable to resolve, involve a manager/lead.Manager/leadIf still unable to resolve the caller's issue, continue to follow the chain of command to the left.Area ManagerDirectorAVPOOPOOP is the final authority in the chain of command. They use their resources to come to a final resolution for the customer.Chain of command - AT&T prepaidWhen handling AT&T PREPAID escalations:\n",
      "\n",
      "000011502: Likely. The disaster recovery site can hold up to 20 calls simultaneously with 2Mbps of satellite service. If more than 20 calls, the cell site will get congested and most likely drop calls. The customer can contact their FirstNet Specialist to inquire on purchasing additional satellite bandwidth to support more simultaneous calls.What if the customer is not able to dial 911?All 911 calls are routed to the local PSAP. If the FirstNet Support rep finds this is not the case, warm transfer to AT&T Vanguard Tier 2 Operations at 707.336.2497 and explain 911 calls on the FRMZ site need to be updated with the local PSAP number.How to validate the FRMZ is working?Warm transfer to AT&T Vanguard Tier 2 Operations at 707.336.2497 to troubleshoot the LTE/Cell Site equipment. Explain to AT&T Vanguard Tier 2 that the first responder needs assistance in troubleshooting the FRMZ cell site.What if the customer has questions on how to deploy the cell site?Warm transfer to AT&T Vanguard Tier 2 Operations at 707.336.2497, who can assist in setting up the cell site. Explain to AT&T Vanguard Ops that the customer needs assistance in deploying the FRMZ cell site.What if the customer wants to move the cell site to another area?\n",
      "\n"
     ]
    }
   ],
   "source": [
    "print('Init chunks for question 1 in exp 3 (references correct source)')\n",
    "print_subset_df_init_chunks_by_index(subset_df_3_vs_incorrect_4, 1)"
   ]
  },
  {
   "cell_type": "markdown",
   "metadata": {},
   "source": [
    "## Initial Chunk Analysis\n",
    "\n",
    "The following cells try to answer the following question(s):\n",
    "\n",
    "1. Are we seeing similar chunks returned from the search step in semantic search for the different experiments?\n",
    "   If we do, we can assume that the reranking step is where most of the differences in chunks are coming from.\n",
    "\n",
    "To perform this analysis, we will perform semantic search with the max k-value (50) such that we remove the use of the reranker.\n",
    "The same could have been accomplished with just using hybrid search and setting both k-values to 50."
   ]
  },
  {
   "cell_type": "markdown",
   "metadata": {},
   "source": [
    "### Analysis Setup"
   ]
  },
  {
   "cell_type": "code",
   "execution_count": 9,
   "metadata": {},
   "outputs": [],
   "source": [
    "load_dotenv('./.env')\n",
    "\n",
    "api_key = os.environ.get(\"AZURE_COGNITIVE_SEARCH_API_KEY\")\n",
    "if not api_key:\n",
    "    raise ValueError(\"AZURE_COGNITIVE_SEARCH_API_KEY not set.\")\n",
    "\n",
    "\n",
    "SEARCH_UL_TEMPLATE = \"https://searchcast-nprd-33435-southcentralus.search.windows.net//indexes('{index_name}')/docs/search.post.search?api-version=2023-10-01-Preview\"\n",
    "DOMAIN_SERVICES_URL_GET_CHUNKS = \"https://askapi.dev.att.com/automation/domain-services/get_embedding_chunks\"\n",
    "\n",
    "\n",
    "default_body = {\n",
    "    \"queryType\": \"semantic\",\n",
    "    \"semanticConfiguration\": \"<semantic-config>\",\n",
    "    \"search\": \"<search>\",\n",
    "    \"queryLanguage\": \"en-us\",\n",
    "    \"select\": \"content,metadata\",\n",
    "    \"top\": \"<top-k>\",\n",
    "    \"vectorQueries\": [\n",
    "        {\n",
    "            \"kind\": \"vector\",\n",
    "            \"k\": \"<top-k>\",\n",
    "            \"fields\": \"content_vector\",\n",
    "            \"vector\": []\n",
    "        }\n",
    "    ]\n",
    "}\n",
    "\n",
    "def get_embeddings(questions: list[str]):\n",
    "    question_map = {f\"{i}\": { \"id\": f\"{i}\", \"text\": question } for i, question in enumerate(questions)}\n",
    "    question_map.items\n",
    "    body = {\n",
    "        \"domain\": \"user_pb5253\",\n",
    "        \"config_version\": \"2023-11-01\",\n",
    "        \"data\": [{\"id\": k, \"text\": v[\"text\"]} for k, v in question_map.items()]\n",
    "    }\n",
    "\n",
    "    res = requests.post(\n",
    "        url=DOMAIN_SERVICES_URL_GET_CHUNKS,\n",
    "        json=body\n",
    "    )\n",
    "    res.raise_for_status()\n",
    "    res_json = res.json()\n",
    "    for result in res_json:\n",
    "        question_map[result[\"id\"]][\"embedding\"] = result[\"embedding\"]\n",
    "    return list(question_map.values())\n",
    "\n",
    "def hybrid_search(\n",
    "    index_name: str,\n",
    "    semantic_configuration_name: str,\n",
    "    text: str,\n",
    "    embedding: list[float],\n",
    "    top: int = 10\n",
    "):\n",
    "    headers = {\n",
    "        'api-key': api_key,\n",
    "        'Content-Type': 'application/json'\n",
    "    }\n",
    "\n",
    "    body = default_body.copy()\n",
    "    body['search'] = text\n",
    "    body['top'] = top\n",
    "    body['semanticConfiguration'] = semantic_configuration_name\n",
    "    body['vectorQueries'][0]['vector'] = embedding\n",
    "    body['vectorQueries'][0]['k'] = top\n",
    "    url = SEARCH_UL_TEMPLATE.format(index_name=index_name)\n",
    "\n",
    "    res = requests.post(\n",
    "        url=url,\n",
    "        json=body,\n",
    "        headers=headers\n",
    "    )\n",
    "    return res.json()\n"
   ]
  },
  {
   "cell_type": "code",
   "execution_count": 10,
   "metadata": {},
   "outputs": [],
   "source": [
    "# saving the embeddings\n",
    "def get_question_embeddings(questions: list[str], output_file_name: str):\n",
    "    base_path = \"./data/var\"\n",
    "    os.makedirs(base_path, exist_ok=True)\n",
    "    embedding_output_file_path = f\"{base_path}/{output_file_name}\"\n",
    "    if not os.path.exists(embedding_output_file_path):\n",
    "        question_result = get_embeddings(questions)\n",
    "        with open(embedding_output_file_path, \"w\") as f:\n",
    "            json.dump(question_result, f)\n",
    "    else:\n",
    "        with open(embedding_output_file_path, \"r\") as f:\n",
    "            question_result = json.load(f)\n",
    "    return question_result\n",
    "\n",
    "article_numbers = qc_config1_baseline_results_df['article_number'].values\n",
    "article_numbers = [f'{int(elem):09}' for elem in article_numbers]\n",
    "question_ids = qc_config1_baseline_results_df['id'].values\n",
    "\n",
    "query_category1_category2_category3_questions = (\n",
    "    qc_config1_baseline_results_df['bcss_question'] + ' ' +\n",
    "    qc_config1_baseline_results_df['BW_TXNMY_GRP_1'].astype(str) + ' ' +\n",
    "    qc_config1_baseline_results_df['BW_TXNMY_GRP_2'].astype(str) + ' ' +\n",
    "    qc_config1_baseline_results_df['BW_TXNMY_GRP_3'].astype(str)\n",
    ").values\n",
    "query_category1_category2_category3_questions_file_name = 'query_category1_category2_category3_questions.json'\n",
    "query_category1_category2_category3_embeddings = get_question_embeddings(\n",
    "    query_category1_category2_category3_questions,\n",
    "    query_category1_category2_category3_questions_file_name\n",
    ")\n",
    "\n",
    "category1_category2_category3_query_questions = (\n",
    "    qc_config1_baseline_results_df['BW_TXNMY_GRP_1'].astype(str) + ' ' +\n",
    "    qc_config1_baseline_results_df['BW_TXNMY_GRP_2'].astype(str) + ' ' +\n",
    "    qc_config1_baseline_results_df['BW_TXNMY_GRP_3'].astype(str) + ' ' +\n",
    "    qc_config1_baseline_results_df['bcss_question']\n",
    ").values\n",
    "category1_category2_category3_query_questions_file_name = 'category1_category2_category3_query_questions.json'\n",
    "category1_category2_category3_query_embeddings = get_question_embeddings(\n",
    "    category1_category2_category3_query_questions,\n",
    "    category1_category2_category3_query_questions_file_name\n",
    ")\n",
    "\n",
    "query_category3_questions = (\n",
    "    qc_config1_baseline_results_df['bcss_question'] + ' ' +\n",
    "    qc_config1_baseline_results_df['BW_TXNMY_GRP_3'].astype(str)\n",
    ").values\n",
    "query_category3_questions_file_name = 'query_category3_questions.json'\n",
    "query_category3_embeddings = get_question_embeddings(\n",
    "    query_category3_questions,\n",
    "    query_category3_questions_file_name\n",
    ")\n",
    "\n",
    "category3_query_questions = (\n",
    "    qc_config1_baseline_results_df['BW_TXNMY_GRP_3'].astype(str) + ' ' +\n",
    "    qc_config1_baseline_results_df['bcss_question']\n",
    ").values\n",
    "category3_query_questions_file_name = 'category3_query_questions.json'\n",
    "category3_query_embeddings = get_question_embeddings(\n",
    "    category3_query_questions,\n",
    "    category3_query_questions_file_name\n",
    ")\n",
    "\n",
    "query_only_questions = qc_config1_baseline_results_df['bcss_question'].values\n",
    "query_only_questions_file_name = 'query_only_questions.json'\n",
    "query_only_embeddings = get_question_embeddings(\n",
    "    query_only_questions,\n",
    "    query_only_questions_file_name\n",
    ")"
   ]
  },
  {
   "cell_type": "code",
   "execution_count": 12,
   "metadata": {},
   "outputs": [
    {
     "name": "stderr",
     "output_type": "stream",
     "text": [
      "100%|██████████| 455/455 [02:38<00:00,  2.87it/s]\n",
      "100%|██████████| 455/455 [02:50<00:00,  2.66it/s]\n",
      "100%|██████████| 455/455 [02:40<00:00,  2.84it/s]\n",
      "100%|██████████| 455/455 [02:40<00:00,  2.83it/s]\n",
      "100%|██████████| 455/455 [02:40<00:00,  2.83it/s]\n",
      "100%|██████████| 455/455 [02:40<00:00,  2.83it/s]\n"
     ]
    }
   ],
   "source": [
    "def perform_search(\n",
    "    index_name: str,\n",
    "    semantic_configuration_name: str,\n",
    "    questions_and_embeddings: list[dict],\n",
    "    top: int=50):\n",
    "    results = []\n",
    "    for question_and_embedding in tqdm(questions_and_embeddings):\n",
    "        question = question_and_embedding['text']\n",
    "        embedding = question_and_embedding['embedding']\n",
    "        semantic_with_metadata_data = hybrid_search(\n",
    "            index_name,\n",
    "            semantic_configuration_name,\n",
    "            question,\n",
    "            embedding,\n",
    "            top\n",
    "        )\n",
    "        results.append((question, semantic_with_metadata_data))\n",
    "    return results\n",
    "\n",
    "\n",
    "BASELINE = \"c-care-gpt35-dev-2023-10-25\"\n",
    "BASELINE_SEMANTIC_CONFIG = \"semantic_configuration\"\n",
    "CONFIG_1 = \"c-user-pb5253-no-search-non-required-dev-2023-11-20\"\n",
    "CONFIG_1_SEMANTIC_CONFIG = \"semantic_config\"\n",
    "BEST_INDEX = \"c-user-mn5253-qcconcat-1-dev-2023-11-28\"\n",
    "BEST_INDEX_SEMANTIC_CONFIG = \"semantic_config\"\n",
    "\n",
    "baseline_results = perform_search(\n",
    "    BASELINE,\n",
    "    BASELINE_SEMANTIC_CONFIG,\n",
    "    query_only_embeddings,\n",
    "    50\n",
    ")\n",
    "no_search_non_required_results = perform_search(\n",
    "    CONFIG_1,\n",
    "    CONFIG_1_SEMANTIC_CONFIG,\n",
    "    query_only_embeddings,\n",
    "    50\n",
    ")\n",
    "query_category1_category2_category3_results = perform_search(\n",
    "    BEST_INDEX,\n",
    "    BEST_INDEX_SEMANTIC_CONFIG,\n",
    "    query_category1_category2_category3_embeddings,\n",
    "    50\n",
    ")\n",
    "category1_category2_category3_query_results = perform_search(\n",
    "    BEST_INDEX,\n",
    "    BEST_INDEX_SEMANTIC_CONFIG,\n",
    "    category1_category2_category3_query_embeddings,\n",
    "    50\n",
    ")\n",
    "query_category3_results = perform_search(\n",
    "    BEST_INDEX,\n",
    "    BEST_INDEX_SEMANTIC_CONFIG,\n",
    "    query_category3_embeddings,\n",
    "    50\n",
    ")\n",
    "category3_query_results = perform_search(\n",
    "    BEST_INDEX,\n",
    "    BEST_INDEX_SEMANTIC_CONFIG,\n",
    "    category3_query_embeddings,\n",
    "    50\n",
    ")"
   ]
  },
  {
   "cell_type": "code",
   "execution_count": 17,
   "metadata": {},
   "outputs": [],
   "source": [
    "def get_content_from_semantic_search_results(semantic_search_result: dict):\n",
    "    values: list[dict] = semantic_search_result.get(\"value\")\n",
    "    content = [value['content'] for value in values]\n",
    "    return content\n",
    "\n",
    "def filter_by_top_k(result: dict, top: int) -> dict:\n",
    "    result_copy = result.copy()\n",
    "    result_copy['value'] = result_copy['value'][:top]\n",
    "    return result_copy\n",
    "\n",
    "def compare_question_results(\n",
    "    sample_1: list[tuple[str, dict]],\n",
    "    sample_2: list[tuple[str, dict]],\n",
    "):\n",
    "    question_matching_count_map = {}\n",
    "    for elem_1, elem_2 in tqdm(zip(sample_1, sample_2)):\n",
    "        elem_1_text, elem_1_results = elem_1\n",
    "        elem_2_text, elem_2_results = elem_2\n",
    "\n",
    "        elem_1_content = get_content_from_semantic_search_results(elem_1_results)\n",
    "        elem_2_content = get_content_from_semantic_search_results(elem_2_results)\n",
    "\n",
    "        matching_content_count = 0\n",
    "        for elem in elem_1_content:\n",
    "            if elem in elem_2_content:\n",
    "                matching_content_count += 1\n",
    "\n",
    "        question_matching_count_map[elem_1_text] = matching_content_count\n",
    "    return {\n",
    "        \"results\": question_matching_count_map\n",
    "    }"
   ]
  },
  {
   "cell_type": "code",
   "execution_count": 18,
   "metadata": {},
   "outputs": [],
   "source": [
    "def generate_metrics(\n",
    "    result_1: list,\n",
    "    result_2: list,\n",
    "    title: str):\n",
    "    comparison_result = compare_question_results(result_1, result_2)\n",
    "    comparison_result_arr = list(comparison_result[\"results\"].values())\n",
    "    q75, q25 = np.percentile(comparison_result_arr, [75 ,25])\n",
    "    mean_content_similarity = np.mean(comparison_result_arr)\n",
    "    median_content_similarity = np.median(comparison_result_arr)\n",
    "    min_content_similarity = min(comparison_result_arr)\n",
    "    max_content_similarity = max(comparison_result_arr)\n",
    "    variance_content_similarity = np.std(comparison_result_arr)\n",
    "\n",
    "    print(f\"\"\"\n",
    "    {title}\n",
    "    Results of Chunk Similarity\n",
    "    Mean: {mean_content_similarity};\n",
    "    Percent Overlap: {mean_content_similarity/50*100};\n",
    "    Median: {median_content_similarity};\n",
    "    75th Percentile: {q75};\n",
    "    IQR: {q75 - q25};\n",
    "    Min: {min_content_similarity};\n",
    "    Max: {max_content_similarity};\n",
    "    STD: {variance_content_similarity};\n",
    "    \"\"\")"
   ]
  },
  {
   "cell_type": "markdown",
   "metadata": {},
   "source": [
    "### Analysis Results"
   ]
  },
  {
   "cell_type": "code",
   "execution_count": 19,
   "metadata": {},
   "outputs": [
    {
     "name": "stderr",
     "output_type": "stream",
     "text": [
      "455it [00:00, 8125.17it/s]"
     ]
    },
    {
     "name": "stdout",
     "output_type": "stream",
     "text": [
      "\n",
      "    Baseline VS Query Only\n",
      "    Results of Chunk Similarity\n",
      "    Mean: 46.55604395604396;\n",
      "    Percent Overlap: 93.11208791208792;\n",
      "    Median: 47.0;\n",
      "    75th Percentile: 48.0;\n",
      "    IQR: 2.0;\n",
      "    Min: 37;\n",
      "    Max: 50;\n",
      "    STD: 2.0830666737525796;\n",
      "    \n"
     ]
    },
    {
     "name": "stderr",
     "output_type": "stream",
     "text": [
      "\n"
     ]
    }
   ],
   "source": [
    "# NOTE: This is expected to have 100% overlap. The reason as to why it might not be is due to the addition of the categories.\n",
    "# The categories are not in the metadata for the baseline experiment but do exist in the no_search_non_required_results experiment.\n",
    "# Due to this, we will analyze the results of no_search_non_required with the other experiments as initial search should be the same as the baseline (if baseline had the same metadata).\n",
    "\n",
    "generate_metrics(\n",
    "    baseline_results,\n",
    "    no_search_non_required_results,\n",
    "    \"Baseline VS Query Only\"\n",
    ")"
   ]
  },
  {
   "cell_type": "code",
   "execution_count": 34,
   "metadata": {},
   "outputs": [
    {
     "name": "stderr",
     "output_type": "stream",
     "text": [
      "455it [00:00, 9553.89it/s]"
     ]
    },
    {
     "name": "stdout",
     "output_type": "stream",
     "text": [
      "\n",
      "    Baseline VS Query + Category 1 + 2 + 3\n",
      "    Results of Chunk Similarity\n",
      "    Mean: 27.21978021978022;\n",
      "    Percent Overlap: 54.43956043956044;\n",
      "    Median: 27.0;\n",
      "    75th Percentile: 34.0;\n",
      "    IQR: 13.0;\n",
      "    Min: 1;\n",
      "    Max: 46;\n",
      "    STD: 8.90808029023039;\n",
      "    \n"
     ]
    },
    {
     "name": "stderr",
     "output_type": "stream",
     "text": [
      "\n"
     ]
    }
   ],
   "source": [
    "generate_metrics(\n",
    "    no_search_non_required_results,\n",
    "    query_category1_category2_category3_results,\n",
    "    \"Baseline VS Query + Category 1 + 2 + 3\"\n",
    ")"
   ]
  },
  {
   "cell_type": "code",
   "execution_count": 35,
   "metadata": {},
   "outputs": [
    {
     "name": "stderr",
     "output_type": "stream",
     "text": [
      "455it [00:00, 13012.02it/s]"
     ]
    },
    {
     "name": "stdout",
     "output_type": "stream",
     "text": [
      "\n",
      "    Baseline VS Category 1 + 2 + 3 + Query\n",
      "    Results of Chunk Similarity\n",
      "    Mean: 25.254945054945054;\n",
      "    Percent Overlap: 50.50989010989011;\n",
      "    Median: 25.0;\n",
      "    75th Percentile: 32.0;\n",
      "    IQR: 13.0;\n",
      "    Min: 2;\n",
      "    Max: 44;\n",
      "    STD: 8.787656974806831;\n",
      "    \n"
     ]
    },
    {
     "name": "stderr",
     "output_type": "stream",
     "text": [
      "\n"
     ]
    }
   ],
   "source": [
    "generate_metrics(\n",
    "    no_search_non_required_results,\n",
    "    category1_category2_category3_query_results,\n",
    "    \"Baseline VS Category 1 + 2 + 3 + Query\"\n",
    ")"
   ]
  },
  {
   "cell_type": "code",
   "execution_count": 37,
   "metadata": {},
   "outputs": [
    {
     "name": "stderr",
     "output_type": "stream",
     "text": [
      "455it [00:00, 12739.11it/s]"
     ]
    },
    {
     "name": "stdout",
     "output_type": "stream",
     "text": [
      "\n",
      "    Baseline VS Query + Category 3\n",
      "    Results of Chunk Similarity\n",
      "    Mean: 34.637362637362635;\n",
      "    Percent Overlap: 69.27472527472527;\n",
      "    Median: 36.0;\n",
      "    75th Percentile: 41.0;\n",
      "    IQR: 11.5;\n",
      "    Min: 2;\n",
      "    Max: 49;\n",
      "    STD: 8.052187585522967;\n",
      "    \n"
     ]
    },
    {
     "name": "stderr",
     "output_type": "stream",
     "text": [
      "\n"
     ]
    }
   ],
   "source": [
    "generate_metrics(\n",
    "    no_search_non_required_results,\n",
    "    query_category3_results,\n",
    "    \"Baseline VS Query + Category 3\"\n",
    ")"
   ]
  },
  {
   "cell_type": "code",
   "execution_count": 39,
   "metadata": {},
   "outputs": [
    {
     "name": "stderr",
     "output_type": "stream",
     "text": [
      "455it [00:00, 12944.07it/s]"
     ]
    },
    {
     "name": "stdout",
     "output_type": "stream",
     "text": [
      "\n",
      "    Baseline VS Category 3 + Query\n",
      "    Results of Chunk Similarity\n",
      "    Mean: 33.38901098901099;\n",
      "    Percent Overlap: 66.77802197802198;\n",
      "    Median: 35.0;\n",
      "    75th Percentile: 40.0;\n",
      "    IQR: 12.0;\n",
      "    Min: 2;\n",
      "    Max: 48;\n",
      "    STD: 8.192484502186169;\n",
      "    \n"
     ]
    },
    {
     "name": "stderr",
     "output_type": "stream",
     "text": [
      "\n"
     ]
    }
   ],
   "source": [
    "generate_metrics(\n",
    "    no_search_non_required_results,\n",
    "    category3_query_results,\n",
    "    \"Baseline VS Category 3 + Query\"\n",
    ")"
   ]
  },
  {
   "cell_type": "code",
   "execution_count": 40,
   "metadata": {},
   "outputs": [
    {
     "name": "stderr",
     "output_type": "stream",
     "text": [
      "455it [00:00, 13788.08it/s]"
     ]
    },
    {
     "name": "stdout",
     "output_type": "stream",
     "text": [
      "\n",
      "    Category 1 + 2 + 3 + Query VS Query + Category 1 + 2 + 3\n",
      "    Results of Chunk Similarity\n",
      "    Mean: 45.72087912087912;\n",
      "    Percent Overlap: 91.44175824175824;\n",
      "    Median: 46.0;\n",
      "    75th Percentile: 47.0;\n",
      "    IQR: 2.0;\n",
      "    Min: 34;\n",
      "    Max: 50;\n",
      "    STD: 2.2333888154042625;\n",
      "    \n"
     ]
    },
    {
     "name": "stderr",
     "output_type": "stream",
     "text": [
      "\n"
     ]
    }
   ],
   "source": [
    "generate_metrics(\n",
    "    category1_category2_category3_query_results,\n",
    "    query_category1_category2_category3_results,\n",
    "    \"Category 1 + 2 + 3 + Query VS Query + Category 1 + 2 + 3\"\n",
    ")"
   ]
  },
  {
   "cell_type": "code",
   "execution_count": 41,
   "metadata": {},
   "outputs": [
    {
     "name": "stderr",
     "output_type": "stream",
     "text": [
      "455it [00:00, 12245.40it/s]"
     ]
    },
    {
     "name": "stdout",
     "output_type": "stream",
     "text": [
      "\n",
      "    Query + Category 3 VS Category 3 + Query\n",
      "    Results of Chunk Similarity\n",
      "    Mean: 47.072527472527476;\n",
      "    Percent Overlap: 94.14505494505495;\n",
      "    Median: 47.0;\n",
      "    75th Percentile: 48.0;\n",
      "    IQR: 2.0;\n",
      "    Min: 36;\n",
      "    Max: 50;\n",
      "    STD: 1.9287339088125925;\n",
      "    \n"
     ]
    },
    {
     "name": "stderr",
     "output_type": "stream",
     "text": [
      "\n"
     ]
    }
   ],
   "source": [
    "generate_metrics(\n",
    "    query_category3_results,\n",
    "    category3_query_results,\n",
    "    \"Query + Category 3 VS Category 3 + Query\"\n",
    ")"
   ]
  },
  {
   "cell_type": "markdown",
   "metadata": {},
   "source": [
    "### Analysis of In-Top = 0 Post-Rerank\n",
    "\n",
    "We have observed that some of the experiments performed have a higher hit ratio (returning chunks that have matching sources).\n",
    "There are a few things we would like a analyze:\n",
    "\n",
    "1. The distribution of the `in-top-init` for the pre-reranking results of the experiments for the 75 questions.\n",
    "   This should inform us where the baseline experiment is not performing well and if the better performing experiments are seeing much more chunks with the correct source in the pre-reranked chunks.\n",
    "1. The distribution of the `in-top-init` for the pre-reranking results where the post-reranked results are 0.\n",
    "   This should tell us if the majority of the results are being pruned by the reranker or if the initial search is not capturing the assumed sources."
   ]
  },
  {
   "cell_type": "code",
   "execution_count": 27,
   "metadata": {},
   "outputs": [],
   "source": [
    "def get_metadata_from_search_results(semantic_search_result: dict):\n",
    "    values: list[dict] = semantic_search_result.get(\"value\")\n",
    "    metadata = [json.loads(value['metadata']) for value in values]\n",
    "    return metadata\n",
    "\n",
    "def get_percent_of_chunk_with_correct_source(question_ids: list[str], results: list[dict], expected_article_numbers: list[str]):\n",
    "    question_matching_count_map = {}\n",
    "    for question_id, (_, search_results), expected_article_number in zip(question_ids, results, expected_article_numbers):\n",
    "        metadata = get_metadata_from_search_results(search_results)\n",
    "        search_article_numbers = [elem['ArticleNumber'] for elem in metadata]\n",
    "        \n",
    "        seen_article_chunks = 0\n",
    "        for search_article_number in search_article_numbers:\n",
    "            if search_article_number == expected_article_number:\n",
    "                seen_article_chunks += 1\n",
    "        \n",
    "        question_matching_count_map[question_id] = seen_article_chunks\n",
    "    return question_matching_count_map\n",
    "\n",
    "ids_no_intop_prior_baseline_arr = ids_no_intop_prior_baseline.values.tolist()\n",
    "        "
   ]
  },
  {
   "cell_type": "code",
   "execution_count": 33,
   "metadata": {},
   "outputs": [
    {
     "data": {
      "application/vnd.plotly.v1+json": {
       "config": {
        "plotlyServerURL": "https://plot.ly"
       },
       "data": [
        {
         "histnorm": "percent",
         "name": "Baseline",
         "opacity": 0.5,
         "type": "histogram",
         "x": [
          4,
          0,
          0,
          1,
          0,
          0,
          0,
          3,
          0,
          0,
          0,
          0,
          0,
          0,
          0,
          0,
          0,
          0,
          0,
          1,
          0,
          0,
          0,
          0,
          0,
          0,
          0,
          0,
          3,
          0,
          1,
          0,
          0,
          0,
          4,
          0,
          0,
          1,
          1,
          0,
          0,
          0,
          0,
          0,
          0,
          0,
          0,
          0,
          1,
          3,
          0,
          0,
          0,
          0,
          0,
          1,
          0,
          0,
          1,
          3,
          1,
          0,
          0,
          0,
          0,
          1,
          0,
          1,
          0,
          0,
          0,
          2,
          0,
          1,
          1
         ]
        },
        {
         "histnorm": "percent",
         "name": "Query Only",
         "opacity": 0.5,
         "type": "histogram",
         "x": [
          8,
          0,
          0,
          1,
          0,
          0,
          0,
          4,
          0,
          0,
          0,
          0,
          0,
          0,
          0,
          0,
          0,
          0,
          0,
          1,
          0,
          0,
          0,
          0,
          0,
          0,
          0,
          0,
          3,
          0,
          1,
          0,
          0,
          0,
          4,
          0,
          0,
          1,
          1,
          0,
          0,
          0,
          0,
          0,
          0,
          0,
          0,
          0,
          1,
          3,
          0,
          0,
          0,
          0,
          0,
          1,
          0,
          0,
          1,
          4,
          2,
          0,
          0,
          0,
          0,
          1,
          0,
          1,
          0,
          0,
          0,
          2,
          0,
          1,
          1
         ]
        },
        {
         "histnorm": "percent",
         "name": "Query + Category 1, 2, 3",
         "opacity": 0.5,
         "type": "histogram",
         "x": [
          10,
          0,
          2,
          1,
          0,
          0,
          2,
          4,
          7,
          3,
          6,
          4,
          0,
          9,
          4,
          1,
          3,
          0,
          2,
          1,
          0,
          0,
          0,
          0,
          2,
          1,
          7,
          5,
          3,
          9,
          1,
          2,
          2,
          0,
          4,
          2,
          0,
          3,
          9,
          3,
          1,
          1,
          1,
          0,
          1,
          0,
          1,
          0,
          0,
          3,
          0,
          0,
          4,
          0,
          0,
          1,
          0,
          5,
          1,
          1,
          3,
          0,
          0,
          0,
          0,
          3,
          2,
          1,
          7,
          0,
          0,
          4,
          5,
          0,
          3
         ]
        },
        {
         "histnorm": "percent",
         "name": "Query + Category 3",
         "opacity": 0.5,
         "type": "histogram",
         "x": [
          9,
          0,
          2,
          1,
          0,
          0,
          1,
          4,
          11,
          1,
          2,
          0,
          0,
          7,
          0,
          0,
          1,
          0,
          1,
          1,
          0,
          0,
          1,
          0,
          1,
          1,
          2,
          3,
          3,
          7,
          1,
          2,
          0,
          1,
          4,
          1,
          0,
          1,
          2,
          0,
          0,
          1,
          0,
          0,
          1,
          0,
          1,
          0,
          1,
          3,
          0,
          0,
          0,
          1,
          0,
          1,
          0,
          4,
          1,
          4,
          4,
          0,
          0,
          0,
          1,
          1,
          2,
          1,
          2,
          0,
          0,
          3,
          4,
          1,
          3
         ]
        },
        {
         "histnorm": "percent",
         "name": "Category 1, 2, 3 + Query",
         "opacity": 0.5,
         "type": "histogram",
         "x": [
          10,
          0,
          2,
          1,
          0,
          0,
          2,
          4,
          7,
          3,
          6,
          4,
          0,
          9,
          4,
          1,
          3,
          0,
          2,
          1,
          0,
          0,
          0,
          0,
          2,
          1,
          7,
          6,
          3,
          9,
          1,
          2,
          2,
          0,
          4,
          3,
          0,
          3,
          9,
          3,
          0,
          1,
          1,
          0,
          0,
          0,
          1,
          0,
          0,
          3,
          0,
          0,
          4,
          0,
          0,
          1,
          0,
          5,
          1,
          1,
          3,
          0,
          0,
          0,
          0,
          3,
          2,
          1,
          8,
          0,
          0,
          2,
          6,
          0,
          3
         ]
        },
        {
         "histnorm": "percent",
         "name": "Category 3 + Query",
         "opacity": 0.5,
         "type": "histogram",
         "x": [
          8,
          0,
          2,
          1,
          0,
          0,
          1,
          4,
          7,
          1,
          2,
          0,
          0,
          7,
          1,
          0,
          1,
          0,
          1,
          1,
          0,
          0,
          1,
          0,
          1,
          1,
          2,
          4,
          3,
          9,
          1,
          2,
          0,
          1,
          4,
          1,
          0,
          1,
          2,
          0,
          0,
          1,
          0,
          0,
          1,
          0,
          1,
          0,
          1,
          4,
          0,
          0,
          1,
          1,
          0,
          1,
          0,
          4,
          1,
          4,
          4,
          0,
          0,
          0,
          1,
          1,
          2,
          1,
          2,
          0,
          0,
          5,
          4,
          1,
          3
         ]
        }
       ],
       "layout": {
        "barmode": "group",
        "template": {
         "data": {
          "bar": [
           {
            "error_x": {
             "color": "#2a3f5f"
            },
            "error_y": {
             "color": "#2a3f5f"
            },
            "marker": {
             "line": {
              "color": "#E5ECF6",
              "width": 0.5
             },
             "pattern": {
              "fillmode": "overlay",
              "size": 10,
              "solidity": 0.2
             }
            },
            "type": "bar"
           }
          ],
          "barpolar": [
           {
            "marker": {
             "line": {
              "color": "#E5ECF6",
              "width": 0.5
             },
             "pattern": {
              "fillmode": "overlay",
              "size": 10,
              "solidity": 0.2
             }
            },
            "type": "barpolar"
           }
          ],
          "carpet": [
           {
            "aaxis": {
             "endlinecolor": "#2a3f5f",
             "gridcolor": "white",
             "linecolor": "white",
             "minorgridcolor": "white",
             "startlinecolor": "#2a3f5f"
            },
            "baxis": {
             "endlinecolor": "#2a3f5f",
             "gridcolor": "white",
             "linecolor": "white",
             "minorgridcolor": "white",
             "startlinecolor": "#2a3f5f"
            },
            "type": "carpet"
           }
          ],
          "choropleth": [
           {
            "colorbar": {
             "outlinewidth": 0,
             "ticks": ""
            },
            "type": "choropleth"
           }
          ],
          "contour": [
           {
            "colorbar": {
             "outlinewidth": 0,
             "ticks": ""
            },
            "colorscale": [
             [
              0,
              "#0d0887"
             ],
             [
              0.1111111111111111,
              "#46039f"
             ],
             [
              0.2222222222222222,
              "#7201a8"
             ],
             [
              0.3333333333333333,
              "#9c179e"
             ],
             [
              0.4444444444444444,
              "#bd3786"
             ],
             [
              0.5555555555555556,
              "#d8576b"
             ],
             [
              0.6666666666666666,
              "#ed7953"
             ],
             [
              0.7777777777777778,
              "#fb9f3a"
             ],
             [
              0.8888888888888888,
              "#fdca26"
             ],
             [
              1,
              "#f0f921"
             ]
            ],
            "type": "contour"
           }
          ],
          "contourcarpet": [
           {
            "colorbar": {
             "outlinewidth": 0,
             "ticks": ""
            },
            "type": "contourcarpet"
           }
          ],
          "heatmap": [
           {
            "colorbar": {
             "outlinewidth": 0,
             "ticks": ""
            },
            "colorscale": [
             [
              0,
              "#0d0887"
             ],
             [
              0.1111111111111111,
              "#46039f"
             ],
             [
              0.2222222222222222,
              "#7201a8"
             ],
             [
              0.3333333333333333,
              "#9c179e"
             ],
             [
              0.4444444444444444,
              "#bd3786"
             ],
             [
              0.5555555555555556,
              "#d8576b"
             ],
             [
              0.6666666666666666,
              "#ed7953"
             ],
             [
              0.7777777777777778,
              "#fb9f3a"
             ],
             [
              0.8888888888888888,
              "#fdca26"
             ],
             [
              1,
              "#f0f921"
             ]
            ],
            "type": "heatmap"
           }
          ],
          "heatmapgl": [
           {
            "colorbar": {
             "outlinewidth": 0,
             "ticks": ""
            },
            "colorscale": [
             [
              0,
              "#0d0887"
             ],
             [
              0.1111111111111111,
              "#46039f"
             ],
             [
              0.2222222222222222,
              "#7201a8"
             ],
             [
              0.3333333333333333,
              "#9c179e"
             ],
             [
              0.4444444444444444,
              "#bd3786"
             ],
             [
              0.5555555555555556,
              "#d8576b"
             ],
             [
              0.6666666666666666,
              "#ed7953"
             ],
             [
              0.7777777777777778,
              "#fb9f3a"
             ],
             [
              0.8888888888888888,
              "#fdca26"
             ],
             [
              1,
              "#f0f921"
             ]
            ],
            "type": "heatmapgl"
           }
          ],
          "histogram": [
           {
            "marker": {
             "pattern": {
              "fillmode": "overlay",
              "size": 10,
              "solidity": 0.2
             }
            },
            "type": "histogram"
           }
          ],
          "histogram2d": [
           {
            "colorbar": {
             "outlinewidth": 0,
             "ticks": ""
            },
            "colorscale": [
             [
              0,
              "#0d0887"
             ],
             [
              0.1111111111111111,
              "#46039f"
             ],
             [
              0.2222222222222222,
              "#7201a8"
             ],
             [
              0.3333333333333333,
              "#9c179e"
             ],
             [
              0.4444444444444444,
              "#bd3786"
             ],
             [
              0.5555555555555556,
              "#d8576b"
             ],
             [
              0.6666666666666666,
              "#ed7953"
             ],
             [
              0.7777777777777778,
              "#fb9f3a"
             ],
             [
              0.8888888888888888,
              "#fdca26"
             ],
             [
              1,
              "#f0f921"
             ]
            ],
            "type": "histogram2d"
           }
          ],
          "histogram2dcontour": [
           {
            "colorbar": {
             "outlinewidth": 0,
             "ticks": ""
            },
            "colorscale": [
             [
              0,
              "#0d0887"
             ],
             [
              0.1111111111111111,
              "#46039f"
             ],
             [
              0.2222222222222222,
              "#7201a8"
             ],
             [
              0.3333333333333333,
              "#9c179e"
             ],
             [
              0.4444444444444444,
              "#bd3786"
             ],
             [
              0.5555555555555556,
              "#d8576b"
             ],
             [
              0.6666666666666666,
              "#ed7953"
             ],
             [
              0.7777777777777778,
              "#fb9f3a"
             ],
             [
              0.8888888888888888,
              "#fdca26"
             ],
             [
              1,
              "#f0f921"
             ]
            ],
            "type": "histogram2dcontour"
           }
          ],
          "mesh3d": [
           {
            "colorbar": {
             "outlinewidth": 0,
             "ticks": ""
            },
            "type": "mesh3d"
           }
          ],
          "parcoords": [
           {
            "line": {
             "colorbar": {
              "outlinewidth": 0,
              "ticks": ""
             }
            },
            "type": "parcoords"
           }
          ],
          "pie": [
           {
            "automargin": true,
            "type": "pie"
           }
          ],
          "scatter": [
           {
            "fillpattern": {
             "fillmode": "overlay",
             "size": 10,
             "solidity": 0.2
            },
            "type": "scatter"
           }
          ],
          "scatter3d": [
           {
            "line": {
             "colorbar": {
              "outlinewidth": 0,
              "ticks": ""
             }
            },
            "marker": {
             "colorbar": {
              "outlinewidth": 0,
              "ticks": ""
             }
            },
            "type": "scatter3d"
           }
          ],
          "scattercarpet": [
           {
            "marker": {
             "colorbar": {
              "outlinewidth": 0,
              "ticks": ""
             }
            },
            "type": "scattercarpet"
           }
          ],
          "scattergeo": [
           {
            "marker": {
             "colorbar": {
              "outlinewidth": 0,
              "ticks": ""
             }
            },
            "type": "scattergeo"
           }
          ],
          "scattergl": [
           {
            "marker": {
             "colorbar": {
              "outlinewidth": 0,
              "ticks": ""
             }
            },
            "type": "scattergl"
           }
          ],
          "scattermapbox": [
           {
            "marker": {
             "colorbar": {
              "outlinewidth": 0,
              "ticks": ""
             }
            },
            "type": "scattermapbox"
           }
          ],
          "scatterpolar": [
           {
            "marker": {
             "colorbar": {
              "outlinewidth": 0,
              "ticks": ""
             }
            },
            "type": "scatterpolar"
           }
          ],
          "scatterpolargl": [
           {
            "marker": {
             "colorbar": {
              "outlinewidth": 0,
              "ticks": ""
             }
            },
            "type": "scatterpolargl"
           }
          ],
          "scatterternary": [
           {
            "marker": {
             "colorbar": {
              "outlinewidth": 0,
              "ticks": ""
             }
            },
            "type": "scatterternary"
           }
          ],
          "surface": [
           {
            "colorbar": {
             "outlinewidth": 0,
             "ticks": ""
            },
            "colorscale": [
             [
              0,
              "#0d0887"
             ],
             [
              0.1111111111111111,
              "#46039f"
             ],
             [
              0.2222222222222222,
              "#7201a8"
             ],
             [
              0.3333333333333333,
              "#9c179e"
             ],
             [
              0.4444444444444444,
              "#bd3786"
             ],
             [
              0.5555555555555556,
              "#d8576b"
             ],
             [
              0.6666666666666666,
              "#ed7953"
             ],
             [
              0.7777777777777778,
              "#fb9f3a"
             ],
             [
              0.8888888888888888,
              "#fdca26"
             ],
             [
              1,
              "#f0f921"
             ]
            ],
            "type": "surface"
           }
          ],
          "table": [
           {
            "cells": {
             "fill": {
              "color": "#EBF0F8"
             },
             "line": {
              "color": "white"
             }
            },
            "header": {
             "fill": {
              "color": "#C8D4E3"
             },
             "line": {
              "color": "white"
             }
            },
            "type": "table"
           }
          ]
         },
         "layout": {
          "annotationdefaults": {
           "arrowcolor": "#2a3f5f",
           "arrowhead": 0,
           "arrowwidth": 1
          },
          "autotypenumbers": "strict",
          "coloraxis": {
           "colorbar": {
            "outlinewidth": 0,
            "ticks": ""
           }
          },
          "colorscale": {
           "diverging": [
            [
             0,
             "#8e0152"
            ],
            [
             0.1,
             "#c51b7d"
            ],
            [
             0.2,
             "#de77ae"
            ],
            [
             0.3,
             "#f1b6da"
            ],
            [
             0.4,
             "#fde0ef"
            ],
            [
             0.5,
             "#f7f7f7"
            ],
            [
             0.6,
             "#e6f5d0"
            ],
            [
             0.7,
             "#b8e186"
            ],
            [
             0.8,
             "#7fbc41"
            ],
            [
             0.9,
             "#4d9221"
            ],
            [
             1,
             "#276419"
            ]
           ],
           "sequential": [
            [
             0,
             "#0d0887"
            ],
            [
             0.1111111111111111,
             "#46039f"
            ],
            [
             0.2222222222222222,
             "#7201a8"
            ],
            [
             0.3333333333333333,
             "#9c179e"
            ],
            [
             0.4444444444444444,
             "#bd3786"
            ],
            [
             0.5555555555555556,
             "#d8576b"
            ],
            [
             0.6666666666666666,
             "#ed7953"
            ],
            [
             0.7777777777777778,
             "#fb9f3a"
            ],
            [
             0.8888888888888888,
             "#fdca26"
            ],
            [
             1,
             "#f0f921"
            ]
           ],
           "sequentialminus": [
            [
             0,
             "#0d0887"
            ],
            [
             0.1111111111111111,
             "#46039f"
            ],
            [
             0.2222222222222222,
             "#7201a8"
            ],
            [
             0.3333333333333333,
             "#9c179e"
            ],
            [
             0.4444444444444444,
             "#bd3786"
            ],
            [
             0.5555555555555556,
             "#d8576b"
            ],
            [
             0.6666666666666666,
             "#ed7953"
            ],
            [
             0.7777777777777778,
             "#fb9f3a"
            ],
            [
             0.8888888888888888,
             "#fdca26"
            ],
            [
             1,
             "#f0f921"
            ]
           ]
          },
          "colorway": [
           "#636efa",
           "#EF553B",
           "#00cc96",
           "#ab63fa",
           "#FFA15A",
           "#19d3f3",
           "#FF6692",
           "#B6E880",
           "#FF97FF",
           "#FECB52"
          ],
          "font": {
           "color": "#2a3f5f"
          },
          "geo": {
           "bgcolor": "white",
           "lakecolor": "white",
           "landcolor": "#E5ECF6",
           "showlakes": true,
           "showland": true,
           "subunitcolor": "white"
          },
          "hoverlabel": {
           "align": "left"
          },
          "hovermode": "closest",
          "mapbox": {
           "style": "light"
          },
          "paper_bgcolor": "white",
          "plot_bgcolor": "#E5ECF6",
          "polar": {
           "angularaxis": {
            "gridcolor": "white",
            "linecolor": "white",
            "ticks": ""
           },
           "bgcolor": "#E5ECF6",
           "radialaxis": {
            "gridcolor": "white",
            "linecolor": "white",
            "ticks": ""
           }
          },
          "scene": {
           "xaxis": {
            "backgroundcolor": "#E5ECF6",
            "gridcolor": "white",
            "gridwidth": 2,
            "linecolor": "white",
            "showbackground": true,
            "ticks": "",
            "zerolinecolor": "white"
           },
           "yaxis": {
            "backgroundcolor": "#E5ECF6",
            "gridcolor": "white",
            "gridwidth": 2,
            "linecolor": "white",
            "showbackground": true,
            "ticks": "",
            "zerolinecolor": "white"
           },
           "zaxis": {
            "backgroundcolor": "#E5ECF6",
            "gridcolor": "white",
            "gridwidth": 2,
            "linecolor": "white",
            "showbackground": true,
            "ticks": "",
            "zerolinecolor": "white"
           }
          },
          "shapedefaults": {
           "line": {
            "color": "#2a3f5f"
           }
          },
          "ternary": {
           "aaxis": {
            "gridcolor": "white",
            "linecolor": "white",
            "ticks": ""
           },
           "baxis": {
            "gridcolor": "white",
            "linecolor": "white",
            "ticks": ""
           },
           "bgcolor": "#E5ECF6",
           "caxis": {
            "gridcolor": "white",
            "linecolor": "white",
            "ticks": ""
           }
          },
          "title": {
           "x": 0.05
          },
          "xaxis": {
           "automargin": true,
           "gridcolor": "white",
           "linecolor": "white",
           "ticks": "",
           "title": {
            "standoff": 15
           },
           "zerolinecolor": "white",
           "zerolinewidth": 2
          },
          "yaxis": {
           "automargin": true,
           "gridcolor": "white",
           "linecolor": "white",
           "ticks": "",
           "title": {
            "standoff": 15
           },
           "zerolinecolor": "white",
           "zerolinewidth": 2
          }
         }
        },
        "title": {
         "text": "Initial Search Results (k=50) for Baseline Questions where In Top is 0 Post Rerank"
        }
       }
      }
     },
     "metadata": {},
     "output_type": "display_data"
    }
   ],
   "source": [
    "import plotly.graph_objects as go\n",
    "\n",
    "baseline_results_in_top = get_percent_of_chunk_with_correct_source(question_ids, baseline_results, article_numbers)\n",
    "baseline_results_in_top = { k: v for k, v in baseline_results_in_top.items() if k in ids_no_intop_prior_baseline_arr }\n",
    "\n",
    "no_search_non_required_results_in_top = get_percent_of_chunk_with_correct_source(question_ids, no_search_non_required_results, article_numbers)\n",
    "no_search_non_required_results_in_top = { k: v for k, v in no_search_non_required_results_in_top.items() if k in ids_no_intop_prior_baseline_arr }\n",
    "\n",
    "query_category1_category2_category3_results_in_top = get_percent_of_chunk_with_correct_source(question_ids, query_category1_category2_category3_results, article_numbers)\n",
    "query_category1_category2_category3_results_in_top = { k: v for k, v in query_category1_category2_category3_results_in_top.items() if k in ids_no_intop_prior_baseline_arr }\n",
    "\n",
    "query_category3_results_in_top = get_percent_of_chunk_with_correct_source(question_ids, query_category3_results, article_numbers)\n",
    "query_category3_results_in_top = { k: v for k, v in query_category3_results_in_top.items() if k in ids_no_intop_prior_baseline_arr }\n",
    "\n",
    "category1_category2_category3_query_results_in_top = get_percent_of_chunk_with_correct_source(question_ids, category1_category2_category3_query_results, article_numbers)\n",
    "category1_category2_category3_query_results_in_top = { k: v for k, v in category1_category2_category3_query_results_in_top.items() if k in ids_no_intop_prior_baseline_arr }\n",
    "\n",
    "category3_query_results_in_top = get_percent_of_chunk_with_correct_source(question_ids, category3_query_results, article_numbers)\n",
    "category3_query_results_in_top = { k: v for k, v in category3_query_results_in_top.items() if k in ids_no_intop_prior_baseline_arr }\n",
    "\n",
    "trace1 = go.Histogram(\n",
    "    x=list(baseline_results_in_top.values()),\n",
    "    opacity=0.50,\n",
    "    name='Baseline',\n",
    "    histnorm='percent'\n",
    ")\n",
    "\n",
    "trace2 = go.Histogram(\n",
    "    x=list(no_search_non_required_results_in_top.values()),\n",
    "    opacity=0.50,\n",
    "    name='Query Only',\n",
    "    histnorm='percent'\n",
    ")\n",
    "\n",
    "trace3 = go.Histogram(\n",
    "    x=list(query_category1_category2_category3_results_in_top.values()),\n",
    "    opacity=0.50,\n",
    "    name='Query + Category 1, 2, 3',\n",
    "    histnorm='percent'\n",
    ")\n",
    "\n",
    "trace4 = go.Histogram(\n",
    "    x=list(query_category3_results_in_top.values()),\n",
    "    opacity=0.50,\n",
    "    name='Query + Category 3',\n",
    "    histnorm='percent'\n",
    ")\n",
    "\n",
    "trace5 = go.Histogram(\n",
    "    x=list(category1_category2_category3_query_results_in_top.values()),\n",
    "    opacity=0.50,\n",
    "    name='Category 1, 2, 3 + Query',\n",
    "    histnorm='percent'\n",
    ")\n",
    "\n",
    "trace6 = go.Histogram(\n",
    "    x=list(category3_query_results_in_top.values()),\n",
    "    opacity=0.50,\n",
    "    name='Category 3 + Query',\n",
    "    histnorm='percent'\n",
    ")\n",
    "\n",
    "data = [trace1, trace2, trace3, trace4, trace5, trace6]\n",
    "layout = go.Layout(barmode='group', title=\"Initial Search Results (k=50) for Baseline Questions where In Top is 0 Post Rerank\")\n",
    "fig = go.Figure(data=data, layout=layout)\n",
    "\n",
    "fig.show()"
   ]
  },
  {
   "cell_type": "code",
   "execution_count": 49,
   "metadata": {},
   "outputs": [
    {
     "data": {
      "application/vnd.plotly.v1+json": {
       "config": {
        "plotlyServerURL": "https://plot.ly"
       },
       "data": [
        {
         "histnorm": "percent",
         "name": "Baseline",
         "opacity": 0.5,
         "type": "histogram",
         "x": [
          4,
          0,
          0,
          1,
          0,
          0,
          0,
          3,
          0,
          0,
          0,
          0,
          0,
          0,
          0,
          0,
          0,
          0,
          0,
          1,
          0,
          0,
          0,
          0,
          0,
          0,
          0,
          0,
          3,
          0,
          1,
          0,
          0,
          0,
          4,
          0,
          0,
          1,
          1,
          0,
          0,
          0,
          0,
          0,
          0,
          0,
          0,
          0,
          1,
          3,
          0,
          0,
          0,
          0,
          0,
          1,
          0,
          0,
          1,
          3,
          1,
          0,
          0,
          0,
          0,
          1,
          0,
          1,
          0,
          0,
          0,
          2,
          0,
          1,
          1
         ]
        },
        {
         "histnorm": "percent",
         "name": "Query Only",
         "opacity": 0.5,
         "type": "histogram",
         "x": [
          0,
          0,
          0,
          1,
          0,
          0,
          0,
          0,
          0,
          0,
          0,
          0,
          0,
          0,
          0,
          0,
          0,
          0,
          1,
          0,
          0,
          0,
          0,
          0,
          0,
          0,
          0,
          3,
          0,
          1,
          0,
          0,
          0,
          0,
          0,
          0,
          1,
          1,
          0,
          0,
          0,
          0,
          0,
          0,
          0,
          0,
          0,
          0,
          0,
          0,
          0,
          0,
          0,
          0,
          4,
          0,
          0,
          0,
          0,
          1,
          0,
          1,
          0,
          0,
          0,
          2,
          0,
          1,
          1
         ]
        },
        {
         "histnorm": "percent",
         "name": "Query + Category 1, 2, 3",
         "opacity": 0.5,
         "type": "histogram",
         "x": [
          0,
          0,
          0,
          2,
          0,
          0,
          1,
          0,
          0,
          0,
          0,
          0,
          1,
          0,
          0,
          0,
          0,
          0,
          0,
          0,
          0,
          0,
          0,
          0,
          0,
          0,
          0,
          0,
          0,
          0,
          0,
          2,
          0,
          0,
          5,
          0
         ]
        },
        {
         "histnorm": "percent",
         "name": "Category 1, 2, 3 + Query",
         "opacity": 0.5,
         "type": "histogram",
         "x": [
          0,
          0,
          0,
          0,
          0,
          0,
          0,
          0,
          2,
          0,
          0,
          1,
          0,
          0,
          0,
          1,
          0,
          0,
          0,
          0,
          0,
          0,
          0,
          0,
          0,
          0,
          0,
          0,
          0,
          0,
          0,
          0,
          0,
          0,
          0,
          0
         ]
        }
       ],
       "layout": {
        "barmode": "group",
        "template": {
         "data": {
          "bar": [
           {
            "error_x": {
             "color": "#2a3f5f"
            },
            "error_y": {
             "color": "#2a3f5f"
            },
            "marker": {
             "line": {
              "color": "#E5ECF6",
              "width": 0.5
             },
             "pattern": {
              "fillmode": "overlay",
              "size": 10,
              "solidity": 0.2
             }
            },
            "type": "bar"
           }
          ],
          "barpolar": [
           {
            "marker": {
             "line": {
              "color": "#E5ECF6",
              "width": 0.5
             },
             "pattern": {
              "fillmode": "overlay",
              "size": 10,
              "solidity": 0.2
             }
            },
            "type": "barpolar"
           }
          ],
          "carpet": [
           {
            "aaxis": {
             "endlinecolor": "#2a3f5f",
             "gridcolor": "white",
             "linecolor": "white",
             "minorgridcolor": "white",
             "startlinecolor": "#2a3f5f"
            },
            "baxis": {
             "endlinecolor": "#2a3f5f",
             "gridcolor": "white",
             "linecolor": "white",
             "minorgridcolor": "white",
             "startlinecolor": "#2a3f5f"
            },
            "type": "carpet"
           }
          ],
          "choropleth": [
           {
            "colorbar": {
             "outlinewidth": 0,
             "ticks": ""
            },
            "type": "choropleth"
           }
          ],
          "contour": [
           {
            "colorbar": {
             "outlinewidth": 0,
             "ticks": ""
            },
            "colorscale": [
             [
              0,
              "#0d0887"
             ],
             [
              0.1111111111111111,
              "#46039f"
             ],
             [
              0.2222222222222222,
              "#7201a8"
             ],
             [
              0.3333333333333333,
              "#9c179e"
             ],
             [
              0.4444444444444444,
              "#bd3786"
             ],
             [
              0.5555555555555556,
              "#d8576b"
             ],
             [
              0.6666666666666666,
              "#ed7953"
             ],
             [
              0.7777777777777778,
              "#fb9f3a"
             ],
             [
              0.8888888888888888,
              "#fdca26"
             ],
             [
              1,
              "#f0f921"
             ]
            ],
            "type": "contour"
           }
          ],
          "contourcarpet": [
           {
            "colorbar": {
             "outlinewidth": 0,
             "ticks": ""
            },
            "type": "contourcarpet"
           }
          ],
          "heatmap": [
           {
            "colorbar": {
             "outlinewidth": 0,
             "ticks": ""
            },
            "colorscale": [
             [
              0,
              "#0d0887"
             ],
             [
              0.1111111111111111,
              "#46039f"
             ],
             [
              0.2222222222222222,
              "#7201a8"
             ],
             [
              0.3333333333333333,
              "#9c179e"
             ],
             [
              0.4444444444444444,
              "#bd3786"
             ],
             [
              0.5555555555555556,
              "#d8576b"
             ],
             [
              0.6666666666666666,
              "#ed7953"
             ],
             [
              0.7777777777777778,
              "#fb9f3a"
             ],
             [
              0.8888888888888888,
              "#fdca26"
             ],
             [
              1,
              "#f0f921"
             ]
            ],
            "type": "heatmap"
           }
          ],
          "heatmapgl": [
           {
            "colorbar": {
             "outlinewidth": 0,
             "ticks": ""
            },
            "colorscale": [
             [
              0,
              "#0d0887"
             ],
             [
              0.1111111111111111,
              "#46039f"
             ],
             [
              0.2222222222222222,
              "#7201a8"
             ],
             [
              0.3333333333333333,
              "#9c179e"
             ],
             [
              0.4444444444444444,
              "#bd3786"
             ],
             [
              0.5555555555555556,
              "#d8576b"
             ],
             [
              0.6666666666666666,
              "#ed7953"
             ],
             [
              0.7777777777777778,
              "#fb9f3a"
             ],
             [
              0.8888888888888888,
              "#fdca26"
             ],
             [
              1,
              "#f0f921"
             ]
            ],
            "type": "heatmapgl"
           }
          ],
          "histogram": [
           {
            "marker": {
             "pattern": {
              "fillmode": "overlay",
              "size": 10,
              "solidity": 0.2
             }
            },
            "type": "histogram"
           }
          ],
          "histogram2d": [
           {
            "colorbar": {
             "outlinewidth": 0,
             "ticks": ""
            },
            "colorscale": [
             [
              0,
              "#0d0887"
             ],
             [
              0.1111111111111111,
              "#46039f"
             ],
             [
              0.2222222222222222,
              "#7201a8"
             ],
             [
              0.3333333333333333,
              "#9c179e"
             ],
             [
              0.4444444444444444,
              "#bd3786"
             ],
             [
              0.5555555555555556,
              "#d8576b"
             ],
             [
              0.6666666666666666,
              "#ed7953"
             ],
             [
              0.7777777777777778,
              "#fb9f3a"
             ],
             [
              0.8888888888888888,
              "#fdca26"
             ],
             [
              1,
              "#f0f921"
             ]
            ],
            "type": "histogram2d"
           }
          ],
          "histogram2dcontour": [
           {
            "colorbar": {
             "outlinewidth": 0,
             "ticks": ""
            },
            "colorscale": [
             [
              0,
              "#0d0887"
             ],
             [
              0.1111111111111111,
              "#46039f"
             ],
             [
              0.2222222222222222,
              "#7201a8"
             ],
             [
              0.3333333333333333,
              "#9c179e"
             ],
             [
              0.4444444444444444,
              "#bd3786"
             ],
             [
              0.5555555555555556,
              "#d8576b"
             ],
             [
              0.6666666666666666,
              "#ed7953"
             ],
             [
              0.7777777777777778,
              "#fb9f3a"
             ],
             [
              0.8888888888888888,
              "#fdca26"
             ],
             [
              1,
              "#f0f921"
             ]
            ],
            "type": "histogram2dcontour"
           }
          ],
          "mesh3d": [
           {
            "colorbar": {
             "outlinewidth": 0,
             "ticks": ""
            },
            "type": "mesh3d"
           }
          ],
          "parcoords": [
           {
            "line": {
             "colorbar": {
              "outlinewidth": 0,
              "ticks": ""
             }
            },
            "type": "parcoords"
           }
          ],
          "pie": [
           {
            "automargin": true,
            "type": "pie"
           }
          ],
          "scatter": [
           {
            "fillpattern": {
             "fillmode": "overlay",
             "size": 10,
             "solidity": 0.2
            },
            "type": "scatter"
           }
          ],
          "scatter3d": [
           {
            "line": {
             "colorbar": {
              "outlinewidth": 0,
              "ticks": ""
             }
            },
            "marker": {
             "colorbar": {
              "outlinewidth": 0,
              "ticks": ""
             }
            },
            "type": "scatter3d"
           }
          ],
          "scattercarpet": [
           {
            "marker": {
             "colorbar": {
              "outlinewidth": 0,
              "ticks": ""
             }
            },
            "type": "scattercarpet"
           }
          ],
          "scattergeo": [
           {
            "marker": {
             "colorbar": {
              "outlinewidth": 0,
              "ticks": ""
             }
            },
            "type": "scattergeo"
           }
          ],
          "scattergl": [
           {
            "marker": {
             "colorbar": {
              "outlinewidth": 0,
              "ticks": ""
             }
            },
            "type": "scattergl"
           }
          ],
          "scattermapbox": [
           {
            "marker": {
             "colorbar": {
              "outlinewidth": 0,
              "ticks": ""
             }
            },
            "type": "scattermapbox"
           }
          ],
          "scatterpolar": [
           {
            "marker": {
             "colorbar": {
              "outlinewidth": 0,
              "ticks": ""
             }
            },
            "type": "scatterpolar"
           }
          ],
          "scatterpolargl": [
           {
            "marker": {
             "colorbar": {
              "outlinewidth": 0,
              "ticks": ""
             }
            },
            "type": "scatterpolargl"
           }
          ],
          "scatterternary": [
           {
            "marker": {
             "colorbar": {
              "outlinewidth": 0,
              "ticks": ""
             }
            },
            "type": "scatterternary"
           }
          ],
          "surface": [
           {
            "colorbar": {
             "outlinewidth": 0,
             "ticks": ""
            },
            "colorscale": [
             [
              0,
              "#0d0887"
             ],
             [
              0.1111111111111111,
              "#46039f"
             ],
             [
              0.2222222222222222,
              "#7201a8"
             ],
             [
              0.3333333333333333,
              "#9c179e"
             ],
             [
              0.4444444444444444,
              "#bd3786"
             ],
             [
              0.5555555555555556,
              "#d8576b"
             ],
             [
              0.6666666666666666,
              "#ed7953"
             ],
             [
              0.7777777777777778,
              "#fb9f3a"
             ],
             [
              0.8888888888888888,
              "#fdca26"
             ],
             [
              1,
              "#f0f921"
             ]
            ],
            "type": "surface"
           }
          ],
          "table": [
           {
            "cells": {
             "fill": {
              "color": "#EBF0F8"
             },
             "line": {
              "color": "white"
             }
            },
            "header": {
             "fill": {
              "color": "#C8D4E3"
             },
             "line": {
              "color": "white"
             }
            },
            "type": "table"
           }
          ]
         },
         "layout": {
          "annotationdefaults": {
           "arrowcolor": "#2a3f5f",
           "arrowhead": 0,
           "arrowwidth": 1
          },
          "autotypenumbers": "strict",
          "coloraxis": {
           "colorbar": {
            "outlinewidth": 0,
            "ticks": ""
           }
          },
          "colorscale": {
           "diverging": [
            [
             0,
             "#8e0152"
            ],
            [
             0.1,
             "#c51b7d"
            ],
            [
             0.2,
             "#de77ae"
            ],
            [
             0.3,
             "#f1b6da"
            ],
            [
             0.4,
             "#fde0ef"
            ],
            [
             0.5,
             "#f7f7f7"
            ],
            [
             0.6,
             "#e6f5d0"
            ],
            [
             0.7,
             "#b8e186"
            ],
            [
             0.8,
             "#7fbc41"
            ],
            [
             0.9,
             "#4d9221"
            ],
            [
             1,
             "#276419"
            ]
           ],
           "sequential": [
            [
             0,
             "#0d0887"
            ],
            [
             0.1111111111111111,
             "#46039f"
            ],
            [
             0.2222222222222222,
             "#7201a8"
            ],
            [
             0.3333333333333333,
             "#9c179e"
            ],
            [
             0.4444444444444444,
             "#bd3786"
            ],
            [
             0.5555555555555556,
             "#d8576b"
            ],
            [
             0.6666666666666666,
             "#ed7953"
            ],
            [
             0.7777777777777778,
             "#fb9f3a"
            ],
            [
             0.8888888888888888,
             "#fdca26"
            ],
            [
             1,
             "#f0f921"
            ]
           ],
           "sequentialminus": [
            [
             0,
             "#0d0887"
            ],
            [
             0.1111111111111111,
             "#46039f"
            ],
            [
             0.2222222222222222,
             "#7201a8"
            ],
            [
             0.3333333333333333,
             "#9c179e"
            ],
            [
             0.4444444444444444,
             "#bd3786"
            ],
            [
             0.5555555555555556,
             "#d8576b"
            ],
            [
             0.6666666666666666,
             "#ed7953"
            ],
            [
             0.7777777777777778,
             "#fb9f3a"
            ],
            [
             0.8888888888888888,
             "#fdca26"
            ],
            [
             1,
             "#f0f921"
            ]
           ]
          },
          "colorway": [
           "#636efa",
           "#EF553B",
           "#00cc96",
           "#ab63fa",
           "#FFA15A",
           "#19d3f3",
           "#FF6692",
           "#B6E880",
           "#FF97FF",
           "#FECB52"
          ],
          "font": {
           "color": "#2a3f5f"
          },
          "geo": {
           "bgcolor": "white",
           "lakecolor": "white",
           "landcolor": "#E5ECF6",
           "showlakes": true,
           "showland": true,
           "subunitcolor": "white"
          },
          "hoverlabel": {
           "align": "left"
          },
          "hovermode": "closest",
          "mapbox": {
           "style": "light"
          },
          "paper_bgcolor": "white",
          "plot_bgcolor": "#E5ECF6",
          "polar": {
           "angularaxis": {
            "gridcolor": "white",
            "linecolor": "white",
            "ticks": ""
           },
           "bgcolor": "#E5ECF6",
           "radialaxis": {
            "gridcolor": "white",
            "linecolor": "white",
            "ticks": ""
           }
          },
          "scene": {
           "xaxis": {
            "backgroundcolor": "#E5ECF6",
            "gridcolor": "white",
            "gridwidth": 2,
            "linecolor": "white",
            "showbackground": true,
            "ticks": "",
            "zerolinecolor": "white"
           },
           "yaxis": {
            "backgroundcolor": "#E5ECF6",
            "gridcolor": "white",
            "gridwidth": 2,
            "linecolor": "white",
            "showbackground": true,
            "ticks": "",
            "zerolinecolor": "white"
           },
           "zaxis": {
            "backgroundcolor": "#E5ECF6",
            "gridcolor": "white",
            "gridwidth": 2,
            "linecolor": "white",
            "showbackground": true,
            "ticks": "",
            "zerolinecolor": "white"
           }
          },
          "shapedefaults": {
           "line": {
            "color": "#2a3f5f"
           }
          },
          "ternary": {
           "aaxis": {
            "gridcolor": "white",
            "linecolor": "white",
            "ticks": ""
           },
           "baxis": {
            "gridcolor": "white",
            "linecolor": "white",
            "ticks": ""
           },
           "bgcolor": "#E5ECF6",
           "caxis": {
            "gridcolor": "white",
            "linecolor": "white",
            "ticks": ""
           }
          },
          "title": {
           "x": 0.05
          },
          "xaxis": {
           "automargin": true,
           "gridcolor": "white",
           "linecolor": "white",
           "ticks": "",
           "title": {
            "standoff": 15
           },
           "zerolinecolor": "white",
           "zerolinewidth": 2
          },
          "yaxis": {
           "automargin": true,
           "gridcolor": "white",
           "linecolor": "white",
           "ticks": "",
           "title": {
            "standoff": 15
           },
           "zerolinecolor": "white",
           "zerolinewidth": 2
          }
         }
        },
        "title": {
         "text": "Reranker In-top-init=0 Breakdown w/ Init Chunks"
        }
       }
      }
     },
     "metadata": {},
     "output_type": "display_data"
    }
   ],
   "source": [
    "# in top init 0 breakdown\n",
    "\n",
    "import plotly.graph_objects as go\n",
    "\n",
    "baseline_results_in_top = get_percent_of_chunk_with_correct_source(question_ids, baseline_results, article_numbers)\n",
    "baseline_results_in_top = { k: v for k, v in baseline_results_in_top.items() if k in ids_no_intop_prior_baseline_arr }\n",
    "\n",
    "no_search_non_required_results_in_top = get_percent_of_chunk_with_correct_source(question_ids, no_search_non_required_results, article_numbers)\n",
    "no_search_non_required_results_in_top = { k: v for k, v in no_search_non_required_results_in_top.items() if k in ids_no_intop_qc_baseline }\n",
    "\n",
    "query_category1_category2_category3_results_in_top = get_percent_of_chunk_with_correct_source(question_ids, query_category1_category2_category3_results, article_numbers)\n",
    "query_category1_category2_category3_results_in_top = { k: v for k, v in query_category1_category2_category3_results_in_top.items() if k in ids_no_intop_qc_exp4 }\n",
    "\n",
    "category1_category2_category3_query_results_in_top = get_percent_of_chunk_with_correct_source(question_ids, category1_category2_category3_query_results, article_numbers)\n",
    "category1_category2_category3_query_results_in_top = { k: v for k, v in category1_category2_category3_query_results_in_top.items() if k in ids_no_intop_qc_exp3 }\n",
    "\n",
    "trace1 = go.Histogram(\n",
    "    x=list(baseline_results_in_top.values()),\n",
    "    opacity=0.50,\n",
    "    name='Baseline',\n",
    "    histnorm='percent'\n",
    ")\n",
    "\n",
    "trace2 = go.Histogram(\n",
    "    x=list(no_search_non_required_results_in_top.values()),\n",
    "    opacity=0.50,\n",
    "    name='Query Only',\n",
    "    histnorm='percent'\n",
    ")\n",
    "\n",
    "trace3 = go.Histogram(\n",
    "    x=list(query_category1_category2_category3_results_in_top.values()),\n",
    "    opacity=0.50,\n",
    "    name='Query + Category 1, 2, 3',\n",
    "    histnorm='percent'\n",
    ")\n",
    "\n",
    "trace4 = go.Histogram(\n",
    "    x=list(category1_category2_category3_query_results_in_top.values()),\n",
    "    opacity=0.50,\n",
    "    name='Category 1, 2, 3 + Query',\n",
    "    histnorm='percent'\n",
    ")\n",
    "\n",
    "data = [trace1, trace2, trace3, trace4]\n",
    "layout = go.Layout(barmode='group', title=\"Reranker In-top-init=0 Breakdown w/ Init Chunks\")\n",
    "fig = go.Figure(data=data, layout=layout)\n",
    "\n",
    "fig.show()"
   ]
  },
  {
   "cell_type": "markdown",
   "metadata": {},
   "source": [
    "### Extra\n",
    "\n",
    "#### Graphing Init RougeL Recall vs In Top Init = 0"
   ]
  },
  {
   "cell_type": "code",
   "execution_count": 59,
   "metadata": {},
   "outputs": [
    {
     "data": {
      "application/vnd.plotly.v1+json": {
       "config": {
        "plotlyServerURL": "https://plot.ly"
       },
       "data": [
        {
         "histnorm": "percent",
         "name": "Baseline",
         "opacity": 0.5,
         "type": "histogram",
         "x": [
          0.5789473684210527,
          0.3684210526315789,
          0.3404255319148936,
          0.5625,
          1,
          0.4431137724550898,
          0.3571428571428571,
          0.1382978723404255,
          0.7523809523809524,
          0.28125,
          0.3103448275862069,
          0.1970443349753694,
          0.2695652173913043,
          0.165680473372781,
          0.2076923076923077,
          0.8823529411764706,
          1,
          0.2235294117647059,
          0.5,
          0.8805970149253731,
          0.1921397379912663,
          0.48,
          0.3009708737864077,
          0.48,
          0.8076923076923077,
          0.64,
          0.5384615384615384,
          0.4444444444444444,
          0.75,
          1,
          0.9444444444444444,
          0.2641509433962264,
          0.2242990654205607,
          0.3829787234042553,
          0.5,
          0.9117647058823528,
          0.4259259259259259,
          1,
          0.3255813953488372,
          0.3888888888888889,
          0.8802816901408451,
          0.4328358208955223,
          0.2727272727272727,
          0.6,
          0.3768115942028985,
          0.4411764705882353,
          0.3181818181818182,
          0.8,
          0.2416666666666666,
          0.3043478260869565,
          0.8571428571428571,
          0.5,
          0.4,
          1,
          0.8,
          1,
          0.6666666666666666,
          0.5,
          0.2875,
          0.4615384615384615,
          0.3684210526315789,
          1,
          0.3063063063063063,
          0.4,
          0.7142857142857143,
          0.5882352941176471,
          0.6206896551724138,
          0.396551724137931,
          0.4117647058823529
         ]
        },
        {
         "histnorm": "percent",
         "name": "Category 1, 2, 3 + Query",
         "opacity": 0.5,
         "type": "histogram",
         "x": [
          0.631578947368421,
          0.8,
          0.2215568862275449,
          0.1773399014778325,
          1,
          0.5373134328358209,
          0.1877729257641921,
          0.6114285714285714,
          0.1428571428571428,
          0.44,
          0.3009708737864077,
          0.8571428571428571,
          0.205607476635514,
          0.3,
          0.3888888888888889,
          0.9527027027027029,
          0.2727272727272727,
          0.4,
          0.3188405797101449,
          0.3181818181818182,
          0.3636363636363636,
          0.8,
          0.225,
          0.7142857142857143,
          0.5,
          0.3,
          0.40625,
          1,
          0.4444444444444444,
          0.5588235294117647,
          0.2875,
          0.4482758620689655,
          0.375,
          0.35,
          0.5714285714285714,
          0.293103448275862
         ]
        },
        {
         "histnorm": "percent",
         "name": "Query + Category 1, 2, 3",
         "opacity": 0.5,
         "type": "histogram",
         "x": [
          0.631578947368421,
          1,
          0.18562874251497,
          0.6,
          0.1970443349753694,
          1,
          0.5,
          0.8805970149253731,
          0.1877729257641921,
          0.6114285714285714,
          0.44,
          0.3009708737864077,
          1,
          0.205607476635514,
          0.3,
          0.2727272727272727,
          0.3768115942028985,
          0.3181818181818182,
          0.3636363636363636,
          0.8,
          0.2333333333333333,
          0.7142857142857143,
          0.5,
          0.3,
          0.40625,
          1,
          0.6666666666666666,
          0.5588235294117647,
          0.2875,
          0.4482758620689655,
          0.375,
          0.3684210526315789,
          0.35,
          0.5714285714285714,
          0.6206896551724138,
          0.293103448275862
         ]
        }
       ],
       "layout": {
        "barmode": "group",
        "template": {
         "data": {
          "bar": [
           {
            "error_x": {
             "color": "#2a3f5f"
            },
            "error_y": {
             "color": "#2a3f5f"
            },
            "marker": {
             "line": {
              "color": "#E5ECF6",
              "width": 0.5
             },
             "pattern": {
              "fillmode": "overlay",
              "size": 10,
              "solidity": 0.2
             }
            },
            "type": "bar"
           }
          ],
          "barpolar": [
           {
            "marker": {
             "line": {
              "color": "#E5ECF6",
              "width": 0.5
             },
             "pattern": {
              "fillmode": "overlay",
              "size": 10,
              "solidity": 0.2
             }
            },
            "type": "barpolar"
           }
          ],
          "carpet": [
           {
            "aaxis": {
             "endlinecolor": "#2a3f5f",
             "gridcolor": "white",
             "linecolor": "white",
             "minorgridcolor": "white",
             "startlinecolor": "#2a3f5f"
            },
            "baxis": {
             "endlinecolor": "#2a3f5f",
             "gridcolor": "white",
             "linecolor": "white",
             "minorgridcolor": "white",
             "startlinecolor": "#2a3f5f"
            },
            "type": "carpet"
           }
          ],
          "choropleth": [
           {
            "colorbar": {
             "outlinewidth": 0,
             "ticks": ""
            },
            "type": "choropleth"
           }
          ],
          "contour": [
           {
            "colorbar": {
             "outlinewidth": 0,
             "ticks": ""
            },
            "colorscale": [
             [
              0,
              "#0d0887"
             ],
             [
              0.1111111111111111,
              "#46039f"
             ],
             [
              0.2222222222222222,
              "#7201a8"
             ],
             [
              0.3333333333333333,
              "#9c179e"
             ],
             [
              0.4444444444444444,
              "#bd3786"
             ],
             [
              0.5555555555555556,
              "#d8576b"
             ],
             [
              0.6666666666666666,
              "#ed7953"
             ],
             [
              0.7777777777777778,
              "#fb9f3a"
             ],
             [
              0.8888888888888888,
              "#fdca26"
             ],
             [
              1,
              "#f0f921"
             ]
            ],
            "type": "contour"
           }
          ],
          "contourcarpet": [
           {
            "colorbar": {
             "outlinewidth": 0,
             "ticks": ""
            },
            "type": "contourcarpet"
           }
          ],
          "heatmap": [
           {
            "colorbar": {
             "outlinewidth": 0,
             "ticks": ""
            },
            "colorscale": [
             [
              0,
              "#0d0887"
             ],
             [
              0.1111111111111111,
              "#46039f"
             ],
             [
              0.2222222222222222,
              "#7201a8"
             ],
             [
              0.3333333333333333,
              "#9c179e"
             ],
             [
              0.4444444444444444,
              "#bd3786"
             ],
             [
              0.5555555555555556,
              "#d8576b"
             ],
             [
              0.6666666666666666,
              "#ed7953"
             ],
             [
              0.7777777777777778,
              "#fb9f3a"
             ],
             [
              0.8888888888888888,
              "#fdca26"
             ],
             [
              1,
              "#f0f921"
             ]
            ],
            "type": "heatmap"
           }
          ],
          "heatmapgl": [
           {
            "colorbar": {
             "outlinewidth": 0,
             "ticks": ""
            },
            "colorscale": [
             [
              0,
              "#0d0887"
             ],
             [
              0.1111111111111111,
              "#46039f"
             ],
             [
              0.2222222222222222,
              "#7201a8"
             ],
             [
              0.3333333333333333,
              "#9c179e"
             ],
             [
              0.4444444444444444,
              "#bd3786"
             ],
             [
              0.5555555555555556,
              "#d8576b"
             ],
             [
              0.6666666666666666,
              "#ed7953"
             ],
             [
              0.7777777777777778,
              "#fb9f3a"
             ],
             [
              0.8888888888888888,
              "#fdca26"
             ],
             [
              1,
              "#f0f921"
             ]
            ],
            "type": "heatmapgl"
           }
          ],
          "histogram": [
           {
            "marker": {
             "pattern": {
              "fillmode": "overlay",
              "size": 10,
              "solidity": 0.2
             }
            },
            "type": "histogram"
           }
          ],
          "histogram2d": [
           {
            "colorbar": {
             "outlinewidth": 0,
             "ticks": ""
            },
            "colorscale": [
             [
              0,
              "#0d0887"
             ],
             [
              0.1111111111111111,
              "#46039f"
             ],
             [
              0.2222222222222222,
              "#7201a8"
             ],
             [
              0.3333333333333333,
              "#9c179e"
             ],
             [
              0.4444444444444444,
              "#bd3786"
             ],
             [
              0.5555555555555556,
              "#d8576b"
             ],
             [
              0.6666666666666666,
              "#ed7953"
             ],
             [
              0.7777777777777778,
              "#fb9f3a"
             ],
             [
              0.8888888888888888,
              "#fdca26"
             ],
             [
              1,
              "#f0f921"
             ]
            ],
            "type": "histogram2d"
           }
          ],
          "histogram2dcontour": [
           {
            "colorbar": {
             "outlinewidth": 0,
             "ticks": ""
            },
            "colorscale": [
             [
              0,
              "#0d0887"
             ],
             [
              0.1111111111111111,
              "#46039f"
             ],
             [
              0.2222222222222222,
              "#7201a8"
             ],
             [
              0.3333333333333333,
              "#9c179e"
             ],
             [
              0.4444444444444444,
              "#bd3786"
             ],
             [
              0.5555555555555556,
              "#d8576b"
             ],
             [
              0.6666666666666666,
              "#ed7953"
             ],
             [
              0.7777777777777778,
              "#fb9f3a"
             ],
             [
              0.8888888888888888,
              "#fdca26"
             ],
             [
              1,
              "#f0f921"
             ]
            ],
            "type": "histogram2dcontour"
           }
          ],
          "mesh3d": [
           {
            "colorbar": {
             "outlinewidth": 0,
             "ticks": ""
            },
            "type": "mesh3d"
           }
          ],
          "parcoords": [
           {
            "line": {
             "colorbar": {
              "outlinewidth": 0,
              "ticks": ""
             }
            },
            "type": "parcoords"
           }
          ],
          "pie": [
           {
            "automargin": true,
            "type": "pie"
           }
          ],
          "scatter": [
           {
            "fillpattern": {
             "fillmode": "overlay",
             "size": 10,
             "solidity": 0.2
            },
            "type": "scatter"
           }
          ],
          "scatter3d": [
           {
            "line": {
             "colorbar": {
              "outlinewidth": 0,
              "ticks": ""
             }
            },
            "marker": {
             "colorbar": {
              "outlinewidth": 0,
              "ticks": ""
             }
            },
            "type": "scatter3d"
           }
          ],
          "scattercarpet": [
           {
            "marker": {
             "colorbar": {
              "outlinewidth": 0,
              "ticks": ""
             }
            },
            "type": "scattercarpet"
           }
          ],
          "scattergeo": [
           {
            "marker": {
             "colorbar": {
              "outlinewidth": 0,
              "ticks": ""
             }
            },
            "type": "scattergeo"
           }
          ],
          "scattergl": [
           {
            "marker": {
             "colorbar": {
              "outlinewidth": 0,
              "ticks": ""
             }
            },
            "type": "scattergl"
           }
          ],
          "scattermapbox": [
           {
            "marker": {
             "colorbar": {
              "outlinewidth": 0,
              "ticks": ""
             }
            },
            "type": "scattermapbox"
           }
          ],
          "scatterpolar": [
           {
            "marker": {
             "colorbar": {
              "outlinewidth": 0,
              "ticks": ""
             }
            },
            "type": "scatterpolar"
           }
          ],
          "scatterpolargl": [
           {
            "marker": {
             "colorbar": {
              "outlinewidth": 0,
              "ticks": ""
             }
            },
            "type": "scatterpolargl"
           }
          ],
          "scatterternary": [
           {
            "marker": {
             "colorbar": {
              "outlinewidth": 0,
              "ticks": ""
             }
            },
            "type": "scatterternary"
           }
          ],
          "surface": [
           {
            "colorbar": {
             "outlinewidth": 0,
             "ticks": ""
            },
            "colorscale": [
             [
              0,
              "#0d0887"
             ],
             [
              0.1111111111111111,
              "#46039f"
             ],
             [
              0.2222222222222222,
              "#7201a8"
             ],
             [
              0.3333333333333333,
              "#9c179e"
             ],
             [
              0.4444444444444444,
              "#bd3786"
             ],
             [
              0.5555555555555556,
              "#d8576b"
             ],
             [
              0.6666666666666666,
              "#ed7953"
             ],
             [
              0.7777777777777778,
              "#fb9f3a"
             ],
             [
              0.8888888888888888,
              "#fdca26"
             ],
             [
              1,
              "#f0f921"
             ]
            ],
            "type": "surface"
           }
          ],
          "table": [
           {
            "cells": {
             "fill": {
              "color": "#EBF0F8"
             },
             "line": {
              "color": "white"
             }
            },
            "header": {
             "fill": {
              "color": "#C8D4E3"
             },
             "line": {
              "color": "white"
             }
            },
            "type": "table"
           }
          ]
         },
         "layout": {
          "annotationdefaults": {
           "arrowcolor": "#2a3f5f",
           "arrowhead": 0,
           "arrowwidth": 1
          },
          "autotypenumbers": "strict",
          "coloraxis": {
           "colorbar": {
            "outlinewidth": 0,
            "ticks": ""
           }
          },
          "colorscale": {
           "diverging": [
            [
             0,
             "#8e0152"
            ],
            [
             0.1,
             "#c51b7d"
            ],
            [
             0.2,
             "#de77ae"
            ],
            [
             0.3,
             "#f1b6da"
            ],
            [
             0.4,
             "#fde0ef"
            ],
            [
             0.5,
             "#f7f7f7"
            ],
            [
             0.6,
             "#e6f5d0"
            ],
            [
             0.7,
             "#b8e186"
            ],
            [
             0.8,
             "#7fbc41"
            ],
            [
             0.9,
             "#4d9221"
            ],
            [
             1,
             "#276419"
            ]
           ],
           "sequential": [
            [
             0,
             "#0d0887"
            ],
            [
             0.1111111111111111,
             "#46039f"
            ],
            [
             0.2222222222222222,
             "#7201a8"
            ],
            [
             0.3333333333333333,
             "#9c179e"
            ],
            [
             0.4444444444444444,
             "#bd3786"
            ],
            [
             0.5555555555555556,
             "#d8576b"
            ],
            [
             0.6666666666666666,
             "#ed7953"
            ],
            [
             0.7777777777777778,
             "#fb9f3a"
            ],
            [
             0.8888888888888888,
             "#fdca26"
            ],
            [
             1,
             "#f0f921"
            ]
           ],
           "sequentialminus": [
            [
             0,
             "#0d0887"
            ],
            [
             0.1111111111111111,
             "#46039f"
            ],
            [
             0.2222222222222222,
             "#7201a8"
            ],
            [
             0.3333333333333333,
             "#9c179e"
            ],
            [
             0.4444444444444444,
             "#bd3786"
            ],
            [
             0.5555555555555556,
             "#d8576b"
            ],
            [
             0.6666666666666666,
             "#ed7953"
            ],
            [
             0.7777777777777778,
             "#fb9f3a"
            ],
            [
             0.8888888888888888,
             "#fdca26"
            ],
            [
             1,
             "#f0f921"
            ]
           ]
          },
          "colorway": [
           "#636efa",
           "#EF553B",
           "#00cc96",
           "#ab63fa",
           "#FFA15A",
           "#19d3f3",
           "#FF6692",
           "#B6E880",
           "#FF97FF",
           "#FECB52"
          ],
          "font": {
           "color": "#2a3f5f"
          },
          "geo": {
           "bgcolor": "white",
           "lakecolor": "white",
           "landcolor": "#E5ECF6",
           "showlakes": true,
           "showland": true,
           "subunitcolor": "white"
          },
          "hoverlabel": {
           "align": "left"
          },
          "hovermode": "closest",
          "mapbox": {
           "style": "light"
          },
          "paper_bgcolor": "white",
          "plot_bgcolor": "#E5ECF6",
          "polar": {
           "angularaxis": {
            "gridcolor": "white",
            "linecolor": "white",
            "ticks": ""
           },
           "bgcolor": "#E5ECF6",
           "radialaxis": {
            "gridcolor": "white",
            "linecolor": "white",
            "ticks": ""
           }
          },
          "scene": {
           "xaxis": {
            "backgroundcolor": "#E5ECF6",
            "gridcolor": "white",
            "gridwidth": 2,
            "linecolor": "white",
            "showbackground": true,
            "ticks": "",
            "zerolinecolor": "white"
           },
           "yaxis": {
            "backgroundcolor": "#E5ECF6",
            "gridcolor": "white",
            "gridwidth": 2,
            "linecolor": "white",
            "showbackground": true,
            "ticks": "",
            "zerolinecolor": "white"
           },
           "zaxis": {
            "backgroundcolor": "#E5ECF6",
            "gridcolor": "white",
            "gridwidth": 2,
            "linecolor": "white",
            "showbackground": true,
            "ticks": "",
            "zerolinecolor": "white"
           }
          },
          "shapedefaults": {
           "line": {
            "color": "#2a3f5f"
           }
          },
          "ternary": {
           "aaxis": {
            "gridcolor": "white",
            "linecolor": "white",
            "ticks": ""
           },
           "baxis": {
            "gridcolor": "white",
            "linecolor": "white",
            "ticks": ""
           },
           "bgcolor": "#E5ECF6",
           "caxis": {
            "gridcolor": "white",
            "linecolor": "white",
            "ticks": ""
           }
          },
          "title": {
           "x": 0.05
          },
          "xaxis": {
           "automargin": true,
           "gridcolor": "white",
           "linecolor": "white",
           "ticks": "",
           "title": {
            "standoff": 15
           },
           "zerolinecolor": "white",
           "zerolinewidth": 2
          },
          "yaxis": {
           "automargin": true,
           "gridcolor": "white",
           "linecolor": "white",
           "ticks": "",
           "title": {
            "standoff": 15
           },
           "zerolinecolor": "white",
           "zerolinewidth": 2
          }
         }
        },
        "title": {
         "text": "In top init = 0 rougeL recall"
        }
       }
      }
     },
     "metadata": {},
     "output_type": "display_data"
    }
   ],
   "source": [
    "baseline_init_rougeL_recall = qc_config1_baseline_results_df.loc[qc_config1_baseline_results_df['in_top_init'] == 0]['init_rougeL_recall'].to_list()\n",
    "cat_1_2_3_query_init_rougeL_recall = qc_config1_exp3_results_df.loc[qc_config1_exp3_results_df['in_top_init'] == 0]['init_rougeL_recall'].to_list()\n",
    "query_cat_1_2_3_init_rougeL_recall = qc_config1_exp4_results_df.loc[qc_config1_exp4_results_df['in_top_init'] == 0]['init_rougeL_recall'].to_list()\n",
    "\n",
    "\n",
    "trace1 = go.Histogram(\n",
    "    x=baseline_init_rougeL_recall,\n",
    "    opacity=0.50,\n",
    "    name='Baseline',\n",
    "    histnorm='percent'\n",
    ")\n",
    "\n",
    "trace2 = go.Histogram(\n",
    "    x=cat_1_2_3_query_init_rougeL_recall,\n",
    "    opacity=0.50,\n",
    "    name='Category 1, 2, 3 + Query',\n",
    "    histnorm='percent'\n",
    ")\n",
    "\n",
    "trace3 = go.Histogram(\n",
    "    x=query_cat_1_2_3_init_rougeL_recall,\n",
    "    opacity=0.50,\n",
    "    name='Query + Category 1, 2, 3',\n",
    "    histnorm='percent'\n",
    ")\n",
    "\n",
    "data = [trace1, trace2, trace3]\n",
    "layout = go.Layout(barmode='group', title=\"In top init = 0 rougeL recall\")\n",
    "fig = go.Figure(data=data, layout=layout)\n",
    "\n",
    "fig.show()"
   ]
  },
  {
   "cell_type": "markdown",
   "metadata": {},
   "source": [
    "#### Graphing Init RougeL Recall vs In Top Init != 0"
   ]
  },
  {
   "cell_type": "code",
   "execution_count": 63,
   "metadata": {},
   "outputs": [
    {
     "data": {
      "application/vnd.plotly.v1+json": {
       "config": {
        "plotlyServerURL": "https://plot.ly"
       },
       "data": [
        {
         "histnorm": "percent",
         "name": "Baseline",
         "opacity": 0.5,
         "type": "histogram",
         "x": [
          0.5,
          1,
          0.95,
          1,
          1,
          1,
          1,
          1,
          1,
          0.4352941176470588,
          1,
          0.9473684210526316,
          0.5,
          1,
          1,
          0.6190476190476191,
          1,
          1,
          0.7674418604651163,
          1,
          0.967741935483871,
          0.3888888888888889,
          0.875,
          0.4615384615384615,
          1,
          1,
          0.9782608695652174,
          1,
          1,
          0.3850415512465374,
          0.8394648829431438,
          0.6008403361344538,
          0.1396396396396396,
          0.8301886792452831,
          0.9930555555555556,
          0.3111111111111111,
          0.2916666666666667,
          0.7045454545454546,
          0.4945054945054945,
          0.6360153256704981,
          0.4533029612756264,
          1,
          0.3166666666666666,
          0.7603305785123967,
          0.959731543624161,
          0.6436781609195402,
          0.9838709677419356,
          1,
          1,
          1,
          0.4444444444444444,
          0.9583333333333334,
          0.92619926199262,
          0.8118811881188119,
          0.8851351351351351,
          0.8734177215189873,
          1,
          0.9523809523809524,
          0.7681159420289855,
          0.98989898989899,
          0.9146341463414634,
          0.7336956521739131,
          1,
          0.7471264367816092,
          0.696969696969697,
          0.9594594594594594,
          0.6176470588235294,
          0.6521739130434783,
          1,
          0.6,
          0.9,
          1,
          1,
          0.6153846153846154,
          1,
          1,
          1,
          1,
          0.8064516129032258,
          0.9558823529411764,
          0.2524916943521594,
          0.9556962025316456,
          0.7431192660550459,
          1,
          0.625,
          1,
          0.8584905660377359,
          1,
          0.8545454545454545,
          0.9294117647058824,
          0.935251798561151,
          0.5714285714285714,
          1,
          0.4242424242424242,
          0.9166666666666666,
          1,
          0.4074074074074074,
          1,
          1,
          1,
          1,
          0.9776119402985076,
          0.7974683544303798,
          0.9,
          0.8222222222222222,
          1,
          1,
          1,
          1,
          1,
          0.9622641509433962,
          1,
          1,
          1,
          1,
          1,
          1,
          1,
          0.9805825242718448,
          1,
          1,
          0.9833333333333332,
          1,
          0.8542713567839196,
          0.2087542087542087,
          0.910828025477707,
          0.6114285714285714,
          0.9464285714285714,
          0.9147727272727272,
          1,
          0.65,
          0.6013986013986014,
          0.9444444444444444,
          1,
          0.717391304347826,
          0.9896907216494846,
          1,
          0.4105461393596987,
          0.3684210526315789,
          0.8,
          0.9651162790697676,
          0.7142857142857143,
          0.8666666666666667,
          0.9591836734693876,
          0.7560975609756098,
          1,
          1,
          1,
          1,
          1,
          0.9245283018867924,
          0.9807692307692308,
          0.4210526315789473,
          1,
          0.6879432624113475,
          0.3942307692307692,
          1,
          0.9642857142857144,
          0.6666666666666666,
          1,
          1,
          1,
          0.5,
          1,
          1,
          0.4285714285714285,
          0.7647058823529411,
          0.9899497487437184,
          0.4782608695652174,
          0.9761904761904762,
          0.8947368421052632,
          1,
          1,
          0.84,
          0.7619047619047619,
          0.96875,
          0.9787234042553192,
          0.8947368421052632,
          1,
          1,
          0.3811475409836065,
          0.3326810176125244,
          0.1766004415011037,
          0.8301886792452831,
          0.9824561403508772,
          1,
          0.6394366197183099,
          0.4533029612756264,
          0.4117647058823529,
          0.25,
          0.8084112149532711,
          0.9776119402985076,
          0.2788461538461538,
          0.4976415094339622,
          1,
          0.9362745098039216,
          0.8120300751879699,
          0.9448818897637796,
          0.9807692307692308,
          0.92619926199262,
          0.6206896551724138,
          0.961783439490446,
          0.9696969696969696,
          0.8902439024390244,
          0.7953795379537953,
          0.9850746268656716,
          1,
          0.979591836734694,
          1,
          1,
          1,
          0.9230769230769232,
          0.9444444444444444,
          0.375,
          0.6,
          1,
          0.4095238095238095,
          1,
          0.8987341772151899,
          0.5181818181818182,
          0.9318181818181818,
          0.7454545454545455,
          0.951219512195122,
          0.5,
          0.9166666666666666,
          0.9923076923076924,
          0.5673758865248227,
          1,
          0.5294117647058824,
          0.8641975308641975,
          1,
          1,
          1,
          1,
          1,
          0.8421052631578947,
          1,
          1,
          0.3975903614457831,
          0.9318181818181818,
          1,
          1,
          1,
          1,
          1,
          1,
          0.7553191489361702,
          1,
          1,
          1,
          0.8831168831168831,
          0.8625,
          1,
          1,
          1,
          1,
          1,
          0.2352941176470588,
          0.9527027027027029,
          1,
          0.91,
          0.3673469387755102,
          0.9,
          0.851063829787234,
          1,
          1,
          0.935483870967742,
          0.8717948717948718,
          1,
          0.5,
          1,
          1,
          0.8459016393442623,
          0.978494623655914,
          0.9761904761904762,
          1,
          0.8888888888888888,
          0.7551020408163265,
          1,
          1,
          0.726530612244898,
          1,
          1,
          0.8571428571428571,
          0.6363636363636364,
          0.7931034482758621,
          1,
          0.3333333333333333,
          0.4210526315789473,
          0.3939393939393939,
          1,
          0.8571428571428571,
          0.9166666666666666,
          0.5531914893617021,
          1,
          0.9696969696969696,
          0.6790123456790124,
          0.945945945945946,
          0.3157894736842105,
          0.4730538922155688,
          0.6756756756756757,
          0.9454545454545454,
          1,
          0.1396396396396396,
          0.7854545454545454,
          0.8872180451127819,
          1,
          0.6026936026936027,
          0.9263157894736842,
          0.4444444444444444,
          0.4285714285714285,
          1,
          0.967741935483871,
          0.8461538461538461,
          1,
          0.76,
          1,
          0.2205882352941176,
          1,
          0.7586206896551724,
          0.5272727272727272,
          0.5833333333333334,
          1,
          1,
          0.8846153846153846,
          0.2034883720930232,
          1,
          0.2205128205128205,
          0.9733333333333334,
          1,
          0.5088757396449705,
          0.3692307692307692,
          1,
          0.6428571428571429,
          1,
          0.9333333333333332,
          1,
          0.5,
          0.5121951219512195,
          1,
          1,
          1,
          0.75,
          1,
          0.36,
          1,
          0.272,
          0.2631578947368421,
          0.6095890410958904,
          0.8666666666666667,
          1,
          0.6153846153846154,
          1,
          0.4666666666666667,
          1,
          1,
          0.4038461538461538,
          1,
          0.7294117647058823,
          0.4827586206896552,
          1,
          0.8333333333333334,
          0.375,
          0.9493670886075948,
          1,
          1,
          0.8666666666666667,
          1,
          1,
          1,
          0.7142857142857143,
          0.6363636363636364,
          1,
          0.803030303030303,
          1,
          1,
          0.989010989010989,
          1,
          1,
          0.8888888888888888,
          0.3611111111111111,
          1,
          1,
          1,
          1,
          1
         ]
        },
        {
         "histnorm": "percent",
         "name": "Category 1, 2, 3 + Query",
         "opacity": 0.5,
         "type": "histogram",
         "x": [
          0.4090909090909091,
          1,
          0.95,
          1,
          1,
          1,
          1,
          1,
          1,
          0.4352941176470588,
          1,
          0.9473684210526316,
          0.3333333333333333,
          1,
          1,
          0.6842105263157895,
          0.6666666666666666,
          0.851063829787234,
          1,
          0.4375,
          1,
          0.7674418604651163,
          1,
          0.967741935483871,
          0.4074074074074074,
          0.875,
          0.4615384615384615,
          1,
          1,
          0.9782608695652174,
          1,
          1,
          0.3850415512465374,
          0.8394648829431438,
          0.8928571428571429,
          0.6008403361344538,
          0.4639639639639639,
          0.8301886792452831,
          0.9930555555555556,
          0.3111111111111111,
          0.1978723404255319,
          0.2916666666666667,
          0.7045454545454546,
          0.4945054945054945,
          0.6360153256704981,
          0.4533029612756264,
          0.7523809523809524,
          1,
          0.1791666666666666,
          0.7603305785123967,
          0.959731543624161,
          0.6436781609195402,
          0.9838709677419356,
          1,
          1,
          1,
          0.6666666666666666,
          0.9583333333333334,
          0.92619926199262,
          0.8118811881188119,
          0.8851351351351351,
          0.8734177215189873,
          1,
          0.9523809523809524,
          0.7681159420289855,
          0.98989898989899,
          0.9146341463414634,
          0.7336956521739131,
          1,
          0.367816091954023,
          0.696969696969697,
          0.8108108108108109,
          0.6617647058823529,
          0.5217391304347826,
          1,
          0.6,
          0.6875,
          0.9,
          1,
          1,
          0.6153846153846154,
          1,
          1,
          1,
          1,
          0.8064516129032258,
          0.5882352941176471,
          0.2524916943521594,
          1,
          0.9556962025316456,
          0.7431192660550459,
          1,
          0.625,
          0.6521739130434783,
          1,
          0.8584905660377359,
          1,
          0.8545454545454545,
          0.9294117647058824,
          0.4881656804733728,
          0.9923076923076924,
          0.935251798561151,
          0.5714285714285714,
          1,
          0.4848484848484848,
          0.9166666666666666,
          1,
          0.3137254901960784,
          0.9753086419753086,
          1,
          1,
          1,
          1,
          0.9776119402985076,
          0.7974683544303798,
          0.9,
          0.8222222222222222,
          1,
          1,
          0.3473684210526316,
          1,
          1,
          0.9622641509433962,
          1,
          1,
          1,
          1,
          1,
          1,
          1,
          1,
          1,
          0.9805825242718448,
          1,
          1,
          0.9833333333333332,
          1,
          0.8542713567839196,
          0.2457912457912457,
          0.7452229299363057,
          0.9464285714285714,
          0.9147727272727272,
          0.75,
          0.55,
          0.6013986013986014,
          0.9444444444444444,
          1,
          0.9896907216494846,
          1,
          0.4105461393596987,
          0.3684210526315789,
          0.8,
          0.9651162790697676,
          0.6190476190476191,
          0.8666666666666667,
          0.9591836734693876,
          0.7560975609756098,
          1,
          1,
          1,
          1,
          1,
          0.2264150943396226,
          0.9807692307692308,
          0.4210526315789473,
          1,
          0.6879432624113475,
          0.4423076923076923,
          1,
          0.5454545454545454,
          0.9230769230769232,
          0.9642857142857144,
          1,
          0.5833333333333334,
          1,
          1,
          1,
          0.5,
          1,
          0.3846153846153846,
          1,
          0.5714285714285714,
          0.4444444444444444,
          0.7647058823529411,
          0.75,
          0.9899497487437184,
          0.4782608695652174,
          0.9761904761904762,
          0.8947368421052632,
          1,
          1,
          0.84,
          0.7619047619047619,
          0.96875,
          0.9787234042553192,
          0.8947368421052632,
          1,
          1,
          0.3483606557377049,
          0.3326810176125244,
          0.9444444444444444,
          0.9056603773584906,
          0.1766004415011037,
          0.8301886792452831,
          0.9824561403508772,
          1,
          0.6394366197183099,
          0.3530751708428246,
          0.4705882352941176,
          0.25,
          0.8084112149532711,
          0.9776119402985076,
          0.2884615384615384,
          0.4976415094339622,
          1,
          0.9362745098039216,
          0.8120300751879699,
          0.9448818897637796,
          0.9807692307692308,
          0.92619926199262,
          0.6206896551724138,
          0.3630573248407643,
          0.9696969696969696,
          0.8902439024390244,
          0.7953795379537953,
          0.9850746268656716,
          1,
          0.979591836734694,
          0.6521739130434783,
          1,
          0.5238095238095238,
          0.9230769230769232,
          0.9444444444444444,
          0.375,
          0.8,
          1,
          0.8285714285714286,
          1,
          0.2658227848101265,
          0.2545454545454545,
          0.3829787234042553,
          0.3863636363636363,
          0.7454545454545455,
          0.2794117647058823,
          0.951219512195122,
          0.5833333333333334,
          0.9166666666666666,
          0.9923076923076924,
          0.5673758865248227,
          1,
          0.8823529411764706,
          0.8641975308641975,
          1,
          0.4259259259259259,
          1,
          1,
          0.5714285714285714,
          1,
          1,
          1,
          0.293103448275862,
          1,
          1,
          0.9318181818181818,
          1,
          1,
          1,
          1,
          1,
          1,
          1,
          0.3488372093023256,
          1,
          1,
          1,
          0.8802816901408451,
          0.8831168831168831,
          0.8625,
          1,
          1,
          1,
          1,
          0.6557377049180327,
          0.2941176470588235,
          1,
          0.91,
          0.979591836734694,
          1,
          0.9,
          0.851063829787234,
          1,
          1,
          0.2795698924731182,
          0.8717948717948718,
          1,
          0.5,
          1,
          1,
          0.8459016393442623,
          0.978494623655914,
          0.9761904761904762,
          1,
          0.8888888888888888,
          0.7551020408163265,
          1,
          1,
          0.726530612244898,
          1,
          0.8529411764705882,
          1,
          0.8571428571428571,
          0.6363636363636364,
          0.7931034482758621,
          1,
          0.4210526315789473,
          0.3636363636363636,
          1,
          0.8571428571428571,
          0.9166666666666666,
          0.4468085106382978,
          1,
          0.9696969696969696,
          0.6790123456790124,
          0.945945945945946,
          0.3157894736842105,
          0.4730538922155688,
          0.6756756756756757,
          0.9454545454545454,
          1,
          0.4639639639639639,
          0.7854545454545454,
          0.8872180451127819,
          1,
          0.6026936026936027,
          0.9263157894736842,
          0.5,
          0.3571428571428571,
          1,
          0.3043478260869565,
          0.967741935483871,
          0.8461538461538461,
          1,
          0.68,
          1,
          0.2647058823529412,
          1,
          0.7586206896551724,
          0.8363636363636363,
          1,
          1,
          1,
          0.8846153846153846,
          0.6802325581395349,
          1,
          0.958974358974359,
          0.9066666666666666,
          1,
          1,
          0.6982248520710059,
          0.3692307692307692,
          1,
          0.4285714285714285,
          0.9333333333333332,
          1,
          1,
          0.5,
          0.5121951219512195,
          1,
          1,
          1,
          0.75,
          1,
          0.32,
          1,
          0.528,
          0.3157894736842105,
          0.6095890410958904,
          0.8666666666666667,
          1,
          0.6153846153846154,
          1,
          0.5333333333333333,
          1,
          1,
          0.4807692307692308,
          1,
          0.7294117647058823,
          1,
          0.8333333333333334,
          0.9493670886075948,
          1,
          1,
          0.8666666666666667,
          1,
          0.5769230769230769,
          1,
          0.2368421052631578,
          1,
          0.7142857142857143,
          0.3636363636363636,
          0.46875,
          1,
          1,
          0.803030303030303,
          1,
          1,
          0.989010989010989,
          1,
          1,
          0.5555555555555556,
          0.3611111111111111,
          0.5882352941176471,
          1,
          1,
          1,
          0.6206896551724138,
          1,
          1,
          0.3235294117647059
         ]
        },
        {
         "histnorm": "percent",
         "name": "Query + Category 1, 2, 3",
         "opacity": 0.5,
         "type": "histogram",
         "x": [
          0.5,
          1,
          0.95,
          1,
          1,
          1,
          1,
          1,
          1,
          0.4352941176470588,
          1,
          0.9473684210526316,
          0.3333333333333333,
          1,
          1,
          0.6842105263157895,
          0.6190476190476191,
          0.851063829787234,
          1,
          0.4375,
          1,
          0.7674418604651163,
          1,
          0.967741935483871,
          0.4074074074074074,
          0.875,
          0.4615384615384615,
          1,
          1,
          0.9782608695652174,
          1,
          1,
          0.3850415512465374,
          0.8394648829431438,
          0.8928571428571429,
          0.6008403361344538,
          0.4639639639639639,
          0.8301886792452831,
          0.9930555555555556,
          0.4555555555555555,
          0.1978723404255319,
          0.2916666666666667,
          0.7045454545454546,
          0.4945054945054945,
          0.6360153256704981,
          0.4533029612756264,
          0.7523809523809524,
          1,
          0.1791666666666666,
          0.7603305785123967,
          0.959731543624161,
          0.6436781609195402,
          0.9838709677419356,
          1,
          1,
          1,
          0.6666666666666666,
          0.9583333333333334,
          0.92619926199262,
          0.8118811881188119,
          0.8851351351351351,
          0.8734177215189873,
          1,
          0.9523809523809524,
          0.7681159420289855,
          0.98989898989899,
          0.9146341463414634,
          0.7336956521739131,
          1,
          0.7471264367816092,
          0.696969696969697,
          0.9594594594594594,
          0.6617647058823529,
          0.5217391304347826,
          1,
          0.6875,
          0.9,
          1,
          1,
          0.6153846153846154,
          1,
          1,
          1,
          1,
          0.8064516129032258,
          0.9558823529411764,
          0.2524916943521594,
          1,
          0.9556962025316456,
          0.7431192660550459,
          1,
          0.625,
          0.6521739130434783,
          1,
          0.8584905660377359,
          1,
          0.8545454545454545,
          0.9294117647058824,
          0.4881656804733728,
          0.9923076923076924,
          0.935251798561151,
          0.5714285714285714,
          1,
          0.4242424242424242,
          0.9166666666666666,
          1,
          0.8823529411764706,
          0.9753086419753086,
          1,
          1,
          1,
          1,
          0.9776119402985076,
          0.7974683544303798,
          0.9,
          0.8222222222222222,
          1,
          1,
          1,
          1,
          1,
          0.9622641509433962,
          1,
          1,
          1,
          1,
          1,
          1,
          1,
          1,
          0.9805825242718448,
          1,
          1,
          0.9833333333333332,
          1,
          0.8542713567839196,
          0.5387205387205387,
          0.910828025477707,
          0.9464285714285714,
          0.9147727272727272,
          1,
          0.55,
          0.6013986013986014,
          0.9444444444444444,
          1,
          0.717391304347826,
          0.9896907216494846,
          1,
          0.4105461393596987,
          0.3684210526315789,
          0.8,
          0.9651162790697676,
          0.6190476190476191,
          0.8666666666666667,
          0.9591836734693876,
          0.7560975609756098,
          1,
          1,
          1,
          1,
          1,
          0.2264150943396226,
          0.9807692307692308,
          0.4210526315789473,
          1,
          0.6879432624113475,
          0.4423076923076923,
          1,
          1,
          0.9230769230769232,
          0.9642857142857144,
          1,
          0.6666666666666666,
          1,
          1,
          1,
          0.5,
          1,
          0.5384615384615384,
          1,
          0.5714285714285714,
          0.4444444444444444,
          0.7647058823529411,
          0.75,
          0.9899497487437184,
          0.4347826086956521,
          0.9761904761904762,
          0.8947368421052632,
          1,
          1,
          0.84,
          0.7619047619047619,
          0.96875,
          0.9787234042553192,
          0.8947368421052632,
          1,
          1,
          0.3483606557377049,
          0.3326810176125244,
          0.9444444444444444,
          0.9056603773584906,
          0.1766004415011037,
          0.8301886792452831,
          0.9824561403508772,
          1,
          0.6394366197183099,
          0.4533029612756264,
          0.4705882352941176,
          0.2625,
          0.8084112149532711,
          0.9776119402985076,
          0.2884615384615384,
          0.4976415094339622,
          1,
          0.9362745098039216,
          0.8120300751879699,
          0.9448818897637796,
          0.9807692307692308,
          0.92619926199262,
          0.6206896551724138,
          0.961783439490446,
          0.9696969696969696,
          0.8902439024390244,
          0.7953795379537953,
          0.9850746268656716,
          1,
          0.979591836734694,
          1,
          1,
          1,
          0.9230769230769232,
          0.9444444444444444,
          0.375,
          0.6,
          1,
          0.8285714285714286,
          1,
          0.2658227848101265,
          0.5181818181818182,
          0.3829787234042553,
          0.3863636363636363,
          0.7454545454545455,
          0.3970588235294117,
          0.951219512195122,
          0.5833333333333334,
          0.9166666666666666,
          0.9923076923076924,
          0.5673758865248227,
          1,
          0.8823529411764706,
          0.8641975308641975,
          1,
          0.4259259259259259,
          1,
          1,
          1,
          1,
          1,
          1,
          1,
          1,
          1,
          0.9318181818181818,
          1,
          1,
          1,
          1,
          1,
          1,
          0.7553191489361702,
          0.3255813953488372,
          0.3888888888888889,
          1,
          1,
          1,
          0.8802816901408451,
          0.8831168831168831,
          0.8625,
          1,
          1,
          1,
          1,
          1,
          0.2941176470588235,
          0.9527027027027029,
          1,
          0.91,
          0.979591836734694,
          1,
          0.9,
          0.851063829787234,
          1,
          1,
          0.935483870967742,
          0.8717948717948718,
          1,
          0.5714285714285714,
          1,
          1,
          0.8459016393442623,
          0.978494623655914,
          0.9761904761904762,
          1,
          1,
          0.8888888888888888,
          0.7551020408163265,
          1,
          1,
          0.726530612244898,
          1,
          0.8529411764705882,
          1,
          0.8571428571428571,
          0.6363636363636364,
          0.7931034482758621,
          1,
          0.4210526315789473,
          0.3636363636363636,
          1,
          0.8571428571428571,
          0.9166666666666666,
          0.5531914893617021,
          1,
          0.9696969696969696,
          0.6790123456790124,
          0.945945945945946,
          0.3157894736842105,
          0.4730538922155688,
          0.6756756756756757,
          0.9454545454545454,
          1,
          0.4639639639639639,
          0.7854545454545454,
          0.8872180451127819,
          1,
          0.4646464646464646,
          0.9263157894736842,
          0.5,
          0.3571428571428571,
          1,
          0.3188405797101449,
          0.967741935483871,
          0.8461538461538461,
          1,
          0.68,
          1,
          0.2647058823529412,
          1,
          0.7586206896551724,
          1,
          0.5833333333333334,
          1,
          1,
          0.8846153846153846,
          0.6802325581395349,
          1,
          0.958974358974359,
          0.9066666666666666,
          1,
          1,
          0.6982248520710059,
          0.3692307692307692,
          1,
          0.4285714285714285,
          0.9333333333333332,
          1,
          1,
          0.5,
          0.5121951219512195,
          1,
          1,
          1,
          0.75,
          1,
          0.32,
          1,
          0.528,
          0.3157894736842105,
          0.6095890410958904,
          0.8666666666666667,
          1,
          0.6153846153846154,
          1,
          0.5333333333333333,
          1,
          0.3888888888888889,
          0.4807692307692308,
          1,
          0.7294117647058823,
          1,
          0.8333333333333334,
          0.9493670886075948,
          1,
          1,
          0.8666666666666667,
          1,
          0.5769230769230769,
          1,
          1,
          0.7142857142857143,
          0.3636363636363636,
          1,
          1,
          1,
          0.803030303030303,
          1,
          1,
          0.989010989010989,
          1,
          1,
          0.8888888888888888,
          0.3611111111111111,
          0.5882352941176471,
          1,
          1,
          1,
          1,
          1,
          0.3235294117647059
         ]
        }
       ],
       "layout": {
        "barmode": "group",
        "template": {
         "data": {
          "bar": [
           {
            "error_x": {
             "color": "#2a3f5f"
            },
            "error_y": {
             "color": "#2a3f5f"
            },
            "marker": {
             "line": {
              "color": "#E5ECF6",
              "width": 0.5
             },
             "pattern": {
              "fillmode": "overlay",
              "size": 10,
              "solidity": 0.2
             }
            },
            "type": "bar"
           }
          ],
          "barpolar": [
           {
            "marker": {
             "line": {
              "color": "#E5ECF6",
              "width": 0.5
             },
             "pattern": {
              "fillmode": "overlay",
              "size": 10,
              "solidity": 0.2
             }
            },
            "type": "barpolar"
           }
          ],
          "carpet": [
           {
            "aaxis": {
             "endlinecolor": "#2a3f5f",
             "gridcolor": "white",
             "linecolor": "white",
             "minorgridcolor": "white",
             "startlinecolor": "#2a3f5f"
            },
            "baxis": {
             "endlinecolor": "#2a3f5f",
             "gridcolor": "white",
             "linecolor": "white",
             "minorgridcolor": "white",
             "startlinecolor": "#2a3f5f"
            },
            "type": "carpet"
           }
          ],
          "choropleth": [
           {
            "colorbar": {
             "outlinewidth": 0,
             "ticks": ""
            },
            "type": "choropleth"
           }
          ],
          "contour": [
           {
            "colorbar": {
             "outlinewidth": 0,
             "ticks": ""
            },
            "colorscale": [
             [
              0,
              "#0d0887"
             ],
             [
              0.1111111111111111,
              "#46039f"
             ],
             [
              0.2222222222222222,
              "#7201a8"
             ],
             [
              0.3333333333333333,
              "#9c179e"
             ],
             [
              0.4444444444444444,
              "#bd3786"
             ],
             [
              0.5555555555555556,
              "#d8576b"
             ],
             [
              0.6666666666666666,
              "#ed7953"
             ],
             [
              0.7777777777777778,
              "#fb9f3a"
             ],
             [
              0.8888888888888888,
              "#fdca26"
             ],
             [
              1,
              "#f0f921"
             ]
            ],
            "type": "contour"
           }
          ],
          "contourcarpet": [
           {
            "colorbar": {
             "outlinewidth": 0,
             "ticks": ""
            },
            "type": "contourcarpet"
           }
          ],
          "heatmap": [
           {
            "colorbar": {
             "outlinewidth": 0,
             "ticks": ""
            },
            "colorscale": [
             [
              0,
              "#0d0887"
             ],
             [
              0.1111111111111111,
              "#46039f"
             ],
             [
              0.2222222222222222,
              "#7201a8"
             ],
             [
              0.3333333333333333,
              "#9c179e"
             ],
             [
              0.4444444444444444,
              "#bd3786"
             ],
             [
              0.5555555555555556,
              "#d8576b"
             ],
             [
              0.6666666666666666,
              "#ed7953"
             ],
             [
              0.7777777777777778,
              "#fb9f3a"
             ],
             [
              0.8888888888888888,
              "#fdca26"
             ],
             [
              1,
              "#f0f921"
             ]
            ],
            "type": "heatmap"
           }
          ],
          "heatmapgl": [
           {
            "colorbar": {
             "outlinewidth": 0,
             "ticks": ""
            },
            "colorscale": [
             [
              0,
              "#0d0887"
             ],
             [
              0.1111111111111111,
              "#46039f"
             ],
             [
              0.2222222222222222,
              "#7201a8"
             ],
             [
              0.3333333333333333,
              "#9c179e"
             ],
             [
              0.4444444444444444,
              "#bd3786"
             ],
             [
              0.5555555555555556,
              "#d8576b"
             ],
             [
              0.6666666666666666,
              "#ed7953"
             ],
             [
              0.7777777777777778,
              "#fb9f3a"
             ],
             [
              0.8888888888888888,
              "#fdca26"
             ],
             [
              1,
              "#f0f921"
             ]
            ],
            "type": "heatmapgl"
           }
          ],
          "histogram": [
           {
            "marker": {
             "pattern": {
              "fillmode": "overlay",
              "size": 10,
              "solidity": 0.2
             }
            },
            "type": "histogram"
           }
          ],
          "histogram2d": [
           {
            "colorbar": {
             "outlinewidth": 0,
             "ticks": ""
            },
            "colorscale": [
             [
              0,
              "#0d0887"
             ],
             [
              0.1111111111111111,
              "#46039f"
             ],
             [
              0.2222222222222222,
              "#7201a8"
             ],
             [
              0.3333333333333333,
              "#9c179e"
             ],
             [
              0.4444444444444444,
              "#bd3786"
             ],
             [
              0.5555555555555556,
              "#d8576b"
             ],
             [
              0.6666666666666666,
              "#ed7953"
             ],
             [
              0.7777777777777778,
              "#fb9f3a"
             ],
             [
              0.8888888888888888,
              "#fdca26"
             ],
             [
              1,
              "#f0f921"
             ]
            ],
            "type": "histogram2d"
           }
          ],
          "histogram2dcontour": [
           {
            "colorbar": {
             "outlinewidth": 0,
             "ticks": ""
            },
            "colorscale": [
             [
              0,
              "#0d0887"
             ],
             [
              0.1111111111111111,
              "#46039f"
             ],
             [
              0.2222222222222222,
              "#7201a8"
             ],
             [
              0.3333333333333333,
              "#9c179e"
             ],
             [
              0.4444444444444444,
              "#bd3786"
             ],
             [
              0.5555555555555556,
              "#d8576b"
             ],
             [
              0.6666666666666666,
              "#ed7953"
             ],
             [
              0.7777777777777778,
              "#fb9f3a"
             ],
             [
              0.8888888888888888,
              "#fdca26"
             ],
             [
              1,
              "#f0f921"
             ]
            ],
            "type": "histogram2dcontour"
           }
          ],
          "mesh3d": [
           {
            "colorbar": {
             "outlinewidth": 0,
             "ticks": ""
            },
            "type": "mesh3d"
           }
          ],
          "parcoords": [
           {
            "line": {
             "colorbar": {
              "outlinewidth": 0,
              "ticks": ""
             }
            },
            "type": "parcoords"
           }
          ],
          "pie": [
           {
            "automargin": true,
            "type": "pie"
           }
          ],
          "scatter": [
           {
            "fillpattern": {
             "fillmode": "overlay",
             "size": 10,
             "solidity": 0.2
            },
            "type": "scatter"
           }
          ],
          "scatter3d": [
           {
            "line": {
             "colorbar": {
              "outlinewidth": 0,
              "ticks": ""
             }
            },
            "marker": {
             "colorbar": {
              "outlinewidth": 0,
              "ticks": ""
             }
            },
            "type": "scatter3d"
           }
          ],
          "scattercarpet": [
           {
            "marker": {
             "colorbar": {
              "outlinewidth": 0,
              "ticks": ""
             }
            },
            "type": "scattercarpet"
           }
          ],
          "scattergeo": [
           {
            "marker": {
             "colorbar": {
              "outlinewidth": 0,
              "ticks": ""
             }
            },
            "type": "scattergeo"
           }
          ],
          "scattergl": [
           {
            "marker": {
             "colorbar": {
              "outlinewidth": 0,
              "ticks": ""
             }
            },
            "type": "scattergl"
           }
          ],
          "scattermapbox": [
           {
            "marker": {
             "colorbar": {
              "outlinewidth": 0,
              "ticks": ""
             }
            },
            "type": "scattermapbox"
           }
          ],
          "scatterpolar": [
           {
            "marker": {
             "colorbar": {
              "outlinewidth": 0,
              "ticks": ""
             }
            },
            "type": "scatterpolar"
           }
          ],
          "scatterpolargl": [
           {
            "marker": {
             "colorbar": {
              "outlinewidth": 0,
              "ticks": ""
             }
            },
            "type": "scatterpolargl"
           }
          ],
          "scatterternary": [
           {
            "marker": {
             "colorbar": {
              "outlinewidth": 0,
              "ticks": ""
             }
            },
            "type": "scatterternary"
           }
          ],
          "surface": [
           {
            "colorbar": {
             "outlinewidth": 0,
             "ticks": ""
            },
            "colorscale": [
             [
              0,
              "#0d0887"
             ],
             [
              0.1111111111111111,
              "#46039f"
             ],
             [
              0.2222222222222222,
              "#7201a8"
             ],
             [
              0.3333333333333333,
              "#9c179e"
             ],
             [
              0.4444444444444444,
              "#bd3786"
             ],
             [
              0.5555555555555556,
              "#d8576b"
             ],
             [
              0.6666666666666666,
              "#ed7953"
             ],
             [
              0.7777777777777778,
              "#fb9f3a"
             ],
             [
              0.8888888888888888,
              "#fdca26"
             ],
             [
              1,
              "#f0f921"
             ]
            ],
            "type": "surface"
           }
          ],
          "table": [
           {
            "cells": {
             "fill": {
              "color": "#EBF0F8"
             },
             "line": {
              "color": "white"
             }
            },
            "header": {
             "fill": {
              "color": "#C8D4E3"
             },
             "line": {
              "color": "white"
             }
            },
            "type": "table"
           }
          ]
         },
         "layout": {
          "annotationdefaults": {
           "arrowcolor": "#2a3f5f",
           "arrowhead": 0,
           "arrowwidth": 1
          },
          "autotypenumbers": "strict",
          "coloraxis": {
           "colorbar": {
            "outlinewidth": 0,
            "ticks": ""
           }
          },
          "colorscale": {
           "diverging": [
            [
             0,
             "#8e0152"
            ],
            [
             0.1,
             "#c51b7d"
            ],
            [
             0.2,
             "#de77ae"
            ],
            [
             0.3,
             "#f1b6da"
            ],
            [
             0.4,
             "#fde0ef"
            ],
            [
             0.5,
             "#f7f7f7"
            ],
            [
             0.6,
             "#e6f5d0"
            ],
            [
             0.7,
             "#b8e186"
            ],
            [
             0.8,
             "#7fbc41"
            ],
            [
             0.9,
             "#4d9221"
            ],
            [
             1,
             "#276419"
            ]
           ],
           "sequential": [
            [
             0,
             "#0d0887"
            ],
            [
             0.1111111111111111,
             "#46039f"
            ],
            [
             0.2222222222222222,
             "#7201a8"
            ],
            [
             0.3333333333333333,
             "#9c179e"
            ],
            [
             0.4444444444444444,
             "#bd3786"
            ],
            [
             0.5555555555555556,
             "#d8576b"
            ],
            [
             0.6666666666666666,
             "#ed7953"
            ],
            [
             0.7777777777777778,
             "#fb9f3a"
            ],
            [
             0.8888888888888888,
             "#fdca26"
            ],
            [
             1,
             "#f0f921"
            ]
           ],
           "sequentialminus": [
            [
             0,
             "#0d0887"
            ],
            [
             0.1111111111111111,
             "#46039f"
            ],
            [
             0.2222222222222222,
             "#7201a8"
            ],
            [
             0.3333333333333333,
             "#9c179e"
            ],
            [
             0.4444444444444444,
             "#bd3786"
            ],
            [
             0.5555555555555556,
             "#d8576b"
            ],
            [
             0.6666666666666666,
             "#ed7953"
            ],
            [
             0.7777777777777778,
             "#fb9f3a"
            ],
            [
             0.8888888888888888,
             "#fdca26"
            ],
            [
             1,
             "#f0f921"
            ]
           ]
          },
          "colorway": [
           "#636efa",
           "#EF553B",
           "#00cc96",
           "#ab63fa",
           "#FFA15A",
           "#19d3f3",
           "#FF6692",
           "#B6E880",
           "#FF97FF",
           "#FECB52"
          ],
          "font": {
           "color": "#2a3f5f"
          },
          "geo": {
           "bgcolor": "white",
           "lakecolor": "white",
           "landcolor": "#E5ECF6",
           "showlakes": true,
           "showland": true,
           "subunitcolor": "white"
          },
          "hoverlabel": {
           "align": "left"
          },
          "hovermode": "closest",
          "mapbox": {
           "style": "light"
          },
          "paper_bgcolor": "white",
          "plot_bgcolor": "#E5ECF6",
          "polar": {
           "angularaxis": {
            "gridcolor": "white",
            "linecolor": "white",
            "ticks": ""
           },
           "bgcolor": "#E5ECF6",
           "radialaxis": {
            "gridcolor": "white",
            "linecolor": "white",
            "ticks": ""
           }
          },
          "scene": {
           "xaxis": {
            "backgroundcolor": "#E5ECF6",
            "gridcolor": "white",
            "gridwidth": 2,
            "linecolor": "white",
            "showbackground": true,
            "ticks": "",
            "zerolinecolor": "white"
           },
           "yaxis": {
            "backgroundcolor": "#E5ECF6",
            "gridcolor": "white",
            "gridwidth": 2,
            "linecolor": "white",
            "showbackground": true,
            "ticks": "",
            "zerolinecolor": "white"
           },
           "zaxis": {
            "backgroundcolor": "#E5ECF6",
            "gridcolor": "white",
            "gridwidth": 2,
            "linecolor": "white",
            "showbackground": true,
            "ticks": "",
            "zerolinecolor": "white"
           }
          },
          "shapedefaults": {
           "line": {
            "color": "#2a3f5f"
           }
          },
          "ternary": {
           "aaxis": {
            "gridcolor": "white",
            "linecolor": "white",
            "ticks": ""
           },
           "baxis": {
            "gridcolor": "white",
            "linecolor": "white",
            "ticks": ""
           },
           "bgcolor": "#E5ECF6",
           "caxis": {
            "gridcolor": "white",
            "linecolor": "white",
            "ticks": ""
           }
          },
          "title": {
           "x": 0.05
          },
          "xaxis": {
           "automargin": true,
           "gridcolor": "white",
           "linecolor": "white",
           "ticks": "",
           "title": {
            "standoff": 15
           },
           "zerolinecolor": "white",
           "zerolinewidth": 2
          },
          "yaxis": {
           "automargin": true,
           "gridcolor": "white",
           "linecolor": "white",
           "ticks": "",
           "title": {
            "standoff": 15
           },
           "zerolinecolor": "white",
           "zerolinewidth": 2
          }
         }
        },
        "title": {
         "text": "In top init <> 0 rougeL recall"
        }
       }
      }
     },
     "metadata": {},
     "output_type": "display_data"
    }
   ],
   "source": [
    "baseline_init_rougeL_recall = qc_config1_baseline_results_df.loc[qc_config1_baseline_results_df['in_top_init'] != 0]['init_rougeL_recall'].to_list()\n",
    "cat_1_2_3_query_init_rougeL_recall = qc_config1_exp3_results_df.loc[qc_config1_exp3_results_df['in_top_init'] != 0]['init_rougeL_recall'].to_list()\n",
    "query_cat_1_2_3_init_rougeL_recall = qc_config1_exp4_results_df.loc[qc_config1_exp4_results_df['in_top_init'] != 0]['init_rougeL_recall'].to_list()\n",
    "\n",
    "\n",
    "trace1 = go.Histogram(\n",
    "    x=baseline_init_rougeL_recall,\n",
    "    opacity=0.50,\n",
    "    name='Baseline',\n",
    "    histnorm='percent'\n",
    ")\n",
    "\n",
    "trace2 = go.Histogram(\n",
    "    x=cat_1_2_3_query_init_rougeL_recall,\n",
    "    opacity=0.50,\n",
    "    name='Category 1, 2, 3 + Query',\n",
    "    histnorm='percent'\n",
    ")\n",
    "\n",
    "trace3 = go.Histogram(\n",
    "    x=query_cat_1_2_3_init_rougeL_recall,\n",
    "    opacity=0.50,\n",
    "    name='Query + Category 1, 2, 3',\n",
    "    histnorm='percent'\n",
    ")\n",
    "\n",
    "data = [trace1, trace2, trace3]\n",
    "layout = go.Layout(barmode='group', title=\"In top init <> 0 rougeL recall\")\n",
    "fig = go.Figure(data=data, layout=layout)\n",
    "\n",
    "fig.show()"
   ]
  },
  {
   "cell_type": "markdown",
   "metadata": {},
   "source": [
    "### Analyzing chat results for highest-performing experiments"
   ]
  },
  {
   "cell_type": "code",
   "execution_count": 2,
   "metadata": {},
   "outputs": [],
   "source": [
    "exp4_with_chat_filepath = './data/exp4-with-chat-result.csv'\n",
    "\n",
    "exp4_with_chat_df = pd.read_csv(exp4_with_chat_filepath)"
   ]
  },
  {
   "cell_type": "code",
   "execution_count": 3,
   "metadata": {},
   "outputs": [
    {
     "data": {
      "text/html": [
       "<div>\n",
       "<style scoped>\n",
       "    .dataframe tbody tr th:only-of-type {\n",
       "        vertical-align: middle;\n",
       "    }\n",
       "\n",
       "    .dataframe tbody tr th {\n",
       "        vertical-align: top;\n",
       "    }\n",
       "\n",
       "    .dataframe thead th {\n",
       "        text-align: right;\n",
       "    }\n",
       "</style>\n",
       "<table border=\"1\" class=\"dataframe\">\n",
       "  <thead>\n",
       "    <tr style=\"text-align: right;\">\n",
       "      <th></th>\n",
       "      <th>Unnamed: 0</th>\n",
       "      <th>id</th>\n",
       "      <th>Total Views</th>\n",
       "      <th>source</th>\n",
       "      <th>bcss_question</th>\n",
       "      <th>answer</th>\n",
       "      <th>Title</th>\n",
       "      <th>article_number</th>\n",
       "      <th>filename</th>\n",
       "      <th>UrlName</th>\n",
       "      <th>...</th>\n",
       "      <th>source_missing</th>\n",
       "      <th>run_errors</th>\n",
       "      <th>init_chunks</th>\n",
       "      <th>generated_answer</th>\n",
       "      <th>reranker_chunks</th>\n",
       "      <th>in_top_init</th>\n",
       "      <th>init_max_rouge1</th>\n",
       "      <th>init_max_rougeLsum</th>\n",
       "      <th>init_rougeL_recall</th>\n",
       "      <th>init_rougeL_precision</th>\n",
       "    </tr>\n",
       "  </thead>\n",
       "  <tbody>\n",
       "    <tr>\n",
       "      <th>0</th>\n",
       "      <td>0</td>\n",
       "      <td>10000</td>\n",
       "      <td>1582624</td>\n",
       "      <td>Unlimited Your Way for Business - BCSS.html</td>\n",
       "      <td>What international benefits are included in th...</td>\n",
       "      <td>All wireless plans for phones include unlimite...</td>\n",
       "      <td>Unlimited Your Way for Business - BCSS</td>\n",
       "      <td>21757.0</td>\n",
       "      <td>2006.json</td>\n",
       "      <td>Unlimited-Your-Way-for-Business-BCSS</td>\n",
       "      <td>...</td>\n",
       "      <td>False</td>\n",
       "      <td>NaN</td>\n",
       "      <td>[('What if the customer is traveling to countr...</td>\n",
       "      <td>The international benefits included in the AT&amp;...</td>\n",
       "      <td>[(\"This is a retired rate plan.\\n\\nAt the end ...</td>\n",
       "      <td>1</td>\n",
       "      <td>0.294737</td>\n",
       "      <td>0.196491</td>\n",
       "      <td>0.50</td>\n",
       "      <td>0.250000</td>\n",
       "    </tr>\n",
       "    <tr>\n",
       "      <th>1</th>\n",
       "      <td>1</td>\n",
       "      <td>10003</td>\n",
       "      <td>491034</td>\n",
       "      <td>Account Verification Process - BCSS.html</td>\n",
       "      <td>Can I call the AOP/TCM if the verfied end-user...</td>\n",
       "      <td>If a verified end-user caller claims to have m...</td>\n",
       "      <td>Account Verification Process  - BCSS</td>\n",
       "      <td>16479.0</td>\n",
       "      <td>630.json</td>\n",
       "      <td>account-verification-process----bcss-draft-con...</td>\n",
       "      <td>...</td>\n",
       "      <td>False</td>\n",
       "      <td>NaN</td>\n",
       "      <td>[('Provide the CTN and ask the caller if you a...</td>\n",
       "      <td>Yes, if a verified end-user claims to have mor...</td>\n",
       "      <td>[(\"It is preferred that an AOP/TCM bridging an...</td>\n",
       "      <td>1</td>\n",
       "      <td>0.427984</td>\n",
       "      <td>0.304527</td>\n",
       "      <td>1.00</td>\n",
       "      <td>0.186528</td>\n",
       "    </tr>\n",
       "    <tr>\n",
       "      <th>2</th>\n",
       "      <td>2</td>\n",
       "      <td>10005</td>\n",
       "      <td>431915</td>\n",
       "      <td>PIN Maintenance - BCSS.html</td>\n",
       "      <td>How many digits can a PIN be?</td>\n",
       "      <td>For End-Users, the PINs must be between 4-8 di...</td>\n",
       "      <td>PIN Maintenance - BCSS</td>\n",
       "      <td>7152.0</td>\n",
       "      <td>1703.json</td>\n",
       "      <td>pin-maintenance</td>\n",
       "      <td>...</td>\n",
       "      <td>False</td>\n",
       "      <td>NaN</td>\n",
       "      <td>[('Pop up for displaying that both SMS and ema...</td>\n",
       "      <td>A PIN can be between 4-8 digits for Bill &amp; Acc...</td>\n",
       "      <td>[(\"PIN Benefits\\n\\nThe PIN is:\\n\\tSecure and n...</td>\n",
       "      <td>10</td>\n",
       "      <td>0.247678</td>\n",
       "      <td>0.191950</td>\n",
       "      <td>0.95</td>\n",
       "      <td>0.166667</td>\n",
       "    </tr>\n",
       "    <tr>\n",
       "      <th>3</th>\n",
       "      <td>3</td>\n",
       "      <td>10006</td>\n",
       "      <td>430184</td>\n",
       "      <td>Mobile Hotspot.html</td>\n",
       "      <td>What is a mobile hotspot?</td>\n",
       "      <td>Mobile Hotspots provide instant access to the ...</td>\n",
       "      <td>Mobile Hotspot</td>\n",
       "      <td>7260.0</td>\n",
       "      <td>1865.json</td>\n",
       "      <td>mobile-hotspot</td>\n",
       "      <td>...</td>\n",
       "      <td>False</td>\n",
       "      <td>NaN</td>\n",
       "      <td>[(\"Mobile Hotspots provide instant access to t...</td>\n",
       "      <td>A mobile hotspot is a device or feature that p...</td>\n",
       "      <td>[(\"Mobile Hotspots provide instant access to t...</td>\n",
       "      <td>5</td>\n",
       "      <td>0.211838</td>\n",
       "      <td>0.143302</td>\n",
       "      <td>1.00</td>\n",
       "      <td>0.108696</td>\n",
       "    </tr>\n",
       "    <tr>\n",
       "      <th>4</th>\n",
       "      <td>4</td>\n",
       "      <td>10008</td>\n",
       "      <td>402489</td>\n",
       "      <td>International Day Pass for Business - BCSS.html</td>\n",
       "      <td>What countries are eligible for the Internatio...</td>\n",
       "      <td>See att.com/globalcountries.</td>\n",
       "      <td>International Day Pass for Business - BCSS</td>\n",
       "      <td>4733.0</td>\n",
       "      <td>1063.json</td>\n",
       "      <td>international-day-pass-for-business</td>\n",
       "      <td>...</td>\n",
       "      <td>False</td>\n",
       "      <td>NaN</td>\n",
       "      <td>[(\"International Day Pass FAQ\\n\\nWhat countrie...</td>\n",
       "      <td>The International Day Pass is available in ove...</td>\n",
       "      <td>[('Eligibility\\n\\nIDP can be added to all Mobi...</td>\n",
       "      <td>5</td>\n",
       "      <td>0.462121</td>\n",
       "      <td>0.363636</td>\n",
       "      <td>1.00</td>\n",
       "      <td>0.021505</td>\n",
       "    </tr>\n",
       "  </tbody>\n",
       "</table>\n",
       "<p>5 rows × 28 columns</p>\n",
       "</div>"
      ],
      "text/plain": [
       "   Unnamed: 0     id Total Views  \\\n",
       "0           0  10000     1582624   \n",
       "1           1  10003      491034   \n",
       "2           2  10005      431915   \n",
       "3           3  10006      430184   \n",
       "4           4  10008      402489   \n",
       "\n",
       "                                            source  \\\n",
       "0      Unlimited Your Way for Business - BCSS.html   \n",
       "1         Account Verification Process - BCSS.html   \n",
       "2                      PIN Maintenance - BCSS.html   \n",
       "3                              Mobile Hotspot.html   \n",
       "4  International Day Pass for Business - BCSS.html   \n",
       "\n",
       "                                       bcss_question  \\\n",
       "0  What international benefits are included in th...   \n",
       "1  Can I call the AOP/TCM if the verfied end-user...   \n",
       "2                      How many digits can a PIN be?   \n",
       "3                          What is a mobile hotspot?   \n",
       "4  What countries are eligible for the Internatio...   \n",
       "\n",
       "                                              answer  \\\n",
       "0  All wireless plans for phones include unlimite...   \n",
       "1  If a verified end-user caller claims to have m...   \n",
       "2  For End-Users, the PINs must be between 4-8 di...   \n",
       "3  Mobile Hotspots provide instant access to the ...   \n",
       "4                       See att.com/globalcountries.   \n",
       "\n",
       "                                        Title  article_number   filename  \\\n",
       "0      Unlimited Your Way for Business - BCSS         21757.0  2006.json   \n",
       "1        Account Verification Process  - BCSS         16479.0   630.json   \n",
       "2                      PIN Maintenance - BCSS          7152.0  1703.json   \n",
       "3                              Mobile Hotspot          7260.0  1865.json   \n",
       "4  International Day Pass for Business - BCSS          4733.0  1063.json   \n",
       "\n",
       "                                             UrlName  ... source_missing  \\\n",
       "0               Unlimited-Your-Way-for-Business-BCSS  ...          False   \n",
       "1  account-verification-process----bcss-draft-con...  ...          False   \n",
       "2                                    pin-maintenance  ...          False   \n",
       "3                                     mobile-hotspot  ...          False   \n",
       "4                international-day-pass-for-business  ...          False   \n",
       "\n",
       "  run_errors                                        init_chunks  \\\n",
       "0        NaN  [('What if the customer is traveling to countr...   \n",
       "1        NaN  [('Provide the CTN and ask the caller if you a...   \n",
       "2        NaN  [('Pop up for displaying that both SMS and ema...   \n",
       "3        NaN  [(\"Mobile Hotspots provide instant access to t...   \n",
       "4        NaN  [(\"International Day Pass FAQ\\n\\nWhat countrie...   \n",
       "\n",
       "                                    generated_answer  \\\n",
       "0  The international benefits included in the AT&...   \n",
       "1  Yes, if a verified end-user claims to have mor...   \n",
       "2  A PIN can be between 4-8 digits for Bill & Acc...   \n",
       "3  A mobile hotspot is a device or feature that p...   \n",
       "4  The International Day Pass is available in ove...   \n",
       "\n",
       "                                     reranker_chunks in_top_init  \\\n",
       "0  [(\"This is a retired rate plan.\\n\\nAt the end ...           1   \n",
       "1  [(\"It is preferred that an AOP/TCM bridging an...           1   \n",
       "2  [(\"PIN Benefits\\n\\nThe PIN is:\\n\\tSecure and n...          10   \n",
       "3  [(\"Mobile Hotspots provide instant access to t...           5   \n",
       "4  [('Eligibility\\n\\nIDP can be added to all Mobi...           5   \n",
       "\n",
       "  init_max_rouge1  init_max_rougeLsum  init_rougeL_recall  \\\n",
       "0        0.294737            0.196491                0.50   \n",
       "1        0.427984            0.304527                1.00   \n",
       "2        0.247678            0.191950                0.95   \n",
       "3        0.211838            0.143302                1.00   \n",
       "4        0.462121            0.363636                1.00   \n",
       "\n",
       "   init_rougeL_precision  \n",
       "0               0.250000  \n",
       "1               0.186528  \n",
       "2               0.166667  \n",
       "3               0.108696  \n",
       "4               0.021505  \n",
       "\n",
       "[5 rows x 28 columns]"
      ]
     },
     "execution_count": 3,
     "metadata": {},
     "output_type": "execute_result"
    }
   ],
   "source": [
    "exp4_with_chat_df.head()"
   ]
  },
  {
   "cell_type": "code",
   "execution_count": 10,
   "metadata": {},
   "outputs": [],
   "source": [
    "# Quick validation that the experiment is set up consistently + we are sending the same query to /similarity-search and /chat\n",
    "# We expect the chunks retrieved for each question to be the same\n",
    "exp4_simsearch_chunks = exp4_with_chat_df['init_chunks']\n",
    "exp4_chat_chunks = exp4_with_chat_df['reranker_chunks']"
   ]
  },
  {
   "cell_type": "code",
   "execution_count": 21,
   "metadata": {},
   "outputs": [],
   "source": [
    "for i, (simsearch_chunk_result, chat_chunk_results) in enumerate(zip(exp4_simsearch_chunks, exp4_chat_chunks)):\n",
    "    simsearch_chunks_set = set([chunk for (chunk, _) in eval(exp4_simsearch_chunks[i])])\n",
    "    chat_chunks_set = set([chunk for (chunk, _) in eval(exp4_chat_chunks[i])])\n",
    "    if not simsearch_chunks_set == chat_chunks_set:\n",
    "        print(f'Similarity search and chat endpoints returned different results for question {i} :(')"
   ]
  },
  {
   "cell_type": "code",
   "execution_count": 39,
   "metadata": {},
   "outputs": [],
   "source": [
    "def get_df_rows_given_ids_all_cols(id_list: list[str], df: pd.DataFrame, id_col: str = 'id'):\n",
    "    return df.loc[df[id_col].isin(id_list)]\n"
   ]
  },
  {
   "cell_type": "code",
   "execution_count": 50,
   "metadata": {},
   "outputs": [],
   "source": [
    "# ids_no_intop_prior_baseline\n",
    "exp4_with_chat_results_df = pd.read_csv('./data/exp4-with-chat-and-gpt-scores.csv')\n",
    "\n",
    "exp4_with_chat_results_filtered_75 = get_df_rows_given_ids_all_cols(ids_no_intop_prior_baseline, exp4_with_chat_results_df)"
   ]
  },
  {
   "cell_type": "code",
   "execution_count": 51,
   "metadata": {},
   "outputs": [
    {
     "data": {
      "text/plain": [
       "75"
      ]
     },
     "execution_count": 51,
     "metadata": {},
     "output_type": "execute_result"
    }
   ],
   "source": [
    "len(exp4_with_chat_results_filtered_75)"
   ]
  },
  {
   "cell_type": "code",
   "execution_count": 52,
   "metadata": {},
   "outputs": [],
   "source": [
    "exp4_with_chat_results_filtered_75.to_csv('./data/exp4-with-chat-results-filtered-75.csv')"
   ]
  },
  {
   "cell_type": "code",
   "execution_count": null,
   "metadata": {},
   "outputs": [],
   "source": []
  }
 ],
 "metadata": {
  "kernelspec": {
   "display_name": "askatt-experiments-i6o60J7W-py3.11",
   "language": "python",
   "name": "python3"
  },
  "language_info": {
   "codemirror_mode": {
    "name": "ipython",
    "version": 3
   },
   "file_extension": ".py",
   "mimetype": "text/x-python",
   "name": "python",
   "nbconvert_exporter": "python",
   "pygments_lexer": "ipython3",
   "version": "3.11.5"
  }
 },
 "nbformat": 4,
 "nbformat_minor": 2
}
