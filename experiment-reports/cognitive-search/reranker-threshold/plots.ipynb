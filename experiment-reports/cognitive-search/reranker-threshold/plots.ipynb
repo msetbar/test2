{
 "cells": [
  {
   "cell_type": "code",
   "execution_count": 2,
   "metadata": {},
   "outputs": [],
   "source": [
    "import pandas as pd\n",
    "import plotly.express as px"
   ]
  },
  {
   "cell_type": "code",
   "execution_count": 3,
   "metadata": {},
   "outputs": [
    {
     "data": {
      "text/html": [
       "<div>\n",
       "<style scoped>\n",
       "    .dataframe tbody tr th:only-of-type {\n",
       "        vertical-align: middle;\n",
       "    }\n",
       "\n",
       "    .dataframe tbody tr th {\n",
       "        vertical-align: top;\n",
       "    }\n",
       "\n",
       "    .dataframe thead th {\n",
       "        text-align: right;\n",
       "    }\n",
       "</style>\n",
       "<table border=\"1\" class=\"dataframe\">\n",
       "  <thead>\n",
       "    <tr style=\"text-align: right;\">\n",
       "      <th></th>\n",
       "      <th>Unnamed: 0</th>\n",
       "      <th>id</th>\n",
       "      <th>Total Views</th>\n",
       "      <th>source</th>\n",
       "      <th>bcss_question</th>\n",
       "      <th>answer</th>\n",
       "      <th>Title</th>\n",
       "      <th>article_number</th>\n",
       "      <th>filename</th>\n",
       "      <th>UrlName</th>\n",
       "      <th>...</th>\n",
       "      <th>in_top_init</th>\n",
       "      <th>max_cog_reranker_score</th>\n",
       "      <th>init_max_rouge1</th>\n",
       "      <th>init_max_rougeLsum</th>\n",
       "      <th>init_rougeL_recall</th>\n",
       "      <th>init_rougeL_precision</th>\n",
       "      <th>gpt-4-32k_score</th>\n",
       "      <th>match</th>\n",
       "      <th>best_article</th>\n",
       "      <th>is_match</th>\n",
       "    </tr>\n",
       "  </thead>\n",
       "  <tbody>\n",
       "    <tr>\n",
       "      <th>0</th>\n",
       "      <td>0</td>\n",
       "      <td>10000</td>\n",
       "      <td>1582624</td>\n",
       "      <td>Unlimited Your Way for Business - BCSS.html</td>\n",
       "      <td>What international benefits are included in th...</td>\n",
       "      <td>All wireless plans for phones include unlimite...</td>\n",
       "      <td>Unlimited Your Way for Business - BCSS</td>\n",
       "      <td>21757.0</td>\n",
       "      <td>2006.json</td>\n",
       "      <td>Unlimited-Your-Way-for-Business-BCSS</td>\n",
       "      <td>...</td>\n",
       "      <td>1</td>\n",
       "      <td>3.395680</td>\n",
       "      <td>0.462121</td>\n",
       "      <td>0.363636</td>\n",
       "      <td>0.5</td>\n",
       "      <td>0.250000</td>\n",
       "      <td>8</td>\n",
       "      <td>3.130668</td>\n",
       "      <td>30146</td>\n",
       "      <td>False</td>\n",
       "    </tr>\n",
       "    <tr>\n",
       "      <th>1</th>\n",
       "      <td>1</td>\n",
       "      <td>10003</td>\n",
       "      <td>491034</td>\n",
       "      <td>Account Verification Process - BCSS.html</td>\n",
       "      <td>Can I call the AOP/TCM if the verfied end-user...</td>\n",
       "      <td>If a verified end-user caller claims to have m...</td>\n",
       "      <td>Account Verification Process  - BCSS</td>\n",
       "      <td>16479.0</td>\n",
       "      <td>630.json</td>\n",
       "      <td>account-verification-process----bcss-draft-con...</td>\n",
       "      <td>...</td>\n",
       "      <td>1</td>\n",
       "      <td>2.761872</td>\n",
       "      <td>0.427984</td>\n",
       "      <td>0.304527</td>\n",
       "      <td>1.0</td>\n",
       "      <td>0.174672</td>\n",
       "      <td>7</td>\n",
       "      <td>2.574602</td>\n",
       "      <td>16817</td>\n",
       "      <td>False</td>\n",
       "    </tr>\n",
       "  </tbody>\n",
       "</table>\n",
       "<p>2 rows × 33 columns</p>\n",
       "</div>"
      ],
      "text/plain": [
       "   Unnamed: 0     id Total Views                                       source  \\\n",
       "0           0  10000     1582624  Unlimited Your Way for Business - BCSS.html   \n",
       "1           1  10003      491034     Account Verification Process - BCSS.html   \n",
       "\n",
       "                                       bcss_question  \\\n",
       "0  What international benefits are included in th...   \n",
       "1  Can I call the AOP/TCM if the verfied end-user...   \n",
       "\n",
       "                                              answer  \\\n",
       "0  All wireless plans for phones include unlimite...   \n",
       "1  If a verified end-user caller claims to have m...   \n",
       "\n",
       "                                    Title  article_number   filename  \\\n",
       "0  Unlimited Your Way for Business - BCSS         21757.0  2006.json   \n",
       "1    Account Verification Process  - BCSS         16479.0   630.json   \n",
       "\n",
       "                                             UrlName  ... in_top_init  \\\n",
       "0               Unlimited-Your-Way-for-Business-BCSS  ...           1   \n",
       "1  account-verification-process----bcss-draft-con...  ...           1   \n",
       "\n",
       "  max_cog_reranker_score init_max_rouge1  init_max_rougeLsum  \\\n",
       "0               3.395680        0.462121            0.363636   \n",
       "1               2.761872        0.427984            0.304527   \n",
       "\n",
       "   init_rougeL_recall init_rougeL_precision gpt-4-32k_score     match  \\\n",
       "0                 0.5              0.250000               8  3.130668   \n",
       "1                 1.0              0.174672               7  2.574602   \n",
       "\n",
       "   best_article  is_match  \n",
       "0         30146     False  \n",
       "1         16817     False  \n",
       "\n",
       "[2 rows x 33 columns]"
      ]
     },
     "execution_count": 3,
     "metadata": {},
     "output_type": "execute_result"
    }
   ],
   "source": [
    "#Sample results after analaysis.ipynb that now includes the matching article score. This file was from a run with 0 threshold.\n",
    "data_df = pd.read_csv('./data/ff8a722a-0cdf-4d2a-817e-fbc4c61fe18d.csv')\n",
    "data_df.head(2)\n"
   ]
  },
  {
   "cell_type": "code",
   "execution_count": 6,
   "metadata": {},
   "outputs": [
    {
     "name": "stdout",
     "output_type": "stream",
     "text": [
      "Index(['Unnamed: 0', 'id', 'Total Views', 'source', 'bcss_question', 'answer',\n",
      "       'Title', 'article_number', 'filename', 'UrlName', 'BW_TXNMY_GRP_1',\n",
      "       'BW_TXNMY_GRP_2', 'BW_TXNMY_GRP_3', 'article_wtag_len',\n",
      "       'article_notag_len', 'table_wtage_len', 'table_wotage_len', '#tables',\n",
      "       'source_missing', 'run_errors', 'init_chunks', 'generated_answer',\n",
      "       'reranker_chunks', 'in_top_init', 'max_cog_reranker_score',\n",
      "       'init_max_rouge1', 'init_max_rougeLsum', 'init_rougeL_recall',\n",
      "       'init_rougeL_precision', 'gpt-4-32k_score', 'match', 'best_article',\n",
      "       'is_match'],\n",
      "      dtype='object')\n"
     ]
    }
   ],
   "source": [
    "print(data_df.columns)"
   ]
  },
  {
   "cell_type": "markdown",
   "metadata": {},
   "source": [
    "#### The distribution of the groundtruth source reranker_score"
   ]
  },
  {
   "cell_type": "code",
   "execution_count": 9,
   "metadata": {},
   "outputs": [
    {
     "data": {
      "application/vnd.plotly.v1+json": {
       "config": {
        "plotlyServerURL": "https://plot.ly"
       },
       "data": [
        {
         "alignmentgroup": "True",
         "bingroup": "x",
         "histnorm": "percent",
         "hovertemplate": "match=%{x}<br>percent=%{y}<extra></extra>",
         "legendgroup": "",
         "marker": {
          "color": "#636efa",
          "pattern": {
           "shape": ""
          }
         },
         "name": "",
         "offsetgroup": "",
         "orientation": "v",
         "showlegend": false,
         "type": "histogram",
         "x": [
          3.130667924880981,
          2.574601650238037,
          3.286151885986328,
          3.944852828979492,
          3.8927695751190186,
          3.09543514251709,
          3.247089385986328,
          3.0969669818878174,
          2.935355424880981,
          3.422487735748291,
          2.7955729961395264,
          3.163602828979492,
          2.572304010391236,
          3.5304839611053467,
          2.784083843231201,
          3.581801414489746,
          3.5971200466156006,
          3.5136334896087646,
          2.7875306606292725,
          2.290441036224365,
          3.5695464611053467,
          2.171626091003418,
          3.6170341968536377,
          3.05637264251709,
          3.5136334896087646,
          3.833026885986328,
          3.8514091968536377,
          3.3405330181121826,
          2.9491422176361084,
          3.840686321258545,
          3.8697917461395264,
          3.433210849761963,
          3.103860378265381,
          2.0696375370025635,
          3.774816274642944,
          3.826899528503418,
          3.6997549533844,
          2.7649357318878174,
          3.969362735748291,
          3.9142158031463614,
          3.0111825466156006,
          3.398743867874145,
          3.481464385986328,
          3.2677695751190186,
          3.877450942993164,
          3.607077121734619,
          2.563878536224365,
          3.949448585510254,
          2.1184895038604736,
          3.757965564727783,
          3.1842830181121826,
          2.9330575466156006,
          3.2225797176361084,
          3.8560049533844,
          3.6752450466156006,
          2.975183725357056,
          3.924938678741455,
          3.48606014251709,
          3.283088207244873,
          3.9004290103912354,
          3.0326287746429443,
          3.9601714611053462,
          3.9402573108673096,
          3.181985378265381,
          3.949448585510254,
          1.615655541419983,
          2.3097808361053467,
          2.979013442993164,
          2.9583332538604736,
          3.2624080181121826,
          2.851102828979492,
          3.704350471496582,
          3.6354167461395264,
          3.9402573108673096,
          2.900888442993164,
          3.554227828979492,
          2.4558823108673096,
          3.450061321258545,
          2.3203125,
          3.9601714611053462,
          3.5473344326019287,
          3.305300235748291,
          3.037224292755127,
          2.855698585510254,
          3.60324764251709,
          3.282322406768799,
          2.6672794818878174,
          2.7454044818878174,
          3.692095518112183,
          2.422755718231201,
          2.443244457244873,
          3.539675235748291,
          2.9966299533843994,
          3.964767217636109,
          1.53178608417511,
          3.177389621734619,
          2.25808048248291,
          3.5105698108673096,
          2.8357841968536377,
          3.5350797176361084,
          3.767156839370728,
          3.0839459896087646,
          3.898897171020508,
          3.3428308963775635,
          3.785539150238037,
          3.369638442993164,
          3.263174057006836,
          2.848039150238037,
          3.641544103622437,
          3.425551414489746,
          2.316482782363892,
          2.9973957538604736,
          3.522824764251709,
          3.060202121734619,
          3.1980698108673096,
          2.2192094326019287,
          2.998161792755127,
          3.840686321258545,
          2.273207664489746,
          2.851868867874145,
          3.05637264251709,
          3.332107782363892,
          3.034926414489746,
          1.978754997253418,
          3.963235378265381,
          3.5710785388946533,
          3.655330896377564,
          2.507582664489746,
          3.4546568393707275,
          2.3813955783843994,
          2.5585172176361084,
          3.9034926891326895,
          3.875919103622437,
          3.461550235748291,
          2.3046109676361084,
          1.8894760608673096,
          3.954044103622437,
          2.322035789489746,
          3.7840073108673096,
          3.659926414489746,
          2.894761085510254,
          2.948376178741455,
          3.2570464611053467,
          3.4347426891326904,
          2.602941036224365,
          3.081648349761963,
          1.8125,
          3.392616510391236,
          3.359681367874145,
          3.9479167461395264,
          2.6014091968536377,
          3.957107782363892,
          3.767156839370728,
          3.103860378265381,
          2.9575674533843994,
          3.25168514251709,
          3.4937193393707275,
          2.7231924533843994,
          3.5657169818878174,
          3.3757660388946533,
          3.950980424880981,
          3.394914150238037,
          3.3060662746429443,
          3.3344056606292725,
          3.0280330181121826,
          2.838848114013672,
          2.49609375,
          2.584558725357056,
          2.7369792461395264,
          3.0448834896087646,
          3.13449764251709,
          2.7124693393707275,
          3.08700966835022,
          3.1168811321258545,
          2.9713542461395264,
          3.8253676891326895,
          3.696691274642944,
          3.707414150238037,
          3.450827121734619,
          3.9601714611053462,
          3.500612735748291,
          2.083759307861328,
          3.299938678741455,
          3.073223114013672,
          3.941789150238037,
          3.7916667461395264,
          2.1575520038604736,
          2.199103832244873,
          3.961703538894653,
          2.923100471496582,
          1.656058430671692,
          3.952512264251709,
          2.7626378536224365,
          3.949448585510254,
          3.848345518112183,
          3.523590564727783,
          3.7472426891326895,
          2.1025965213775635,
          3.188112735748291,
          3.796262264251709,
          3.34206485748291,
          3.2784926891326904,
          3.590226650238037,
          3.704350471496582,
          3.3290441036224365,
          3.901960849761963,
          3.4546568393707275,
          3.174325942993164,
          3.712009906768799,
          3.643075942993164,
          3.00888466835022,
          3.704350471496582,
          3.360447406768799,
          2.2649738788604736,
          3.770220518112183,
          2.9996936321258545,
          3.842218160629273,
          3.1176469326019287,
          3.204197406768799,
          2.3561198711395264,
          1.9897173643112185,
          3.2647058963775635,
          2.781403064727783,
          2.870251178741455,
          3.640012264251709,
          2.515625,
          3.482996225357056,
          0.7356004118919373,
          3.08700966835022,
          2.161381721496582,
          2.733532428741455,
          3.6752450466156006,
          3.5021445751190186,
          2.7706801891326904,
          3.2279412746429443,
          2.3649280071258545,
          3.9034926891326895,
          3.719669103622437,
          3.874387264251709,
          3.0418198108673096,
          1.8723382949829104,
          2.638556957244873,
          3.924938678741455,
          1.8096277713775637,
          2.230219841003418,
          2.31667423248291,
          3.8223040103912354,
          2.897824764251709,
          2.11767578125,
          3.810049057006836,
          3.2838542461395264,
          3.142922878265381,
          3.358149528503418,
          2.9966299533843994,
          1.6393994092941284,
          3.216452121734619,
          3.9601714611053462,
          3.719669103622437,
          1.6355698108673096,
          2.509880542755127,
          3.006587028503418,
          3.589460849761963,
          3.712009906768799,
          3.3826591968536377,
          3.4408700466156006,
          3.75949764251709,
          2.555453300476074,
          3.168964385986328,
          2.730851650238037,
          3.307598114013672,
          3.10768985748291,
          2.4288833141326904,
          2.896292924880981,
          2.5895373821258545,
          3.593290328979492,
          1.8558708429336548,
          2.90625,
          2.747319221496582,
          2.3157169818878174,
          3.145986557006836,
          2.9889705181121826,
          3.4692094326019287,
          2.680683135986328,
          2.418351650238037,
          2.398820400238037,
          3.3045341968536377,
          1.6501225233078003,
          2.8541667461395264,
          3.7472426891326895,
          3.954044103622437,
          3.248621225357056,
          3.085477828979492,
          2.240464210510254,
          2.976715564727783,
          2.7679994106292725,
          3.1360294818878174,
          2.976715564727783,
          2.662683725357056,
          2.887101650238037,
          2.197380542755127,
          3.311427593231201,
          1.8843060731887815,
          3.240962028503418,
          2.4589459896087646,
          3.813112735748291,
          0.8474264144897461,
          2.3959481716156006,
          2.1957528591156006,
          2.688342571258545,
          2.185412883758545,
          2.931525707244873,
          3.0755207538604736,
          2.616344928741455,
          2.714384078979492,
          2.410883903503418,
          2.3572685718536377,
          2.4440104961395264,
          3.512101650238037,
          2.923100471496582,
          2.6868107318878174,
          2.4390318393707275,
          2.5734527111053467,
          3.679840564727783,
          3.8146445751190186,
          3.840686321258545,
          2.2619102001190186,
          2.602941036224365,
          2.8825061321258545,
          3.1896445751190186,
          3.0885417461395264,
          2.023825168609619,
          3.494485378265381,
          2.281824350357056,
          3.028799057006836,
          1.8859336376190183,
          2.884037971496582,
          3.950980424880981,
          3.123774528503418,
          2.8380820751190186,
          2.482306957244873,
          1.2817095518112185,
          1.692631721496582,
          2.9016544818878174,
          2.8656556606292725,
          3.4270832538604736,
          2.929993867874145,
          1.039675235748291,
          3.701286792755127,
          3.91574764251709,
          2.0182483196258545,
          3.556525707244873,
          3.213388442993164,
          0.9630820751190186,
          3.757965564727783,
          3.140625,
          2.9575674533843994,
          2.979013442993164,
          3.7732841968536377,
          2.571537971496582,
          3.6024816036224365,
          3.344362735748291,
          1.8412224054336548,
          2.457797050476074,
          1.0557597875595093,
          2.510646343231201,
          3.955575942993164,
          3.9433209896087646,
          3.308363914489746,
          3.918811321258545,
          2.505284786224365,
          3.1115195751190186,
          3.6951591968536377,
          2.1036975383758545,
          2.09206485748291,
          3.160539150238037,
          3.469975471496582,
          3.8927695751190186,
          3.889705896377564,
          3.587162971496582
         ],
         "xaxis": "x",
         "yaxis": "y"
        }
       ],
       "layout": {
        "barmode": "relative",
        "legend": {
         "tracegroupgap": 0
        },
        "margin": {
         "t": 60
        },
        "template": {
         "data": {
          "bar": [
           {
            "error_x": {
             "color": "#2a3f5f"
            },
            "error_y": {
             "color": "#2a3f5f"
            },
            "marker": {
             "line": {
              "color": "#E5ECF6",
              "width": 0.5
             },
             "pattern": {
              "fillmode": "overlay",
              "size": 10,
              "solidity": 0.2
             }
            },
            "type": "bar"
           }
          ],
          "barpolar": [
           {
            "marker": {
             "line": {
              "color": "#E5ECF6",
              "width": 0.5
             },
             "pattern": {
              "fillmode": "overlay",
              "size": 10,
              "solidity": 0.2
             }
            },
            "type": "barpolar"
           }
          ],
          "carpet": [
           {
            "aaxis": {
             "endlinecolor": "#2a3f5f",
             "gridcolor": "white",
             "linecolor": "white",
             "minorgridcolor": "white",
             "startlinecolor": "#2a3f5f"
            },
            "baxis": {
             "endlinecolor": "#2a3f5f",
             "gridcolor": "white",
             "linecolor": "white",
             "minorgridcolor": "white",
             "startlinecolor": "#2a3f5f"
            },
            "type": "carpet"
           }
          ],
          "choropleth": [
           {
            "colorbar": {
             "outlinewidth": 0,
             "ticks": ""
            },
            "type": "choropleth"
           }
          ],
          "contour": [
           {
            "colorbar": {
             "outlinewidth": 0,
             "ticks": ""
            },
            "colorscale": [
             [
              0,
              "#0d0887"
             ],
             [
              0.1111111111111111,
              "#46039f"
             ],
             [
              0.2222222222222222,
              "#7201a8"
             ],
             [
              0.3333333333333333,
              "#9c179e"
             ],
             [
              0.4444444444444444,
              "#bd3786"
             ],
             [
              0.5555555555555556,
              "#d8576b"
             ],
             [
              0.6666666666666666,
              "#ed7953"
             ],
             [
              0.7777777777777778,
              "#fb9f3a"
             ],
             [
              0.8888888888888888,
              "#fdca26"
             ],
             [
              1,
              "#f0f921"
             ]
            ],
            "type": "contour"
           }
          ],
          "contourcarpet": [
           {
            "colorbar": {
             "outlinewidth": 0,
             "ticks": ""
            },
            "type": "contourcarpet"
           }
          ],
          "heatmap": [
           {
            "colorbar": {
             "outlinewidth": 0,
             "ticks": ""
            },
            "colorscale": [
             [
              0,
              "#0d0887"
             ],
             [
              0.1111111111111111,
              "#46039f"
             ],
             [
              0.2222222222222222,
              "#7201a8"
             ],
             [
              0.3333333333333333,
              "#9c179e"
             ],
             [
              0.4444444444444444,
              "#bd3786"
             ],
             [
              0.5555555555555556,
              "#d8576b"
             ],
             [
              0.6666666666666666,
              "#ed7953"
             ],
             [
              0.7777777777777778,
              "#fb9f3a"
             ],
             [
              0.8888888888888888,
              "#fdca26"
             ],
             [
              1,
              "#f0f921"
             ]
            ],
            "type": "heatmap"
           }
          ],
          "heatmapgl": [
           {
            "colorbar": {
             "outlinewidth": 0,
             "ticks": ""
            },
            "colorscale": [
             [
              0,
              "#0d0887"
             ],
             [
              0.1111111111111111,
              "#46039f"
             ],
             [
              0.2222222222222222,
              "#7201a8"
             ],
             [
              0.3333333333333333,
              "#9c179e"
             ],
             [
              0.4444444444444444,
              "#bd3786"
             ],
             [
              0.5555555555555556,
              "#d8576b"
             ],
             [
              0.6666666666666666,
              "#ed7953"
             ],
             [
              0.7777777777777778,
              "#fb9f3a"
             ],
             [
              0.8888888888888888,
              "#fdca26"
             ],
             [
              1,
              "#f0f921"
             ]
            ],
            "type": "heatmapgl"
           }
          ],
          "histogram": [
           {
            "marker": {
             "pattern": {
              "fillmode": "overlay",
              "size": 10,
              "solidity": 0.2
             }
            },
            "type": "histogram"
           }
          ],
          "histogram2d": [
           {
            "colorbar": {
             "outlinewidth": 0,
             "ticks": ""
            },
            "colorscale": [
             [
              0,
              "#0d0887"
             ],
             [
              0.1111111111111111,
              "#46039f"
             ],
             [
              0.2222222222222222,
              "#7201a8"
             ],
             [
              0.3333333333333333,
              "#9c179e"
             ],
             [
              0.4444444444444444,
              "#bd3786"
             ],
             [
              0.5555555555555556,
              "#d8576b"
             ],
             [
              0.6666666666666666,
              "#ed7953"
             ],
             [
              0.7777777777777778,
              "#fb9f3a"
             ],
             [
              0.8888888888888888,
              "#fdca26"
             ],
             [
              1,
              "#f0f921"
             ]
            ],
            "type": "histogram2d"
           }
          ],
          "histogram2dcontour": [
           {
            "colorbar": {
             "outlinewidth": 0,
             "ticks": ""
            },
            "colorscale": [
             [
              0,
              "#0d0887"
             ],
             [
              0.1111111111111111,
              "#46039f"
             ],
             [
              0.2222222222222222,
              "#7201a8"
             ],
             [
              0.3333333333333333,
              "#9c179e"
             ],
             [
              0.4444444444444444,
              "#bd3786"
             ],
             [
              0.5555555555555556,
              "#d8576b"
             ],
             [
              0.6666666666666666,
              "#ed7953"
             ],
             [
              0.7777777777777778,
              "#fb9f3a"
             ],
             [
              0.8888888888888888,
              "#fdca26"
             ],
             [
              1,
              "#f0f921"
             ]
            ],
            "type": "histogram2dcontour"
           }
          ],
          "mesh3d": [
           {
            "colorbar": {
             "outlinewidth": 0,
             "ticks": ""
            },
            "type": "mesh3d"
           }
          ],
          "parcoords": [
           {
            "line": {
             "colorbar": {
              "outlinewidth": 0,
              "ticks": ""
             }
            },
            "type": "parcoords"
           }
          ],
          "pie": [
           {
            "automargin": true,
            "type": "pie"
           }
          ],
          "scatter": [
           {
            "fillpattern": {
             "fillmode": "overlay",
             "size": 10,
             "solidity": 0.2
            },
            "type": "scatter"
           }
          ],
          "scatter3d": [
           {
            "line": {
             "colorbar": {
              "outlinewidth": 0,
              "ticks": ""
             }
            },
            "marker": {
             "colorbar": {
              "outlinewidth": 0,
              "ticks": ""
             }
            },
            "type": "scatter3d"
           }
          ],
          "scattercarpet": [
           {
            "marker": {
             "colorbar": {
              "outlinewidth": 0,
              "ticks": ""
             }
            },
            "type": "scattercarpet"
           }
          ],
          "scattergeo": [
           {
            "marker": {
             "colorbar": {
              "outlinewidth": 0,
              "ticks": ""
             }
            },
            "type": "scattergeo"
           }
          ],
          "scattergl": [
           {
            "marker": {
             "colorbar": {
              "outlinewidth": 0,
              "ticks": ""
             }
            },
            "type": "scattergl"
           }
          ],
          "scattermapbox": [
           {
            "marker": {
             "colorbar": {
              "outlinewidth": 0,
              "ticks": ""
             }
            },
            "type": "scattermapbox"
           }
          ],
          "scatterpolar": [
           {
            "marker": {
             "colorbar": {
              "outlinewidth": 0,
              "ticks": ""
             }
            },
            "type": "scatterpolar"
           }
          ],
          "scatterpolargl": [
           {
            "marker": {
             "colorbar": {
              "outlinewidth": 0,
              "ticks": ""
             }
            },
            "type": "scatterpolargl"
           }
          ],
          "scatterternary": [
           {
            "marker": {
             "colorbar": {
              "outlinewidth": 0,
              "ticks": ""
             }
            },
            "type": "scatterternary"
           }
          ],
          "surface": [
           {
            "colorbar": {
             "outlinewidth": 0,
             "ticks": ""
            },
            "colorscale": [
             [
              0,
              "#0d0887"
             ],
             [
              0.1111111111111111,
              "#46039f"
             ],
             [
              0.2222222222222222,
              "#7201a8"
             ],
             [
              0.3333333333333333,
              "#9c179e"
             ],
             [
              0.4444444444444444,
              "#bd3786"
             ],
             [
              0.5555555555555556,
              "#d8576b"
             ],
             [
              0.6666666666666666,
              "#ed7953"
             ],
             [
              0.7777777777777778,
              "#fb9f3a"
             ],
             [
              0.8888888888888888,
              "#fdca26"
             ],
             [
              1,
              "#f0f921"
             ]
            ],
            "type": "surface"
           }
          ],
          "table": [
           {
            "cells": {
             "fill": {
              "color": "#EBF0F8"
             },
             "line": {
              "color": "white"
             }
            },
            "header": {
             "fill": {
              "color": "#C8D4E3"
             },
             "line": {
              "color": "white"
             }
            },
            "type": "table"
           }
          ]
         },
         "layout": {
          "annotationdefaults": {
           "arrowcolor": "#2a3f5f",
           "arrowhead": 0,
           "arrowwidth": 1
          },
          "autotypenumbers": "strict",
          "coloraxis": {
           "colorbar": {
            "outlinewidth": 0,
            "ticks": ""
           }
          },
          "colorscale": {
           "diverging": [
            [
             0,
             "#8e0152"
            ],
            [
             0.1,
             "#c51b7d"
            ],
            [
             0.2,
             "#de77ae"
            ],
            [
             0.3,
             "#f1b6da"
            ],
            [
             0.4,
             "#fde0ef"
            ],
            [
             0.5,
             "#f7f7f7"
            ],
            [
             0.6,
             "#e6f5d0"
            ],
            [
             0.7,
             "#b8e186"
            ],
            [
             0.8,
             "#7fbc41"
            ],
            [
             0.9,
             "#4d9221"
            ],
            [
             1,
             "#276419"
            ]
           ],
           "sequential": [
            [
             0,
             "#0d0887"
            ],
            [
             0.1111111111111111,
             "#46039f"
            ],
            [
             0.2222222222222222,
             "#7201a8"
            ],
            [
             0.3333333333333333,
             "#9c179e"
            ],
            [
             0.4444444444444444,
             "#bd3786"
            ],
            [
             0.5555555555555556,
             "#d8576b"
            ],
            [
             0.6666666666666666,
             "#ed7953"
            ],
            [
             0.7777777777777778,
             "#fb9f3a"
            ],
            [
             0.8888888888888888,
             "#fdca26"
            ],
            [
             1,
             "#f0f921"
            ]
           ],
           "sequentialminus": [
            [
             0,
             "#0d0887"
            ],
            [
             0.1111111111111111,
             "#46039f"
            ],
            [
             0.2222222222222222,
             "#7201a8"
            ],
            [
             0.3333333333333333,
             "#9c179e"
            ],
            [
             0.4444444444444444,
             "#bd3786"
            ],
            [
             0.5555555555555556,
             "#d8576b"
            ],
            [
             0.6666666666666666,
             "#ed7953"
            ],
            [
             0.7777777777777778,
             "#fb9f3a"
            ],
            [
             0.8888888888888888,
             "#fdca26"
            ],
            [
             1,
             "#f0f921"
            ]
           ]
          },
          "colorway": [
           "#636efa",
           "#EF553B",
           "#00cc96",
           "#ab63fa",
           "#FFA15A",
           "#19d3f3",
           "#FF6692",
           "#B6E880",
           "#FF97FF",
           "#FECB52"
          ],
          "font": {
           "color": "#2a3f5f"
          },
          "geo": {
           "bgcolor": "white",
           "lakecolor": "white",
           "landcolor": "#E5ECF6",
           "showlakes": true,
           "showland": true,
           "subunitcolor": "white"
          },
          "hoverlabel": {
           "align": "left"
          },
          "hovermode": "closest",
          "mapbox": {
           "style": "light"
          },
          "paper_bgcolor": "white",
          "plot_bgcolor": "#E5ECF6",
          "polar": {
           "angularaxis": {
            "gridcolor": "white",
            "linecolor": "white",
            "ticks": ""
           },
           "bgcolor": "#E5ECF6",
           "radialaxis": {
            "gridcolor": "white",
            "linecolor": "white",
            "ticks": ""
           }
          },
          "scene": {
           "xaxis": {
            "backgroundcolor": "#E5ECF6",
            "gridcolor": "white",
            "gridwidth": 2,
            "linecolor": "white",
            "showbackground": true,
            "ticks": "",
            "zerolinecolor": "white"
           },
           "yaxis": {
            "backgroundcolor": "#E5ECF6",
            "gridcolor": "white",
            "gridwidth": 2,
            "linecolor": "white",
            "showbackground": true,
            "ticks": "",
            "zerolinecolor": "white"
           },
           "zaxis": {
            "backgroundcolor": "#E5ECF6",
            "gridcolor": "white",
            "gridwidth": 2,
            "linecolor": "white",
            "showbackground": true,
            "ticks": "",
            "zerolinecolor": "white"
           }
          },
          "shapedefaults": {
           "line": {
            "color": "#2a3f5f"
           }
          },
          "ternary": {
           "aaxis": {
            "gridcolor": "white",
            "linecolor": "white",
            "ticks": ""
           },
           "baxis": {
            "gridcolor": "white",
            "linecolor": "white",
            "ticks": ""
           },
           "bgcolor": "#E5ECF6",
           "caxis": {
            "gridcolor": "white",
            "linecolor": "white",
            "ticks": ""
           }
          },
          "title": {
           "x": 0.05
          },
          "xaxis": {
           "automargin": true,
           "gridcolor": "white",
           "linecolor": "white",
           "ticks": "",
           "title": {
            "standoff": 15
           },
           "zerolinecolor": "white",
           "zerolinewidth": 2
          },
          "yaxis": {
           "automargin": true,
           "gridcolor": "white",
           "linecolor": "white",
           "ticks": "",
           "title": {
            "standoff": 15
           },
           "zerolinecolor": "white",
           "zerolinewidth": 2
          }
         }
        },
        "xaxis": {
         "anchor": "y",
         "domain": [
          0,
          1
         ],
         "title": {
          "text": "match"
         }
        },
        "yaxis": {
         "anchor": "x",
         "domain": [
          0,
          1
         ],
         "title": {
          "text": "percent"
         }
        }
       }
      }
     },
     "metadata": {},
     "output_type": "display_data"
    }
   ],
   "source": [
    "\n",
    "\n",
    "fig = px.histogram(data_df[data_df['in_top_init']>0], x='match',histnorm='percent')\n",
    "fig.show()"
   ]
  },
  {
   "cell_type": "code",
   "execution_count": 4,
   "metadata": {},
   "outputs": [
    {
     "data": {
      "application/vnd.plotly.v1+json": {
       "config": {
        "plotlyServerURL": "https://plot.ly"
       },
       "data": [
        {
         "alignmentgroup": "True",
         "bingroup": "x",
         "histnorm": "percent",
         "hovertemplate": "match=%{x}<br>percent=%{y}<extra></extra>",
         "legendgroup": "",
         "marker": {
          "color": "#636efa",
          "pattern": {
           "shape": ""
          }
         },
         "name": "",
         "offsetgroup": "",
         "orientation": "v",
         "showlegend": false,
         "type": "histogram",
         "x": [
          3.130667924880981,
          2.574601650238037,
          3.286151885986328,
          3.944852828979492,
          0,
          3.8927695751190186,
          3.09543514251709,
          3.247089385986328,
          3.0969669818878174,
          0,
          2.935355424880981,
          3.422487735748291,
          2.7955729961395264,
          3.163602828979492,
          2.572304010391236,
          3.5304839611053467,
          2.784083843231201,
          3.581801414489746,
          0,
          3.5971200466156006,
          0,
          3.5136334896087646,
          2.7875306606292725,
          2.290441036224365,
          3.5695464611053467,
          2.171626091003418,
          3.6170341968536377,
          3.05637264251709,
          3.5136334896087646,
          3.833026885986328,
          0,
          3.8514091968536377,
          3.3405330181121826,
          2.9491422176361084,
          0,
          3.840686321258545,
          3.8697917461395264,
          0,
          3.433210849761963,
          3.103860378265381,
          2.0696375370025635,
          3.774816274642944,
          0,
          0,
          3.826899528503418,
          3.6997549533844,
          2.7649357318878174,
          3.969362735748291,
          3.9142158031463614,
          0,
          3.0111825466156006,
          3.398743867874145,
          3.481464385986328,
          3.2677695751190186,
          3.877450942993164,
          3.607077121734619,
          2.563878536224365,
          3.949448585510254,
          2.1184895038604736,
          3.757965564727783,
          3.1842830181121826,
          2.9330575466156006,
          3.2225797176361084,
          3.8560049533844,
          3.6752450466156006,
          2.975183725357056,
          3.924938678741455,
          3.48606014251709,
          3.283088207244873,
          3.9004290103912354,
          3.0326287746429443,
          3.9601714611053462,
          3.9402573108673096,
          3.181985378265381,
          3.949448585510254,
          1.615655541419983,
          2.3097808361053467,
          2.979013442993164,
          2.9583332538604736,
          0,
          3.2624080181121826,
          2.851102828979492,
          3.704350471496582,
          3.6354167461395264,
          3.9402573108673096,
          2.900888442993164,
          3.554227828979492,
          2.4558823108673096,
          3.450061321258545,
          2.3203125,
          3.9601714611053462,
          0,
          3.5473344326019287,
          3.305300235748291,
          3.037224292755127,
          2.855698585510254,
          0,
          0,
          3.60324764251709,
          3.282322406768799,
          2.6672794818878174,
          2.7454044818878174,
          3.692095518112183,
          0,
          0,
          2.422755718231201,
          2.443244457244873,
          3.539675235748291,
          2.9966299533843994,
          3.964767217636109,
          1.53178608417511,
          0,
          3.177389621734619,
          2.25808048248291,
          3.5105698108673096,
          2.8357841968536377,
          3.5350797176361084,
          3.767156839370728,
          3.0839459896087646,
          3.898897171020508,
          3.3428308963775635,
          3.785539150238037,
          3.369638442993164,
          3.263174057006836,
          2.848039150238037,
          3.641544103622437,
          3.425551414489746,
          2.316482782363892,
          2.9973957538604736,
          0,
          3.522824764251709,
          3.060202121734619,
          0,
          0,
          3.1980698108673096,
          2.2192094326019287,
          2.998161792755127,
          3.840686321258545,
          2.273207664489746,
          0,
          2.851868867874145,
          3.05637264251709,
          3.332107782363892,
          0,
          3.034926414489746,
          1.978754997253418,
          3.963235378265381,
          3.5710785388946533,
          3.655330896377564,
          2.507582664489746,
          3.4546568393707275,
          2.3813955783843994,
          2.5585172176361084,
          3.9034926891326895,
          3.875919103622437,
          3.461550235748291,
          2.3046109676361084,
          1.8894760608673096,
          3.954044103622437,
          2.322035789489746,
          3.7840073108673096,
          3.659926414489746,
          2.894761085510254,
          2.948376178741455,
          3.2570464611053467,
          3.4347426891326904,
          2.602941036224365,
          3.081648349761963,
          1.8125,
          3.392616510391236,
          3.359681367874145,
          3.9479167461395264,
          2.6014091968536377,
          0,
          0,
          3.957107782363892,
          0,
          3.767156839370728,
          3.103860378265381,
          0,
          2.9575674533843994,
          0,
          3.25168514251709,
          0,
          3.4937193393707275,
          2.7231924533843994,
          3.5657169818878174,
          3.3757660388946533,
          3.950980424880981,
          3.394914150238037,
          0,
          3.3060662746429443,
          3.3344056606292725,
          0,
          3.0280330181121826,
          0,
          2.838848114013672,
          2.49609375,
          2.584558725357056,
          2.7369792461395264,
          3.0448834896087646,
          3.13449764251709,
          2.7124693393707275,
          3.08700966835022,
          3.1168811321258545,
          2.9713542461395264,
          0,
          3.8253676891326895,
          3.696691274642944,
          3.707414150238037,
          3.450827121734619,
          3.9601714611053462,
          0,
          0,
          3.500612735748291,
          2.083759307861328,
          3.299938678741455,
          3.073223114013672,
          3.941789150238037,
          3.7916667461395264,
          2.1575520038604736,
          2.199103832244873,
          3.961703538894653,
          2.923100471496582,
          1.656058430671692,
          3.952512264251709,
          2.7626378536224365,
          3.949448585510254,
          3.848345518112183,
          3.523590564727783,
          3.7472426891326895,
          2.1025965213775635,
          3.188112735748291,
          3.796262264251709,
          3.34206485748291,
          3.2784926891326904,
          3.590226650238037,
          0,
          3.704350471496582,
          3.3290441036224365,
          3.901960849761963,
          3.4546568393707275,
          3.174325942993164,
          3.712009906768799,
          3.643075942993164,
          3.00888466835022,
          3.704350471496582,
          3.360447406768799,
          2.2649738788604736,
          3.770220518112183,
          2.9996936321258545,
          3.842218160629273,
          0,
          0,
          3.1176469326019287,
          0,
          3.204197406768799,
          0,
          2.3561198711395264,
          1.9897173643112185,
          3.2647058963775635,
          2.781403064727783,
          2.870251178741455,
          3.640012264251709,
          2.515625,
          3.482996225357056,
          0.7356004118919373,
          0,
          3.08700966835022,
          0,
          2.161381721496582,
          2.733532428741455,
          3.6752450466156006,
          3.5021445751190186,
          2.7706801891326904,
          3.2279412746429443,
          2.3649280071258545,
          3.9034926891326895,
          3.719669103622437,
          3.874387264251709,
          3.0418198108673096,
          1.8723382949829104,
          2.638556957244873,
          3.924938678741455,
          1.8096277713775637,
          0,
          0,
          2.230219841003418,
          2.31667423248291,
          3.8223040103912354,
          0,
          2.897824764251709,
          2.11767578125,
          3.810049057006836,
          3.2838542461395264,
          3.142922878265381,
          3.358149528503418,
          2.9966299533843994,
          1.6393994092941284,
          3.216452121734619,
          3.9601714611053462,
          3.719669103622437,
          1.6355698108673096,
          0,
          2.509880542755127,
          0,
          3.006587028503418,
          3.589460849761963,
          3.712009906768799,
          3.3826591968536377,
          3.4408700466156006,
          3.75949764251709,
          2.555453300476074,
          3.168964385986328,
          2.730851650238037,
          3.307598114013672,
          3.10768985748291,
          2.4288833141326904,
          0,
          2.896292924880981,
          2.5895373821258545,
          0,
          3.593290328979492,
          1.8558708429336548,
          2.90625,
          2.747319221496582,
          2.3157169818878174,
          0,
          3.145986557006836,
          0,
          2.9889705181121826,
          3.4692094326019287,
          2.680683135986328,
          2.418351650238037,
          0,
          0,
          2.398820400238037,
          3.3045341968536377,
          1.6501225233078003,
          0,
          2.8541667461395264,
          3.7472426891326895,
          3.954044103622437,
          0,
          3.248621225357056,
          3.085477828979492,
          2.240464210510254,
          2.976715564727783,
          2.7679994106292725,
          3.1360294818878174,
          2.976715564727783,
          0,
          2.662683725357056,
          2.887101650238037,
          2.197380542755127,
          3.311427593231201,
          1.8843060731887815,
          3.240962028503418,
          2.4589459896087646,
          3.813112735748291,
          0.8474264144897461,
          0,
          2.3959481716156006,
          2.1957528591156006,
          2.688342571258545,
          2.185412883758545,
          2.931525707244873,
          3.0755207538604736,
          2.616344928741455,
          2.714384078979492,
          0,
          0,
          2.410883903503418,
          2.3572685718536377,
          2.4440104961395264,
          3.512101650238037,
          2.923100471496582,
          0,
          2.6868107318878174,
          2.4390318393707275,
          2.5734527111053467,
          3.679840564727783,
          0,
          3.8146445751190186,
          3.840686321258545,
          0,
          2.2619102001190186,
          2.602941036224365,
          2.8825061321258545,
          3.1896445751190186,
          0,
          3.0885417461395264,
          2.023825168609619,
          3.494485378265381,
          2.281824350357056,
          3.028799057006836,
          1.8859336376190183,
          2.884037971496582,
          3.950980424880981,
          0,
          0,
          0,
          3.123774528503418,
          2.8380820751190186,
          2.482306957244873,
          0,
          1.2817095518112185,
          1.692631721496582,
          2.9016544818878174,
          2.8656556606292725,
          3.4270832538604736,
          2.929993867874145,
          1.039675235748291,
          3.701286792755127,
          3.91574764251709,
          2.0182483196258545,
          3.556525707244873,
          3.213388442993164,
          0.9630820751190186,
          3.757965564727783,
          3.140625,
          2.9575674533843994,
          2.979013442993164,
          3.7732841968536377,
          2.571537971496582,
          3.6024816036224365,
          3.344362735748291,
          0,
          1.8412224054336548,
          0,
          2.457797050476074,
          1.0557597875595093,
          2.510646343231201,
          0,
          0,
          3.955575942993164,
          3.9433209896087646,
          3.308363914489746,
          0,
          3.918811321258545,
          0,
          2.505284786224365,
          3.1115195751190186,
          3.6951591968536377,
          2.1036975383758545,
          2.09206485748291,
          0,
          3.160539150238037,
          3.469975471496582,
          3.8927695751190186,
          0,
          0,
          3.889705896377564,
          3.587162971496582,
          0
         ],
         "xaxis": "x",
         "yaxis": "y"
        }
       ],
       "layout": {
        "barmode": "relative",
        "legend": {
         "tracegroupgap": 0
        },
        "margin": {
         "t": 60
        },
        "template": {
         "data": {
          "bar": [
           {
            "error_x": {
             "color": "#2a3f5f"
            },
            "error_y": {
             "color": "#2a3f5f"
            },
            "marker": {
             "line": {
              "color": "#E5ECF6",
              "width": 0.5
             },
             "pattern": {
              "fillmode": "overlay",
              "size": 10,
              "solidity": 0.2
             }
            },
            "type": "bar"
           }
          ],
          "barpolar": [
           {
            "marker": {
             "line": {
              "color": "#E5ECF6",
              "width": 0.5
             },
             "pattern": {
              "fillmode": "overlay",
              "size": 10,
              "solidity": 0.2
             }
            },
            "type": "barpolar"
           }
          ],
          "carpet": [
           {
            "aaxis": {
             "endlinecolor": "#2a3f5f",
             "gridcolor": "white",
             "linecolor": "white",
             "minorgridcolor": "white",
             "startlinecolor": "#2a3f5f"
            },
            "baxis": {
             "endlinecolor": "#2a3f5f",
             "gridcolor": "white",
             "linecolor": "white",
             "minorgridcolor": "white",
             "startlinecolor": "#2a3f5f"
            },
            "type": "carpet"
           }
          ],
          "choropleth": [
           {
            "colorbar": {
             "outlinewidth": 0,
             "ticks": ""
            },
            "type": "choropleth"
           }
          ],
          "contour": [
           {
            "colorbar": {
             "outlinewidth": 0,
             "ticks": ""
            },
            "colorscale": [
             [
              0,
              "#0d0887"
             ],
             [
              0.1111111111111111,
              "#46039f"
             ],
             [
              0.2222222222222222,
              "#7201a8"
             ],
             [
              0.3333333333333333,
              "#9c179e"
             ],
             [
              0.4444444444444444,
              "#bd3786"
             ],
             [
              0.5555555555555556,
              "#d8576b"
             ],
             [
              0.6666666666666666,
              "#ed7953"
             ],
             [
              0.7777777777777778,
              "#fb9f3a"
             ],
             [
              0.8888888888888888,
              "#fdca26"
             ],
             [
              1,
              "#f0f921"
             ]
            ],
            "type": "contour"
           }
          ],
          "contourcarpet": [
           {
            "colorbar": {
             "outlinewidth": 0,
             "ticks": ""
            },
            "type": "contourcarpet"
           }
          ],
          "heatmap": [
           {
            "colorbar": {
             "outlinewidth": 0,
             "ticks": ""
            },
            "colorscale": [
             [
              0,
              "#0d0887"
             ],
             [
              0.1111111111111111,
              "#46039f"
             ],
             [
              0.2222222222222222,
              "#7201a8"
             ],
             [
              0.3333333333333333,
              "#9c179e"
             ],
             [
              0.4444444444444444,
              "#bd3786"
             ],
             [
              0.5555555555555556,
              "#d8576b"
             ],
             [
              0.6666666666666666,
              "#ed7953"
             ],
             [
              0.7777777777777778,
              "#fb9f3a"
             ],
             [
              0.8888888888888888,
              "#fdca26"
             ],
             [
              1,
              "#f0f921"
             ]
            ],
            "type": "heatmap"
           }
          ],
          "heatmapgl": [
           {
            "colorbar": {
             "outlinewidth": 0,
             "ticks": ""
            },
            "colorscale": [
             [
              0,
              "#0d0887"
             ],
             [
              0.1111111111111111,
              "#46039f"
             ],
             [
              0.2222222222222222,
              "#7201a8"
             ],
             [
              0.3333333333333333,
              "#9c179e"
             ],
             [
              0.4444444444444444,
              "#bd3786"
             ],
             [
              0.5555555555555556,
              "#d8576b"
             ],
             [
              0.6666666666666666,
              "#ed7953"
             ],
             [
              0.7777777777777778,
              "#fb9f3a"
             ],
             [
              0.8888888888888888,
              "#fdca26"
             ],
             [
              1,
              "#f0f921"
             ]
            ],
            "type": "heatmapgl"
           }
          ],
          "histogram": [
           {
            "marker": {
             "pattern": {
              "fillmode": "overlay",
              "size": 10,
              "solidity": 0.2
             }
            },
            "type": "histogram"
           }
          ],
          "histogram2d": [
           {
            "colorbar": {
             "outlinewidth": 0,
             "ticks": ""
            },
            "colorscale": [
             [
              0,
              "#0d0887"
             ],
             [
              0.1111111111111111,
              "#46039f"
             ],
             [
              0.2222222222222222,
              "#7201a8"
             ],
             [
              0.3333333333333333,
              "#9c179e"
             ],
             [
              0.4444444444444444,
              "#bd3786"
             ],
             [
              0.5555555555555556,
              "#d8576b"
             ],
             [
              0.6666666666666666,
              "#ed7953"
             ],
             [
              0.7777777777777778,
              "#fb9f3a"
             ],
             [
              0.8888888888888888,
              "#fdca26"
             ],
             [
              1,
              "#f0f921"
             ]
            ],
            "type": "histogram2d"
           }
          ],
          "histogram2dcontour": [
           {
            "colorbar": {
             "outlinewidth": 0,
             "ticks": ""
            },
            "colorscale": [
             [
              0,
              "#0d0887"
             ],
             [
              0.1111111111111111,
              "#46039f"
             ],
             [
              0.2222222222222222,
              "#7201a8"
             ],
             [
              0.3333333333333333,
              "#9c179e"
             ],
             [
              0.4444444444444444,
              "#bd3786"
             ],
             [
              0.5555555555555556,
              "#d8576b"
             ],
             [
              0.6666666666666666,
              "#ed7953"
             ],
             [
              0.7777777777777778,
              "#fb9f3a"
             ],
             [
              0.8888888888888888,
              "#fdca26"
             ],
             [
              1,
              "#f0f921"
             ]
            ],
            "type": "histogram2dcontour"
           }
          ],
          "mesh3d": [
           {
            "colorbar": {
             "outlinewidth": 0,
             "ticks": ""
            },
            "type": "mesh3d"
           }
          ],
          "parcoords": [
           {
            "line": {
             "colorbar": {
              "outlinewidth": 0,
              "ticks": ""
             }
            },
            "type": "parcoords"
           }
          ],
          "pie": [
           {
            "automargin": true,
            "type": "pie"
           }
          ],
          "scatter": [
           {
            "fillpattern": {
             "fillmode": "overlay",
             "size": 10,
             "solidity": 0.2
            },
            "type": "scatter"
           }
          ],
          "scatter3d": [
           {
            "line": {
             "colorbar": {
              "outlinewidth": 0,
              "ticks": ""
             }
            },
            "marker": {
             "colorbar": {
              "outlinewidth": 0,
              "ticks": ""
             }
            },
            "type": "scatter3d"
           }
          ],
          "scattercarpet": [
           {
            "marker": {
             "colorbar": {
              "outlinewidth": 0,
              "ticks": ""
             }
            },
            "type": "scattercarpet"
           }
          ],
          "scattergeo": [
           {
            "marker": {
             "colorbar": {
              "outlinewidth": 0,
              "ticks": ""
             }
            },
            "type": "scattergeo"
           }
          ],
          "scattergl": [
           {
            "marker": {
             "colorbar": {
              "outlinewidth": 0,
              "ticks": ""
             }
            },
            "type": "scattergl"
           }
          ],
          "scattermapbox": [
           {
            "marker": {
             "colorbar": {
              "outlinewidth": 0,
              "ticks": ""
             }
            },
            "type": "scattermapbox"
           }
          ],
          "scatterpolar": [
           {
            "marker": {
             "colorbar": {
              "outlinewidth": 0,
              "ticks": ""
             }
            },
            "type": "scatterpolar"
           }
          ],
          "scatterpolargl": [
           {
            "marker": {
             "colorbar": {
              "outlinewidth": 0,
              "ticks": ""
             }
            },
            "type": "scatterpolargl"
           }
          ],
          "scatterternary": [
           {
            "marker": {
             "colorbar": {
              "outlinewidth": 0,
              "ticks": ""
             }
            },
            "type": "scatterternary"
           }
          ],
          "surface": [
           {
            "colorbar": {
             "outlinewidth": 0,
             "ticks": ""
            },
            "colorscale": [
             [
              0,
              "#0d0887"
             ],
             [
              0.1111111111111111,
              "#46039f"
             ],
             [
              0.2222222222222222,
              "#7201a8"
             ],
             [
              0.3333333333333333,
              "#9c179e"
             ],
             [
              0.4444444444444444,
              "#bd3786"
             ],
             [
              0.5555555555555556,
              "#d8576b"
             ],
             [
              0.6666666666666666,
              "#ed7953"
             ],
             [
              0.7777777777777778,
              "#fb9f3a"
             ],
             [
              0.8888888888888888,
              "#fdca26"
             ],
             [
              1,
              "#f0f921"
             ]
            ],
            "type": "surface"
           }
          ],
          "table": [
           {
            "cells": {
             "fill": {
              "color": "#EBF0F8"
             },
             "line": {
              "color": "white"
             }
            },
            "header": {
             "fill": {
              "color": "#C8D4E3"
             },
             "line": {
              "color": "white"
             }
            },
            "type": "table"
           }
          ]
         },
         "layout": {
          "annotationdefaults": {
           "arrowcolor": "#2a3f5f",
           "arrowhead": 0,
           "arrowwidth": 1
          },
          "autotypenumbers": "strict",
          "coloraxis": {
           "colorbar": {
            "outlinewidth": 0,
            "ticks": ""
           }
          },
          "colorscale": {
           "diverging": [
            [
             0,
             "#8e0152"
            ],
            [
             0.1,
             "#c51b7d"
            ],
            [
             0.2,
             "#de77ae"
            ],
            [
             0.3,
             "#f1b6da"
            ],
            [
             0.4,
             "#fde0ef"
            ],
            [
             0.5,
             "#f7f7f7"
            ],
            [
             0.6,
             "#e6f5d0"
            ],
            [
             0.7,
             "#b8e186"
            ],
            [
             0.8,
             "#7fbc41"
            ],
            [
             0.9,
             "#4d9221"
            ],
            [
             1,
             "#276419"
            ]
           ],
           "sequential": [
            [
             0,
             "#0d0887"
            ],
            [
             0.1111111111111111,
             "#46039f"
            ],
            [
             0.2222222222222222,
             "#7201a8"
            ],
            [
             0.3333333333333333,
             "#9c179e"
            ],
            [
             0.4444444444444444,
             "#bd3786"
            ],
            [
             0.5555555555555556,
             "#d8576b"
            ],
            [
             0.6666666666666666,
             "#ed7953"
            ],
            [
             0.7777777777777778,
             "#fb9f3a"
            ],
            [
             0.8888888888888888,
             "#fdca26"
            ],
            [
             1,
             "#f0f921"
            ]
           ],
           "sequentialminus": [
            [
             0,
             "#0d0887"
            ],
            [
             0.1111111111111111,
             "#46039f"
            ],
            [
             0.2222222222222222,
             "#7201a8"
            ],
            [
             0.3333333333333333,
             "#9c179e"
            ],
            [
             0.4444444444444444,
             "#bd3786"
            ],
            [
             0.5555555555555556,
             "#d8576b"
            ],
            [
             0.6666666666666666,
             "#ed7953"
            ],
            [
             0.7777777777777778,
             "#fb9f3a"
            ],
            [
             0.8888888888888888,
             "#fdca26"
            ],
            [
             1,
             "#f0f921"
            ]
           ]
          },
          "colorway": [
           "#636efa",
           "#EF553B",
           "#00cc96",
           "#ab63fa",
           "#FFA15A",
           "#19d3f3",
           "#FF6692",
           "#B6E880",
           "#FF97FF",
           "#FECB52"
          ],
          "font": {
           "color": "#2a3f5f"
          },
          "geo": {
           "bgcolor": "white",
           "lakecolor": "white",
           "landcolor": "#E5ECF6",
           "showlakes": true,
           "showland": true,
           "subunitcolor": "white"
          },
          "hoverlabel": {
           "align": "left"
          },
          "hovermode": "closest",
          "mapbox": {
           "style": "light"
          },
          "paper_bgcolor": "white",
          "plot_bgcolor": "#E5ECF6",
          "polar": {
           "angularaxis": {
            "gridcolor": "white",
            "linecolor": "white",
            "ticks": ""
           },
           "bgcolor": "#E5ECF6",
           "radialaxis": {
            "gridcolor": "white",
            "linecolor": "white",
            "ticks": ""
           }
          },
          "scene": {
           "xaxis": {
            "backgroundcolor": "#E5ECF6",
            "gridcolor": "white",
            "gridwidth": 2,
            "linecolor": "white",
            "showbackground": true,
            "ticks": "",
            "zerolinecolor": "white"
           },
           "yaxis": {
            "backgroundcolor": "#E5ECF6",
            "gridcolor": "white",
            "gridwidth": 2,
            "linecolor": "white",
            "showbackground": true,
            "ticks": "",
            "zerolinecolor": "white"
           },
           "zaxis": {
            "backgroundcolor": "#E5ECF6",
            "gridcolor": "white",
            "gridwidth": 2,
            "linecolor": "white",
            "showbackground": true,
            "ticks": "",
            "zerolinecolor": "white"
           }
          },
          "shapedefaults": {
           "line": {
            "color": "#2a3f5f"
           }
          },
          "ternary": {
           "aaxis": {
            "gridcolor": "white",
            "linecolor": "white",
            "ticks": ""
           },
           "baxis": {
            "gridcolor": "white",
            "linecolor": "white",
            "ticks": ""
           },
           "bgcolor": "#E5ECF6",
           "caxis": {
            "gridcolor": "white",
            "linecolor": "white",
            "ticks": ""
           }
          },
          "title": {
           "x": 0.05
          },
          "xaxis": {
           "automargin": true,
           "gridcolor": "white",
           "linecolor": "white",
           "ticks": "",
           "title": {
            "standoff": 15
           },
           "zerolinecolor": "white",
           "zerolinewidth": 2
          },
          "yaxis": {
           "automargin": true,
           "gridcolor": "white",
           "linecolor": "white",
           "ticks": "",
           "title": {
            "standoff": 15
           },
           "zerolinecolor": "white",
           "zerolinewidth": 2
          }
         }
        },
        "xaxis": {
         "anchor": "y",
         "domain": [
          0,
          1
         ],
         "title": {
          "text": "match"
         }
        },
        "yaxis": {
         "anchor": "x",
         "domain": [
          0,
          1
         ],
         "title": {
          "text": "percent"
         }
        }
       }
      }
     },
     "metadata": {},
     "output_type": "display_data"
    }
   ],
   "source": [
    "\n",
    "\n",
    "fig = px.histogram(data_df, x='match',histnorm='percent')\n",
    "fig.show()"
   ]
  },
  {
   "cell_type": "markdown",
   "metadata": {},
   "source": [
    "#### The distribution of the gpt-4-32k_score"
   ]
  },
  {
   "cell_type": "code",
   "execution_count": 17,
   "metadata": {},
   "outputs": [
    {
     "data": {
      "application/vnd.plotly.v1+json": {
       "config": {
        "plotlyServerURL": "https://plot.ly"
       },
       "data": [
        {
         "alignmentgroup": "True",
         "bingroup": "x",
         "histnorm": "percent",
         "hovertemplate": "gpt-4-32k_score=%{x}<br>percent=%{y}<extra></extra>",
         "legendgroup": "",
         "marker": {
          "color": "#636efa",
          "pattern": {
           "shape": ""
          }
         },
         "name": "",
         "offsetgroup": "",
         "orientation": "v",
         "showlegend": false,
         "type": "histogram",
         "x": [
          8,
          7,
          6,
          10,
          10,
          6,
          7,
          8,
          7,
          4,
          2,
          10,
          10,
          9,
          10,
          8,
          10,
          9,
          8,
          9,
          10,
          9,
          9,
          7,
          10,
          8,
          10,
          8,
          9,
          1,
          9,
          6,
          5,
          6,
          10,
          5,
          6,
          6,
          4,
          4,
          2,
          6,
          10,
          10,
          5,
          9,
          10,
          6,
          7,
          6,
          6,
          10,
          10,
          9,
          3,
          8,
          10,
          10,
          10,
          7,
          10,
          10,
          9,
          9,
          9,
          8,
          1,
          7,
          9,
          7,
          9,
          8,
          9,
          9,
          7,
          9,
          9,
          8,
          8,
          6,
          10,
          10,
          8,
          2,
          8,
          6,
          6,
          10,
          9,
          8,
          1,
          9,
          9,
          10,
          8,
          7,
          8,
          8,
          8,
          10,
          8,
          9,
          9,
          3,
          8,
          10,
          9,
          7,
          2,
          10,
          9,
          9,
          2,
          6,
          10,
          8,
          10,
          10,
          10,
          9,
          6,
          9,
          5,
          6,
          8,
          5,
          10,
          10,
          8,
          5,
          9,
          6,
          9,
          10,
          10,
          10,
          6,
          9,
          10,
          8,
          1,
          10,
          4,
          8,
          9,
          8,
          8,
          9,
          9,
          6,
          7,
          10,
          7,
          8,
          7,
          9,
          9,
          9,
          1,
          8,
          8,
          7,
          9,
          9,
          8,
          7,
          10,
          10,
          5,
          10,
          10,
          8,
          10,
          4,
          8,
          10,
          9,
          10,
          6,
          8,
          3,
          7,
          9,
          1,
          7,
          5,
          6,
          6,
          10,
          9,
          3,
          8,
          10,
          6,
          10,
          7,
          9,
          5,
          6,
          8,
          9,
          7,
          10,
          10,
          10,
          10,
          9,
          9,
          10,
          7,
          8,
          6,
          7,
          10,
          8,
          9,
          10,
          9,
          4,
          7,
          9,
          9,
          9,
          9,
          4,
          7,
          8,
          8,
          10,
          10,
          10,
          10,
          8,
          9,
          7,
          9,
          9,
          10,
          10,
          8,
          9,
          8,
          9,
          1,
          9,
          10,
          6,
          6,
          9,
          10,
          9,
          9,
          9,
          10,
          6,
          7,
          9,
          8,
          2,
          9,
          9,
          10,
          7,
          10,
          8,
          10,
          9,
          10,
          8,
          10,
          1,
          7,
          10,
          7,
          10,
          9,
          7,
          3,
          5,
          8,
          8,
          10,
          1,
          10,
          10,
          8,
          7,
          6,
          1,
          10,
          6,
          8,
          2,
          7,
          9,
          10,
          8,
          6,
          9,
          9,
          10,
          7,
          9,
          2,
          10,
          7,
          10,
          10,
          10,
          8,
          2,
          9,
          9,
          7,
          8,
          9,
          8,
          10,
          5,
          9,
          9,
          8,
          6,
          9,
          7,
          7,
          9,
          7,
          9,
          7,
          8,
          4,
          8,
          10,
          5,
          2,
          10,
          7,
          5,
          6,
          9,
          8,
          7,
          8,
          7,
          9,
          10,
          9,
          6,
          5,
          9,
          2,
          3,
          8,
          8,
          8,
          4,
          9,
          9,
          6,
          8,
          7,
          7,
          9,
          10,
          7,
          9,
          5,
          9,
          7,
          10,
          10,
          5,
          8,
          9,
          9,
          10,
          10,
          9
         ],
         "xaxis": "x",
         "yaxis": "y"
        }
       ],
       "layout": {
        "barmode": "relative",
        "legend": {
         "tracegroupgap": 0
        },
        "margin": {
         "t": 60
        },
        "template": {
         "data": {
          "bar": [
           {
            "error_x": {
             "color": "#2a3f5f"
            },
            "error_y": {
             "color": "#2a3f5f"
            },
            "marker": {
             "line": {
              "color": "#E5ECF6",
              "width": 0.5
             },
             "pattern": {
              "fillmode": "overlay",
              "size": 10,
              "solidity": 0.2
             }
            },
            "type": "bar"
           }
          ],
          "barpolar": [
           {
            "marker": {
             "line": {
              "color": "#E5ECF6",
              "width": 0.5
             },
             "pattern": {
              "fillmode": "overlay",
              "size": 10,
              "solidity": 0.2
             }
            },
            "type": "barpolar"
           }
          ],
          "carpet": [
           {
            "aaxis": {
             "endlinecolor": "#2a3f5f",
             "gridcolor": "white",
             "linecolor": "white",
             "minorgridcolor": "white",
             "startlinecolor": "#2a3f5f"
            },
            "baxis": {
             "endlinecolor": "#2a3f5f",
             "gridcolor": "white",
             "linecolor": "white",
             "minorgridcolor": "white",
             "startlinecolor": "#2a3f5f"
            },
            "type": "carpet"
           }
          ],
          "choropleth": [
           {
            "colorbar": {
             "outlinewidth": 0,
             "ticks": ""
            },
            "type": "choropleth"
           }
          ],
          "contour": [
           {
            "colorbar": {
             "outlinewidth": 0,
             "ticks": ""
            },
            "colorscale": [
             [
              0,
              "#0d0887"
             ],
             [
              0.1111111111111111,
              "#46039f"
             ],
             [
              0.2222222222222222,
              "#7201a8"
             ],
             [
              0.3333333333333333,
              "#9c179e"
             ],
             [
              0.4444444444444444,
              "#bd3786"
             ],
             [
              0.5555555555555556,
              "#d8576b"
             ],
             [
              0.6666666666666666,
              "#ed7953"
             ],
             [
              0.7777777777777778,
              "#fb9f3a"
             ],
             [
              0.8888888888888888,
              "#fdca26"
             ],
             [
              1,
              "#f0f921"
             ]
            ],
            "type": "contour"
           }
          ],
          "contourcarpet": [
           {
            "colorbar": {
             "outlinewidth": 0,
             "ticks": ""
            },
            "type": "contourcarpet"
           }
          ],
          "heatmap": [
           {
            "colorbar": {
             "outlinewidth": 0,
             "ticks": ""
            },
            "colorscale": [
             [
              0,
              "#0d0887"
             ],
             [
              0.1111111111111111,
              "#46039f"
             ],
             [
              0.2222222222222222,
              "#7201a8"
             ],
             [
              0.3333333333333333,
              "#9c179e"
             ],
             [
              0.4444444444444444,
              "#bd3786"
             ],
             [
              0.5555555555555556,
              "#d8576b"
             ],
             [
              0.6666666666666666,
              "#ed7953"
             ],
             [
              0.7777777777777778,
              "#fb9f3a"
             ],
             [
              0.8888888888888888,
              "#fdca26"
             ],
             [
              1,
              "#f0f921"
             ]
            ],
            "type": "heatmap"
           }
          ],
          "heatmapgl": [
           {
            "colorbar": {
             "outlinewidth": 0,
             "ticks": ""
            },
            "colorscale": [
             [
              0,
              "#0d0887"
             ],
             [
              0.1111111111111111,
              "#46039f"
             ],
             [
              0.2222222222222222,
              "#7201a8"
             ],
             [
              0.3333333333333333,
              "#9c179e"
             ],
             [
              0.4444444444444444,
              "#bd3786"
             ],
             [
              0.5555555555555556,
              "#d8576b"
             ],
             [
              0.6666666666666666,
              "#ed7953"
             ],
             [
              0.7777777777777778,
              "#fb9f3a"
             ],
             [
              0.8888888888888888,
              "#fdca26"
             ],
             [
              1,
              "#f0f921"
             ]
            ],
            "type": "heatmapgl"
           }
          ],
          "histogram": [
           {
            "marker": {
             "pattern": {
              "fillmode": "overlay",
              "size": 10,
              "solidity": 0.2
             }
            },
            "type": "histogram"
           }
          ],
          "histogram2d": [
           {
            "colorbar": {
             "outlinewidth": 0,
             "ticks": ""
            },
            "colorscale": [
             [
              0,
              "#0d0887"
             ],
             [
              0.1111111111111111,
              "#46039f"
             ],
             [
              0.2222222222222222,
              "#7201a8"
             ],
             [
              0.3333333333333333,
              "#9c179e"
             ],
             [
              0.4444444444444444,
              "#bd3786"
             ],
             [
              0.5555555555555556,
              "#d8576b"
             ],
             [
              0.6666666666666666,
              "#ed7953"
             ],
             [
              0.7777777777777778,
              "#fb9f3a"
             ],
             [
              0.8888888888888888,
              "#fdca26"
             ],
             [
              1,
              "#f0f921"
             ]
            ],
            "type": "histogram2d"
           }
          ],
          "histogram2dcontour": [
           {
            "colorbar": {
             "outlinewidth": 0,
             "ticks": ""
            },
            "colorscale": [
             [
              0,
              "#0d0887"
             ],
             [
              0.1111111111111111,
              "#46039f"
             ],
             [
              0.2222222222222222,
              "#7201a8"
             ],
             [
              0.3333333333333333,
              "#9c179e"
             ],
             [
              0.4444444444444444,
              "#bd3786"
             ],
             [
              0.5555555555555556,
              "#d8576b"
             ],
             [
              0.6666666666666666,
              "#ed7953"
             ],
             [
              0.7777777777777778,
              "#fb9f3a"
             ],
             [
              0.8888888888888888,
              "#fdca26"
             ],
             [
              1,
              "#f0f921"
             ]
            ],
            "type": "histogram2dcontour"
           }
          ],
          "mesh3d": [
           {
            "colorbar": {
             "outlinewidth": 0,
             "ticks": ""
            },
            "type": "mesh3d"
           }
          ],
          "parcoords": [
           {
            "line": {
             "colorbar": {
              "outlinewidth": 0,
              "ticks": ""
             }
            },
            "type": "parcoords"
           }
          ],
          "pie": [
           {
            "automargin": true,
            "type": "pie"
           }
          ],
          "scatter": [
           {
            "fillpattern": {
             "fillmode": "overlay",
             "size": 10,
             "solidity": 0.2
            },
            "type": "scatter"
           }
          ],
          "scatter3d": [
           {
            "line": {
             "colorbar": {
              "outlinewidth": 0,
              "ticks": ""
             }
            },
            "marker": {
             "colorbar": {
              "outlinewidth": 0,
              "ticks": ""
             }
            },
            "type": "scatter3d"
           }
          ],
          "scattercarpet": [
           {
            "marker": {
             "colorbar": {
              "outlinewidth": 0,
              "ticks": ""
             }
            },
            "type": "scattercarpet"
           }
          ],
          "scattergeo": [
           {
            "marker": {
             "colorbar": {
              "outlinewidth": 0,
              "ticks": ""
             }
            },
            "type": "scattergeo"
           }
          ],
          "scattergl": [
           {
            "marker": {
             "colorbar": {
              "outlinewidth": 0,
              "ticks": ""
             }
            },
            "type": "scattergl"
           }
          ],
          "scattermapbox": [
           {
            "marker": {
             "colorbar": {
              "outlinewidth": 0,
              "ticks": ""
             }
            },
            "type": "scattermapbox"
           }
          ],
          "scatterpolar": [
           {
            "marker": {
             "colorbar": {
              "outlinewidth": 0,
              "ticks": ""
             }
            },
            "type": "scatterpolar"
           }
          ],
          "scatterpolargl": [
           {
            "marker": {
             "colorbar": {
              "outlinewidth": 0,
              "ticks": ""
             }
            },
            "type": "scatterpolargl"
           }
          ],
          "scatterternary": [
           {
            "marker": {
             "colorbar": {
              "outlinewidth": 0,
              "ticks": ""
             }
            },
            "type": "scatterternary"
           }
          ],
          "surface": [
           {
            "colorbar": {
             "outlinewidth": 0,
             "ticks": ""
            },
            "colorscale": [
             [
              0,
              "#0d0887"
             ],
             [
              0.1111111111111111,
              "#46039f"
             ],
             [
              0.2222222222222222,
              "#7201a8"
             ],
             [
              0.3333333333333333,
              "#9c179e"
             ],
             [
              0.4444444444444444,
              "#bd3786"
             ],
             [
              0.5555555555555556,
              "#d8576b"
             ],
             [
              0.6666666666666666,
              "#ed7953"
             ],
             [
              0.7777777777777778,
              "#fb9f3a"
             ],
             [
              0.8888888888888888,
              "#fdca26"
             ],
             [
              1,
              "#f0f921"
             ]
            ],
            "type": "surface"
           }
          ],
          "table": [
           {
            "cells": {
             "fill": {
              "color": "#EBF0F8"
             },
             "line": {
              "color": "white"
             }
            },
            "header": {
             "fill": {
              "color": "#C8D4E3"
             },
             "line": {
              "color": "white"
             }
            },
            "type": "table"
           }
          ]
         },
         "layout": {
          "annotationdefaults": {
           "arrowcolor": "#2a3f5f",
           "arrowhead": 0,
           "arrowwidth": 1
          },
          "autotypenumbers": "strict",
          "coloraxis": {
           "colorbar": {
            "outlinewidth": 0,
            "ticks": ""
           }
          },
          "colorscale": {
           "diverging": [
            [
             0,
             "#8e0152"
            ],
            [
             0.1,
             "#c51b7d"
            ],
            [
             0.2,
             "#de77ae"
            ],
            [
             0.3,
             "#f1b6da"
            ],
            [
             0.4,
             "#fde0ef"
            ],
            [
             0.5,
             "#f7f7f7"
            ],
            [
             0.6,
             "#e6f5d0"
            ],
            [
             0.7,
             "#b8e186"
            ],
            [
             0.8,
             "#7fbc41"
            ],
            [
             0.9,
             "#4d9221"
            ],
            [
             1,
             "#276419"
            ]
           ],
           "sequential": [
            [
             0,
             "#0d0887"
            ],
            [
             0.1111111111111111,
             "#46039f"
            ],
            [
             0.2222222222222222,
             "#7201a8"
            ],
            [
             0.3333333333333333,
             "#9c179e"
            ],
            [
             0.4444444444444444,
             "#bd3786"
            ],
            [
             0.5555555555555556,
             "#d8576b"
            ],
            [
             0.6666666666666666,
             "#ed7953"
            ],
            [
             0.7777777777777778,
             "#fb9f3a"
            ],
            [
             0.8888888888888888,
             "#fdca26"
            ],
            [
             1,
             "#f0f921"
            ]
           ],
           "sequentialminus": [
            [
             0,
             "#0d0887"
            ],
            [
             0.1111111111111111,
             "#46039f"
            ],
            [
             0.2222222222222222,
             "#7201a8"
            ],
            [
             0.3333333333333333,
             "#9c179e"
            ],
            [
             0.4444444444444444,
             "#bd3786"
            ],
            [
             0.5555555555555556,
             "#d8576b"
            ],
            [
             0.6666666666666666,
             "#ed7953"
            ],
            [
             0.7777777777777778,
             "#fb9f3a"
            ],
            [
             0.8888888888888888,
             "#fdca26"
            ],
            [
             1,
             "#f0f921"
            ]
           ]
          },
          "colorway": [
           "#636efa",
           "#EF553B",
           "#00cc96",
           "#ab63fa",
           "#FFA15A",
           "#19d3f3",
           "#FF6692",
           "#B6E880",
           "#FF97FF",
           "#FECB52"
          ],
          "font": {
           "color": "#2a3f5f"
          },
          "geo": {
           "bgcolor": "white",
           "lakecolor": "white",
           "landcolor": "#E5ECF6",
           "showlakes": true,
           "showland": true,
           "subunitcolor": "white"
          },
          "hoverlabel": {
           "align": "left"
          },
          "hovermode": "closest",
          "mapbox": {
           "style": "light"
          },
          "paper_bgcolor": "white",
          "plot_bgcolor": "#E5ECF6",
          "polar": {
           "angularaxis": {
            "gridcolor": "white",
            "linecolor": "white",
            "ticks": ""
           },
           "bgcolor": "#E5ECF6",
           "radialaxis": {
            "gridcolor": "white",
            "linecolor": "white",
            "ticks": ""
           }
          },
          "scene": {
           "xaxis": {
            "backgroundcolor": "#E5ECF6",
            "gridcolor": "white",
            "gridwidth": 2,
            "linecolor": "white",
            "showbackground": true,
            "ticks": "",
            "zerolinecolor": "white"
           },
           "yaxis": {
            "backgroundcolor": "#E5ECF6",
            "gridcolor": "white",
            "gridwidth": 2,
            "linecolor": "white",
            "showbackground": true,
            "ticks": "",
            "zerolinecolor": "white"
           },
           "zaxis": {
            "backgroundcolor": "#E5ECF6",
            "gridcolor": "white",
            "gridwidth": 2,
            "linecolor": "white",
            "showbackground": true,
            "ticks": "",
            "zerolinecolor": "white"
           }
          },
          "shapedefaults": {
           "line": {
            "color": "#2a3f5f"
           }
          },
          "ternary": {
           "aaxis": {
            "gridcolor": "white",
            "linecolor": "white",
            "ticks": ""
           },
           "baxis": {
            "gridcolor": "white",
            "linecolor": "white",
            "ticks": ""
           },
           "bgcolor": "#E5ECF6",
           "caxis": {
            "gridcolor": "white",
            "linecolor": "white",
            "ticks": ""
           }
          },
          "title": {
           "x": 0.05
          },
          "xaxis": {
           "automargin": true,
           "gridcolor": "white",
           "linecolor": "white",
           "ticks": "",
           "title": {
            "standoff": 15
           },
           "zerolinecolor": "white",
           "zerolinewidth": 2
          },
          "yaxis": {
           "automargin": true,
           "gridcolor": "white",
           "linecolor": "white",
           "ticks": "",
           "title": {
            "standoff": 15
           },
           "zerolinecolor": "white",
           "zerolinewidth": 2
          }
         }
        },
        "xaxis": {
         "anchor": "y",
         "domain": [
          0,
          1
         ],
         "title": {
          "text": "gpt-4-32k_score"
         }
        },
        "yaxis": {
         "anchor": "x",
         "domain": [
          0,
          1
         ],
         "title": {
          "text": "percent"
         }
        }
       }
      }
     },
     "metadata": {},
     "output_type": "display_data"
    }
   ],
   "source": [
    "fig = px.histogram(data_df[data_df['in_top_init']>0], x='gpt-4-32k_score',histnorm='percent')\n",
    "fig.show()"
   ]
  },
  {
   "cell_type": "markdown",
   "metadata": {},
   "source": [
    "#### The correlation between the gpt-4-32k_score and reranker_score for the groundtruth source "
   ]
  },
  {
   "cell_type": "code",
   "execution_count": 14,
   "metadata": {},
   "outputs": [
    {
     "data": {
      "application/vnd.plotly.v1+json": {
       "config": {
        "plotlyServerURL": "https://plot.ly"
       },
       "data": [
        {
         "hovertemplate": "match=%{x}<br>gpt-4-32k_score=%{y}<extra></extra>",
         "legendgroup": "",
         "marker": {
          "color": "#636efa",
          "symbol": "circle"
         },
         "mode": "markers",
         "name": "",
         "orientation": "v",
         "showlegend": false,
         "type": "scatter",
         "x": [
          3.130667924880981,
          2.574601650238037,
          3.286151885986328,
          3.944852828979492,
          3.8927695751190186,
          3.09543514251709,
          3.247089385986328,
          3.0969669818878174,
          2.935355424880981,
          3.422487735748291,
          2.7955729961395264,
          3.163602828979492,
          2.572304010391236,
          3.5304839611053467,
          2.784083843231201,
          3.581801414489746,
          3.5971200466156006,
          3.5136334896087646,
          2.7875306606292725,
          2.290441036224365,
          3.5695464611053467,
          2.171626091003418,
          3.6170341968536377,
          3.05637264251709,
          3.5136334896087646,
          3.833026885986328,
          3.8514091968536377,
          3.3405330181121826,
          2.9491422176361084,
          3.840686321258545,
          3.8697917461395264,
          3.433210849761963,
          3.103860378265381,
          2.0696375370025635,
          3.774816274642944,
          3.826899528503418,
          3.6997549533844,
          2.7649357318878174,
          3.969362735748291,
          3.9142158031463614,
          3.0111825466156006,
          3.398743867874145,
          3.481464385986328,
          3.2677695751190186,
          3.877450942993164,
          3.607077121734619,
          2.563878536224365,
          3.949448585510254,
          2.1184895038604736,
          3.757965564727783,
          3.1842830181121826,
          2.9330575466156006,
          3.2225797176361084,
          3.8560049533844,
          3.6752450466156006,
          2.975183725357056,
          3.924938678741455,
          3.48606014251709,
          3.283088207244873,
          3.9004290103912354,
          3.0326287746429443,
          3.9601714611053462,
          3.9402573108673096,
          3.181985378265381,
          3.949448585510254,
          1.615655541419983,
          2.3097808361053467,
          2.979013442993164,
          2.9583332538604736,
          3.2624080181121826,
          2.851102828979492,
          3.704350471496582,
          3.6354167461395264,
          3.9402573108673096,
          2.900888442993164,
          3.554227828979492,
          2.4558823108673096,
          3.450061321258545,
          2.3203125,
          3.9601714611053462,
          3.5473344326019287,
          3.305300235748291,
          3.037224292755127,
          2.855698585510254,
          3.60324764251709,
          3.282322406768799,
          2.6672794818878174,
          2.7454044818878174,
          3.692095518112183,
          2.422755718231201,
          2.443244457244873,
          3.539675235748291,
          2.9966299533843994,
          3.964767217636109,
          1.53178608417511,
          3.177389621734619,
          2.25808048248291,
          3.5105698108673096,
          2.8357841968536377,
          3.5350797176361084,
          3.767156839370728,
          3.0839459896087646,
          3.898897171020508,
          3.3428308963775635,
          3.785539150238037,
          3.369638442993164,
          3.263174057006836,
          2.848039150238037,
          3.641544103622437,
          3.425551414489746,
          2.316482782363892,
          2.9973957538604736,
          3.522824764251709,
          3.060202121734619,
          3.1980698108673096,
          2.2192094326019287,
          2.998161792755127,
          3.840686321258545,
          2.273207664489746,
          2.851868867874145,
          3.05637264251709,
          3.332107782363892,
          3.034926414489746,
          1.978754997253418,
          3.963235378265381,
          3.5710785388946533,
          3.655330896377564,
          2.507582664489746,
          3.4546568393707275,
          2.3813955783843994,
          2.5585172176361084,
          3.9034926891326895,
          3.875919103622437,
          3.461550235748291,
          2.3046109676361084,
          1.8894760608673096,
          3.954044103622437,
          2.322035789489746,
          3.7840073108673096,
          3.659926414489746,
          2.894761085510254,
          2.948376178741455,
          3.2570464611053467,
          3.4347426891326904,
          2.602941036224365,
          3.081648349761963,
          1.8125,
          3.392616510391236,
          3.359681367874145,
          3.9479167461395264,
          2.6014091968536377,
          3.957107782363892,
          3.767156839370728,
          3.103860378265381,
          2.9575674533843994,
          3.25168514251709,
          3.4937193393707275,
          2.7231924533843994,
          3.5657169818878174,
          3.3757660388946533,
          3.950980424880981,
          3.394914150238037,
          3.3060662746429443,
          3.3344056606292725,
          3.0280330181121826,
          2.838848114013672,
          2.49609375,
          2.584558725357056,
          2.7369792461395264,
          3.0448834896087646,
          3.13449764251709,
          2.7124693393707275,
          3.08700966835022,
          3.1168811321258545,
          2.9713542461395264,
          3.8253676891326895,
          3.696691274642944,
          3.707414150238037,
          3.450827121734619,
          3.9601714611053462,
          3.500612735748291,
          2.083759307861328,
          3.299938678741455,
          3.073223114013672,
          3.941789150238037,
          3.7916667461395264,
          2.1575520038604736,
          2.199103832244873,
          3.961703538894653,
          2.923100471496582,
          1.656058430671692,
          3.952512264251709,
          2.7626378536224365,
          3.949448585510254,
          3.848345518112183,
          3.523590564727783,
          3.7472426891326895,
          2.1025965213775635,
          3.188112735748291,
          3.796262264251709,
          3.34206485748291,
          3.2784926891326904,
          3.590226650238037,
          3.704350471496582,
          3.3290441036224365,
          3.901960849761963,
          3.4546568393707275,
          3.174325942993164,
          3.712009906768799,
          3.643075942993164,
          3.00888466835022,
          3.704350471496582,
          3.360447406768799,
          2.2649738788604736,
          3.770220518112183,
          2.9996936321258545,
          3.842218160629273,
          3.1176469326019287,
          3.204197406768799,
          2.3561198711395264,
          1.9897173643112185,
          3.2647058963775635,
          2.781403064727783,
          2.870251178741455,
          3.640012264251709,
          2.515625,
          3.482996225357056,
          0.7356004118919373,
          3.08700966835022,
          2.161381721496582,
          2.733532428741455,
          3.6752450466156006,
          3.5021445751190186,
          2.7706801891326904,
          3.2279412746429443,
          2.3649280071258545,
          3.9034926891326895,
          3.719669103622437,
          3.874387264251709,
          3.0418198108673096,
          1.8723382949829104,
          2.638556957244873,
          3.924938678741455,
          1.8096277713775637,
          2.230219841003418,
          2.31667423248291,
          3.8223040103912354,
          2.897824764251709,
          2.11767578125,
          3.810049057006836,
          3.2838542461395264,
          3.142922878265381,
          3.358149528503418,
          2.9966299533843994,
          1.6393994092941284,
          3.216452121734619,
          3.9601714611053462,
          3.719669103622437,
          1.6355698108673096,
          2.509880542755127,
          3.006587028503418,
          3.589460849761963,
          3.712009906768799,
          3.3826591968536377,
          3.4408700466156006,
          3.75949764251709,
          2.555453300476074,
          3.168964385986328,
          2.730851650238037,
          3.307598114013672,
          3.10768985748291,
          2.4288833141326904,
          2.896292924880981,
          2.5895373821258545,
          3.593290328979492,
          1.8558708429336548,
          2.90625,
          2.747319221496582,
          2.3157169818878174,
          3.145986557006836,
          2.9889705181121826,
          3.4692094326019287,
          2.680683135986328,
          2.418351650238037,
          2.398820400238037,
          3.3045341968536377,
          1.6501225233078003,
          2.8541667461395264,
          3.7472426891326895,
          3.954044103622437,
          3.248621225357056,
          3.085477828979492,
          2.240464210510254,
          2.976715564727783,
          2.7679994106292725,
          3.1360294818878174,
          2.976715564727783,
          2.662683725357056,
          2.887101650238037,
          2.197380542755127,
          3.311427593231201,
          1.8843060731887815,
          3.240962028503418,
          2.4589459896087646,
          3.813112735748291,
          0.8474264144897461,
          2.3959481716156006,
          2.1957528591156006,
          2.688342571258545,
          2.185412883758545,
          2.931525707244873,
          3.0755207538604736,
          2.616344928741455,
          2.714384078979492,
          2.410883903503418,
          2.3572685718536377,
          2.4440104961395264,
          3.512101650238037,
          2.923100471496582,
          2.6868107318878174,
          2.4390318393707275,
          2.5734527111053467,
          3.679840564727783,
          3.8146445751190186,
          3.840686321258545,
          2.2619102001190186,
          2.602941036224365,
          2.8825061321258545,
          3.1896445751190186,
          3.0885417461395264,
          2.023825168609619,
          3.494485378265381,
          2.281824350357056,
          3.028799057006836,
          1.8859336376190183,
          2.884037971496582,
          3.950980424880981,
          3.123774528503418,
          2.8380820751190186,
          2.482306957244873,
          1.2817095518112185,
          1.692631721496582,
          2.9016544818878174,
          2.8656556606292725,
          3.4270832538604736,
          2.929993867874145,
          1.039675235748291,
          3.701286792755127,
          3.91574764251709,
          2.0182483196258545,
          3.556525707244873,
          3.213388442993164,
          0.9630820751190186,
          3.757965564727783,
          3.140625,
          2.9575674533843994,
          2.979013442993164,
          3.7732841968536377,
          2.571537971496582,
          3.6024816036224365,
          3.344362735748291,
          1.8412224054336548,
          2.457797050476074,
          1.0557597875595093,
          2.510646343231201,
          3.955575942993164,
          3.9433209896087646,
          3.308363914489746,
          3.918811321258545,
          2.505284786224365,
          3.1115195751190186,
          3.6951591968536377,
          2.1036975383758545,
          2.09206485748291,
          3.160539150238037,
          3.469975471496582,
          3.8927695751190186,
          3.889705896377564,
          3.587162971496582
         ],
         "xaxis": "x",
         "y": [
          8,
          7,
          6,
          10,
          10,
          6,
          7,
          8,
          7,
          4,
          2,
          10,
          10,
          9,
          10,
          8,
          10,
          9,
          8,
          9,
          10,
          9,
          9,
          7,
          10,
          8,
          10,
          8,
          9,
          1,
          9,
          6,
          5,
          6,
          10,
          5,
          6,
          6,
          4,
          4,
          2,
          6,
          10,
          10,
          5,
          9,
          10,
          6,
          7,
          6,
          6,
          10,
          10,
          9,
          3,
          8,
          10,
          10,
          10,
          7,
          10,
          10,
          9,
          9,
          9,
          8,
          1,
          7,
          9,
          7,
          9,
          8,
          9,
          9,
          7,
          9,
          9,
          8,
          8,
          6,
          10,
          10,
          8,
          2,
          8,
          6,
          6,
          10,
          9,
          8,
          1,
          9,
          9,
          10,
          8,
          7,
          8,
          8,
          8,
          10,
          8,
          9,
          9,
          3,
          8,
          10,
          9,
          7,
          2,
          10,
          9,
          9,
          2,
          6,
          10,
          8,
          10,
          10,
          10,
          9,
          6,
          9,
          5,
          6,
          8,
          5,
          10,
          10,
          8,
          5,
          9,
          6,
          9,
          10,
          10,
          10,
          6,
          9,
          10,
          8,
          1,
          10,
          4,
          8,
          9,
          8,
          8,
          9,
          9,
          6,
          7,
          10,
          7,
          8,
          7,
          9,
          9,
          9,
          1,
          8,
          8,
          7,
          9,
          9,
          8,
          7,
          10,
          10,
          5,
          10,
          10,
          8,
          10,
          4,
          8,
          10,
          9,
          10,
          6,
          8,
          3,
          7,
          9,
          1,
          7,
          5,
          6,
          6,
          10,
          9,
          3,
          8,
          10,
          6,
          10,
          7,
          9,
          5,
          6,
          8,
          9,
          7,
          10,
          10,
          10,
          10,
          9,
          9,
          10,
          7,
          8,
          6,
          7,
          10,
          8,
          9,
          10,
          9,
          4,
          7,
          9,
          9,
          9,
          9,
          4,
          7,
          8,
          8,
          10,
          10,
          10,
          10,
          8,
          9,
          7,
          9,
          9,
          10,
          10,
          8,
          9,
          8,
          9,
          1,
          9,
          10,
          6,
          6,
          9,
          10,
          9,
          9,
          9,
          10,
          6,
          7,
          9,
          8,
          2,
          9,
          9,
          10,
          7,
          10,
          8,
          10,
          9,
          10,
          8,
          10,
          1,
          7,
          10,
          7,
          10,
          9,
          7,
          3,
          5,
          8,
          8,
          10,
          1,
          10,
          10,
          8,
          7,
          6,
          1,
          10,
          6,
          8,
          2,
          7,
          9,
          10,
          8,
          6,
          9,
          9,
          10,
          7,
          9,
          2,
          10,
          7,
          10,
          10,
          10,
          8,
          2,
          9,
          9,
          7,
          8,
          9,
          8,
          10,
          5,
          9,
          9,
          8,
          6,
          9,
          7,
          7,
          9,
          7,
          9,
          7,
          8,
          4,
          8,
          10,
          5,
          2,
          10,
          7,
          5,
          6,
          9,
          8,
          7,
          8,
          7,
          9,
          10,
          9,
          6,
          5,
          9,
          2,
          3,
          8,
          8,
          8,
          4,
          9,
          9,
          6,
          8,
          7,
          7,
          9,
          10,
          7,
          9,
          5,
          9,
          7,
          10,
          10,
          5,
          8,
          9,
          9,
          10,
          10,
          9
         ],
         "yaxis": "y"
        }
       ],
       "layout": {
        "legend": {
         "tracegroupgap": 0
        },
        "margin": {
         "t": 60
        },
        "template": {
         "data": {
          "bar": [
           {
            "error_x": {
             "color": "#2a3f5f"
            },
            "error_y": {
             "color": "#2a3f5f"
            },
            "marker": {
             "line": {
              "color": "#E5ECF6",
              "width": 0.5
             },
             "pattern": {
              "fillmode": "overlay",
              "size": 10,
              "solidity": 0.2
             }
            },
            "type": "bar"
           }
          ],
          "barpolar": [
           {
            "marker": {
             "line": {
              "color": "#E5ECF6",
              "width": 0.5
             },
             "pattern": {
              "fillmode": "overlay",
              "size": 10,
              "solidity": 0.2
             }
            },
            "type": "barpolar"
           }
          ],
          "carpet": [
           {
            "aaxis": {
             "endlinecolor": "#2a3f5f",
             "gridcolor": "white",
             "linecolor": "white",
             "minorgridcolor": "white",
             "startlinecolor": "#2a3f5f"
            },
            "baxis": {
             "endlinecolor": "#2a3f5f",
             "gridcolor": "white",
             "linecolor": "white",
             "minorgridcolor": "white",
             "startlinecolor": "#2a3f5f"
            },
            "type": "carpet"
           }
          ],
          "choropleth": [
           {
            "colorbar": {
             "outlinewidth": 0,
             "ticks": ""
            },
            "type": "choropleth"
           }
          ],
          "contour": [
           {
            "colorbar": {
             "outlinewidth": 0,
             "ticks": ""
            },
            "colorscale": [
             [
              0,
              "#0d0887"
             ],
             [
              0.1111111111111111,
              "#46039f"
             ],
             [
              0.2222222222222222,
              "#7201a8"
             ],
             [
              0.3333333333333333,
              "#9c179e"
             ],
             [
              0.4444444444444444,
              "#bd3786"
             ],
             [
              0.5555555555555556,
              "#d8576b"
             ],
             [
              0.6666666666666666,
              "#ed7953"
             ],
             [
              0.7777777777777778,
              "#fb9f3a"
             ],
             [
              0.8888888888888888,
              "#fdca26"
             ],
             [
              1,
              "#f0f921"
             ]
            ],
            "type": "contour"
           }
          ],
          "contourcarpet": [
           {
            "colorbar": {
             "outlinewidth": 0,
             "ticks": ""
            },
            "type": "contourcarpet"
           }
          ],
          "heatmap": [
           {
            "colorbar": {
             "outlinewidth": 0,
             "ticks": ""
            },
            "colorscale": [
             [
              0,
              "#0d0887"
             ],
             [
              0.1111111111111111,
              "#46039f"
             ],
             [
              0.2222222222222222,
              "#7201a8"
             ],
             [
              0.3333333333333333,
              "#9c179e"
             ],
             [
              0.4444444444444444,
              "#bd3786"
             ],
             [
              0.5555555555555556,
              "#d8576b"
             ],
             [
              0.6666666666666666,
              "#ed7953"
             ],
             [
              0.7777777777777778,
              "#fb9f3a"
             ],
             [
              0.8888888888888888,
              "#fdca26"
             ],
             [
              1,
              "#f0f921"
             ]
            ],
            "type": "heatmap"
           }
          ],
          "heatmapgl": [
           {
            "colorbar": {
             "outlinewidth": 0,
             "ticks": ""
            },
            "colorscale": [
             [
              0,
              "#0d0887"
             ],
             [
              0.1111111111111111,
              "#46039f"
             ],
             [
              0.2222222222222222,
              "#7201a8"
             ],
             [
              0.3333333333333333,
              "#9c179e"
             ],
             [
              0.4444444444444444,
              "#bd3786"
             ],
             [
              0.5555555555555556,
              "#d8576b"
             ],
             [
              0.6666666666666666,
              "#ed7953"
             ],
             [
              0.7777777777777778,
              "#fb9f3a"
             ],
             [
              0.8888888888888888,
              "#fdca26"
             ],
             [
              1,
              "#f0f921"
             ]
            ],
            "type": "heatmapgl"
           }
          ],
          "histogram": [
           {
            "marker": {
             "pattern": {
              "fillmode": "overlay",
              "size": 10,
              "solidity": 0.2
             }
            },
            "type": "histogram"
           }
          ],
          "histogram2d": [
           {
            "colorbar": {
             "outlinewidth": 0,
             "ticks": ""
            },
            "colorscale": [
             [
              0,
              "#0d0887"
             ],
             [
              0.1111111111111111,
              "#46039f"
             ],
             [
              0.2222222222222222,
              "#7201a8"
             ],
             [
              0.3333333333333333,
              "#9c179e"
             ],
             [
              0.4444444444444444,
              "#bd3786"
             ],
             [
              0.5555555555555556,
              "#d8576b"
             ],
             [
              0.6666666666666666,
              "#ed7953"
             ],
             [
              0.7777777777777778,
              "#fb9f3a"
             ],
             [
              0.8888888888888888,
              "#fdca26"
             ],
             [
              1,
              "#f0f921"
             ]
            ],
            "type": "histogram2d"
           }
          ],
          "histogram2dcontour": [
           {
            "colorbar": {
             "outlinewidth": 0,
             "ticks": ""
            },
            "colorscale": [
             [
              0,
              "#0d0887"
             ],
             [
              0.1111111111111111,
              "#46039f"
             ],
             [
              0.2222222222222222,
              "#7201a8"
             ],
             [
              0.3333333333333333,
              "#9c179e"
             ],
             [
              0.4444444444444444,
              "#bd3786"
             ],
             [
              0.5555555555555556,
              "#d8576b"
             ],
             [
              0.6666666666666666,
              "#ed7953"
             ],
             [
              0.7777777777777778,
              "#fb9f3a"
             ],
             [
              0.8888888888888888,
              "#fdca26"
             ],
             [
              1,
              "#f0f921"
             ]
            ],
            "type": "histogram2dcontour"
           }
          ],
          "mesh3d": [
           {
            "colorbar": {
             "outlinewidth": 0,
             "ticks": ""
            },
            "type": "mesh3d"
           }
          ],
          "parcoords": [
           {
            "line": {
             "colorbar": {
              "outlinewidth": 0,
              "ticks": ""
             }
            },
            "type": "parcoords"
           }
          ],
          "pie": [
           {
            "automargin": true,
            "type": "pie"
           }
          ],
          "scatter": [
           {
            "fillpattern": {
             "fillmode": "overlay",
             "size": 10,
             "solidity": 0.2
            },
            "type": "scatter"
           }
          ],
          "scatter3d": [
           {
            "line": {
             "colorbar": {
              "outlinewidth": 0,
              "ticks": ""
             }
            },
            "marker": {
             "colorbar": {
              "outlinewidth": 0,
              "ticks": ""
             }
            },
            "type": "scatter3d"
           }
          ],
          "scattercarpet": [
           {
            "marker": {
             "colorbar": {
              "outlinewidth": 0,
              "ticks": ""
             }
            },
            "type": "scattercarpet"
           }
          ],
          "scattergeo": [
           {
            "marker": {
             "colorbar": {
              "outlinewidth": 0,
              "ticks": ""
             }
            },
            "type": "scattergeo"
           }
          ],
          "scattergl": [
           {
            "marker": {
             "colorbar": {
              "outlinewidth": 0,
              "ticks": ""
             }
            },
            "type": "scattergl"
           }
          ],
          "scattermapbox": [
           {
            "marker": {
             "colorbar": {
              "outlinewidth": 0,
              "ticks": ""
             }
            },
            "type": "scattermapbox"
           }
          ],
          "scatterpolar": [
           {
            "marker": {
             "colorbar": {
              "outlinewidth": 0,
              "ticks": ""
             }
            },
            "type": "scatterpolar"
           }
          ],
          "scatterpolargl": [
           {
            "marker": {
             "colorbar": {
              "outlinewidth": 0,
              "ticks": ""
             }
            },
            "type": "scatterpolargl"
           }
          ],
          "scatterternary": [
           {
            "marker": {
             "colorbar": {
              "outlinewidth": 0,
              "ticks": ""
             }
            },
            "type": "scatterternary"
           }
          ],
          "surface": [
           {
            "colorbar": {
             "outlinewidth": 0,
             "ticks": ""
            },
            "colorscale": [
             [
              0,
              "#0d0887"
             ],
             [
              0.1111111111111111,
              "#46039f"
             ],
             [
              0.2222222222222222,
              "#7201a8"
             ],
             [
              0.3333333333333333,
              "#9c179e"
             ],
             [
              0.4444444444444444,
              "#bd3786"
             ],
             [
              0.5555555555555556,
              "#d8576b"
             ],
             [
              0.6666666666666666,
              "#ed7953"
             ],
             [
              0.7777777777777778,
              "#fb9f3a"
             ],
             [
              0.8888888888888888,
              "#fdca26"
             ],
             [
              1,
              "#f0f921"
             ]
            ],
            "type": "surface"
           }
          ],
          "table": [
           {
            "cells": {
             "fill": {
              "color": "#EBF0F8"
             },
             "line": {
              "color": "white"
             }
            },
            "header": {
             "fill": {
              "color": "#C8D4E3"
             },
             "line": {
              "color": "white"
             }
            },
            "type": "table"
           }
          ]
         },
         "layout": {
          "annotationdefaults": {
           "arrowcolor": "#2a3f5f",
           "arrowhead": 0,
           "arrowwidth": 1
          },
          "autotypenumbers": "strict",
          "coloraxis": {
           "colorbar": {
            "outlinewidth": 0,
            "ticks": ""
           }
          },
          "colorscale": {
           "diverging": [
            [
             0,
             "#8e0152"
            ],
            [
             0.1,
             "#c51b7d"
            ],
            [
             0.2,
             "#de77ae"
            ],
            [
             0.3,
             "#f1b6da"
            ],
            [
             0.4,
             "#fde0ef"
            ],
            [
             0.5,
             "#f7f7f7"
            ],
            [
             0.6,
             "#e6f5d0"
            ],
            [
             0.7,
             "#b8e186"
            ],
            [
             0.8,
             "#7fbc41"
            ],
            [
             0.9,
             "#4d9221"
            ],
            [
             1,
             "#276419"
            ]
           ],
           "sequential": [
            [
             0,
             "#0d0887"
            ],
            [
             0.1111111111111111,
             "#46039f"
            ],
            [
             0.2222222222222222,
             "#7201a8"
            ],
            [
             0.3333333333333333,
             "#9c179e"
            ],
            [
             0.4444444444444444,
             "#bd3786"
            ],
            [
             0.5555555555555556,
             "#d8576b"
            ],
            [
             0.6666666666666666,
             "#ed7953"
            ],
            [
             0.7777777777777778,
             "#fb9f3a"
            ],
            [
             0.8888888888888888,
             "#fdca26"
            ],
            [
             1,
             "#f0f921"
            ]
           ],
           "sequentialminus": [
            [
             0,
             "#0d0887"
            ],
            [
             0.1111111111111111,
             "#46039f"
            ],
            [
             0.2222222222222222,
             "#7201a8"
            ],
            [
             0.3333333333333333,
             "#9c179e"
            ],
            [
             0.4444444444444444,
             "#bd3786"
            ],
            [
             0.5555555555555556,
             "#d8576b"
            ],
            [
             0.6666666666666666,
             "#ed7953"
            ],
            [
             0.7777777777777778,
             "#fb9f3a"
            ],
            [
             0.8888888888888888,
             "#fdca26"
            ],
            [
             1,
             "#f0f921"
            ]
           ]
          },
          "colorway": [
           "#636efa",
           "#EF553B",
           "#00cc96",
           "#ab63fa",
           "#FFA15A",
           "#19d3f3",
           "#FF6692",
           "#B6E880",
           "#FF97FF",
           "#FECB52"
          ],
          "font": {
           "color": "#2a3f5f"
          },
          "geo": {
           "bgcolor": "white",
           "lakecolor": "white",
           "landcolor": "#E5ECF6",
           "showlakes": true,
           "showland": true,
           "subunitcolor": "white"
          },
          "hoverlabel": {
           "align": "left"
          },
          "hovermode": "closest",
          "mapbox": {
           "style": "light"
          },
          "paper_bgcolor": "white",
          "plot_bgcolor": "#E5ECF6",
          "polar": {
           "angularaxis": {
            "gridcolor": "white",
            "linecolor": "white",
            "ticks": ""
           },
           "bgcolor": "#E5ECF6",
           "radialaxis": {
            "gridcolor": "white",
            "linecolor": "white",
            "ticks": ""
           }
          },
          "scene": {
           "xaxis": {
            "backgroundcolor": "#E5ECF6",
            "gridcolor": "white",
            "gridwidth": 2,
            "linecolor": "white",
            "showbackground": true,
            "ticks": "",
            "zerolinecolor": "white"
           },
           "yaxis": {
            "backgroundcolor": "#E5ECF6",
            "gridcolor": "white",
            "gridwidth": 2,
            "linecolor": "white",
            "showbackground": true,
            "ticks": "",
            "zerolinecolor": "white"
           },
           "zaxis": {
            "backgroundcolor": "#E5ECF6",
            "gridcolor": "white",
            "gridwidth": 2,
            "linecolor": "white",
            "showbackground": true,
            "ticks": "",
            "zerolinecolor": "white"
           }
          },
          "shapedefaults": {
           "line": {
            "color": "#2a3f5f"
           }
          },
          "ternary": {
           "aaxis": {
            "gridcolor": "white",
            "linecolor": "white",
            "ticks": ""
           },
           "baxis": {
            "gridcolor": "white",
            "linecolor": "white",
            "ticks": ""
           },
           "bgcolor": "#E5ECF6",
           "caxis": {
            "gridcolor": "white",
            "linecolor": "white",
            "ticks": ""
           }
          },
          "title": {
           "x": 0.05
          },
          "xaxis": {
           "automargin": true,
           "gridcolor": "white",
           "linecolor": "white",
           "ticks": "",
           "title": {
            "standoff": 15
           },
           "zerolinecolor": "white",
           "zerolinewidth": 2
          },
          "yaxis": {
           "automargin": true,
           "gridcolor": "white",
           "linecolor": "white",
           "ticks": "",
           "title": {
            "standoff": 15
           },
           "zerolinecolor": "white",
           "zerolinewidth": 2
          }
         }
        },
        "xaxis": {
         "anchor": "y",
         "domain": [
          0,
          1
         ],
         "title": {
          "text": "match"
         }
        },
        "yaxis": {
         "anchor": "x",
         "domain": [
          0,
          1
         ],
         "title": {
          "text": "gpt-4-32k_score"
         }
        }
       }
      }
     },
     "metadata": {},
     "output_type": "display_data"
    }
   ],
   "source": [
    "fig = px.scatter(data_df[data_df['in_top_init']>0], x='match', y='gpt-4-32k_score')\n",
    "fig.show()"
   ]
  },
  {
   "cell_type": "markdown",
   "metadata": {},
   "source": [
    "#### The correlation between the highest reranker_score and reranker_score for the groundtruth source "
   ]
  },
  {
   "cell_type": "code",
   "execution_count": 16,
   "metadata": {},
   "outputs": [
    {
     "data": {
      "application/vnd.plotly.v1+json": {
       "config": {
        "plotlyServerURL": "https://plot.ly"
       },
       "data": [
        {
         "hovertemplate": "match=%{x}<br>max_cog_reranker_score=%{y}<extra></extra>",
         "legendgroup": "",
         "marker": {
          "color": "#636efa",
          "symbol": "circle"
         },
         "mode": "markers",
         "name": "",
         "orientation": "v",
         "showlegend": false,
         "type": "scatter",
         "x": [
          3.130667924880981,
          2.574601650238037,
          3.286151885986328,
          3.944852828979492,
          3.8927695751190186,
          3.09543514251709,
          3.247089385986328,
          3.0969669818878174,
          2.935355424880981,
          3.422487735748291,
          2.7955729961395264,
          3.163602828979492,
          2.572304010391236,
          3.5304839611053467,
          2.784083843231201,
          3.581801414489746,
          3.5971200466156006,
          3.5136334896087646,
          2.7875306606292725,
          2.290441036224365,
          3.5695464611053467,
          2.171626091003418,
          3.6170341968536377,
          3.05637264251709,
          3.5136334896087646,
          3.833026885986328,
          3.8514091968536377,
          3.3405330181121826,
          2.9491422176361084,
          3.840686321258545,
          3.8697917461395264,
          3.433210849761963,
          3.103860378265381,
          2.0696375370025635,
          3.774816274642944,
          3.826899528503418,
          3.6997549533844,
          2.7649357318878174,
          3.969362735748291,
          3.9142158031463614,
          3.0111825466156006,
          3.398743867874145,
          3.481464385986328,
          3.2677695751190186,
          3.877450942993164,
          3.607077121734619,
          2.563878536224365,
          3.949448585510254,
          2.1184895038604736,
          3.757965564727783,
          3.1842830181121826,
          2.9330575466156006,
          3.2225797176361084,
          3.8560049533844,
          3.6752450466156006,
          2.975183725357056,
          3.924938678741455,
          3.48606014251709,
          3.283088207244873,
          3.9004290103912354,
          3.0326287746429443,
          3.9601714611053462,
          3.9402573108673096,
          3.181985378265381,
          3.949448585510254,
          1.615655541419983,
          2.3097808361053467,
          2.979013442993164,
          2.9583332538604736,
          3.2624080181121826,
          2.851102828979492,
          3.704350471496582,
          3.6354167461395264,
          3.9402573108673096,
          2.900888442993164,
          3.554227828979492,
          2.4558823108673096,
          3.450061321258545,
          2.3203125,
          3.9601714611053462,
          3.5473344326019287,
          3.305300235748291,
          3.037224292755127,
          2.855698585510254,
          3.60324764251709,
          3.282322406768799,
          2.6672794818878174,
          2.7454044818878174,
          3.692095518112183,
          2.422755718231201,
          2.443244457244873,
          3.539675235748291,
          2.9966299533843994,
          3.964767217636109,
          1.53178608417511,
          3.177389621734619,
          2.25808048248291,
          3.5105698108673096,
          2.8357841968536377,
          3.5350797176361084,
          3.767156839370728,
          3.0839459896087646,
          3.898897171020508,
          3.3428308963775635,
          3.785539150238037,
          3.369638442993164,
          3.263174057006836,
          2.848039150238037,
          3.641544103622437,
          3.425551414489746,
          2.316482782363892,
          2.9973957538604736,
          3.522824764251709,
          3.060202121734619,
          3.1980698108673096,
          2.2192094326019287,
          2.998161792755127,
          3.840686321258545,
          2.273207664489746,
          2.851868867874145,
          3.05637264251709,
          3.332107782363892,
          3.034926414489746,
          1.978754997253418,
          3.963235378265381,
          3.5710785388946533,
          3.655330896377564,
          2.507582664489746,
          3.4546568393707275,
          2.3813955783843994,
          2.5585172176361084,
          3.9034926891326895,
          3.875919103622437,
          3.461550235748291,
          2.3046109676361084,
          1.8894760608673096,
          3.954044103622437,
          2.322035789489746,
          3.7840073108673096,
          3.659926414489746,
          2.894761085510254,
          2.948376178741455,
          3.2570464611053467,
          3.4347426891326904,
          2.602941036224365,
          3.081648349761963,
          1.8125,
          3.392616510391236,
          3.359681367874145,
          3.9479167461395264,
          2.6014091968536377,
          3.957107782363892,
          3.767156839370728,
          3.103860378265381,
          2.9575674533843994,
          3.25168514251709,
          3.4937193393707275,
          2.7231924533843994,
          3.5657169818878174,
          3.3757660388946533,
          3.950980424880981,
          3.394914150238037,
          3.3060662746429443,
          3.3344056606292725,
          3.0280330181121826,
          2.838848114013672,
          2.49609375,
          2.584558725357056,
          2.7369792461395264,
          3.0448834896087646,
          3.13449764251709,
          2.7124693393707275,
          3.08700966835022,
          3.1168811321258545,
          2.9713542461395264,
          3.8253676891326895,
          3.696691274642944,
          3.707414150238037,
          3.450827121734619,
          3.9601714611053462,
          3.500612735748291,
          2.083759307861328,
          3.299938678741455,
          3.073223114013672,
          3.941789150238037,
          3.7916667461395264,
          2.1575520038604736,
          2.199103832244873,
          3.961703538894653,
          2.923100471496582,
          1.656058430671692,
          3.952512264251709,
          2.7626378536224365,
          3.949448585510254,
          3.848345518112183,
          3.523590564727783,
          3.7472426891326895,
          2.1025965213775635,
          3.188112735748291,
          3.796262264251709,
          3.34206485748291,
          3.2784926891326904,
          3.590226650238037,
          3.704350471496582,
          3.3290441036224365,
          3.901960849761963,
          3.4546568393707275,
          3.174325942993164,
          3.712009906768799,
          3.643075942993164,
          3.00888466835022,
          3.704350471496582,
          3.360447406768799,
          2.2649738788604736,
          3.770220518112183,
          2.9996936321258545,
          3.842218160629273,
          3.1176469326019287,
          3.204197406768799,
          2.3561198711395264,
          1.9897173643112185,
          3.2647058963775635,
          2.781403064727783,
          2.870251178741455,
          3.640012264251709,
          2.515625,
          3.482996225357056,
          0.7356004118919373,
          3.08700966835022,
          2.161381721496582,
          2.733532428741455,
          3.6752450466156006,
          3.5021445751190186,
          2.7706801891326904,
          3.2279412746429443,
          2.3649280071258545,
          3.9034926891326895,
          3.719669103622437,
          3.874387264251709,
          3.0418198108673096,
          1.8723382949829104,
          2.638556957244873,
          3.924938678741455,
          1.8096277713775637,
          2.230219841003418,
          2.31667423248291,
          3.8223040103912354,
          2.897824764251709,
          2.11767578125,
          3.810049057006836,
          3.2838542461395264,
          3.142922878265381,
          3.358149528503418,
          2.9966299533843994,
          1.6393994092941284,
          3.216452121734619,
          3.9601714611053462,
          3.719669103622437,
          1.6355698108673096,
          2.509880542755127,
          3.006587028503418,
          3.589460849761963,
          3.712009906768799,
          3.3826591968536377,
          3.4408700466156006,
          3.75949764251709,
          2.555453300476074,
          3.168964385986328,
          2.730851650238037,
          3.307598114013672,
          3.10768985748291,
          2.4288833141326904,
          2.896292924880981,
          2.5895373821258545,
          3.593290328979492,
          1.8558708429336548,
          2.90625,
          2.747319221496582,
          2.3157169818878174,
          3.145986557006836,
          2.9889705181121826,
          3.4692094326019287,
          2.680683135986328,
          2.418351650238037,
          2.398820400238037,
          3.3045341968536377,
          1.6501225233078003,
          2.8541667461395264,
          3.7472426891326895,
          3.954044103622437,
          3.248621225357056,
          3.085477828979492,
          2.240464210510254,
          2.976715564727783,
          2.7679994106292725,
          3.1360294818878174,
          2.976715564727783,
          2.662683725357056,
          2.887101650238037,
          2.197380542755127,
          3.311427593231201,
          1.8843060731887815,
          3.240962028503418,
          2.4589459896087646,
          3.813112735748291,
          0.8474264144897461,
          2.3959481716156006,
          2.1957528591156006,
          2.688342571258545,
          2.185412883758545,
          2.931525707244873,
          3.0755207538604736,
          2.616344928741455,
          2.714384078979492,
          2.410883903503418,
          2.3572685718536377,
          2.4440104961395264,
          3.512101650238037,
          2.923100471496582,
          2.6868107318878174,
          2.4390318393707275,
          2.5734527111053467,
          3.679840564727783,
          3.8146445751190186,
          3.840686321258545,
          2.2619102001190186,
          2.602941036224365,
          2.8825061321258545,
          3.1896445751190186,
          3.0885417461395264,
          2.023825168609619,
          3.494485378265381,
          2.281824350357056,
          3.028799057006836,
          1.8859336376190183,
          2.884037971496582,
          3.950980424880981,
          3.123774528503418,
          2.8380820751190186,
          2.482306957244873,
          1.2817095518112185,
          1.692631721496582,
          2.9016544818878174,
          2.8656556606292725,
          3.4270832538604736,
          2.929993867874145,
          1.039675235748291,
          3.701286792755127,
          3.91574764251709,
          2.0182483196258545,
          3.556525707244873,
          3.213388442993164,
          0.9630820751190186,
          3.757965564727783,
          3.140625,
          2.9575674533843994,
          2.979013442993164,
          3.7732841968536377,
          2.571537971496582,
          3.6024816036224365,
          3.344362735748291,
          1.8412224054336548,
          2.457797050476074,
          1.0557597875595093,
          2.510646343231201,
          3.955575942993164,
          3.9433209896087646,
          3.308363914489746,
          3.918811321258545,
          2.505284786224365,
          3.1115195751190186,
          3.6951591968536377,
          2.1036975383758545,
          2.09206485748291,
          3.160539150238037,
          3.469975471496582,
          3.8927695751190186,
          3.889705896377564,
          3.587162971496582
         ],
         "xaxis": "x",
         "y": [
          3.3956801891326904,
          2.761871814727783,
          3.286151885986328,
          3.944852828979492,
          3.8927695751190186,
          3.269301414489746,
          3.247089385986328,
          3.0969669818878174,
          2.935355424880981,
          3.422487735748291,
          2.7955729961395264,
          3.163602828979492,
          3.724264621734619,
          3.69362735748291,
          2.8710172176361084,
          3.581801414489746,
          3.5971200466156006,
          3.5136334896087646,
          2.90625,
          2.290441036224365,
          3.5695464611053467,
          3.054840564727783,
          3.6170341968536377,
          3.05637264251709,
          3.5136334896087646,
          3.833026885986328,
          3.8514091968536377,
          3.3405330181121826,
          3.1092216968536377,
          3.9341299533844,
          3.9065563678741455,
          3.433210849761963,
          3.633884906768799,
          2.941482782363892,
          3.774816274642944,
          3.854473114013672,
          3.7365195751190186,
          3.719669103622437,
          3.969362735748291,
          3.9142158031463614,
          3.336703300476074,
          3.4301469326019287,
          3.481464385986328,
          3.650735378265381,
          3.958639621734619,
          3.636948585510254,
          2.8039982318878174,
          3.954044103622437,
          2.8403799533843994,
          3.757965564727783,
          3.647671461105346,
          3.313725471496582,
          3.662990093231201,
          3.8560049533844,
          3.6752450466156006,
          2.975183725357056,
          3.952512264251709,
          3.48606014251709,
          3.283088207244873,
          3.9004290103912354,
          3.2738969326019287,
          3.960171461105346,
          3.9402573108673096,
          3.181985378265381,
          3.949448585510254,
          3.1750919818878174,
          2.3097808361053467,
          2.979013442993164,
          3.2846200466156006,
          3.2624080181121826,
          3.803921461105346,
          3.704350471496582,
          3.6354167461395264,
          3.9402573108673096,
          2.900888442993164,
          3.719669103622437,
          2.643535614013672,
          3.450061321258545,
          3.123774528503418,
          3.960171461105346,
          3.5473344326019287,
          3.9096200466156006,
          3.037224292755127,
          2.855698585510254,
          3.60324764251709,
          3.282322406768799,
          2.6672794818878174,
          2.7454044818878174,
          3.793198585510254,
          2.8886334896087646,
          2.443244457244873,
          3.539675235748291,
          3.610906839370728,
          3.964767217636109,
          1.5823376178741455,
          3.177389621734619,
          2.25808048248291,
          3.609375,
          3.02956485748291,
          3.5350797176361084,
          3.954044103622437,
          3.5182292461395264,
          3.898897171020508,
          3.9479167461395264,
          3.785539150238037,
          3.4010417461395264,
          3.488357782363892,
          2.848039150238037,
          3.641544103622437,
          3.425551414489746,
          2.809359550476074,
          3.0579044818878174,
          3.75949764251709,
          3.3765318393707275,
          3.6583945751190186,
          2.864123821258545,
          2.998161792755127,
          3.840686321258545,
          2.358800411224365,
          3.433210849761963,
          3.4217216968536377,
          3.333639621734619,
          3.882046461105346,
          2.7155330181121826,
          3.963235378265381,
          3.967830896377564,
          3.655330896377564,
          3.09543514251709,
          3.4546568393707275,
          2.934589385986328,
          2.9667584896087646,
          3.9034926891326895,
          3.875919103622437,
          3.958639621734619,
          2.931525707244873,
          3.863664150238037,
          3.954044103622437,
          3.6170341968536377,
          3.92800235748291,
          3.659926414489746,
          2.894761085510254,
          2.948376178741455,
          3.6308209896087646,
          3.4347426891326904,
          2.800551414489746,
          3.719669103622437,
          2.697150707244873,
          3.392616510391236,
          3.359681367874145,
          3.9479167461395264,
          3.932598114013672,
          3.957107782363892,
          3.767156839370728,
          3.103860378265381,
          3.2279412746429443,
          3.25168514251709,
          3.4937193393707275,
          2.7231924533843994,
          3.5657169818878174,
          3.3757660388946533,
          3.950980424880981,
          3.394914150238037,
          3.3060662746429443,
          3.3344056606292725,
          3.054840564727783,
          3.2287070751190186,
          2.6427695751190186,
          3.266237735748291,
          3.246323585510254,
          3.0448834896087646,
          3.13449764251709,
          3.02956485748291,
          3.08700966835022,
          3.1168811321258545,
          3.722732782363892,
          3.8253676891326895,
          3.696691274642944,
          3.707414150238037,
          3.641544103622437,
          3.960171461105346,
          3.568014621734619,
          3.221813678741455,
          3.299938678741455,
          3.4914214611053467,
          3.941789150238037,
          3.966299057006836,
          2.660768985748291,
          2.568474292755127,
          3.961703538894653,
          2.9966299533843994,
          3.597886085510254,
          3.954044103622437,
          2.7626378536224365,
          3.957107782363892,
          3.898897171020508,
          3.558823585510254,
          3.7472426891326895,
          2.309589385986328,
          3.667585849761963,
          3.796262264251709,
          3.34206485748291,
          3.512101650238037,
          3.590226650238037,
          3.704350471496582,
          3.3290441036224365,
          3.901960849761963,
          3.5909926891326904,
          3.545802593231201,
          3.712009906768799,
          3.653799057006836,
          3.670649528503418,
          3.704350471496582,
          3.360447406768799,
          2.2649738788604736,
          3.770220518112183,
          3.49831485748291,
          3.842218160629273,
          3.803921461105346,
          3.656862735748291,
          2.682598114013672,
          2.5397517681121826,
          3.2647058963775635,
          2.976715564727783,
          3.742647171020508,
          3.640012264251709,
          2.7909772396087646,
          3.482996225357056,
          1.7186733484268188,
          3.08700966835022,
          2.660768985748291,
          2.828125,
          3.6752450466156006,
          3.650735378265381,
          3.1030943393707275,
          3.667585849761963,
          2.833486557006836,
          3.9479167461395264,
          3.719669103622437,
          3.874387264251709,
          3.076286792755127,
          2.3130362033843994,
          3.0418198108673096,
          3.924938678741455,
          2.173445224761963,
          2.230219841003418,
          2.369714975357056,
          3.8223040103912354,
          2.897824764251709,
          2.476179599761963,
          3.810049057006836,
          3.2838542461395264,
          3.142922878265381,
          3.358149528503418,
          2.9966299533843994,
          3.649203538894653,
          3.4125306606292725,
          3.960171461105346,
          3.719669103622437,
          3.1865808963775635,
          3.076286792755127,
          3.3183209896087646,
          3.774816274642944,
          3.712009906768799,
          3.9034926891326895,
          3.8253676891326895,
          3.75949764251709,
          2.555453300476074,
          3.168964385986328,
          3.232536792755127,
          3.718137264251709,
          3.10768985748291,
          2.655407428741455,
          2.896292924880981,
          3.447763442993164,
          3.593290328979492,
          3.5412070751190186,
          3.1980698108673096,
          3.3068320751190186,
          2.780637264251709,
          3.748774528503418,
          3.0778186321258545,
          3.4692094326019287,
          2.805912971496582,
          3.6583945751190186,
          2.398820400238037,
          3.442401885986328,
          2.389246225357056,
          2.8541667461395264,
          3.7472426891326895,
          3.961703538894653,
          3.4140625,
          3.2792584896087646,
          2.3141849040985107,
          2.9836089611053467,
          2.8802082538604736,
          3.431679010391236,
          3.026501178741455,
          3.9295341968536377,
          2.887101650238037,
          2.884037971496582,
          3.311427593231201,
          2.154105424880981,
          3.240962028503418,
          2.6458332538604736,
          3.813112735748291,
          1.8146063089370728,
          2.3959481716156006,
          2.5673253536224365,
          3.194240093231201,
          2.867953300476074,
          2.931525707244873,
          3.0755207538604736,
          2.616344928741455,
          2.824295282363892,
          2.8886334896087646,
          2.8319547176361084,
          2.4440104961395264,
          3.512101650238037,
          2.962929010391236,
          3.527420282363892,
          2.785232782363892,
          3.883578538894653,
          3.679840564727783,
          3.8146445751190186,
          3.854473114013672,
          2.692172050476074,
          2.69140625,
          3.655330896377564,
          3.5128676891326904,
          3.0885417461395264,
          3.0188419818878174,
          3.494485378265381,
          3.059436321258545,
          3.5381433963775635,
          3.293811321258545,
          2.884037971496582,
          3.954044103622437,
          3.664522171020508,
          2.8380820751190186,
          2.8411457538604736,
          1.7757352590560913,
          2.246591567993164,
          2.9016544818878174,
          3.0219056606292725,
          3.941789150238037,
          2.929993867874145,
          2.571920871734619,
          3.701286792755127,
          3.91574764251709,
          2.9407169818878174,
          3.556525707244873,
          3.213388442993164,
          1.734375,
          3.757965564727783,
          3.140625,
          2.9575674533843994,
          2.979013442993164,
          3.7732841968536377,
          3.464613914489746,
          3.6024816036224365,
          3.344362735748291,
          2.5309436321258545,
          2.896292924880981,
          2.2864201068878174,
          3.375,
          3.955575942993164,
          3.949448585510254,
          3.9142158031463614,
          3.918811321258545,
          2.505284786224365,
          3.1115195751190186,
          3.6951591968536377,
          2.3228018283843994,
          2.7174479961395264,
          3.160539150238037,
          3.469975471496582,
          3.8927695751190186,
          3.889705896377564,
          3.774816274642944
         ],
         "yaxis": "y"
        }
       ],
       "layout": {
        "legend": {
         "tracegroupgap": 0
        },
        "margin": {
         "t": 60
        },
        "template": {
         "data": {
          "bar": [
           {
            "error_x": {
             "color": "#2a3f5f"
            },
            "error_y": {
             "color": "#2a3f5f"
            },
            "marker": {
             "line": {
              "color": "#E5ECF6",
              "width": 0.5
             },
             "pattern": {
              "fillmode": "overlay",
              "size": 10,
              "solidity": 0.2
             }
            },
            "type": "bar"
           }
          ],
          "barpolar": [
           {
            "marker": {
             "line": {
              "color": "#E5ECF6",
              "width": 0.5
             },
             "pattern": {
              "fillmode": "overlay",
              "size": 10,
              "solidity": 0.2
             }
            },
            "type": "barpolar"
           }
          ],
          "carpet": [
           {
            "aaxis": {
             "endlinecolor": "#2a3f5f",
             "gridcolor": "white",
             "linecolor": "white",
             "minorgridcolor": "white",
             "startlinecolor": "#2a3f5f"
            },
            "baxis": {
             "endlinecolor": "#2a3f5f",
             "gridcolor": "white",
             "linecolor": "white",
             "minorgridcolor": "white",
             "startlinecolor": "#2a3f5f"
            },
            "type": "carpet"
           }
          ],
          "choropleth": [
           {
            "colorbar": {
             "outlinewidth": 0,
             "ticks": ""
            },
            "type": "choropleth"
           }
          ],
          "contour": [
           {
            "colorbar": {
             "outlinewidth": 0,
             "ticks": ""
            },
            "colorscale": [
             [
              0,
              "#0d0887"
             ],
             [
              0.1111111111111111,
              "#46039f"
             ],
             [
              0.2222222222222222,
              "#7201a8"
             ],
             [
              0.3333333333333333,
              "#9c179e"
             ],
             [
              0.4444444444444444,
              "#bd3786"
             ],
             [
              0.5555555555555556,
              "#d8576b"
             ],
             [
              0.6666666666666666,
              "#ed7953"
             ],
             [
              0.7777777777777778,
              "#fb9f3a"
             ],
             [
              0.8888888888888888,
              "#fdca26"
             ],
             [
              1,
              "#f0f921"
             ]
            ],
            "type": "contour"
           }
          ],
          "contourcarpet": [
           {
            "colorbar": {
             "outlinewidth": 0,
             "ticks": ""
            },
            "type": "contourcarpet"
           }
          ],
          "heatmap": [
           {
            "colorbar": {
             "outlinewidth": 0,
             "ticks": ""
            },
            "colorscale": [
             [
              0,
              "#0d0887"
             ],
             [
              0.1111111111111111,
              "#46039f"
             ],
             [
              0.2222222222222222,
              "#7201a8"
             ],
             [
              0.3333333333333333,
              "#9c179e"
             ],
             [
              0.4444444444444444,
              "#bd3786"
             ],
             [
              0.5555555555555556,
              "#d8576b"
             ],
             [
              0.6666666666666666,
              "#ed7953"
             ],
             [
              0.7777777777777778,
              "#fb9f3a"
             ],
             [
              0.8888888888888888,
              "#fdca26"
             ],
             [
              1,
              "#f0f921"
             ]
            ],
            "type": "heatmap"
           }
          ],
          "heatmapgl": [
           {
            "colorbar": {
             "outlinewidth": 0,
             "ticks": ""
            },
            "colorscale": [
             [
              0,
              "#0d0887"
             ],
             [
              0.1111111111111111,
              "#46039f"
             ],
             [
              0.2222222222222222,
              "#7201a8"
             ],
             [
              0.3333333333333333,
              "#9c179e"
             ],
             [
              0.4444444444444444,
              "#bd3786"
             ],
             [
              0.5555555555555556,
              "#d8576b"
             ],
             [
              0.6666666666666666,
              "#ed7953"
             ],
             [
              0.7777777777777778,
              "#fb9f3a"
             ],
             [
              0.8888888888888888,
              "#fdca26"
             ],
             [
              1,
              "#f0f921"
             ]
            ],
            "type": "heatmapgl"
           }
          ],
          "histogram": [
           {
            "marker": {
             "pattern": {
              "fillmode": "overlay",
              "size": 10,
              "solidity": 0.2
             }
            },
            "type": "histogram"
           }
          ],
          "histogram2d": [
           {
            "colorbar": {
             "outlinewidth": 0,
             "ticks": ""
            },
            "colorscale": [
             [
              0,
              "#0d0887"
             ],
             [
              0.1111111111111111,
              "#46039f"
             ],
             [
              0.2222222222222222,
              "#7201a8"
             ],
             [
              0.3333333333333333,
              "#9c179e"
             ],
             [
              0.4444444444444444,
              "#bd3786"
             ],
             [
              0.5555555555555556,
              "#d8576b"
             ],
             [
              0.6666666666666666,
              "#ed7953"
             ],
             [
              0.7777777777777778,
              "#fb9f3a"
             ],
             [
              0.8888888888888888,
              "#fdca26"
             ],
             [
              1,
              "#f0f921"
             ]
            ],
            "type": "histogram2d"
           }
          ],
          "histogram2dcontour": [
           {
            "colorbar": {
             "outlinewidth": 0,
             "ticks": ""
            },
            "colorscale": [
             [
              0,
              "#0d0887"
             ],
             [
              0.1111111111111111,
              "#46039f"
             ],
             [
              0.2222222222222222,
              "#7201a8"
             ],
             [
              0.3333333333333333,
              "#9c179e"
             ],
             [
              0.4444444444444444,
              "#bd3786"
             ],
             [
              0.5555555555555556,
              "#d8576b"
             ],
             [
              0.6666666666666666,
              "#ed7953"
             ],
             [
              0.7777777777777778,
              "#fb9f3a"
             ],
             [
              0.8888888888888888,
              "#fdca26"
             ],
             [
              1,
              "#f0f921"
             ]
            ],
            "type": "histogram2dcontour"
           }
          ],
          "mesh3d": [
           {
            "colorbar": {
             "outlinewidth": 0,
             "ticks": ""
            },
            "type": "mesh3d"
           }
          ],
          "parcoords": [
           {
            "line": {
             "colorbar": {
              "outlinewidth": 0,
              "ticks": ""
             }
            },
            "type": "parcoords"
           }
          ],
          "pie": [
           {
            "automargin": true,
            "type": "pie"
           }
          ],
          "scatter": [
           {
            "fillpattern": {
             "fillmode": "overlay",
             "size": 10,
             "solidity": 0.2
            },
            "type": "scatter"
           }
          ],
          "scatter3d": [
           {
            "line": {
             "colorbar": {
              "outlinewidth": 0,
              "ticks": ""
             }
            },
            "marker": {
             "colorbar": {
              "outlinewidth": 0,
              "ticks": ""
             }
            },
            "type": "scatter3d"
           }
          ],
          "scattercarpet": [
           {
            "marker": {
             "colorbar": {
              "outlinewidth": 0,
              "ticks": ""
             }
            },
            "type": "scattercarpet"
           }
          ],
          "scattergeo": [
           {
            "marker": {
             "colorbar": {
              "outlinewidth": 0,
              "ticks": ""
             }
            },
            "type": "scattergeo"
           }
          ],
          "scattergl": [
           {
            "marker": {
             "colorbar": {
              "outlinewidth": 0,
              "ticks": ""
             }
            },
            "type": "scattergl"
           }
          ],
          "scattermapbox": [
           {
            "marker": {
             "colorbar": {
              "outlinewidth": 0,
              "ticks": ""
             }
            },
            "type": "scattermapbox"
           }
          ],
          "scatterpolar": [
           {
            "marker": {
             "colorbar": {
              "outlinewidth": 0,
              "ticks": ""
             }
            },
            "type": "scatterpolar"
           }
          ],
          "scatterpolargl": [
           {
            "marker": {
             "colorbar": {
              "outlinewidth": 0,
              "ticks": ""
             }
            },
            "type": "scatterpolargl"
           }
          ],
          "scatterternary": [
           {
            "marker": {
             "colorbar": {
              "outlinewidth": 0,
              "ticks": ""
             }
            },
            "type": "scatterternary"
           }
          ],
          "surface": [
           {
            "colorbar": {
             "outlinewidth": 0,
             "ticks": ""
            },
            "colorscale": [
             [
              0,
              "#0d0887"
             ],
             [
              0.1111111111111111,
              "#46039f"
             ],
             [
              0.2222222222222222,
              "#7201a8"
             ],
             [
              0.3333333333333333,
              "#9c179e"
             ],
             [
              0.4444444444444444,
              "#bd3786"
             ],
             [
              0.5555555555555556,
              "#d8576b"
             ],
             [
              0.6666666666666666,
              "#ed7953"
             ],
             [
              0.7777777777777778,
              "#fb9f3a"
             ],
             [
              0.8888888888888888,
              "#fdca26"
             ],
             [
              1,
              "#f0f921"
             ]
            ],
            "type": "surface"
           }
          ],
          "table": [
           {
            "cells": {
             "fill": {
              "color": "#EBF0F8"
             },
             "line": {
              "color": "white"
             }
            },
            "header": {
             "fill": {
              "color": "#C8D4E3"
             },
             "line": {
              "color": "white"
             }
            },
            "type": "table"
           }
          ]
         },
         "layout": {
          "annotationdefaults": {
           "arrowcolor": "#2a3f5f",
           "arrowhead": 0,
           "arrowwidth": 1
          },
          "autotypenumbers": "strict",
          "coloraxis": {
           "colorbar": {
            "outlinewidth": 0,
            "ticks": ""
           }
          },
          "colorscale": {
           "diverging": [
            [
             0,
             "#8e0152"
            ],
            [
             0.1,
             "#c51b7d"
            ],
            [
             0.2,
             "#de77ae"
            ],
            [
             0.3,
             "#f1b6da"
            ],
            [
             0.4,
             "#fde0ef"
            ],
            [
             0.5,
             "#f7f7f7"
            ],
            [
             0.6,
             "#e6f5d0"
            ],
            [
             0.7,
             "#b8e186"
            ],
            [
             0.8,
             "#7fbc41"
            ],
            [
             0.9,
             "#4d9221"
            ],
            [
             1,
             "#276419"
            ]
           ],
           "sequential": [
            [
             0,
             "#0d0887"
            ],
            [
             0.1111111111111111,
             "#46039f"
            ],
            [
             0.2222222222222222,
             "#7201a8"
            ],
            [
             0.3333333333333333,
             "#9c179e"
            ],
            [
             0.4444444444444444,
             "#bd3786"
            ],
            [
             0.5555555555555556,
             "#d8576b"
            ],
            [
             0.6666666666666666,
             "#ed7953"
            ],
            [
             0.7777777777777778,
             "#fb9f3a"
            ],
            [
             0.8888888888888888,
             "#fdca26"
            ],
            [
             1,
             "#f0f921"
            ]
           ],
           "sequentialminus": [
            [
             0,
             "#0d0887"
            ],
            [
             0.1111111111111111,
             "#46039f"
            ],
            [
             0.2222222222222222,
             "#7201a8"
            ],
            [
             0.3333333333333333,
             "#9c179e"
            ],
            [
             0.4444444444444444,
             "#bd3786"
            ],
            [
             0.5555555555555556,
             "#d8576b"
            ],
            [
             0.6666666666666666,
             "#ed7953"
            ],
            [
             0.7777777777777778,
             "#fb9f3a"
            ],
            [
             0.8888888888888888,
             "#fdca26"
            ],
            [
             1,
             "#f0f921"
            ]
           ]
          },
          "colorway": [
           "#636efa",
           "#EF553B",
           "#00cc96",
           "#ab63fa",
           "#FFA15A",
           "#19d3f3",
           "#FF6692",
           "#B6E880",
           "#FF97FF",
           "#FECB52"
          ],
          "font": {
           "color": "#2a3f5f"
          },
          "geo": {
           "bgcolor": "white",
           "lakecolor": "white",
           "landcolor": "#E5ECF6",
           "showlakes": true,
           "showland": true,
           "subunitcolor": "white"
          },
          "hoverlabel": {
           "align": "left"
          },
          "hovermode": "closest",
          "mapbox": {
           "style": "light"
          },
          "paper_bgcolor": "white",
          "plot_bgcolor": "#E5ECF6",
          "polar": {
           "angularaxis": {
            "gridcolor": "white",
            "linecolor": "white",
            "ticks": ""
           },
           "bgcolor": "#E5ECF6",
           "radialaxis": {
            "gridcolor": "white",
            "linecolor": "white",
            "ticks": ""
           }
          },
          "scene": {
           "xaxis": {
            "backgroundcolor": "#E5ECF6",
            "gridcolor": "white",
            "gridwidth": 2,
            "linecolor": "white",
            "showbackground": true,
            "ticks": "",
            "zerolinecolor": "white"
           },
           "yaxis": {
            "backgroundcolor": "#E5ECF6",
            "gridcolor": "white",
            "gridwidth": 2,
            "linecolor": "white",
            "showbackground": true,
            "ticks": "",
            "zerolinecolor": "white"
           },
           "zaxis": {
            "backgroundcolor": "#E5ECF6",
            "gridcolor": "white",
            "gridwidth": 2,
            "linecolor": "white",
            "showbackground": true,
            "ticks": "",
            "zerolinecolor": "white"
           }
          },
          "shapedefaults": {
           "line": {
            "color": "#2a3f5f"
           }
          },
          "ternary": {
           "aaxis": {
            "gridcolor": "white",
            "linecolor": "white",
            "ticks": ""
           },
           "baxis": {
            "gridcolor": "white",
            "linecolor": "white",
            "ticks": ""
           },
           "bgcolor": "#E5ECF6",
           "caxis": {
            "gridcolor": "white",
            "linecolor": "white",
            "ticks": ""
           }
          },
          "title": {
           "x": 0.05
          },
          "xaxis": {
           "automargin": true,
           "gridcolor": "white",
           "linecolor": "white",
           "ticks": "",
           "title": {
            "standoff": 15
           },
           "zerolinecolor": "white",
           "zerolinewidth": 2
          },
          "yaxis": {
           "automargin": true,
           "gridcolor": "white",
           "linecolor": "white",
           "ticks": "",
           "title": {
            "standoff": 15
           },
           "zerolinecolor": "white",
           "zerolinewidth": 2
          }
         }
        },
        "xaxis": {
         "anchor": "y",
         "domain": [
          0,
          1
         ],
         "title": {
          "text": "match"
         }
        },
        "yaxis": {
         "anchor": "x",
         "domain": [
          0,
          1
         ],
         "title": {
          "text": "max_cog_reranker_score"
         }
        }
       }
      }
     },
     "metadata": {},
     "output_type": "display_data"
    }
   ],
   "source": [
    "fig = px.scatter(data_df[data_df['in_top_init']>0], x='match', y='max_cog_reranker_score')\n",
    "fig.show()"
   ]
  },
  {
   "cell_type": "code",
   "execution_count": 5,
   "metadata": {},
   "outputs": [
    {
     "data": {
      "application/vnd.plotly.v1+json": {
       "config": {
        "plotlyServerURL": "https://plot.ly"
       },
       "data": [
        {
         "hovertemplate": "match=%{x}<br>max_cog_reranker_score=%{y}<extra></extra>",
         "legendgroup": "",
         "marker": {
          "color": "#636efa",
          "symbol": "circle"
         },
         "mode": "markers",
         "name": "",
         "orientation": "v",
         "showlegend": false,
         "type": "scatter",
         "x": [
          3.130667924880981,
          2.574601650238037,
          3.286151885986328,
          3.944852828979492,
          0,
          3.8927695751190186,
          3.09543514251709,
          3.247089385986328,
          3.0969669818878174,
          0,
          2.935355424880981,
          3.422487735748291,
          2.7955729961395264,
          3.163602828979492,
          2.572304010391236,
          3.5304839611053467,
          2.784083843231201,
          3.581801414489746,
          0,
          3.5971200466156006,
          0,
          3.5136334896087646,
          2.7875306606292725,
          2.290441036224365,
          3.5695464611053467,
          2.171626091003418,
          3.6170341968536377,
          3.05637264251709,
          3.5136334896087646,
          3.833026885986328,
          0,
          3.8514091968536377,
          3.3405330181121826,
          2.9491422176361084,
          0,
          3.840686321258545,
          3.8697917461395264,
          0,
          3.433210849761963,
          3.103860378265381,
          2.0696375370025635,
          3.774816274642944,
          0,
          0,
          3.826899528503418,
          3.6997549533844,
          2.7649357318878174,
          3.969362735748291,
          3.9142158031463614,
          0,
          3.0111825466156006,
          3.398743867874145,
          3.481464385986328,
          3.2677695751190186,
          3.877450942993164,
          3.607077121734619,
          2.563878536224365,
          3.949448585510254,
          2.1184895038604736,
          3.757965564727783,
          3.1842830181121826,
          2.9330575466156006,
          3.2225797176361084,
          3.8560049533844,
          3.6752450466156006,
          2.975183725357056,
          3.924938678741455,
          3.48606014251709,
          3.283088207244873,
          3.9004290103912354,
          3.0326287746429443,
          3.9601714611053462,
          3.9402573108673096,
          3.181985378265381,
          3.949448585510254,
          1.615655541419983,
          2.3097808361053467,
          2.979013442993164,
          2.9583332538604736,
          0,
          3.2624080181121826,
          2.851102828979492,
          3.704350471496582,
          3.6354167461395264,
          3.9402573108673096,
          2.900888442993164,
          3.554227828979492,
          2.4558823108673096,
          3.450061321258545,
          2.3203125,
          3.9601714611053462,
          0,
          3.5473344326019287,
          3.305300235748291,
          3.037224292755127,
          2.855698585510254,
          0,
          0,
          3.60324764251709,
          3.282322406768799,
          2.6672794818878174,
          2.7454044818878174,
          3.692095518112183,
          0,
          0,
          2.422755718231201,
          2.443244457244873,
          3.539675235748291,
          2.9966299533843994,
          3.964767217636109,
          1.53178608417511,
          0,
          3.177389621734619,
          2.25808048248291,
          3.5105698108673096,
          2.8357841968536377,
          3.5350797176361084,
          3.767156839370728,
          3.0839459896087646,
          3.898897171020508,
          3.3428308963775635,
          3.785539150238037,
          3.369638442993164,
          3.263174057006836,
          2.848039150238037,
          3.641544103622437,
          3.425551414489746,
          2.316482782363892,
          2.9973957538604736,
          0,
          3.522824764251709,
          3.060202121734619,
          0,
          0,
          3.1980698108673096,
          2.2192094326019287,
          2.998161792755127,
          3.840686321258545,
          2.273207664489746,
          0,
          2.851868867874145,
          3.05637264251709,
          3.332107782363892,
          0,
          3.034926414489746,
          1.978754997253418,
          3.963235378265381,
          3.5710785388946533,
          3.655330896377564,
          2.507582664489746,
          3.4546568393707275,
          2.3813955783843994,
          2.5585172176361084,
          3.9034926891326895,
          3.875919103622437,
          3.461550235748291,
          2.3046109676361084,
          1.8894760608673096,
          3.954044103622437,
          2.322035789489746,
          3.7840073108673096,
          3.659926414489746,
          2.894761085510254,
          2.948376178741455,
          3.2570464611053467,
          3.4347426891326904,
          2.602941036224365,
          3.081648349761963,
          1.8125,
          3.392616510391236,
          3.359681367874145,
          3.9479167461395264,
          2.6014091968536377,
          0,
          0,
          3.957107782363892,
          0,
          3.767156839370728,
          3.103860378265381,
          0,
          2.9575674533843994,
          0,
          3.25168514251709,
          0,
          3.4937193393707275,
          2.7231924533843994,
          3.5657169818878174,
          3.3757660388946533,
          3.950980424880981,
          3.394914150238037,
          0,
          3.3060662746429443,
          3.3344056606292725,
          0,
          3.0280330181121826,
          0,
          2.838848114013672,
          2.49609375,
          2.584558725357056,
          2.7369792461395264,
          3.0448834896087646,
          3.13449764251709,
          2.7124693393707275,
          3.08700966835022,
          3.1168811321258545,
          2.9713542461395264,
          0,
          3.8253676891326895,
          3.696691274642944,
          3.707414150238037,
          3.450827121734619,
          3.9601714611053462,
          0,
          0,
          3.500612735748291,
          2.083759307861328,
          3.299938678741455,
          3.073223114013672,
          3.941789150238037,
          3.7916667461395264,
          2.1575520038604736,
          2.199103832244873,
          3.961703538894653,
          2.923100471496582,
          1.656058430671692,
          3.952512264251709,
          2.7626378536224365,
          3.949448585510254,
          3.848345518112183,
          3.523590564727783,
          3.7472426891326895,
          2.1025965213775635,
          3.188112735748291,
          3.796262264251709,
          3.34206485748291,
          3.2784926891326904,
          3.590226650238037,
          0,
          3.704350471496582,
          3.3290441036224365,
          3.901960849761963,
          3.4546568393707275,
          3.174325942993164,
          3.712009906768799,
          3.643075942993164,
          3.00888466835022,
          3.704350471496582,
          3.360447406768799,
          2.2649738788604736,
          3.770220518112183,
          2.9996936321258545,
          3.842218160629273,
          0,
          0,
          3.1176469326019287,
          0,
          3.204197406768799,
          0,
          2.3561198711395264,
          1.9897173643112185,
          3.2647058963775635,
          2.781403064727783,
          2.870251178741455,
          3.640012264251709,
          2.515625,
          3.482996225357056,
          0.7356004118919373,
          0,
          3.08700966835022,
          0,
          2.161381721496582,
          2.733532428741455,
          3.6752450466156006,
          3.5021445751190186,
          2.7706801891326904,
          3.2279412746429443,
          2.3649280071258545,
          3.9034926891326895,
          3.719669103622437,
          3.874387264251709,
          3.0418198108673096,
          1.8723382949829104,
          2.638556957244873,
          3.924938678741455,
          1.8096277713775637,
          0,
          0,
          2.230219841003418,
          2.31667423248291,
          3.8223040103912354,
          0,
          2.897824764251709,
          2.11767578125,
          3.810049057006836,
          3.2838542461395264,
          3.142922878265381,
          3.358149528503418,
          2.9966299533843994,
          1.6393994092941284,
          3.216452121734619,
          3.9601714611053462,
          3.719669103622437,
          1.6355698108673096,
          0,
          2.509880542755127,
          0,
          3.006587028503418,
          3.589460849761963,
          3.712009906768799,
          3.3826591968536377,
          3.4408700466156006,
          3.75949764251709,
          2.555453300476074,
          3.168964385986328,
          2.730851650238037,
          3.307598114013672,
          3.10768985748291,
          2.4288833141326904,
          0,
          2.896292924880981,
          2.5895373821258545,
          0,
          3.593290328979492,
          1.8558708429336548,
          2.90625,
          2.747319221496582,
          2.3157169818878174,
          0,
          3.145986557006836,
          0,
          2.9889705181121826,
          3.4692094326019287,
          2.680683135986328,
          2.418351650238037,
          0,
          0,
          2.398820400238037,
          3.3045341968536377,
          1.6501225233078003,
          0,
          2.8541667461395264,
          3.7472426891326895,
          3.954044103622437,
          0,
          3.248621225357056,
          3.085477828979492,
          2.240464210510254,
          2.976715564727783,
          2.7679994106292725,
          3.1360294818878174,
          2.976715564727783,
          0,
          2.662683725357056,
          2.887101650238037,
          2.197380542755127,
          3.311427593231201,
          1.8843060731887815,
          3.240962028503418,
          2.4589459896087646,
          3.813112735748291,
          0.8474264144897461,
          0,
          2.3959481716156006,
          2.1957528591156006,
          2.688342571258545,
          2.185412883758545,
          2.931525707244873,
          3.0755207538604736,
          2.616344928741455,
          2.714384078979492,
          0,
          0,
          2.410883903503418,
          2.3572685718536377,
          2.4440104961395264,
          3.512101650238037,
          2.923100471496582,
          0,
          2.6868107318878174,
          2.4390318393707275,
          2.5734527111053467,
          3.679840564727783,
          0,
          3.8146445751190186,
          3.840686321258545,
          0,
          2.2619102001190186,
          2.602941036224365,
          2.8825061321258545,
          3.1896445751190186,
          0,
          3.0885417461395264,
          2.023825168609619,
          3.494485378265381,
          2.281824350357056,
          3.028799057006836,
          1.8859336376190183,
          2.884037971496582,
          3.950980424880981,
          0,
          0,
          0,
          3.123774528503418,
          2.8380820751190186,
          2.482306957244873,
          0,
          1.2817095518112185,
          1.692631721496582,
          2.9016544818878174,
          2.8656556606292725,
          3.4270832538604736,
          2.929993867874145,
          1.039675235748291,
          3.701286792755127,
          3.91574764251709,
          2.0182483196258545,
          3.556525707244873,
          3.213388442993164,
          0.9630820751190186,
          3.757965564727783,
          3.140625,
          2.9575674533843994,
          2.979013442993164,
          3.7732841968536377,
          2.571537971496582,
          3.6024816036224365,
          3.344362735748291,
          0,
          1.8412224054336548,
          0,
          2.457797050476074,
          1.0557597875595093,
          2.510646343231201,
          0,
          0,
          3.955575942993164,
          3.9433209896087646,
          3.308363914489746,
          0,
          3.918811321258545,
          0,
          2.505284786224365,
          3.1115195751190186,
          3.6951591968536377,
          2.1036975383758545,
          2.09206485748291,
          0,
          3.160539150238037,
          3.469975471496582,
          3.8927695751190186,
          0,
          0,
          3.889705896377564,
          3.587162971496582,
          0
         ],
         "xaxis": "x",
         "y": [
          3.3956801891326904,
          2.761871814727783,
          3.286151885986328,
          3.944852828979492,
          3.0333945751190186,
          3.8927695751190186,
          3.269301414489746,
          3.247089385986328,
          3.0969669818878174,
          2.5232841968536377,
          2.935355424880981,
          3.422487735748291,
          2.7955729961395264,
          3.163602828979492,
          3.724264621734619,
          3.69362735748291,
          2.8710172176361084,
          3.581801414489746,
          1.9983580112457275,
          3.5971200466156006,
          2.959865093231201,
          3.5136334896087646,
          2.90625,
          2.290441036224365,
          3.5695464611053467,
          3.054840564727783,
          3.6170341968536377,
          3.05637264251709,
          3.5136334896087646,
          3.833026885986328,
          2.814338207244873,
          3.8514091968536377,
          3.3405330181121826,
          3.1092216968536377,
          2.563878536224365,
          3.9341299533844,
          3.9065563678741455,
          2.71591591835022,
          3.433210849761963,
          3.633884906768799,
          2.941482782363892,
          3.774816274642944,
          2.783318042755127,
          3.935661792755127,
          3.854473114013672,
          3.7365195751190186,
          3.719669103622437,
          3.969362735748291,
          3.9142158031463614,
          3.898897171020508,
          3.336703300476074,
          3.4301469326019287,
          3.481464385986328,
          3.650735378265381,
          3.958639621734619,
          3.636948585510254,
          2.8039982318878174,
          3.954044103622437,
          2.8403799533843994,
          3.757965564727783,
          3.647671461105346,
          3.313725471496582,
          3.662990093231201,
          3.8560049533844,
          3.6752450466156006,
          2.975183725357056,
          3.952512264251709,
          3.48606014251709,
          3.283088207244873,
          3.9004290103912354,
          3.2738969326019287,
          3.960171461105346,
          3.9402573108673096,
          3.181985378265381,
          3.949448585510254,
          3.1750919818878174,
          2.3097808361053467,
          2.979013442993164,
          3.2846200466156006,
          3.833026885986328,
          3.2624080181121826,
          3.803921461105346,
          3.704350471496582,
          3.6354167461395264,
          3.9402573108673096,
          2.900888442993164,
          3.719669103622437,
          2.643535614013672,
          3.450061321258545,
          3.123774528503418,
          3.960171461105346,
          3.871323585510254,
          3.5473344326019287,
          3.9096200466156006,
          3.037224292755127,
          2.855698585510254,
          2.4554994106292725,
          2.5504748821258545,
          3.60324764251709,
          3.282322406768799,
          2.6672794818878174,
          2.7454044818878174,
          3.793198585510254,
          3.9004290103912354,
          3.1796875,
          2.8886334896087646,
          2.443244457244873,
          3.539675235748291,
          3.610906839370728,
          3.964767217636109,
          1.5823376178741455,
          3.676776885986328,
          3.177389621734619,
          2.25808048248291,
          3.609375,
          3.02956485748291,
          3.5350797176361084,
          3.954044103622437,
          3.5182292461395264,
          3.898897171020508,
          3.9479167461395264,
          3.785539150238037,
          3.4010417461395264,
          3.488357782363892,
          2.848039150238037,
          3.641544103622437,
          3.425551414489746,
          2.809359550476074,
          3.0579044818878174,
          3.960171461105346,
          3.75949764251709,
          3.3765318393707275,
          3.0946691036224365,
          3.299172878265381,
          3.6583945751190186,
          2.864123821258545,
          2.998161792755127,
          3.840686321258545,
          2.358800411224365,
          3.1444547176361084,
          3.433210849761963,
          3.4217216968536377,
          3.333639621734619,
          2.668045282363892,
          3.882046461105346,
          2.7155330181121826,
          3.963235378265381,
          3.967830896377564,
          3.655330896377564,
          3.09543514251709,
          3.4546568393707275,
          2.934589385986328,
          2.9667584896087646,
          3.9034926891326895,
          3.875919103622437,
          3.958639621734619,
          2.931525707244873,
          3.863664150238037,
          3.954044103622437,
          3.6170341968536377,
          3.92800235748291,
          3.659926414489746,
          2.894761085510254,
          2.948376178741455,
          3.6308209896087646,
          3.4347426891326904,
          2.800551414489746,
          3.719669103622437,
          2.697150707244873,
          3.392616510391236,
          3.359681367874145,
          3.9479167461395264,
          3.932598114013672,
          3.104626178741455,
          2.5864737033843994,
          3.957107782363892,
          2.582261085510254,
          3.767156839370728,
          3.103860378265381,
          2.5726869106292725,
          3.2279412746429443,
          3.484528064727783,
          3.25168514251709,
          3.554993867874145,
          3.4937193393707275,
          2.7231924533843994,
          3.5657169818878174,
          3.3757660388946533,
          3.950980424880981,
          3.394914150238037,
          3.064797878265381,
          3.3060662746429443,
          3.3344056606292725,
          3.595588207244873,
          3.054840564727783,
          3.408700942993164,
          3.2287070751190186,
          2.6427695751190186,
          3.266237735748291,
          3.246323585510254,
          3.0448834896087646,
          3.13449764251709,
          3.02956485748291,
          3.08700966835022,
          3.1168811321258545,
          3.722732782363892,
          2.814338207244873,
          3.8253676891326895,
          3.696691274642944,
          3.707414150238037,
          3.641544103622437,
          3.960171461105346,
          3.690563678741455,
          2.246400117874145,
          3.568014621734619,
          3.221813678741455,
          3.299938678741455,
          3.4914214611053467,
          3.941789150238037,
          3.966299057006836,
          2.660768985748291,
          2.568474292755127,
          3.961703538894653,
          2.9966299533843994,
          3.597886085510254,
          3.954044103622437,
          2.7626378536224365,
          3.957107782363892,
          3.898897171020508,
          3.558823585510254,
          3.7472426891326895,
          2.309589385986328,
          3.667585849761963,
          3.796262264251709,
          3.34206485748291,
          3.512101650238037,
          3.590226650238037,
          2.618642807006836,
          3.704350471496582,
          3.3290441036224365,
          3.901960849761963,
          3.5909926891326904,
          3.545802593231201,
          3.712009906768799,
          3.653799057006836,
          3.670649528503418,
          3.704350471496582,
          3.360447406768799,
          2.2649738788604736,
          3.770220518112183,
          3.49831485748291,
          3.842218160629273,
          3.240962028503418,
          3.353554010391236,
          3.803921461105346,
          1.1706494092941284,
          3.656862735748291,
          3.482230424880981,
          2.682598114013672,
          2.5397517681121826,
          3.2647058963775635,
          2.976715564727783,
          3.742647171020508,
          3.640012264251709,
          2.7909772396087646,
          3.482996225357056,
          1.7186733484268188,
          3.7778799533844,
          3.08700966835022,
          3.5189950466156006,
          2.660768985748291,
          2.828125,
          3.6752450466156006,
          3.650735378265381,
          3.1030943393707275,
          3.667585849761963,
          2.833486557006836,
          3.9479167461395264,
          3.719669103622437,
          3.874387264251709,
          3.076286792755127,
          2.3130362033843994,
          3.0418198108673096,
          3.924938678741455,
          2.173445224761963,
          2.8939950466156006,
          2.078110694885254,
          2.230219841003418,
          2.369714975357056,
          3.8223040103912354,
          3.964767217636109,
          2.897824764251709,
          2.476179599761963,
          3.810049057006836,
          3.2838542461395264,
          3.142922878265381,
          3.358149528503418,
          2.9966299533843994,
          3.649203538894653,
          3.4125306606292725,
          3.960171461105346,
          3.719669103622437,
          3.1865808963775635,
          2.292356014251709,
          3.076286792755127,
          2.911611557006836,
          3.3183209896087646,
          3.774816274642944,
          3.712009906768799,
          3.9034926891326895,
          3.8253676891326895,
          3.75949764251709,
          2.555453300476074,
          3.168964385986328,
          3.232536792755127,
          3.718137264251709,
          3.10768985748291,
          2.655407428741455,
          2.0238492488861084,
          2.896292924880981,
          3.447763442993164,
          2.9054839611053467,
          3.593290328979492,
          3.5412070751190186,
          3.1980698108673096,
          3.3068320751190186,
          2.780637264251709,
          2.427734375,
          3.748774528503418,
          2.484987735748291,
          3.0778186321258545,
          3.4692094326019287,
          2.805912971496582,
          3.6583945751190186,
          2.61940860748291,
          2.470818042755127,
          2.398820400238037,
          3.442401885986328,
          2.389246225357056,
          3.852941274642944,
          2.8541667461395264,
          3.7472426891326895,
          3.961703538894653,
          2.124138355255127,
          3.4140625,
          3.2792584896087646,
          2.3141849040985107,
          2.9836089611053467,
          2.8802082538604736,
          3.431679010391236,
          3.026501178741455,
          2.959865093231201,
          3.9295341968536377,
          2.887101650238037,
          2.884037971496582,
          3.311427593231201,
          2.154105424880981,
          3.240962028503418,
          2.6458332538604736,
          3.813112735748291,
          1.8146063089370728,
          3.4324448108673096,
          2.3959481716156006,
          2.5673253536224365,
          3.194240093231201,
          2.867953300476074,
          2.931525707244873,
          3.0755207538604736,
          2.616344928741455,
          2.824295282363892,
          3.236366510391236,
          3.2953431606292725,
          2.8886334896087646,
          2.8319547176361084,
          2.4440104961395264,
          3.512101650238037,
          2.962929010391236,
          3.1138174533843994,
          3.527420282363892,
          2.785232782363892,
          3.883578538894653,
          3.679840564727783,
          3.041054010391236,
          3.8146445751190186,
          3.854473114013672,
          2.9575674533843994,
          2.692172050476074,
          2.69140625,
          3.655330896377564,
          3.5128676891326904,
          3.785539150238037,
          3.0885417461395264,
          3.0188419818878174,
          3.494485378265381,
          3.059436321258545,
          3.5381433963775635,
          3.293811321258545,
          2.884037971496582,
          3.954044103622437,
          1.9581226110458367,
          3.889705896377564,
          2.3854167461395264,
          3.664522171020508,
          2.8380820751190186,
          2.8411457538604736,
          2.9912683963775635,
          1.7757352590560913,
          2.246591567993164,
          2.9016544818878174,
          3.0219056606292725,
          3.941789150238037,
          2.929993867874145,
          2.571920871734619,
          3.701286792755127,
          3.91574764251709,
          2.9407169818878174,
          3.556525707244873,
          3.213388442993164,
          1.734375,
          3.757965564727783,
          3.140625,
          2.9575674533843994,
          2.979013442993164,
          3.7732841968536377,
          3.464613914489746,
          3.6024816036224365,
          3.344362735748291,
          2.654641628265381,
          2.5309436321258545,
          3.731924057006836,
          2.896292924880981,
          2.2864201068878174,
          3.375,
          3.4738051891326904,
          3.25168514251709,
          3.955575942993164,
          3.949448585510254,
          3.9142158031463614,
          2.6144301891326904,
          3.918811321258545,
          2.878676414489746,
          2.505284786224365,
          3.1115195751190186,
          3.6951591968536377,
          2.3228018283843994,
          2.7174479961395264,
          3.096200942993164,
          3.160539150238037,
          3.469975471496582,
          3.8927695751190186,
          3.954044103622437,
          3.1927082538604736,
          3.889705896377564,
          3.774816274642944,
          2.2294538021087646
         ],
         "yaxis": "y"
        }
       ],
       "layout": {
        "legend": {
         "tracegroupgap": 0
        },
        "margin": {
         "t": 60
        },
        "template": {
         "data": {
          "bar": [
           {
            "error_x": {
             "color": "#2a3f5f"
            },
            "error_y": {
             "color": "#2a3f5f"
            },
            "marker": {
             "line": {
              "color": "#E5ECF6",
              "width": 0.5
             },
             "pattern": {
              "fillmode": "overlay",
              "size": 10,
              "solidity": 0.2
             }
            },
            "type": "bar"
           }
          ],
          "barpolar": [
           {
            "marker": {
             "line": {
              "color": "#E5ECF6",
              "width": 0.5
             },
             "pattern": {
              "fillmode": "overlay",
              "size": 10,
              "solidity": 0.2
             }
            },
            "type": "barpolar"
           }
          ],
          "carpet": [
           {
            "aaxis": {
             "endlinecolor": "#2a3f5f",
             "gridcolor": "white",
             "linecolor": "white",
             "minorgridcolor": "white",
             "startlinecolor": "#2a3f5f"
            },
            "baxis": {
             "endlinecolor": "#2a3f5f",
             "gridcolor": "white",
             "linecolor": "white",
             "minorgridcolor": "white",
             "startlinecolor": "#2a3f5f"
            },
            "type": "carpet"
           }
          ],
          "choropleth": [
           {
            "colorbar": {
             "outlinewidth": 0,
             "ticks": ""
            },
            "type": "choropleth"
           }
          ],
          "contour": [
           {
            "colorbar": {
             "outlinewidth": 0,
             "ticks": ""
            },
            "colorscale": [
             [
              0,
              "#0d0887"
             ],
             [
              0.1111111111111111,
              "#46039f"
             ],
             [
              0.2222222222222222,
              "#7201a8"
             ],
             [
              0.3333333333333333,
              "#9c179e"
             ],
             [
              0.4444444444444444,
              "#bd3786"
             ],
             [
              0.5555555555555556,
              "#d8576b"
             ],
             [
              0.6666666666666666,
              "#ed7953"
             ],
             [
              0.7777777777777778,
              "#fb9f3a"
             ],
             [
              0.8888888888888888,
              "#fdca26"
             ],
             [
              1,
              "#f0f921"
             ]
            ],
            "type": "contour"
           }
          ],
          "contourcarpet": [
           {
            "colorbar": {
             "outlinewidth": 0,
             "ticks": ""
            },
            "type": "contourcarpet"
           }
          ],
          "heatmap": [
           {
            "colorbar": {
             "outlinewidth": 0,
             "ticks": ""
            },
            "colorscale": [
             [
              0,
              "#0d0887"
             ],
             [
              0.1111111111111111,
              "#46039f"
             ],
             [
              0.2222222222222222,
              "#7201a8"
             ],
             [
              0.3333333333333333,
              "#9c179e"
             ],
             [
              0.4444444444444444,
              "#bd3786"
             ],
             [
              0.5555555555555556,
              "#d8576b"
             ],
             [
              0.6666666666666666,
              "#ed7953"
             ],
             [
              0.7777777777777778,
              "#fb9f3a"
             ],
             [
              0.8888888888888888,
              "#fdca26"
             ],
             [
              1,
              "#f0f921"
             ]
            ],
            "type": "heatmap"
           }
          ],
          "heatmapgl": [
           {
            "colorbar": {
             "outlinewidth": 0,
             "ticks": ""
            },
            "colorscale": [
             [
              0,
              "#0d0887"
             ],
             [
              0.1111111111111111,
              "#46039f"
             ],
             [
              0.2222222222222222,
              "#7201a8"
             ],
             [
              0.3333333333333333,
              "#9c179e"
             ],
             [
              0.4444444444444444,
              "#bd3786"
             ],
             [
              0.5555555555555556,
              "#d8576b"
             ],
             [
              0.6666666666666666,
              "#ed7953"
             ],
             [
              0.7777777777777778,
              "#fb9f3a"
             ],
             [
              0.8888888888888888,
              "#fdca26"
             ],
             [
              1,
              "#f0f921"
             ]
            ],
            "type": "heatmapgl"
           }
          ],
          "histogram": [
           {
            "marker": {
             "pattern": {
              "fillmode": "overlay",
              "size": 10,
              "solidity": 0.2
             }
            },
            "type": "histogram"
           }
          ],
          "histogram2d": [
           {
            "colorbar": {
             "outlinewidth": 0,
             "ticks": ""
            },
            "colorscale": [
             [
              0,
              "#0d0887"
             ],
             [
              0.1111111111111111,
              "#46039f"
             ],
             [
              0.2222222222222222,
              "#7201a8"
             ],
             [
              0.3333333333333333,
              "#9c179e"
             ],
             [
              0.4444444444444444,
              "#bd3786"
             ],
             [
              0.5555555555555556,
              "#d8576b"
             ],
             [
              0.6666666666666666,
              "#ed7953"
             ],
             [
              0.7777777777777778,
              "#fb9f3a"
             ],
             [
              0.8888888888888888,
              "#fdca26"
             ],
             [
              1,
              "#f0f921"
             ]
            ],
            "type": "histogram2d"
           }
          ],
          "histogram2dcontour": [
           {
            "colorbar": {
             "outlinewidth": 0,
             "ticks": ""
            },
            "colorscale": [
             [
              0,
              "#0d0887"
             ],
             [
              0.1111111111111111,
              "#46039f"
             ],
             [
              0.2222222222222222,
              "#7201a8"
             ],
             [
              0.3333333333333333,
              "#9c179e"
             ],
             [
              0.4444444444444444,
              "#bd3786"
             ],
             [
              0.5555555555555556,
              "#d8576b"
             ],
             [
              0.6666666666666666,
              "#ed7953"
             ],
             [
              0.7777777777777778,
              "#fb9f3a"
             ],
             [
              0.8888888888888888,
              "#fdca26"
             ],
             [
              1,
              "#f0f921"
             ]
            ],
            "type": "histogram2dcontour"
           }
          ],
          "mesh3d": [
           {
            "colorbar": {
             "outlinewidth": 0,
             "ticks": ""
            },
            "type": "mesh3d"
           }
          ],
          "parcoords": [
           {
            "line": {
             "colorbar": {
              "outlinewidth": 0,
              "ticks": ""
             }
            },
            "type": "parcoords"
           }
          ],
          "pie": [
           {
            "automargin": true,
            "type": "pie"
           }
          ],
          "scatter": [
           {
            "fillpattern": {
             "fillmode": "overlay",
             "size": 10,
             "solidity": 0.2
            },
            "type": "scatter"
           }
          ],
          "scatter3d": [
           {
            "line": {
             "colorbar": {
              "outlinewidth": 0,
              "ticks": ""
             }
            },
            "marker": {
             "colorbar": {
              "outlinewidth": 0,
              "ticks": ""
             }
            },
            "type": "scatter3d"
           }
          ],
          "scattercarpet": [
           {
            "marker": {
             "colorbar": {
              "outlinewidth": 0,
              "ticks": ""
             }
            },
            "type": "scattercarpet"
           }
          ],
          "scattergeo": [
           {
            "marker": {
             "colorbar": {
              "outlinewidth": 0,
              "ticks": ""
             }
            },
            "type": "scattergeo"
           }
          ],
          "scattergl": [
           {
            "marker": {
             "colorbar": {
              "outlinewidth": 0,
              "ticks": ""
             }
            },
            "type": "scattergl"
           }
          ],
          "scattermapbox": [
           {
            "marker": {
             "colorbar": {
              "outlinewidth": 0,
              "ticks": ""
             }
            },
            "type": "scattermapbox"
           }
          ],
          "scatterpolar": [
           {
            "marker": {
             "colorbar": {
              "outlinewidth": 0,
              "ticks": ""
             }
            },
            "type": "scatterpolar"
           }
          ],
          "scatterpolargl": [
           {
            "marker": {
             "colorbar": {
              "outlinewidth": 0,
              "ticks": ""
             }
            },
            "type": "scatterpolargl"
           }
          ],
          "scatterternary": [
           {
            "marker": {
             "colorbar": {
              "outlinewidth": 0,
              "ticks": ""
             }
            },
            "type": "scatterternary"
           }
          ],
          "surface": [
           {
            "colorbar": {
             "outlinewidth": 0,
             "ticks": ""
            },
            "colorscale": [
             [
              0,
              "#0d0887"
             ],
             [
              0.1111111111111111,
              "#46039f"
             ],
             [
              0.2222222222222222,
              "#7201a8"
             ],
             [
              0.3333333333333333,
              "#9c179e"
             ],
             [
              0.4444444444444444,
              "#bd3786"
             ],
             [
              0.5555555555555556,
              "#d8576b"
             ],
             [
              0.6666666666666666,
              "#ed7953"
             ],
             [
              0.7777777777777778,
              "#fb9f3a"
             ],
             [
              0.8888888888888888,
              "#fdca26"
             ],
             [
              1,
              "#f0f921"
             ]
            ],
            "type": "surface"
           }
          ],
          "table": [
           {
            "cells": {
             "fill": {
              "color": "#EBF0F8"
             },
             "line": {
              "color": "white"
             }
            },
            "header": {
             "fill": {
              "color": "#C8D4E3"
             },
             "line": {
              "color": "white"
             }
            },
            "type": "table"
           }
          ]
         },
         "layout": {
          "annotationdefaults": {
           "arrowcolor": "#2a3f5f",
           "arrowhead": 0,
           "arrowwidth": 1
          },
          "autotypenumbers": "strict",
          "coloraxis": {
           "colorbar": {
            "outlinewidth": 0,
            "ticks": ""
           }
          },
          "colorscale": {
           "diverging": [
            [
             0,
             "#8e0152"
            ],
            [
             0.1,
             "#c51b7d"
            ],
            [
             0.2,
             "#de77ae"
            ],
            [
             0.3,
             "#f1b6da"
            ],
            [
             0.4,
             "#fde0ef"
            ],
            [
             0.5,
             "#f7f7f7"
            ],
            [
             0.6,
             "#e6f5d0"
            ],
            [
             0.7,
             "#b8e186"
            ],
            [
             0.8,
             "#7fbc41"
            ],
            [
             0.9,
             "#4d9221"
            ],
            [
             1,
             "#276419"
            ]
           ],
           "sequential": [
            [
             0,
             "#0d0887"
            ],
            [
             0.1111111111111111,
             "#46039f"
            ],
            [
             0.2222222222222222,
             "#7201a8"
            ],
            [
             0.3333333333333333,
             "#9c179e"
            ],
            [
             0.4444444444444444,
             "#bd3786"
            ],
            [
             0.5555555555555556,
             "#d8576b"
            ],
            [
             0.6666666666666666,
             "#ed7953"
            ],
            [
             0.7777777777777778,
             "#fb9f3a"
            ],
            [
             0.8888888888888888,
             "#fdca26"
            ],
            [
             1,
             "#f0f921"
            ]
           ],
           "sequentialminus": [
            [
             0,
             "#0d0887"
            ],
            [
             0.1111111111111111,
             "#46039f"
            ],
            [
             0.2222222222222222,
             "#7201a8"
            ],
            [
             0.3333333333333333,
             "#9c179e"
            ],
            [
             0.4444444444444444,
             "#bd3786"
            ],
            [
             0.5555555555555556,
             "#d8576b"
            ],
            [
             0.6666666666666666,
             "#ed7953"
            ],
            [
             0.7777777777777778,
             "#fb9f3a"
            ],
            [
             0.8888888888888888,
             "#fdca26"
            ],
            [
             1,
             "#f0f921"
            ]
           ]
          },
          "colorway": [
           "#636efa",
           "#EF553B",
           "#00cc96",
           "#ab63fa",
           "#FFA15A",
           "#19d3f3",
           "#FF6692",
           "#B6E880",
           "#FF97FF",
           "#FECB52"
          ],
          "font": {
           "color": "#2a3f5f"
          },
          "geo": {
           "bgcolor": "white",
           "lakecolor": "white",
           "landcolor": "#E5ECF6",
           "showlakes": true,
           "showland": true,
           "subunitcolor": "white"
          },
          "hoverlabel": {
           "align": "left"
          },
          "hovermode": "closest",
          "mapbox": {
           "style": "light"
          },
          "paper_bgcolor": "white",
          "plot_bgcolor": "#E5ECF6",
          "polar": {
           "angularaxis": {
            "gridcolor": "white",
            "linecolor": "white",
            "ticks": ""
           },
           "bgcolor": "#E5ECF6",
           "radialaxis": {
            "gridcolor": "white",
            "linecolor": "white",
            "ticks": ""
           }
          },
          "scene": {
           "xaxis": {
            "backgroundcolor": "#E5ECF6",
            "gridcolor": "white",
            "gridwidth": 2,
            "linecolor": "white",
            "showbackground": true,
            "ticks": "",
            "zerolinecolor": "white"
           },
           "yaxis": {
            "backgroundcolor": "#E5ECF6",
            "gridcolor": "white",
            "gridwidth": 2,
            "linecolor": "white",
            "showbackground": true,
            "ticks": "",
            "zerolinecolor": "white"
           },
           "zaxis": {
            "backgroundcolor": "#E5ECF6",
            "gridcolor": "white",
            "gridwidth": 2,
            "linecolor": "white",
            "showbackground": true,
            "ticks": "",
            "zerolinecolor": "white"
           }
          },
          "shapedefaults": {
           "line": {
            "color": "#2a3f5f"
           }
          },
          "ternary": {
           "aaxis": {
            "gridcolor": "white",
            "linecolor": "white",
            "ticks": ""
           },
           "baxis": {
            "gridcolor": "white",
            "linecolor": "white",
            "ticks": ""
           },
           "bgcolor": "#E5ECF6",
           "caxis": {
            "gridcolor": "white",
            "linecolor": "white",
            "ticks": ""
           }
          },
          "title": {
           "x": 0.05
          },
          "xaxis": {
           "automargin": true,
           "gridcolor": "white",
           "linecolor": "white",
           "ticks": "",
           "title": {
            "standoff": 15
           },
           "zerolinecolor": "white",
           "zerolinewidth": 2
          },
          "yaxis": {
           "automargin": true,
           "gridcolor": "white",
           "linecolor": "white",
           "ticks": "",
           "title": {
            "standoff": 15
           },
           "zerolinecolor": "white",
           "zerolinewidth": 2
          }
         }
        },
        "xaxis": {
         "anchor": "y",
         "domain": [
          0,
          1
         ],
         "title": {
          "text": "match"
         }
        },
        "yaxis": {
         "anchor": "x",
         "domain": [
          0,
          1
         ],
         "title": {
          "text": "max_cog_reranker_score"
         }
        }
       }
      }
     },
     "metadata": {},
     "output_type": "display_data"
    }
   ],
   "source": [
    "fig = px.scatter(data_df, x='match', y='max_cog_reranker_score')\n",
    "fig.show()"
   ]
  }
 ],
 "metadata": {
  "kernelspec": {
   "display_name": "askatt-experiments-i50FtbuX-py3.11",
   "language": "python",
   "name": "python3"
  },
  "language_info": {
   "codemirror_mode": {
    "name": "ipython",
    "version": 3
   },
   "file_extension": ".py",
   "mimetype": "text/x-python",
   "name": "python",
   "nbconvert_exporter": "python",
   "pygments_lexer": "ipython3",
   "version": "3.11.5"
  }
 },
 "nbformat": 4,
 "nbformat_minor": 2
}
