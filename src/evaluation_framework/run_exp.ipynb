{
 "cells": [
  {
   "cell_type": "code",
   "execution_count": 1,
   "metadata": {},
   "outputs": [
    {
     "name": "stderr",
     "output_type": "stream",
     "text": [
      "c:\\Users\\sh8998\\AppData\\Local\\pypoetry\\Cache\\virtualenvs\\askatt-sqntRqv6-py3.11\\Lib\\site-packages\\requests\\__init__.py:102: RequestsDependencyWarning: urllib3 (1.26.16) or chardet (5.2.0)/charset_normalizer (2.0.12) doesn't match a supported version!\n",
      "  warnings.warn(\"urllib3 ({}) or chardet ({})/charset_normalizer ({}) doesn't match a supported \"\n"
     ]
    },
    {
     "name": "stdout",
     "output_type": "stream",
     "text": [
      "Loading files at [c:\\Users\\sh8998\\DataScience_Experiment_Framework\\data_science_experiments\\care\\docstore]\n"
     ]
    }
   ],
   "source": [
    "import concurrent\n",
    "import os\n",
    "import sys\n",
    "\n",
    "import requests\n",
    "from requests import Response\n",
    "from concurrent.futures import ThreadPoolExecutor\n",
    "from tqdm import tqdm\n",
    "import pandas as pd\n",
    "import datetime\n",
    "import json\n",
    "\n",
    "curr_datetime = datetime.datetime.now().strftime(\"%Y%m%d-%H%M%S\")\n",
    "\n",
    "env = \"local\"\n",
    "domain = \"user_sh8998\"\n",
    "domain_config_version = \"2023-10-20\"\n",
    "project_domain = \"care\"\n",
    "src_path = __file__.split(\"evaluation_framework\")[0]\n",
    "documents_dir_location = os.path.join(src_path, \"data\", project_domain, \"docstore\")\n",
    "groundtruth_location = os.path.join(src_path, \"data\", project_domain, \"groundtruth_data\", \"QnA_subset.xlsx\")\n",
    "groundtruth_question_key = \"bcss_question\"\n",
    "generated_answer_key = \"generated_answer\"\n",
    "init_chunks_key = \"init_chunks\"\n",
    "reranker_chunks_key = \"reranker_chunks\"\n",
    "df_output_location = os.path.join(src_path, \"data\", project_domain, \"experiment_results\", f\"{domain}-{domain_config_version}_{curr_datetime}_output.xlsx\")\n",
    "metrics_to_calculate = [\"chunks\", \"rouge\", \"bert\"]\n",
    "metrics_output_location = os.path.join(src_path, \"data\", project_domain, \"experiment_results\", f\"{domain}-{domain_config_version}_{curr_datetime}_metrics.csv\")\n",
    "config_path = os.path.join(src_path, \"evaluation_framework\", \"exp_config_samples\", \"trial_config.json\")\n",
    "batch_size = 5\n",
    "concurrency = 3\n",
    "\n",
    "code_base_version = \"v1\"  # don't change unless we actually upgraded to something new or are doing isolated testing for new codebase\n",
    "env = \"web\" if env == \"prod\" else env  # don't change this\n",
    "\n",
    "ingest_url = rf\"http://localhost:8802/{code_base_version}/domain-services/upload-documents?domain={domain}&config_version={domain_config_version}\"\n",
    "print(fr\"Loading files at [{documents_dir_location}]\")\n",
    "\n",
    "\n",
    "chat_url = rf\"http://localhost:8802/{code_base_version}/domain-services/chat\"\n",
    "\n",
    "similarity_search_url = rf\"http://localhost:8802/{code_base_version}/domain-services/similarity-search\"\n",
    "\n",
    "# TODO: Update to use blob client once implemented\n",
    "local_files = os.listdir(documents_dir_location)\n",
    "\n",
    "def send_post_request_with_files(post_url: str, post_files: list[str]) -> tuple[Response, int]:\n",
    "    files_post_list = []\n",
    "    files_to_close = []\n",
    "    for el in post_files:\n",
    "        opened_file = open(fr\"{documents_dir_location}/{el}\", \"rb\")\n",
    "        files_post_list.append((\"files\", (el, opened_file)))\n",
    "        files_to_close.append(opened_file)\n",
    "\n",
    "    res = requests.post(post_url, files=files_post_list)\n",
    "    for entry in files_to_close:\n",
    "        entry.close()\n",
    "    return res, len(post_files)\n",
    "\n",
    "def send_post_request_json_body(post_url: str, json_body: dict) -> Response:\n",
    "    res = requests.post(post_url, json=json_body)\n",
    "    return res\n"
   ]
  },
  {
   "cell_type": "code",
   "execution_count": 3,
   "metadata": {},
   "outputs": [
    {
     "name": "stderr",
     "output_type": "stream",
     "text": [
      "Uploading user_sh8998 documents..: 100%|██████████| 6/6 [00:00<00:00, 86.19it/s]\n"
     ]
    }
   ],
   "source": [
    "\n",
    "# Ingest documents\n",
    "pbar_total = len(local_files)\n",
    "with tqdm(total=pbar_total, desc=rf\"Uploading {domain} documents..\") as pbar:\n",
    "    with ThreadPoolExecutor(max_workers=concurrency) as executor:\n",
    "        futures = []\n",
    "        files = []\n",
    "        for _file in local_files:\n",
    "            files.append(_file)\n",
    "            if len(files) % batch_size == 0:\n",
    "                futures.append(executor.submit(send_post_request_with_files, ingest_url, files))\n",
    "                files = []\n",
    "        if len(files) > 0:\n",
    "            futures.append(executor.submit(send_post_request_with_files, ingest_url, files))\n",
    "        for future in concurrent.futures.as_completed(futures):\n",
    "            response, files_size = future.result()\n",
    "            if response.status_code != 200:\n",
    "                pbar.write(fr\"{response.content}\")\n",
    "            pbar.update(files_size)\n"
   ]
  },
  {
   "cell_type": "code",
   "execution_count": 4,
   "metadata": {},
   "outputs": [],
   "source": [
    "## Note: the below is to get the initial chunks from a simple similarity search, without \n",
    "groundtruth_df = pd.read_excel(groundtruth_location)\n",
    "questions_to_test = groundtruth_df[groundtruth_question_key]\n",
    "llm_responses = []\n",
    "initial_chunks = []\n",
    "initial_sources = []\n",
    "reranked_chunks = []\n",
    "reranked_sources = []\n",
    "domain = \"user_sh8998\"\n",
    "domain_config_version = \"2023-10-20\"\n",
    "question_col = \"bcss_question\"\n",
    "generated_answer_col = \"generated_answer\""
   ]
  },
  {
   "cell_type": "markdown",
   "metadata": {},
   "source": [
    "Get Topk from VectorDB"
   ]
  },
  {
   "cell_type": "code",
   "execution_count": 5,
   "metadata": {},
   "outputs": [
    {
     "name": "stdout",
     "output_type": "stream",
     "text": [
      "Sending questions to similarity search endpoint...\n"
     ]
    },
    {
     "name": "stderr",
     "output_type": "stream",
     "text": [
      "Running user_sh8998 queries against vector DB..:   0%|          | 0/10 [00:00<?, ?it/s]C:\\Users\\local_sh8998\\Temp\\ipykernel_19232\\3115949769.py:15: FutureWarning: Setting an item of incompatible dtype is deprecated and will raise in a future error of pandas. Value '[(\"Jump to: Access Point Names (APNs) | Definitions | Process | Apple Custom APN Support | Assist Customers That Do Not Know Their APN InformationAccess Point Names (APNs)Â¶\\nÂ¶\\nAn APN is a gateway through which a device can connect to the wireless Internet. Â¶\\nÂ¶\\nConsider an APN a point or path the data packet travels to and from the AT&T network.Â¶\\nAPNs control the features/services a device can access when connected to that APN.Some APNs are automatically added when a data plan is provisioned on a customer's account.Â¶\\nSome feature codes add more than one APN.Â¶\\nCustom APNs are available for Enterprise customers requiring specific needs not met by current APNs.Â¶\\nÂ¶\\nAT&T Private Mobile Connection provides a method for our Enterprise Business customers to access their internal networks or Intranets using AT&T's network via laptops or other wireless devices.Â¶\\nÂ¶\\nAPN examples that AT&T uses include: Â¶\\nÂ¶\\nwap.cingularisp.cingularblackberry.netÂ¶\\nPrivate Mobile Connection rate plans includ\", 'Access Point Name (APN) and Internet Protocol.html'), (\"ol of IP addresses available varies with each custom solution.Â¶\\nAdvance Technical Services: The group that provides data technical support to end-users.RADIUS: Listed as a static APN not populated in IPPT. The IP addresses are assigned by the customer from an established IP pool. Access requires user authentication. ManagedVPN (ANIRA/NETGate):Â¶\\nSOC Code J608 (ANIRA - APN 001009)SOC Code J710 (NetGate - APN 001008)AMLAPN - 00ACCESSMYLANASAVIE01 - vpn.accessmylan.net (ASAVIE support 800-710-4625, 9:00 AM - 5:00 PM)Â¶\\nÂ¶\\nÂ¶\\nThese SOC Codes will provision either APNÂ¶\\nÂ¶\\nÂ¶\\nÂ¶\\nÂ¶\\nProcess Â¶\\nÂ¶\\nWhen a customer requests to add an APN to their service:Â¶\\nÂ¶\\nAsk the customer for the name of the APN. Â¶\\nÂ¶\\nIf the customer does not know the APN name, refer them back to their company's IT help desk.Â¶\\nAsk the customer if the APN is a static or dynamic IP.The PDP Package must show as being available within FaST. Â¶\\nIf it is not, refer the customer back to sales for assistance.Â¶\\nÂ¶\\nÂ¶\\nIf the Cus\", 'Access Point Name (APN) and Internet Protocol.html'), (\"customers to access their internal networks or Intranets using AT&T's network via laptops or other wireless devices.Â¶\\nÂ¶\\nAPN examples that AT&T uses include: Â¶\\nÂ¶\\nwap.cingularisp.cingularblackberry.netÂ¶\\nPrivate Mobile Connection rate plans include the isp.cingular APN, which is bundled in all Private Mobile Connection rate plans.Â¶\\nThis path is either static or dynamic IP addresses. A customer can have several APNs, for example, FedEx_APN_1 or FedEx_APN_2.Â¶\\nEach of these custom APNs can contain five static IP addresses, dynamic IP addresses, or both.To add Private Mobile Connection to a customer's account, add a Packet Data Protocol (PDP) feature.Â¶\\nÂ¶\\nÂ¶\\nÂ¶\\nÂ¶\\nDefinitions Â¶\\nÂ¶\\nPublic IP Addresses: Unique identifiers, maintained and assigned by a third party. Â¶\\nÂ¶\\nA public IP address cannot be used twice within the World Wide Web community.Â¶\\nPrivate IP Addresses: Unique identifiers, created and maintained by a company. Â¶\\nPrivate IP addresses need to be unique only within the n\", 'Access Point Name (APN) and Internet Protocol.html'), ('Add the APN as a feature via OPUS. Refer to Add Packed Data Protocol Package - OPUS - Business.Â¶\\nÂ¶\\nIf the customer would like help setting up a connection, warm transfer the call to ASCS-HD. Â¶\\nAT&T Wireless static IPÂ¶\\nAdd the APN as a feature via OPUS. Refer to Add Packed Data Protocol Package - OPUS - Business.Â¶\\nÂ¶\\nAdvise the customer that the APN requires 1-2 hours to provision for a successful connection.Â¶\\nÂ¶\\nIf the customer would like help setting up a connection, warm transfer the call to ASCS-HD.Â¶\\nÂ¶\\nÂ¶\\n*Access to articles in Related Links is restricted based on your profile.Â¶\\nÂ¶\\nÂ¶\\nÂ¶\\nÂ¶\\nApple Custom APN SupportÂ¶\\nÂ¶\\nConfirm that APN/PDP is available in FaST.Â¶\\nÂ¶\\nIf not available, refer the customer to Sales for assistance.Â¶\\nProvision PDP.For help configuring APNs using the iPhone Configuration Utility and troubleshooting, refer the customer to Apple.Â¶\\nÂ¶\\nBCSS - Transfer customers to Apple using the Directory Tool.Â¶\\nÂ¶\\nÂ¶\\nÂ¶\\nÂ¶\\nAssist Customers Who Do Not Know Their', 'Access Point Name (APN) and Internet Protocol.html'), (\"¶\\nProvision PDP.For help configuring APNs using the iPhone Configuration Utility and troubleshooting, refer the customer to Apple.Â¶\\nÂ¶\\nBCSS - Transfer customers to Apple using the Directory Tool.Â¶\\nÂ¶\\nÂ¶\\nÂ¶\\nÂ¶\\nAssist Customers Who Do Not Know Their APN InformationÂ¶\\nÂ¶\\nCustomer Knows their APN SolutionCustomer Knows APNs they are UsingProcedureNo - Unsure if Static or DynamicYesWarm transfer the customer to ASCS-HD.No - Unsure if Static or DynamicNoRefer them to their company's IT help desk.Yes - StaticÂ¶\\nÂ¶\\n Â¶\\nÂ¶\", 'Access Point Name (APN) and Internet Protocol.html'), (\"e, refer them back to their company's IT help desk.Â¶\\nAsk the customer if the APN is a static or dynamic IP.The PDP Package must show as being available within FaST. Â¶\\nIf it is not, refer the customer back to sales for assistance.Â¶\\nÂ¶\\nÂ¶\\nIf the Customer has a FormerThenCingular Wireless static or dynamic IPÂ¶\\nAdd the APN as a feature via OPUS. Refer to Add Packed Data Protocol Package - OPUS - Business.Â¶\\nÂ¶\\nPrior to adding the APN, ask the customer for username and password (obtained by customer's company IT department) or offer to help set up the customer's connection for the first time.If the customer does not know their username/password, or needs help with a connection, warm transfer the call to ASCS-HD.Â¶\\nAT&T Wireless dynamic IPÂ¶\\nAdd the APN as a feature via OPUS. Refer to Add Packed Data Protocol Package - OPUS - Business.Â¶\\nÂ¶\\nIf the customer would like help setting up a connection, warm transfer the call to ASCS-HD. Â¶\\nAT&T Wireless static IPÂ¶\\nAdd the APN as a feature via\", 'Access Point Name (APN) and Internet Protocol.html'), (\"ssigned by a third party. Â¶\\nÂ¶\\nA public IP address cannot be used twice within the World Wide Web community.Â¶\\nPrivate IP Addresses: Unique identifiers, created and maintained by a company. Â¶\\nPrivate IP addresses need to be unique only within the network of the enterprise and are not delivered outside of the network.Â¶\\nStatic IP: A static IP solution assigns the customer's wireless data device the same IP address every time the customer establishes a data session with the AT&T network.Â¶\\nThe pool of IP addresses available varies with each custom solution.Â¶\\nDynamic IP: A dynamic IP solution assigns the customer's wireless data device a different IP address every time the customer establishes a data session with the AT&T network. Â¶\\nThe pool of IP addresses available varies with each custom solution.Â¶\\nAdvance Technical Services: The group that provides data technical support to end-users.RADIUS: Listed as a static APN not populated in IPPT. The IP addresses are assigned by the custom\", 'Access Point Name (APN) and Internet Protocol.html'), ('but the 0-year contract term was not available therefore 12 months was selected.COAM and LNP/COAM New Service Orders Only: Non-approved AT&T Equipment: If the customer is activating with non-approved COAM equipment, notate that customer was advised that they may encounter compatibility issues, such as limited functionality or even the ability to operate on our network.Advised customer that non-approved equipment may encounter compatibility issues such as limited functionality or even the ability to operate on our network.Advised customer that non-approved equipment may encounter compatibility issues such as limited functionality or even the ability to operate on our network.Wireless Service Terms (Signature Only): Notate that you had advised the customer that their Wireless Service Terms would be sent to their [email or billing address]. This notation is not necessary if SIM is being shipped to customer as part of the COAM or LNP/COAM New Service Order flow.I read the customer the sta', 'Account Notes - BCSS.html'), (\"ral part of the documentation between our company and our customers. They provide a permanent record of our interactions with the customer and cannot be removed from the account.Â¶\\nÂ¶\\nIf a note contains sensitive personal information (SPI), personal opinions, or profanity, follow appropriate steps to notify the manager of the person who entered the note so they can deliver appropriate coaching and feedback.Â¶\\nTelegence Special Instructions FieldDo not use this field unless your job function specifically requires you do so.Time StampsÂ¶\\nTime of transaction records as follows:Â¶\\nÂ¶\\nNotes from Clarify time-stamp in Eastern Time (ET)Notes from CACS-T time-stamp in Pacific Time (PT)Notes from TLG time-stamp in the time zone the customer's market is inNotes from Qfinity time-stamp in the time zone where the representative is locatedÂ¶\\nÂ¶\\nÂ¶\\nBack to TopÂ¶\\nÂ¶\\nÂ¶\\nÂ¶\\nAutomatic NotationsÂ¶\\nÂ¶\\nNot all account notes are entered by a person. Auto-generated notations provide an audit trail when IT pe\", 'Account Notes - BCSS.html'), ('o opt-out. They must opt-out prior to July 16, 2021.Â¶\\nLet the customer know that their current device will not work on the network after February 2022.Encourage them to upgrade to avoid a service interruption.Prior to July 16, 2021 if the customer has not upgraded to a new device, place SOC TRKG197: PILOT 3G Drop Ship Customer Opt Out on the line the customer wants removed from the program.Â¶\\n Customers do not receive a credit for opting out. Â¶\\nBack to TopÂ¶\\nDevice ActivationÂ¶\\nReplacement device is parked on the impacted CTNCustomer must use the SIM card that came with the replacement device.Provide the customer with self-service activation instructions. If they decline, conference the customer with the IVR. Remain on the line and assist the customer with the IVR activation steps.Â¶\\nDial 866.895.1099 and press 1 to activate the device.Enter the CTN.Enter the billing Zip code (if required).Enter the BAN Passcode/PIN/Last 4 of SSN (customer must enter if IVR requires).A confirmation m', '3G Device Replacement Program - BCSS.html')]' has dtype incompatible with float64, please explicitly cast to a compatible dtype first.\n",
      "  groundtruth_df.at[index, init_chunks] = str(chunks_per_response)\n",
      "Running user_sh8998 queries against vector DB..: 100%|██████████| 10/10 [00:24<00:00,  2.44s/it]\n"
     ]
    }
   ],
   "source": [
    "print(\"Sending questions to similarity search endpoint...\")\n",
    "pbar_chat_len = len(questions_to_test)\n",
    "init_chunks = 'init_chunks'\n",
    "with tqdm(total=pbar_chat_len, desc=rf\"Running {domain} queries against vector DB..\") as pbar:\n",
    "    for index, row in groundtruth_df.iterrows():\n",
    "        # Send POST request\n",
    "        body = {'domain': domain, 'config_version': domain_config_version, 'query': row[question_col]}\n",
    "        sim_search_response = send_post_request_json_body(similarity_search_url, body)\n",
    "\n",
    "        # TODO: refactor into helper method\n",
    "        chunks_per_response = []\n",
    "        sources_per_response = []\n",
    "        for i, citation in enumerate(sim_search_response.json()['response']):\n",
    "            chunks_per_response.append((citation[0]['page_content'], os.path.basename(citation[0]['metadata'][\"source\"])))\n",
    "        groundtruth_df.at[index, init_chunks] = str(chunks_per_response)\n",
    "        if sim_search_response.status_code != 200:\n",
    "            pbar.write(fr\"{sim_search_response.content}\")\n",
    "        pbar.update()"
   ]
  },
  {
   "cell_type": "code",
   "execution_count": 6,
   "metadata": {},
   "outputs": [
    {
     "data": {
      "text/html": [
       "<div>\n",
       "<style scoped>\n",
       "    .dataframe tbody tr th:only-of-type {\n",
       "        vertical-align: middle;\n",
       "    }\n",
       "\n",
       "    .dataframe tbody tr th {\n",
       "        vertical-align: top;\n",
       "    }\n",
       "\n",
       "    .dataframe thead th {\n",
       "        text-align: right;\n",
       "    }\n",
       "</style>\n",
       "<table border=\"1\" class=\"dataframe\">\n",
       "  <thead>\n",
       "    <tr style=\"text-align: right;\">\n",
       "      <th></th>\n",
       "      <th>id</th>\n",
       "      <th>Total Views</th>\n",
       "      <th>source</th>\n",
       "      <th>bcss_question</th>\n",
       "      <th>answer</th>\n",
       "      <th>init_chunks</th>\n",
       "    </tr>\n",
       "  </thead>\n",
       "  <tbody>\n",
       "    <tr>\n",
       "      <th>0</th>\n",
       "      <td>10161</td>\n",
       "      <td>15747</td>\n",
       "      <td>Access Point Name (APN) and Internet Protocol....</td>\n",
       "      <td>What is an APN?</td>\n",
       "      <td>Access Point Names (APNs)\\nAn APN is a gateway...</td>\n",
       "      <td>[(\"Jump to: Access Point Names (APNs) | Defini...</td>\n",
       "    </tr>\n",
       "    <tr>\n",
       "      <th>1</th>\n",
       "      <td>10167</td>\n",
       "      <td>14643</td>\n",
       "      <td>Account Notes - BCSS.html</td>\n",
       "      <td>What should I include in account notes?</td>\n",
       "      <td>The reason for the call.\\nRecommendations prov...</td>\n",
       "      <td>[('Jump  to: Requirements | Guidelines | Clari...</td>\n",
       "    </tr>\n",
       "  </tbody>\n",
       "</table>\n",
       "</div>"
      ],
      "text/plain": [
       "      id  Total Views                                             source  \\\n",
       "0  10161        15747  Access Point Name (APN) and Internet Protocol....   \n",
       "1  10167        14643                          Account Notes - BCSS.html   \n",
       "\n",
       "                              bcss_question  \\\n",
       "0                          What is an APN?    \n",
       "1  What should I include in account notes?    \n",
       "\n",
       "                                              answer  \\\n",
       "0  Access Point Names (APNs)\\nAn APN is a gateway...   \n",
       "1  The reason for the call.\\nRecommendations prov...   \n",
       "\n",
       "                                         init_chunks  \n",
       "0  [(\"Jump to: Access Point Names (APNs) | Defini...  \n",
       "1  [('Jump  to: Requirements | Guidelines | Clari...  "
      ]
     },
     "execution_count": 6,
     "metadata": {},
     "output_type": "execute_result"
    }
   ],
   "source": [
    "groundtruth_df.head(2)"
   ]
  },
  {
   "cell_type": "code",
   "execution_count": 7,
   "metadata": {},
   "outputs": [
    {
     "name": "stderr",
     "output_type": "stream",
     "text": [
      "c:\\Users\\sh8998\\AppData\\Local\\pypoetry\\Cache\\virtualenvs\\askatt-sqntRqv6-py3.11\\Lib\\site-packages\\tqdm\\auto.py:21: TqdmWarning: IProgress not found. Please update jupyter and ipywidgets. See https://ipywidgets.readthedocs.io/en/stable/user_install.html\n",
      "  from .autonotebook import tqdm as notebook_tqdm\n"
     ]
    }
   ],
   "source": [
    "%load_ext autoreload\n",
    "%autoreload 2\n",
    "sys.path.append('../../')\n",
    "from evaluation.evaluator import evaluator\n",
    "\n",
    "curr_path = os.getcwd()\n",
    "config_path = f\"{curr_path}/trial_config.json\"\n",
    "domain_params = json.load(open(config_path))"
   ]
  },
  {
   "cell_type": "markdown",
   "metadata": {},
   "source": [
    "Scoring the chunks"
   ]
  },
  {
   "cell_type": "code",
   "execution_count": 8,
   "metadata": {},
   "outputs": [
    {
     "name": "stderr",
     "output_type": "stream",
     "text": [
      "\u001b[32m2023-10-22 18:25:59.346\u001b[0m | \u001b[33m\u001b[1mWARNING \u001b[0m | \u001b[36mevaluation.evaluator\u001b[0m:\u001b[36mcalculate_metrics\u001b[0m:\u001b[36m58\u001b[0m - \u001b[33m\u001b[1mReranker chunks scoring is disabled. Please provide the column name!\u001b[0m\n",
      "\u001b[32m2023-10-22 18:26:24.130\u001b[0m | \u001b[1mINFO    \u001b[0m | \u001b[36mevaluation.evaluator\u001b[0m:\u001b[36mcalculate_metrics\u001b[0m:\u001b[36m63\u001b[0m - \u001b[1mInitial chunks scoring is calculated using init_chunks column!\u001b[0m\n",
      "\u001b[32m2023-10-22 18:26:24.130\u001b[0m | \u001b[1mINFO    \u001b[0m | \u001b[36mevaluation.evaluator\u001b[0m:\u001b[36mcalculate_metrics\u001b[0m:\u001b[36m64\u001b[0m - \u001b[1mChunks metrics are generated!\u001b[0m\n"
     ]
    }
   ],
   "source": [
    "# To disable reranker/initial chunks scoring, send the column name as \"\"\n",
    "is_reranker_enabled = domain_params.get(\"reranker_class_name\", None) is not None\n",
    "is_reranker_enabled = domain_params.get(\"k_reranker\", 1000) < domain_params.get(\"k_milvus\", 0)\n",
    "\n",
    "data_df, metrics_df = evaluator.calculate_metrics(dataframe=groundtruth_df.copy(), metrics=[\"chunks\"], is_reranker_enabled=is_reranker_enabled, reranker_chunks = \"\", init_chunks=\"init_chunks\")"
   ]
  },
  {
   "cell_type": "markdown",
   "metadata": {},
   "source": [
    "Generate Answers"
   ]
  },
  {
   "cell_type": "code",
   "execution_count": 9,
   "metadata": {},
   "outputs": [
    {
     "name": "stderr",
     "output_type": "stream",
     "text": [
      "Running user_sh8998 queries against LLM chat..:   0%|          | 0/10 [00:00<?, ?it/s]"
     ]
    },
    {
     "name": "stdout",
     "output_type": "stream",
     "text": [
      "What is an APN? \n"
     ]
    },
    {
     "name": "stderr",
     "output_type": "stream",
     "text": [
      "C:\\Users\\local_sh8998\\Temp\\ipykernel_19232\\1742709428.py:17: FutureWarning: Setting an item of incompatible dtype is deprecated and will raise in a future error of pandas. Value 'An APN is a gateway through which a device can connect to the wireless Internet.' has dtype incompatible with float64, please explicitly cast to a compatible dtype first.\n",
      "  groundtruth_df.at[index, generated_answer_col] = llm_response.json()['response']\n",
      "C:\\Users\\local_sh8998\\Temp\\ipykernel_19232\\1742709428.py:21: FutureWarning: Setting an item of incompatible dtype is deprecated and will raise in a future error of pandas. Value '[(\"Jump to: Access Point Names (APNs) | Definitions | Process | Apple Custom APN Support | Assist Customers That Do Not Know Their APN InformationAccess Point Names (APNs)Â¶\\nÂ¶\\nAn APN is a gateway through which a device can connect to the wireless Internet. Â¶\\nÂ¶\\nConsider an APN a point or path the data packet travels to and from the AT&T network.Â¶\\nAPNs control the features/services a device can access when connected to that APN.Some APNs are automatically added when a data plan is provisioned on a customer's account.Â¶\\nSome feature codes add more than one APN.Â¶\\nCustom APNs are available for Enterprise customers requiring specific needs not met by current APNs.Â¶\\nÂ¶\\nAT&T Private Mobile Connection provides a method for our Enterprise Business customers to access their internal networks or Intranets using AT&T's network via laptops or other wireless devices.Â¶\\nÂ¶\\nAPN examples that AT&T uses include: Â¶\\nÂ¶\\nwap.cingularisp.cingularblackberry.netÂ¶\\nPrivate Mobile Connection rate plans includ\", 'Access Point Name (APN) and Internet Protocol.html'), (\"e, refer them back to their company's IT help desk.Â¶\\nAsk the customer if the APN is a static or dynamic IP.The PDP Package must show as being available within FaST. Â¶\\nIf it is not, refer the customer back to sales for assistance.Â¶\\nÂ¶\\nÂ¶\\nIf the Customer has a FormerThenCingular Wireless static or dynamic IPÂ¶\\nAdd the APN as a feature via OPUS. Refer to Add Packed Data Protocol Package - OPUS - Business.Â¶\\nÂ¶\\nPrior to adding the APN, ask the customer for username and password (obtained by customer's company IT department) or offer to help set up the customer's connection for the first time.If the customer does not know their username/password, or needs help with a connection, warm transfer the call to ASCS-HD.Â¶\\nAT&T Wireless dynamic IPÂ¶\\nAdd the APN as a feature via OPUS. Refer to Add Packed Data Protocol Package - OPUS - Business.Â¶\\nÂ¶\\nIf the customer would like help setting up a connection, warm transfer the call to ASCS-HD. Â¶\\nAT&T Wireless static IPÂ¶\\nAdd the APN as a feature via\", 'Access Point Name (APN) and Internet Protocol.html'), (\"ol of IP addresses available varies with each custom solution.Â¶\\nAdvance Technical Services: The group that provides data technical support to end-users.RADIUS: Listed as a static APN not populated in IPPT. The IP addresses are assigned by the customer from an established IP pool. Access requires user authentication. ManagedVPN (ANIRA/NETGate):Â¶\\nSOC Code J608 (ANIRA - APN 001009)SOC Code J710 (NetGate - APN 001008)AMLAPN - 00ACCESSMYLANASAVIE01 - vpn.accessmylan.net (ASAVIE support 800-710-4625, 9:00 AM - 5:00 PM)Â¶\\nÂ¶\\nÂ¶\\nThese SOC Codes will provision either APNÂ¶\\nÂ¶\\nÂ¶\\nÂ¶\\nÂ¶\\nProcess Â¶\\nÂ¶\\nWhen a customer requests to add an APN to their service:Â¶\\nÂ¶\\nAsk the customer for the name of the APN. Â¶\\nÂ¶\\nIf the customer does not know the APN name, refer them back to their company's IT help desk.Â¶\\nAsk the customer if the APN is a static or dynamic IP.The PDP Package must show as being available within FaST. Â¶\\nIf it is not, refer the customer back to sales for assistance.Â¶\\nÂ¶\\nÂ¶\\nIf the Cus\", 'Access Point Name (APN) and Internet Protocol.html'), (\"customers to access their internal networks or Intranets using AT&T's network via laptops or other wireless devices.Â¶\\nÂ¶\\nAPN examples that AT&T uses include: Â¶\\nÂ¶\\nwap.cingularisp.cingularblackberry.netÂ¶\\nPrivate Mobile Connection rate plans include the isp.cingular APN, which is bundled in all Private Mobile Connection rate plans.Â¶\\nThis path is either static or dynamic IP addresses. A customer can have several APNs, for example, FedEx_APN_1 or FedEx_APN_2.Â¶\\nEach of these custom APNs can contain five static IP addresses, dynamic IP addresses, or both.To add Private Mobile Connection to a customer's account, add a Packet Data Protocol (PDP) feature.Â¶\\nÂ¶\\nÂ¶\\nÂ¶\\nÂ¶\\nDefinitions Â¶\\nÂ¶\\nPublic IP Addresses: Unique identifiers, maintained and assigned by a third party. Â¶\\nÂ¶\\nA public IP address cannot be used twice within the World Wide Web community.Â¶\\nPrivate IP Addresses: Unique identifiers, created and maintained by a company. Â¶\\nPrivate IP addresses need to be unique only within the n\", 'Access Point Name (APN) and Internet Protocol.html'), ('Add the APN as a feature via OPUS. Refer to Add Packed Data Protocol Package - OPUS - Business.Â¶\\nÂ¶\\nIf the customer would like help setting up a connection, warm transfer the call to ASCS-HD. Â¶\\nAT&T Wireless static IPÂ¶\\nAdd the APN as a feature via OPUS. Refer to Add Packed Data Protocol Package - OPUS - Business.Â¶\\nÂ¶\\nAdvise the customer that the APN requires 1-2 hours to provision for a successful connection.Â¶\\nÂ¶\\nIf the customer would like help setting up a connection, warm transfer the call to ASCS-HD.Â¶\\nÂ¶\\nÂ¶\\n*Access to articles in Related Links is restricted based on your profile.Â¶\\nÂ¶\\nÂ¶\\nÂ¶\\nÂ¶\\nApple Custom APN SupportÂ¶\\nÂ¶\\nConfirm that APN/PDP is available in FaST.Â¶\\nÂ¶\\nIf not available, refer the customer to Sales for assistance.Â¶\\nProvision PDP.For help configuring APNs using the iPhone Configuration Utility and troubleshooting, refer the customer to Apple.Â¶\\nÂ¶\\nBCSS - Transfer customers to Apple using the Directory Tool.Â¶\\nÂ¶\\nÂ¶\\nÂ¶\\nÂ¶\\nAssist Customers Who Do Not Know Their', 'Access Point Name (APN) and Internet Protocol.html')]' has dtype incompatible with float64, please explicitly cast to a compatible dtype first.\n",
      "  groundtruth_df.at[index, chunk_col_name] = str(chunks_per_response)\n",
      "Running user_sh8998 queries against LLM chat..:  10%|█         | 1/10 [00:07<01:05,  7.27s/it]"
     ]
    },
    {
     "name": "stdout",
     "output_type": "stream",
     "text": [
      "What should I include in account notes? \n"
     ]
    },
    {
     "name": "stderr",
     "output_type": "stream",
     "text": [
      "Running user_sh8998 queries against LLM chat..:  20%|██        | 2/10 [00:14<00:57,  7.20s/it]"
     ]
    },
    {
     "name": "stdout",
     "output_type": "stream",
     "text": [
      "How do I answer if a customer asks why their 3G device stopped working?\n"
     ]
    },
    {
     "name": "stderr",
     "output_type": "stream",
     "text": [
      "Running user_sh8998 queries against LLM chat..:  30%|███       | 3/10 [00:21<00:48,  6.96s/it]"
     ]
    },
    {
     "name": "stdout",
     "output_type": "stream",
     "text": [
      "How do I handle a call from an internal employee that is showing verified succesfully in clarify? \n"
     ]
    },
    {
     "name": "stderr",
     "output_type": "stream",
     "text": [
      "Running user_sh8998 queries against LLM chat..:  40%|████      | 4/10 [00:29<00:44,  7.39s/it]"
     ]
    },
    {
     "name": "stdout",
     "output_type": "stream",
     "text": [
      "Why is the customer charged roaming charges while in the US and not Canada?\n"
     ]
    },
    {
     "name": "stderr",
     "output_type": "stream",
     "text": [
      "Running user_sh8998 queries against LLM chat..:  50%|█████     | 5/10 [00:36<00:36,  7.35s/it]"
     ]
    },
    {
     "name": "stdout",
     "output_type": "stream",
     "text": [
      "What if a customer does not know their APN? \n"
     ]
    },
    {
     "name": "stderr",
     "output_type": "stream",
     "text": [
      "Running user_sh8998 queries against LLM chat..:  60%|██████    | 6/10 [00:42<00:27,  6.88s/it]"
     ]
    },
    {
     "name": "stdout",
     "output_type": "stream",
     "text": [
      "What if a customer asks when was the last time their account was accessed?\n"
     ]
    },
    {
     "name": "stderr",
     "output_type": "stream",
     "text": [
      "Running user_sh8998 queries against LLM chat..:  70%|███████   | 7/10 [00:47<00:19,  6.47s/it]"
     ]
    },
    {
     "name": "stdout",
     "output_type": "stream",
     "text": [
      "Will a customer be charged for a replacement device from previously having a 3G phone? \n"
     ]
    },
    {
     "name": "stderr",
     "output_type": "stream",
     "text": [
      "Running user_sh8998 queries against LLM chat..:  80%|████████  | 8/10 [00:56<00:13,  6.97s/it]"
     ]
    },
    {
     "name": "stdout",
     "output_type": "stream",
     "text": [
      "How do I handle a call from an internal employee that does not display verified successfully in Clarify? \n"
     ]
    },
    {
     "name": "stderr",
     "output_type": "stream",
     "text": [
      "Running user_sh8998 queries against LLM chat..:  90%|█████████ | 9/10 [01:03<00:07,  7.23s/it]"
     ]
    },
    {
     "name": "stdout",
     "output_type": "stream",
     "text": [
      "Why is the customer charged roaming charges while in the US and not Mexico?\n"
     ]
    },
    {
     "name": "stderr",
     "output_type": "stream",
     "text": [
      "Running user_sh8998 queries against LLM chat..: 100%|██████████| 10/10 [01:11<00:00,  7.13s/it]\n"
     ]
    }
   ],
   "source": [
    "def process_LLMResp(LLResponse):\n",
    "        result = {}\n",
    "        result[\"answer\"] = LLResponse.response\n",
    "        result[\"chunks\"] = []\n",
    "        for i, citation in enumerate(LLResponse.citations):\n",
    "            result[\"chunks\"].append((citation['page_content'], os.path.basename(citation[\"metadata\"][\"source\"])))\n",
    "        return result\n",
    "\n",
    "chunk_col_name = \"reranker_chunks\"\n",
    "pbar_chat_len = len(questions_to_test)\n",
    "with tqdm(total=pbar_chat_len, desc=rf\"Running {domain} queries against LLM chat..\") as pbar:\n",
    "    for index, row in groundtruth_df.iterrows():\n",
    "        # Send POST request\n",
    "        print(row[question_col])\n",
    "        body = {'domain': domain, 'config_version': domain_config_version, 'query': row[question_col]}\n",
    "        llm_response = send_post_request_json_body(chat_url, body)\n",
    "        groundtruth_df.at[index, generated_answer_col] = llm_response.json()['response']\n",
    "        chunks_per_response = []\n",
    "        for citation in llm_response.json()['citations']:\n",
    "             chunks_per_response.append((citation['page_content'], os.path.basename(citation['metadata'][\"source\"])))\n",
    "        groundtruth_df.at[index, chunk_col_name] = str(chunks_per_response)\n",
    "        \n",
    "        if llm_response.status_code != 200:\n",
    "            pbar.write(fr\"{llm_response.content}\")\n",
    "        pbar.update()"
   ]
  },
  {
   "cell_type": "code",
   "execution_count": 10,
   "metadata": {},
   "outputs": [
    {
     "data": {
      "text/html": [
       "<div>\n",
       "<style scoped>\n",
       "    .dataframe tbody tr th:only-of-type {\n",
       "        vertical-align: middle;\n",
       "    }\n",
       "\n",
       "    .dataframe tbody tr th {\n",
       "        vertical-align: top;\n",
       "    }\n",
       "\n",
       "    .dataframe thead th {\n",
       "        text-align: right;\n",
       "    }\n",
       "</style>\n",
       "<table border=\"1\" class=\"dataframe\">\n",
       "  <thead>\n",
       "    <tr style=\"text-align: right;\">\n",
       "      <th></th>\n",
       "      <th>id</th>\n",
       "      <th>Total Views</th>\n",
       "      <th>source</th>\n",
       "      <th>bcss_question</th>\n",
       "      <th>answer</th>\n",
       "      <th>init_chunks</th>\n",
       "      <th>generated_answer</th>\n",
       "      <th>reranker_chunks</th>\n",
       "    </tr>\n",
       "  </thead>\n",
       "  <tbody>\n",
       "    <tr>\n",
       "      <th>0</th>\n",
       "      <td>10161</td>\n",
       "      <td>15747</td>\n",
       "      <td>Access Point Name (APN) and Internet Protocol....</td>\n",
       "      <td>What is an APN?</td>\n",
       "      <td>Access Point Names (APNs)\\nAn APN is a gateway...</td>\n",
       "      <td>[(\"Jump to: Access Point Names (APNs) | Defini...</td>\n",
       "      <td>An APN is a gateway through which a device can...</td>\n",
       "      <td>[(\"Jump to: Access Point Names (APNs) | Defini...</td>\n",
       "    </tr>\n",
       "    <tr>\n",
       "      <th>1</th>\n",
       "      <td>10167</td>\n",
       "      <td>14643</td>\n",
       "      <td>Account Notes - BCSS.html</td>\n",
       "      <td>What should I include in account notes?</td>\n",
       "      <td>The reason for the call.\\nRecommendations prov...</td>\n",
       "      <td>[('Jump  to: Requirements | Guidelines | Clari...</td>\n",
       "      <td>For the best customer experience, always inclu...</td>\n",
       "      <td>[(\"r the best customer experience, be clear an...</td>\n",
       "    </tr>\n",
       "  </tbody>\n",
       "</table>\n",
       "</div>"
      ],
      "text/plain": [
       "      id  Total Views                                             source  \\\n",
       "0  10161        15747  Access Point Name (APN) and Internet Protocol....   \n",
       "1  10167        14643                          Account Notes - BCSS.html   \n",
       "\n",
       "                              bcss_question  \\\n",
       "0                          What is an APN?    \n",
       "1  What should I include in account notes?    \n",
       "\n",
       "                                              answer  \\\n",
       "0  Access Point Names (APNs)\\nAn APN is a gateway...   \n",
       "1  The reason for the call.\\nRecommendations prov...   \n",
       "\n",
       "                                         init_chunks  \\\n",
       "0  [(\"Jump to: Access Point Names (APNs) | Defini...   \n",
       "1  [('Jump  to: Requirements | Guidelines | Clari...   \n",
       "\n",
       "                                    generated_answer  \\\n",
       "0  An APN is a gateway through which a device can...   \n",
       "1  For the best customer experience, always inclu...   \n",
       "\n",
       "                                     reranker_chunks  \n",
       "0  [(\"Jump to: Access Point Names (APNs) | Defini...  \n",
       "1  [(\"r the best customer experience, be clear an...  "
      ]
     },
     "execution_count": 10,
     "metadata": {},
     "output_type": "execute_result"
    }
   ],
   "source": [
    "groundtruth_df.head(2)"
   ]
  },
  {
   "cell_type": "markdown",
   "metadata": {},
   "source": [
    "Score Chunks + Generated Answers   "
   ]
  },
  {
   "cell_type": "code",
   "execution_count": 11,
   "metadata": {},
   "outputs": [
    {
     "name": "stderr",
     "output_type": "stream",
     "text": [
      "\u001b[32m2023-10-22 18:27:52.140\u001b[0m | \u001b[1mINFO    \u001b[0m | \u001b[36mevaluation.evaluator\u001b[0m:\u001b[36mcalculate_metrics\u001b[0m:\u001b[36m56\u001b[0m - \u001b[1mReranker chunks scoring is calculated using reranker_chunks column!\u001b[0m\n",
      "\u001b[32m2023-10-22 18:28:17.146\u001b[0m | \u001b[1mINFO    \u001b[0m | \u001b[36mevaluation.evaluator\u001b[0m:\u001b[36mcalculate_metrics\u001b[0m:\u001b[36m63\u001b[0m - \u001b[1mInitial chunks scoring is calculated using init_chunks column!\u001b[0m\n",
      "\u001b[32m2023-10-22 18:28:17.147\u001b[0m | \u001b[1mINFO    \u001b[0m | \u001b[36mevaluation.evaluator\u001b[0m:\u001b[36mcalculate_metrics\u001b[0m:\u001b[36m64\u001b[0m - \u001b[1mChunks metrics are generated!\u001b[0m\n",
      "\u001b[32m2023-10-22 18:28:17.429\u001b[0m | \u001b[1mINFO    \u001b[0m | \u001b[36mevaluation.evaluator\u001b[0m:\u001b[36mcalculate_metrics\u001b[0m:\u001b[36m88\u001b[0m - \u001b[1mRouge is calculated!\u001b[0m\n",
      "Some weights of RobertaModel were not initialized from the model checkpoint at c:\\Users\\sh8998\\DataScience_Experiment_Framework\\data_science_experiments\\care\\../../local_models/roberta-large and are newly initialized: ['roberta.pooler.dense.weight', 'roberta.pooler.dense.bias']\n",
      "You should probably TRAIN this model on a down-stream task to be able to use it for predictions and inference.\n",
      "\u001b[32m2023-10-22 18:28:48.200\u001b[0m | \u001b[1mINFO    \u001b[0m | \u001b[36mevaluation.evaluator\u001b[0m:\u001b[36mcalculate_metrics\u001b[0m:\u001b[36m116\u001b[0m - \u001b[1mbert F1, recall and precision is calculated!\u001b[0m\n",
      "Some weights of RobertaModel were not initialized from the model checkpoint at c:\\Users\\sh8998\\DataScience_Experiment_Framework\\data_science_experiments\\care\\../../local_models/roberta-large and are newly initialized: ['roberta.pooler.dense.weight', 'roberta.pooler.dense.bias']\n",
      "You should probably TRAIN this model on a down-stream task to be able to use it for predictions and inference.\n",
      "\u001b[32m2023-10-22 18:29:07.284\u001b[0m | \u001b[1mINFO    \u001b[0m | \u001b[36mevaluation.evaluator\u001b[0m:\u001b[36mcalculate_metrics\u001b[0m:\u001b[36m127\u001b[0m - \u001b[1mbert_score is calculated!\u001b[0m\n"
     ]
    }
   ],
   "source": [
    "data_df, metrics_df = evaluator.calculate_metrics(dataframe=groundtruth_df.copy(), metrics=[\"chunks\", \"rouge\", \"bert\"], is_reranker_enabled=is_reranker_enabled, reranker_chunks = \"reranker_chunks\", init_chunks=\"init_chunks\")"
   ]
  },
  {
   "cell_type": "code",
   "execution_count": 12,
   "metadata": {},
   "outputs": [
    {
     "data": {
      "text/html": [
       "<div>\n",
       "<style scoped>\n",
       "    .dataframe tbody tr th:only-of-type {\n",
       "        vertical-align: middle;\n",
       "    }\n",
       "\n",
       "    .dataframe tbody tr th {\n",
       "        vertical-align: top;\n",
       "    }\n",
       "\n",
       "    .dataframe thead th {\n",
       "        text-align: right;\n",
       "    }\n",
       "</style>\n",
       "<table border=\"1\" class=\"dataframe\">\n",
       "  <thead>\n",
       "    <tr style=\"text-align: right;\">\n",
       "      <th></th>\n",
       "      <th>rouge1</th>\n",
       "      <th>rouge2</th>\n",
       "      <th>rougeL</th>\n",
       "      <th>rougeLsum</th>\n",
       "      <th>bert_recall</th>\n",
       "      <th>bert_precision</th>\n",
       "      <th>bert_f1</th>\n",
       "      <th>bert_score</th>\n",
       "      <th>in_top_reranker_%</th>\n",
       "      <th>reranker_rouge1_median</th>\n",
       "      <th>reranker_rougeLsum_median</th>\n",
       "      <th>reranker_rougeL_recall_median</th>\n",
       "      <th>reranker_rougeL_precision_median</th>\n",
       "      <th>in_top_init_%</th>\n",
       "      <th>init_rouge1_median</th>\n",
       "      <th>init_rougeLsum_median</th>\n",
       "      <th>init_rougeL_recall_median</th>\n",
       "      <th>init_rougeL_precision_median</th>\n",
       "    </tr>\n",
       "  </thead>\n",
       "  <tbody>\n",
       "    <tr>\n",
       "      <th>0</th>\n",
       "      <td>0.448517</td>\n",
       "      <td>0.385782</td>\n",
       "      <td>0.427267</td>\n",
       "      <td>0.43772</td>\n",
       "      <td>0.876203</td>\n",
       "      <td>0.934607</td>\n",
       "      <td>0.905043</td>\n",
       "      <td>0.975735</td>\n",
       "      <td>0.8</td>\n",
       "      <td>0.246801</td>\n",
       "      <td>0.240112</td>\n",
       "      <td>1.0</td>\n",
       "      <td>0.365105</td>\n",
       "      <td>0.8</td>\n",
       "      <td>0.274247</td>\n",
       "      <td>0.241546</td>\n",
       "      <td>1.0</td>\n",
       "      <td>0.382353</td>\n",
       "    </tr>\n",
       "  </tbody>\n",
       "</table>\n",
       "</div>"
      ],
      "text/plain": [
       "     rouge1    rouge2    rougeL  rougeLsum  bert_recall  bert_precision  \\\n",
       "0  0.448517  0.385782  0.427267    0.43772     0.876203        0.934607   \n",
       "\n",
       "    bert_f1  bert_score  in_top_reranker_%  reranker_rouge1_median  \\\n",
       "0  0.905043    0.975735                0.8                0.246801   \n",
       "\n",
       "   reranker_rougeLsum_median  reranker_rougeL_recall_median  \\\n",
       "0                   0.240112                            1.0   \n",
       "\n",
       "   reranker_rougeL_precision_median  in_top_init_%  init_rouge1_median  \\\n",
       "0                          0.365105            0.8            0.274247   \n",
       "\n",
       "   init_rougeLsum_median  init_rougeL_recall_median  \\\n",
       "0               0.241546                        1.0   \n",
       "\n",
       "   init_rougeL_precision_median  \n",
       "0                      0.382353  "
      ]
     },
     "execution_count": 12,
     "metadata": {},
     "output_type": "execute_result"
    }
   ],
   "source": [
    "metrics_df.head(2)"
   ]
  },
  {
   "cell_type": "code",
   "execution_count": null,
   "metadata": {},
   "outputs": [],
   "source": [
    "metrics_df.values"
   ]
  },
  {
   "cell_type": "code",
   "execution_count": null,
   "metadata": {},
   "outputs": [],
   "source": []
  }
 ],
 "metadata": {
  "kernelspec": {
   "display_name": "askatt-sqntRqv6-py3.11",
   "language": "python",
   "name": "python3"
  },
  "language_info": {
   "codemirror_mode": {
    "name": "ipython",
    "version": 3
   },
   "file_extension": ".py",
   "mimetype": "text/x-python",
   "name": "python",
   "nbconvert_exporter": "python",
   "pygments_lexer": "ipython3",
   "version": "3.11.4"
  }
 },
 "nbformat": 4,
 "nbformat_minor": 2
}
