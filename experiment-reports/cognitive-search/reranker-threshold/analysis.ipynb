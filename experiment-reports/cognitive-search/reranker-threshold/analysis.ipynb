{
 "cells": [
  {
   "cell_type": "markdown",
   "metadata": {},
   "source": [
    "## Experiment analysis \n",
    "\n",
    "Understand how many chunks are getting sent to LLM when we set a ai_threshold & get the rows that have empty init_chunks"
   ]
  },
  {
   "cell_type": "code",
   "execution_count": 1,
   "metadata": {},
   "outputs": [],
   "source": [
    "import pandas as pd \n",
    "import numpy as np\n",
    "import requests\n",
    "import os\n",
    "from dotenv import load_dotenv\n",
    "import json\n",
    "import ast\n",
    "from tqdm import tqdm"
   ]
  },
  {
   "cell_type": "code",
   "execution_count": 81,
   "metadata": {},
   "outputs": [
    {
     "name": "stdout",
     "output_type": "stream",
     "text": [
      "5807\n"
     ]
    }
   ],
   "source": [
    "# To get the total chunks that are passed in for each experiment\n",
    "# Replace the path below with your local results path from the src\\data\\experiments\\cckm_3700\\guid\n",
    "qc_config1_baseline_results_path = r'C:\\Users\\ha6126\\AskATT_DataScience_Experiment_Framework\\DataScience_Experiment_Framework\\src\\data\\experiments\\cckm_3700\\v3\\ff8a722a-0cdf-4d2a-817e-fbc4c61fe18d\\result.csv'\n",
    "df = pd.read_csv(qc_config1_baseline_results_path)\n",
    "# # Define a function to count the elements in the 'data' column\n",
    "\n",
    "df[f'init_chunks'] = df[f'init_chunks'].apply(eval)\n",
    "exploded_df = df.explode(f'init_chunks')\n",
    "count_series = exploded_df.groupby('id')[f'init_chunks'].count()\n",
    "df['chunk_count'] = df['id'].map(count_series)\n",
    "print(df['chunk_count'].sum())\n"
   ]
  },
  {
   "cell_type": "code",
   "execution_count": 57,
   "metadata": {},
   "outputs": [],
   "source": [
    "#To write the results to a new file\n",
    "qc_config1_baseline_results_path_new = r'C:\\Users\\ha6126\\AskATT_DataScience_Experiment_Framework\\DataScience_Experiment_Framework\\src\\data\\experiments\\cckm_3700\\v3\\ffd31caa-5217-40ce-b303-e2af74001d02\\resultnew.csv'\n",
    "df.to_csv(qc_config1_baseline_results_path_new)\n"
   ]
  },
  {
   "cell_type": "code",
   "execution_count": 77,
   "metadata": {},
   "outputs": [
    {
     "name": "stdout",
     "output_type": "stream",
     "text": [
      "8\n"
     ]
    }
   ],
   "source": [
    "#find the rows that have empty init_chunks\n",
    "# Replace the path below with your local results path from the src\\data\\experiments\\cckm_3700\\guid\n",
    "qc_config1_baseline_results_path = r'C:\\Users\\ha6126\\AskATT_DataScience_Experiment_Framework\\DataScience_Experiment_Framework\\src\\data\\experiments\\cckm_3700\\v3\\e0abc086-d072-4d48-846c-f1983cf94a5c\\result.csv'\n",
    "df = pd.read_csv(qc_config1_baseline_results_path)\n",
    "count_value1_mask = (df['init_chunks'] == '[]').sum()\n",
    "print(count_value1_mask)"
   ]
  },
  {
   "cell_type": "code",
   "execution_count": 78,
   "metadata": {},
   "outputs": [
    {
     "name": "stdout",
     "output_type": "stream",
     "text": [
      "[10030, 10149, 20122, 20149, 30149, 50029, 50037, 50049]\n"
     ]
    }
   ],
   "source": [
    "# Print the IDs that are sending empty chunks\n",
    "rows_with_value_empty = df['id'][df['init_chunks'] == '[]'].tolist()\n",
    "print(rows_with_value_empty)"
   ]
  },
  {
   "cell_type": "code",
   "execution_count": 79,
   "metadata": {},
   "outputs": [
    {
     "name": "stdout",
     "output_type": "stream",
     "text": [
      "        id Total Views                                         source  \\\n",
      "18   10030      112089             Customer Contact Roles - BCSS.html   \n",
      "110  10149       18228            Home Market Information - BCSS.html   \n",
      "255  20122       24251        Sales Execution Advisor Hub - BCSS.html   \n",
      "266  20149       18228            Home Market Information - BCSS.html   \n",
      "360  30149       18228            Home Market Information - BCSS.html   \n",
      "399  50029    disliked                    International traveling hub   \n",
      "406  50037    disliked  Processing DIRECTV FOR BUSINESS Orders - BCSS   \n",
      "418  50049    disliked         Telegence Payment-Related Codes - BCSS   \n",
      "\n",
      "                                         bcss_question  \\\n",
      "18                                  What can AOP's do?   \n",
      "110  What billing system or market is North Carolin...   \n",
      "255                   where are last months avisories?   \n",
      "266  What billing system or market is New York loca...   \n",
      "360  What billing system or market is Puerto Rico l...   \n",
      "399  what is calling rate for london on att world c...   \n",
      "406               what's the cheapest directv package?   \n",
      "418                    What if the code is not listed?   \n",
      "\n",
      "                                                answer  \\\n",
      "18   ï¿½\\tCan place orders or make billing account ...   \n",
      "110                 Telegence\\nGAC\\nTennessee/Kentucky   \n",
      "255  Archived advisors can be found by clicking on ...   \n",
      "266  Telegence\\nMNY\\nBOS - Boston MA\\nNYR - Upstate...   \n",
      "360                                                FLP   \n",
      "399  AT&T International Calling (formerly known as ...   \n",
      "406  PENDING: New enhancements are underway. I'll h...   \n",
      "418  If you are unable to determine the reason for ...   \n",
      "\n",
      "                                             Title  article_number   filename  \\\n",
      "18                   Customer Contact Roles - BCSS          9260.0  1404.json   \n",
      "110                 Home Market Information - BCSS         26935.0  3349.json   \n",
      "255             Sales Execution Advisor Hub - BCSS         32221.0  2231.json   \n",
      "266                 Home Market Information - BCSS         26935.0  3349.json   \n",
      "360                 Home Market Information - BCSS         26935.0  3349.json   \n",
      "399                    International traveling hub         15823.0  1366.json   \n",
      "406  Processing DIRECTV FOR BUSINESS Orders - BCSS          5225.0  2463.json   \n",
      "418         Telegence Payment-Related Codes - BCSS         23743.0  1173.json   \n",
      "\n",
      "                                               UrlName  BW_TXNMY_GRP_1  ...  \\\n",
      "18                            customer-contacts---bcss  Bill & Account  ...   \n",
      "110                       Home-Market-Information-BCSS  Bill & Account  ...   \n",
      "255                        Sales-Execution-Advisor-Hub        Services  ...   \n",
      "266                       Home-Market-Information-BCSS  Bill & Account  ...   \n",
      "360                       Home-Market-Information-BCSS  Bill & Account  ...   \n",
      "399                        international-traveling-hub        Services  ...   \n",
      "406  processing-directv-for-business-orders---bmsc-...          Offers  ...   \n",
      "418               Telegence-Payment-Related-Codes-BCSS  Bill & Account  ...   \n",
      "\n",
      "    article_notag_len                                    table_wtage_len  \\\n",
      "18               6290                                          [0, 9913]   \n",
      "110              6146                                         [0, 30976]   \n",
      "255              7290                         [0, 566, 7298, 303, 17281]   \n",
      "266              6146                                         [0, 30976]   \n",
      "360              6146                                         [0, 30976]   \n",
      "399              5047  [0, 1751, 725, 63, 3471, 63, 3244, 63, 1978, 6...   \n",
      "406             17536  [0, 1453, 301, 1435, 305, 2996, 299, 297, 1379...   \n",
      "418             13598         [0, 1566, 22493, 21399, 22124, 2394, 1970]   \n",
      "\n",
      "                                      table_wotage_len  #tables  \\\n",
      "18                                           [0, 5408]        2   \n",
      "110                                          [0, 6042]        2   \n",
      "255                             [0, 29, 158, 12, 6659]        5   \n",
      "266                                          [0, 6042]        2   \n",
      "360                                          [0, 6042]        2   \n",
      "399  [0, 76, 316, 0, 501, 0, 642, 0, 229, 0, 276, 2...       23   \n",
      "406  [0, 894, 17, 638, 15, 1490, 25, 19, 7790, 689,...       15   \n",
      "418                [0, 76, 9647, 8823, 2895, 375, 207]        7   \n",
      "\n",
      "    source_missing run_errors  init_chunks  reranker_chunks  \\\n",
      "18           False        NaN           []               []   \n",
      "110          False        NaN           []               []   \n",
      "255          False        NaN           []               []   \n",
      "266          False        NaN           []               []   \n",
      "360          False        NaN           []               []   \n",
      "399          False        NaN           []               []   \n",
      "406          False        NaN           []               []   \n",
      "418          False        NaN           []               []   \n",
      "\n",
      "                                      generated_answer gpt-4-32k_score  \n",
      "18   AOPs, or Authorized Order Placers, are individ...               6  \n",
      "110  To determine the billing system or market for ...               6  \n",
      "255  To find last month's advisories, you can follo...               5  \n",
      "266  To determine the billing system or market that...               4  \n",
      "360  Puerto Rico is located in the AT&T Southeast b...               2  \n",
      "399  To find the calling rate for London on AT&T Wo...               7  \n",
      "406  To find the cheapest DIRECTV package, you can ...               8  \n",
      "418  If the code is not listed, you can try the fol...               7  \n",
      "\n",
      "[8 rows x 23 columns]\n"
     ]
    }
   ],
   "source": [
    "# Print all columns\n",
    "empty_rows = df[df['init_chunks'] == '[]']\n",
    "print(empty_rows)"
   ]
  },
  {
   "cell_type": "code",
   "execution_count": 80,
   "metadata": {},
   "outputs": [
    {
     "name": "stdout",
     "output_type": "stream",
     "text": [
      "        id  article_number                                      bcss_question  \\\n",
      "18   10030          9260.0                                 What can AOP's do?   \n",
      "110  10149         26935.0  What billing system or market is North Carolin...   \n",
      "255  20122         32221.0                   where are last months avisories?   \n",
      "266  20149         26935.0  What billing system or market is New York loca...   \n",
      "360  30149         26935.0  What billing system or market is Puerto Rico l...   \n",
      "399  50029         15823.0  what is calling rate for london on att world c...   \n",
      "406  50037          5225.0               what's the cheapest directv package?   \n",
      "418  50049         23743.0                    What if the code is not listed?   \n",
      "\n",
      "                                                answer  \\\n",
      "18   ï¿½\\tCan place orders or make billing account ...   \n",
      "110                 Telegence\\nGAC\\nTennessee/Kentucky   \n",
      "255  Archived advisors can be found by clicking on ...   \n",
      "266  Telegence\\nMNY\\nBOS - Boston MA\\nNYR - Upstate...   \n",
      "360                                                FLP   \n",
      "399  AT&T International Calling (formerly known as ...   \n",
      "406  PENDING: New enhancements are underway. I'll h...   \n",
      "418  If you are unable to determine the reason for ...   \n",
      "\n",
      "                                      generated_answer  gpt-4-32k_score  \n",
      "18   AOPs, or Authorized Order Placers, are individ...                6  \n",
      "110  To determine the billing system or market for ...                6  \n",
      "255  To find last month's advisories, you can follo...                5  \n",
      "266  To determine the billing system or market that...                4  \n",
      "360  Puerto Rico is located in the AT&T Southeast b...                2  \n",
      "399  To find the calling rate for London on AT&T Wo...                7  \n",
      "406  To find the cheapest DIRECTV package, you can ...                8  \n",
      "418  If the code is not listed, you can try the fol...                7  \n"
     ]
    }
   ],
   "source": [
    "# Print specific columns\n",
    "empty_rows_QA = df.loc[df['init_chunks'] == '[]',['id','article_number','bcss_question','answer','generated_answer','gpt-4-32k_score']]\n",
    "print(empty_rows_QA)"
   ]
  },
  {
   "cell_type": "code",
   "execution_count": 137,
   "metadata": {},
   "outputs": [],
   "source": [
    "# To get the total chunks that are passed in for each experiment\n",
    "# Replace the path below with your local results path from the src\\data\\experiments\\cckm_3700\\guid\n",
    "qc_config1_baseline_results_path = r'C:\\Users\\ha6126\\AskATT_DataScience_Experiment_Framework\\DataScience_Experiment_Framework\\src\\data\\experiments\\cckm_3700\\v3\\ff8a722a-0cdf-4d2a-817e-fbc4c61fe18d\\result.csv'\n",
    "df = pd.read_csv(qc_config1_baseline_results_path)"
   ]
  },
  {
   "cell_type": "code",
   "execution_count": 138,
   "metadata": {},
   "outputs": [
    {
     "data": {
      "text/html": [
       "<div>\n",
       "<style scoped>\n",
       "    .dataframe tbody tr th:only-of-type {\n",
       "        vertical-align: middle;\n",
       "    }\n",
       "\n",
       "    .dataframe tbody tr th {\n",
       "        vertical-align: top;\n",
       "    }\n",
       "\n",
       "    .dataframe thead th {\n",
       "        text-align: right;\n",
       "    }\n",
       "</style>\n",
       "<table border=\"1\" class=\"dataframe\">\n",
       "  <thead>\n",
       "    <tr style=\"text-align: right;\">\n",
       "      <th></th>\n",
       "      <th>id</th>\n",
       "      <th>bcss_question</th>\n",
       "      <th>article_number</th>\n",
       "      <th>match</th>\n",
       "      <th>in_top_init</th>\n",
       "      <th>best_article</th>\n",
       "      <th>max_cog_reranker_score</th>\n",
       "      <th>is_match</th>\n",
       "    </tr>\n",
       "  </thead>\n",
       "  <tbody>\n",
       "    <tr>\n",
       "      <th>0</th>\n",
       "      <td>10000</td>\n",
       "      <td>What international benefits are included in th...</td>\n",
       "      <td>21757.0</td>\n",
       "      <td>3.130668</td>\n",
       "      <td>1</td>\n",
       "      <td>30146</td>\n",
       "      <td>3.395680</td>\n",
       "      <td>False</td>\n",
       "    </tr>\n",
       "    <tr>\n",
       "      <th>1</th>\n",
       "      <td>10003</td>\n",
       "      <td>Can I call the AOP/TCM if the verfied end-user...</td>\n",
       "      <td>16479.0</td>\n",
       "      <td>2.574602</td>\n",
       "      <td>1</td>\n",
       "      <td>16817</td>\n",
       "      <td>2.761872</td>\n",
       "      <td>False</td>\n",
       "    </tr>\n",
       "    <tr>\n",
       "      <th>2</th>\n",
       "      <td>10005</td>\n",
       "      <td>How many digits can a PIN be?</td>\n",
       "      <td>7152.0</td>\n",
       "      <td>3.286152</td>\n",
       "      <td>3</td>\n",
       "      <td>7152</td>\n",
       "      <td>3.286152</td>\n",
       "      <td>True</td>\n",
       "    </tr>\n",
       "    <tr>\n",
       "      <th>3</th>\n",
       "      <td>10006</td>\n",
       "      <td>What is a mobile hotspot?</td>\n",
       "      <td>7260.0</td>\n",
       "      <td>3.944853</td>\n",
       "      <td>5</td>\n",
       "      <td>7260</td>\n",
       "      <td>3.944853</td>\n",
       "      <td>True</td>\n",
       "    </tr>\n",
       "    <tr>\n",
       "      <th>4</th>\n",
       "      <td>10008</td>\n",
       "      <td>What countries are eligible for the Internatio...</td>\n",
       "      <td>4733.0</td>\n",
       "      <td>0.000000</td>\n",
       "      <td>0</td>\n",
       "      <td>33664</td>\n",
       "      <td>3.033395</td>\n",
       "      <td>False</td>\n",
       "    </tr>\n",
       "  </tbody>\n",
       "</table>\n",
       "</div>"
      ],
      "text/plain": [
       "      id                                      bcss_question  article_number  \\\n",
       "0  10000  What international benefits are included in th...         21757.0   \n",
       "1  10003  Can I call the AOP/TCM if the verfied end-user...         16479.0   \n",
       "2  10005                      How many digits can a PIN be?          7152.0   \n",
       "3  10006                          What is a mobile hotspot?          7260.0   \n",
       "4  10008  What countries are eligible for the Internatio...          4733.0   \n",
       "\n",
       "      match  in_top_init  best_article  max_cog_reranker_score  is_match  \n",
       "0  3.130668            1         30146                3.395680     False  \n",
       "1  2.574602            1         16817                2.761872     False  \n",
       "2  3.286152            3          7152                3.286152      True  \n",
       "3  3.944853            5          7260                3.944853      True  \n",
       "4  0.000000            0         33664                3.033395     False  "
      ]
     },
     "execution_count": 138,
     "metadata": {},
     "output_type": "execute_result"
    }
   ],
   "source": [
    "#Identify the reranker score of the ground truth article\n",
    "df[f'init_chunks'] = df[f'init_chunks'].apply(eval)\n",
    "exploded_data_df = df.explode(f'init_chunks')\n",
    "\n",
    "exploded_data_df[\"chunk_source_article_number\"] = exploded_data_df.apply(\n",
    "    lambda x: int(x['init_chunks'][1]) if isinstance(x['init_chunks'], list) or isinstance(x['init_chunks'], tuple) else str(),  # Cast to int because of leading 0s in the returned article number string \n",
    "    axis = 1\n",
    ")\n",
    "\n",
    "exploded_data_df[\"chunk_cog_reranker_score\"] = exploded_data_df.apply(\n",
    "    lambda x: x['init_chunks'][2] if isinstance(x['init_chunks'], list) or isinstance(x['init_chunks'], tuple) else str(),\n",
    "    axis = 1\n",
    ")\n",
    "\n",
    "exploded_data_df['match'] = exploded_data_df['chunk_cog_reranker_score'].where(\n",
    "    exploded_data_df['article_number'] == exploded_data_df['chunk_source_article_number'], 0)   \n",
    "\n",
    "#Identify the article id with the best reranker score\n",
    "exploded_data_df['best_article'] = exploded_data_df['chunk_source_article_number'].where(\n",
    "    exploded_data_df['chunk_cog_reranker_score'] == exploded_data_df['max_cog_reranker_score'], 0)  \n",
    "                  \n",
    "exploded_data_df[['id','bcss_question','match','chunk_cog_reranker_score','max_cog_reranker_score']].head(5)\n",
    "\n",
    "# Compute the max cog recall score\n",
    "df = df.merge(\n",
    "    exploded_data_df.groupby(\"id\")[f\"match\"].max(),\n",
    "    on = \"id\",\n",
    "    how = \"left\"\n",
    ")\n",
    "\n",
    "df = df.merge(\n",
    "    exploded_data_df.groupby(\"id\")[f\"best_article\"].max(),\n",
    "    on = \"id\",\n",
    "    how = \"left\"\n",
    ")\n",
    "df['is_match'] = np.where(df['article_number'] == df['best_article'], True, False)\n",
    "\n",
    "\n",
    "df[['id','bcss_question','article_number','match','in_top_init','best_article','max_cog_reranker_score','is_match']].head(5)\n",
    "# exploded_data_df['best_article'] = exploded_data_df['best_article'].astype(int)\n",
    "# exploded_data_df['article_number'] = exploded_data_df['article_number'].astype(int)"
   ]
  },
  {
   "cell_type": "code",
   "execution_count": 135,
   "metadata": {},
   "outputs": [
    {
     "name": "stdout",
     "output_type": "stream",
     "text": [
      "The correlation is 0.3062600473685392\n"
     ]
    }
   ],
   "source": [
    "df['is_top'] = df['in_top_init'] > 0\n",
    "correlation = df['is_top'].corr(df['is_match'])\n",
    "print(f\"The correlation is {correlation}\")"
   ]
  },
  {
   "cell_type": "code",
   "execution_count": 136,
   "metadata": {},
   "outputs": [
    {
     "name": "stdout",
     "output_type": "stream",
     "text": [
      "The correlation is 0.10844797954358043\n"
     ]
    }
   ],
   "source": [
    "correlation = df['max_cog_reranker_score'].corr(df['is_match'])\n",
    "print(f\"The correlation is {correlation}\")"
   ]
  },
  {
   "cell_type": "code",
   "execution_count": 140,
   "metadata": {},
   "outputs": [],
   "source": [
    "#write out the results to a new file\n",
    "qc_config1_baseline_results_path_new = r'C:\\Users\\ha6126\\AskATT_DataScience_Experiment_Framework\\DataScience_Experiment_Framework\\src\\data\\experiments\\cckm_3700\\v3\\ff8a722a-0cdf-4d2a-817e-fbc4c61fe18d\\resultnew.csv'\n",
    "df.to_csv(qc_config1_baseline_results_path_new)"
   ]
  }
 ],
 "metadata": {
  "kernelspec": {
   "display_name": "askatt-experiments-i6o60J7W-py3.11",
   "language": "python",
   "name": "python3"
  },
  "language_info": {
   "codemirror_mode": {
    "name": "ipython",
    "version": 3
   },
   "file_extension": ".py",
   "mimetype": "text/x-python",
   "name": "python",
   "nbconvert_exporter": "python",
   "pygments_lexer": "ipython3",
   "version": "3.11.5"
  }
 },
 "nbformat": 4,
 "nbformat_minor": 2
}
